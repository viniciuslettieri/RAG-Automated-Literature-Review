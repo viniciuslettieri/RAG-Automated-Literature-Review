{
 "cells": [
  {
   "cell_type": "markdown",
   "metadata": {},
   "source": [
    "# Introdução"
   ]
  },
  {
   "cell_type": "markdown",
   "metadata": {},
   "source": [
    "Neste documento realizamos os embeddings de cada trecho formatado anteriormente, incluindo o titulo e o resumo.\n",
    "\n",
    "Esses embeddings serão salvos em uma vectorstore."
   ]
  },
  {
   "cell_type": "markdown",
   "metadata": {},
   "source": [
    "# Parte 0: Instalações"
   ]
  },
  {
   "cell_type": "code",
   "execution_count": 1,
   "metadata": {},
   "outputs": [],
   "source": [
    "# %pip install faiss-gpu"
   ]
  },
  {
   "cell_type": "markdown",
   "metadata": {},
   "source": [
    "# Parte 1: Listagem dos Documentos"
   ]
  },
  {
   "cell_type": "code",
   "execution_count": 2,
   "metadata": {},
   "outputs": [],
   "source": [
    "import os\n",
    "import json"
   ]
  },
  {
   "cell_type": "code",
   "execution_count": 3,
   "metadata": {},
   "outputs": [],
   "source": [
    "pdf_folder_path = \"./formatted_documents\""
   ]
  },
  {
   "cell_type": "code",
   "execution_count": 4,
   "metadata": {},
   "outputs": [],
   "source": [
    "filename_list = []\n",
    "for filename in os.listdir(pdf_folder_path):\n",
    "    if filename.endswith(\".json\"):\n",
    "        filename_list.append(os.path.join(pdf_folder_path, filename))\n",
    "\n",
    "filename_list = sorted(filename_list)"
   ]
  },
  {
   "cell_type": "code",
   "execution_count": 5,
   "metadata": {},
   "outputs": [
    {
     "data": {
      "text/plain": [
       "1538"
      ]
     },
     "execution_count": 5,
     "metadata": {},
     "output_type": "execute_result"
    }
   ],
   "source": [
    "len(filename_list)"
   ]
  },
  {
   "cell_type": "code",
   "execution_count": 6,
   "metadata": {},
   "outputs": [],
   "source": [
    "def retrieve_document(filename):\n",
    "    with open(filename, \"r\") as file:\n",
    "        json_file = json.load(file)\n",
    "    return json_file"
   ]
  },
  {
   "cell_type": "markdown",
   "metadata": {},
   "source": [
    "## Teste"
   ]
  },
  {
   "cell_type": "code",
   "execution_count": 7,
   "metadata": {},
   "outputs": [
    {
     "name": "stdout",
     "output_type": "stream",
     "text": [
      "Esta pesquisa analisa a organização do trabalho de psicólogos nas equipes do Núcleo de Apoio à Saúde da Família (NASF) do município do Rio de Janeiro (área programática 2.1). Para tanto, apresenta o contexto de trabalho atual dos psicólogos no âmbito da atenção básica, identifica o trabalho prescrito e o realizado; as vivências de sofrimento dos psicólogos em seu contexto de trabalho; assim como as vivências de prazer e estratégias utilizadas para a efetivação da prática profissional. A metodologia caracteriza-se pela realização de entrevistas semiestruturadas com seis psicólogas e um psicólogo, todos de equipes NASF (eNASF) da área da Zona Sul do município. As entrevistas ocorreram entre fevereiro de 2019 e fevereiro de 2020, foram gravadas e transcritas, e posteriormente analisadas por meio da Análise dos Núcleos de Sentido. O contexto de trabalho presente no município do Rio caracteriza-se por: redução gradual de investimentos na Saúde; transferência parcial de gestão dos serviços geridos pelas Organizações Sociais de Saúde para a empresa Rio Saúde; movimentos de resistência dos trabalhadores através de ações coletivas de greve e manifestações; e déficit de trabalhadores nos serviços. Em relação ao trabalho prescrito formal, verificamos a coexistência dos prescritos informais, alusivos às relações sociais marcadas pelas diferenças hierárquicas e de poderes. O trabalho realizado compreende: atividades de atendimento individual e grupal; visitas domiciliares; articulação de rede de Saúde; discussão de casos e participação em reuniões das equipes de Saúde da Família (eSF), o que se apresenta em conformidade com as atividades prescritas aos profissionais das eNASF e, especificamente, aos psicólogos.As vivências de sofrimento estão associadas principalmente à conjuntura de desmonte da política de Saúde e suas consequências na organização dos trabalhadores, por meio de experiências de sobrecarga de trabalho e vínculos empregatícios precários, redução das eSF e aumento na relação eSF/eNASF acima do regulamentado. Abarcam ainda a insatisfatória estrutura física das unidades e processos de adoecimentos em decorrência do trabalho. As experiências de prazer e as estratégias de mediação utilizadas pelos trabalhadores estão relacionadas aos seguintes aspectos: prática de trabalho compartilhado; construção de coletivos de usuários e trabalhadores; participação em processos formativos de outros profissionais; reconhecimento obtido pelo trabalho; e construção de conhecimento teórico na área. Este estudo possibilitou relacionar a trajetória profissional e acadêmica dos participantes à prática psicológica na atenção básica de maneira próxima ao trabalho proposto nas normativas regulatórias, ressaltando a importância dos processos de formação. As estratégias defensivas individuais de substituição dos serviços ambulatoriais apresentam-se como tentativas de lidar com as precarizações da rede de Saúde, mas suas consequências tornam essas situações crônicas. O coletivo aparece, então, como espaço privilegiado para a prática do reconhecimento, da cooperação e da efetivação dos princípios e diretrizes do SUS. Essa pesquisa realiza um recorte temporal e territorial, o que sinaliza a possibilidade de ampliação para outras regiões do município. Além disso, as recentes mudanças nos vínculos empregatícios e os novos desafios em Saúde presentes no município podem suscitar investigações mais atualizadas.\n"
     ]
    }
   ],
   "source": [
    "json_document = retrieve_document(filename_list[0])\n",
    "\n",
    "print(json_document[\"abstract\"])"
   ]
  },
  {
   "cell_type": "code",
   "execution_count": 8,
   "metadata": {},
   "outputs": [
    {
     "name": "stdout",
     "output_type": "stream",
     "text": [
      "411\n"
     ]
    }
   ],
   "source": [
    "print(len(json_document[\"sentences\"]))"
   ]
  },
  {
   "cell_type": "markdown",
   "metadata": {},
   "source": [
    "# Parte 2: Criação de Documents"
   ]
  },
  {
   "cell_type": "code",
   "execution_count": 9,
   "metadata": {},
   "outputs": [],
   "source": [
    "from langchain.docstore.document import Document\n",
    "from lib.document import DocumentConstructor"
   ]
  },
  {
   "cell_type": "code",
   "execution_count": 10,
   "metadata": {},
   "outputs": [],
   "source": [
    "# MAX WINDOW SIZE (quantidade de paragrafos sequencias unidos)\n",
    "# MAX TOKEN SIZE (quantidade de tokens em um embedding)\n",
    "# MIN TOKEN SIZE (quantidade minima de tokens em um embedding)\n",
    "document_constructor = DocumentConstructor(5, 500, 100)"
   ]
  },
  {
   "cell_type": "markdown",
   "metadata": {},
   "source": [
    "## Teste"
   ]
  },
  {
   "cell_type": "code",
   "execution_count": 11,
   "metadata": {},
   "outputs": [],
   "source": [
    "documents = document_constructor.create_documents(json_document)"
   ]
  },
  {
   "cell_type": "code",
   "execution_count": 12,
   "metadata": {},
   "outputs": [
    {
     "data": {
      "text/plain": [
       "1342"
      ]
     },
     "execution_count": 12,
     "metadata": {},
     "output_type": "execute_result"
    }
   ],
   "source": [
    "len(documents)"
   ]
  },
  {
   "cell_type": "code",
   "execution_count": 13,
   "metadata": {},
   "outputs": [
    {
     "data": {
      "text/plain": [
       "Document(page_content='Psicologia, trabalho e atenção básica do SUS : compartilhando experiências em equipes NASF no Rio de Janeiro', metadata={'id': '276189', 'type': 'title'})"
      ]
     },
     "execution_count": 13,
     "metadata": {},
     "output_type": "execute_result"
    }
   ],
   "source": [
    "documents[0]"
   ]
  },
  {
   "cell_type": "code",
   "execution_count": 14,
   "metadata": {},
   "outputs": [
    {
     "data": {
      "text/plain": [
       "Document(page_content='Esta pesquisa analisa a organização do trabalho de psicólogos nas equipes do Núcleo de Apoio à Saúde da Família (NASF) do município do Rio de Janeiro (área programática 2.1). Para tanto, apresenta o contexto de trabalho atual dos psicólogos no âmbito da atenção básica, identifica o trabalho prescrito e o realizado; as vivências de sofrimento dos psicólogos em seu contexto de trabalho; assim como as vivências de prazer e estratégias utilizadas para a efetivação da prática profissional. A metodologia caracteriza-se pela realização de entrevistas semiestruturadas com seis psicólogas e um psicólogo, todos de equipes NASF (eNASF) da área da Zona Sul do município. As entrevistas ocorreram entre fevereiro de 2019 e fevereiro de 2020, foram gravadas e transcritas, e posteriormente analisadas por meio da Análise dos Núcleos de Sentido. O contexto de trabalho presente no município do Rio caracteriza-se por: redução gradual de investimentos na Saúde; transferência parcial de gestão dos serviços geridos pelas Organizações Sociais de Saúde para a empresa Rio Saúde; movimentos de resistência dos trabalhadores através de ações coletivas de greve e manifestações; e déficit de trabalhadores nos serviços. Em relação ao trabalho prescrito formal, verificamos a coexistência dos prescritos informais, alusivos às relações sociais marcadas pelas diferenças hierárquicas e de poderes. O trabalho realizado compreende: atividades de atendimento individual e grupal; visitas domiciliares; articulação de rede de Saúde; discussão de casos e participação em reuniões das equipes de Saúde da Família (eSF), o que se apresenta em conformidade com as atividades prescritas aos profissionais das eNASF e, especificamente, aos psicólogos.As vivências de sofrimento estão associadas principalmente à conjuntura de desmonte da política de Saúde e suas consequências na organização dos trabalhadores, por meio de experiências de sobrecarga de trabalho e vínculos empregatícios precários, redução das eSF e aumento na relação eSF/eNASF acima do regulamentado. Abarcam ainda a insatisfatória estrutura física das unidades e processos de adoecimentos em decorrência do trabalho. As experiências de prazer e as estratégias de mediação utilizadas pelos trabalhadores estão relacionadas aos seguintes aspectos: prática de trabalho compartilhado; construção de coletivos de usuários e trabalhadores; participação em processos formativos de outros profissionais; reconhecimento obtido pelo trabalho; e construção de conhecimento teórico na área. Este estudo possibilitou relacionar a trajetória profissional e acadêmica dos participantes à prática psicológica na atenção básica de maneira próxima ao trabalho proposto nas normativas regulatórias, ressaltando a importância dos processos de formação. As estratégias defensivas individuais de substituição dos serviços ambulatoriais apresentam-se como tentativas de lidar com as precarizações da rede de Saúde, mas suas consequências tornam essas situações crônicas. O coletivo aparece, então, como espaço privilegiado para a prática do reconhecimento, da cooperação e da efetivação dos princípios e diretrizes do SUS. Essa pesquisa realiza um recorte temporal e territorial, o que sinaliza a possibilidade de ampliação para outras regiões do município. Além disso, as recentes mudanças nos vínculos empregatícios e os novos desafios em Saúde presentes no município podem suscitar investigações mais atualizadas.', metadata={'id': '276189', 'type': 'abstract'})"
      ]
     },
     "execution_count": 14,
     "metadata": {},
     "output_type": "execute_result"
    }
   ],
   "source": [
    "documents[1]"
   ]
  },
  {
   "cell_type": "code",
   "execution_count": 16,
   "metadata": {},
   "outputs": [],
   "source": [
    "# documents[2]"
   ]
  },
  {
   "cell_type": "code",
   "execution_count": 17,
   "metadata": {},
   "outputs": [
    {
     "data": {
      "text/plain": [
       "<Axes: ylabel='Frequency'>"
      ]
     },
     "execution_count": 17,
     "metadata": {},
     "output_type": "execute_result"
    },
    {
     "data": {
      "image/png": "[encoded data removed]",
      "text/plain": [
       "<Figure size 640x480 with 1 Axes>"
      ]
     },
     "metadata": {},
     "output_type": "display_data"
    }
   ],
   "source": [
    "import pandas as pd\n",
    "pd.Series([len(doc.page_content.split()) for doc in documents]).plot.hist(bins=30)"
   ]
  },
  {
   "cell_type": "markdown",
   "metadata": {},
   "source": [
    "# Parte 3: Recuperação de todos os documentos"
   ]
  },
  {
   "cell_type": "code",
   "execution_count": 18,
   "metadata": {},
   "outputs": [],
   "source": [
    "# documents = []\n",
    "\n",
    "# for filename in filename_list:\n",
    "#     json_doc = retrieve_document(filename)\n",
    "#     docs = document_constructor.create_documents(json_doc)\n",
    "#     documents.extend(docs)"
   ]
  },
  {
   "cell_type": "code",
   "execution_count": 19,
   "metadata": {},
   "outputs": [],
   "source": [
    "# len(documents)"
   ]
  },
  {
   "cell_type": "markdown",
   "metadata": {},
   "source": [
    "# Parte 4: Vector Store"
   ]
  },
  {
   "cell_type": "code",
   "execution_count": 20,
   "metadata": {},
   "outputs": [],
   "source": [
    "from operator import itemgetter\n",
    "\n",
    "from langchain.prompts import ChatPromptTemplate\n",
    "from langchain.embeddings import OpenAIEmbeddings\n",
    "from langchain.schema.output_parser import StrOutputParser\n",
    "from langchain.schema.runnable import RunnablePassthrough, RunnableLambda\n",
    "from langchain.vectorstores import FAISS"
   ]
  },
  {
   "cell_type": "code",
   "execution_count": 21,
   "metadata": {},
   "outputs": [],
   "source": [
    "from langchain.embeddings import HuggingFaceEmbeddings, SentenceTransformerEmbeddings, HuggingFaceBgeEmbeddings"
   ]
  },
  {
   "cell_type": "code",
   "execution_count": 22,
   "metadata": {},
   "outputs": [
    {
     "name": "stderr",
     "output_type": "stream",
     "text": [
      "/home/vinic/miniconda3/envs/llama/lib/python3.8/site-packages/tqdm/auto.py:21: TqdmWarning: IProgress not found. Please update jupyter and ipywidgets. See https://ipywidgets.readthedocs.io/en/stable/user_install.html\n",
      "  from .autonotebook import tqdm as notebook_tqdm\n"
     ]
    }
   ],
   "source": [
    "embeddings = SentenceTransformerEmbeddings(model_name=\"sentence-transformers/paraphrase-multilingual-mpnet-base-v2\")"
   ]
  },
  {
   "cell_type": "markdown",
   "metadata": {},
   "source": [
    "# Parte 5: Obter todos os embeddings e Salvar Vector Store"
   ]
  },
  {
   "cell_type": "code",
   "execution_count": 23,
   "metadata": {},
   "outputs": [],
   "source": [
    "# json_doc = retrieve_document(filename_list[0])\n",
    "# docs = document_constructor.create_documents(json_doc)\n",
    "    \n",
    "# vectorstore = FAISS.from_documents(docs, embedding=embeddings)"
   ]
  },
  {
   "cell_type": "code",
   "execution_count": 24,
   "metadata": {},
   "outputs": [],
   "source": [
    "# for filename in filename_list[1:]:\n",
    "#     json_doc = retrieve_document(filename)\n",
    "#     docs = document_constructor.create_documents(json_doc)\n",
    "    \n",
    "#     new_vectorstore = FAISS.from_documents(docs, embedding=embeddings)\n",
    "#     vectorstore.merge_from(new_vectorstore)\n",
    "    \n",
    "#     print('.', end='')"
   ]
  },
  {
   "cell_type": "code",
   "execution_count": 25,
   "metadata": {},
   "outputs": [],
   "source": [
    "# vectorstore.save_local(\"./faiss_vector_store/\")"
   ]
  },
  {
   "cell_type": "code",
   "execution_count": 26,
   "metadata": {},
   "outputs": [
    {
     "data": {
      "text/plain": [
       "1538"
      ]
     },
     "execution_count": 26,
     "metadata": {},
     "output_type": "execute_result"
    }
   ],
   "source": [
    "total_files = len(filename_list)\n",
    "total_files"
   ]
  },
  {
   "cell_type": "code",
   "execution_count": null,
   "metadata": {
    "scrolled": true,
    "tags": []
   },
   "outputs": [
    {
     "name": "stdout",
     "output_type": "stream",
     "text": [
      "Starting 0 ... 300\n",
      "............................................................................................................................................................................................................................................................................................................"
     ]
    }
   ],
   "source": [
    "for start in range(0, total_files, 300):\n",
    "    end = start + 300\n",
    "    \n",
    "    print(\"Starting\", start, \"...\", end)\n",
    "    docs = []\n",
    "    for filename in filename_list[start:end]:\n",
    "        json_doc = retrieve_document(filename)\n",
    "        doc = document_constructor.create_documents(json_doc)\n",
    "        docs.extend(doc)\n",
    "        print('.', end='')\n",
    "    \n",
    "    new_vectorstore = FAISS.from_documents(docs, embedding=embeddings)\n",
    "    os.mkdir(f\"./partial_faiss_vector_store_{start}/\")\n",
    "    new_vectorstore.save_local(f\"./partial_faiss_vector_store_{start}/\")\n",
    "    del(new_vectorstore)\n",
    "    sleep(1)"
   ]
  },
  {
   "cell_type": "markdown",
   "metadata": {
    "tags": []
   },
   "source": [
    "# Parte 6: Merge das vector stores"
   ]
  },
  {
   "cell_type": "code",
   "execution_count": 4,
   "metadata": {},
   "outputs": [],
   "source": [
    "import os\n",
    "import json\n",
    "from time import sleep"
   ]
  },
  {
   "cell_type": "code",
   "execution_count": 5,
   "metadata": {},
   "outputs": [],
   "source": [
    "vector_stores_paths = []\n",
    "for filename in os.listdir('.'):\n",
    "    if filename.startswith(\"partial_faiss\"):\n",
    "        vector_stores_paths.append(os.path.join('.', filename))\n",
    "\n",
    "vector_stores_paths = sorted(vector_stores_paths)"
   ]
  },
  {
   "cell_type": "code",
   "execution_count": 6,
   "metadata": {},
   "outputs": [
    {
     "data": {
      "text/plain": [
       "31"
      ]
     },
     "execution_count": 6,
     "metadata": {},
     "output_type": "execute_result"
    }
   ],
   "source": [
    "len(vector_stores_paths)"
   ]
  },
  {
   "cell_type": "code",
   "execution_count": 7,
   "metadata": {},
   "outputs": [
    {
     "data": {
      "text/plain": [
       "['./partial_faiss_vector_store_0',\n",
       " './partial_faiss_vector_store_100',\n",
       " './partial_faiss_vector_store_1000',\n",
       " './partial_faiss_vector_store_1050',\n",
       " './partial_faiss_vector_store_1100']"
      ]
     },
     "execution_count": 7,
     "metadata": {},
     "output_type": "execute_result"
    }
   ],
   "source": [
    "vector_stores_paths[:5]"
   ]
  },
  {
   "cell_type": "code",
   "execution_count": 8,
   "metadata": {},
   "outputs": [
    {
     "name": "stdout",
     "output_type": "stream",
     "text": [
      "./partial_faiss_vector_store_0\n",
      "./partial_faiss_vector_store_100\n",
      "./partial_faiss_vector_store_1000\n",
      "./partial_faiss_vector_store_1050\n",
      "./partial_faiss_vector_store_1100\n",
      "./partial_faiss_vector_store_1150\n",
      "./partial_faiss_vector_store_1200\n",
      "./partial_faiss_vector_store_1250\n",
      "./partial_faiss_vector_store_1300\n",
      "./partial_faiss_vector_store_1350\n",
      "./partial_faiss_vector_store_1400\n",
      "./partial_faiss_vector_store_1450\n",
      "./partial_faiss_vector_store_150\n",
      "./partial_faiss_vector_store_1500\n",
      "./partial_faiss_vector_store_200\n",
      "./partial_faiss_vector_store_250\n",
      "./partial_faiss_vector_store_300\n",
      "./partial_faiss_vector_store_350\n",
      "./partial_faiss_vector_store_400\n",
      "./partial_faiss_vector_store_450\n"
     ]
    }
   ],
   "source": [
    "vectorstore = FAISS.load_local(vector_stores_paths[0], embeddings=embeddings)\n",
    "print(vector_stores_paths[0])\n",
    "\n",
    "for vector_store_path in vector_stores_paths[1:20]:\n",
    "    new_vectorstore = FAISS.load_local(vector_store_path, embeddings=embeddings)\n",
    "    vectorstore.merge_from(new_vectorstore)\n",
    "    print(vector_store_path)\n",
    "    del(new_vectorstore)\n",
    "    sleep(1)\n",
    "\n",
    "vectorstore.save_local(f\"./partial_faiss_vector_store_part_1/\")"
   ]
  },
  {
   "cell_type": "code",
   "execution_count": 9,
   "metadata": {},
   "outputs": [
    {
     "name": "stdout",
     "output_type": "stream",
     "text": [
      "./partial_faiss_vector_store_50\n",
      "./partial_faiss_vector_store_500\n",
      "./partial_faiss_vector_store_550\n",
      "./partial_faiss_vector_store_600\n",
      "./partial_faiss_vector_store_650\n",
      "./partial_faiss_vector_store_700\n",
      "./partial_faiss_vector_store_750\n",
      "./partial_faiss_vector_store_800\n",
      "./partial_faiss_vector_store_850\n",
      "./partial_faiss_vector_store_900\n",
      "./partial_faiss_vector_store_950\n"
     ]
    }
   ],
   "source": [
    "vectorstore = FAISS.load_local(vector_stores_paths[20], embeddings=embeddings)\n",
    "print(vector_stores_paths[20])\n",
    "\n",
    "for vector_store_path in vector_stores_paths[21:]:\n",
    "    new_vectorstore = FAISS.load_local(vector_store_path, embeddings=embeddings)\n",
    "    vectorstore.merge_from(new_vectorstore)\n",
    "    print(vector_store_path)\n",
    "    del(new_vectorstore)\n",
    "    sleep(1)\n",
    "\n",
    "vectorstore.save_local(f\"./partial_faiss_vector_store_part_2/\")"
   ]
  },
  {
   "cell_type": "code",
   "execution_count": null,
   "metadata": {},
   "outputs": [],
   "source": [
    "part1 = FAISS.load_local(f\"./partial_faiss_vector_store_part_1/\", embeddings=embeddings)\n",
    "part2 = FAISS.load_local(f\"./partial_faiss_vector_store_part_2/\", embeddings=embeddings)\n",
    "part1.merge_from(part2).save_local(f\"./faiss_vector_store/\")"
   ]
  },
  {
   "cell_type": "markdown",
   "metadata": {},
   "source": [
    "# Extra"
   ]
  },
  {
   "cell_type": "markdown",
   "metadata": {},
   "source": [
    "## Proximidade de Resumos"
   ]
  },
  {
   "cell_type": "code",
   "execution_count": null,
   "metadata": {},
   "outputs": [],
   "source": [
    "res = vectorstore.similarity_search_with_score(\n",
    "    \"Um dos métodos mais robustos para caracterizar tamanho, forma, densidade, atmosfera, anéis, etc, é a ocultação estelar. Este trabalho apresenta a análise de duas ocultações por Cere,o trabalho de ocultações por TNOs\",\n",
    "    k=10,\n",
    "    fetch_k=100000,\n",
    "    filter=dict(type=\"abstract\")\n",
    ")\n",
    "len(res)"
   ]
  },
  {
   "cell_type": "code",
   "execution_count": null,
   "metadata": {
    "scrolled": true
   },
   "outputs": [],
   "source": [
    "res"
   ]
  },
  {
   "cell_type": "markdown",
   "metadata": {},
   "source": [
    "## Proximidade de Frases"
   ]
  },
  {
   "cell_type": "code",
   "execution_count": null,
   "metadata": {},
   "outputs": [],
   "source": [
    "res = vectorstore.similarity_search_with_score(\n",
    "    \"quero um resumo sobre o cenario atual em estudos sobre alavancagem financeira\",\n",
    "    k=100,\n",
    "    fetch_k=100000,\n",
    "    filter=dict(type=\"sentences\")\n",
    ")\n",
    "len(res)"
   ]
  },
  {
   "cell_type": "code",
   "execution_count": null,
   "metadata": {},
   "outputs": [],
   "source": [
    "for r in res[:10]:\n",
    "    print(r[0].page_content, \"\\n\")"
   ]
  },
  {
   "cell_type": "code",
   "execution_count": null,
   "metadata": {},
   "outputs": [],
   "source": [
    "results = {}\n",
    "\n",
    "for doc in res:\n",
    "    _id = doc[0].metadata[\"id\"]\n",
    "    _start_index = doc[0].metadata[\"start_index\"]\n",
    "    \n",
    "    if _id not in results.keys():\n",
    "        results[_id] = {}\n",
    "\n",
    "    if _start_index not in results[_id].keys():\n",
    "        results[_id][_start_index] = []\n",
    "    \n",
    "    results[_id][_start_index].append(doc)"
   ]
  },
  {
   "cell_type": "code",
   "execution_count": null,
   "metadata": {},
   "outputs": [],
   "source": [
    "results.keys()"
   ]
  },
  {
   "cell_type": "code",
   "execution_count": null,
   "metadata": {},
   "outputs": [],
   "source": [
    "# results['11422-4587']"
   ]
  },
  {
   "cell_type": "code",
   "execution_count": null,
   "metadata": {},
   "outputs": [],
   "source": [
    "results['11422-10324'].keys()"
   ]
  },
  {
   "cell_type": "markdown",
   "metadata": {},
   "source": [
    "# RAG"
   ]
  },
  {
   "cell_type": "code",
   "execution_count": null,
   "metadata": {},
   "outputs": [],
   "source": [
    "openai_api_key = \"xxxxxx\""
   ]
  },
  {
   "cell_type": "code",
   "execution_count": null,
   "metadata": {},
   "outputs": [],
   "source": [
    "from langchain.chat_models import ChatOpenAI\n",
    "from langchain.prompts.chat import (\n",
    "    ChatPromptTemplate,\n",
    "    HumanMessagePromptTemplate,\n",
    "    SystemMessagePromptTemplate,\n",
    ")\n",
    "from langchain.schema import HumanMessage, SystemMessage"
   ]
  },
  {
   "cell_type": "code",
   "execution_count": null,
   "metadata": {},
   "outputs": [],
   "source": [
    "chat = ChatOpenAI(\n",
    "    model_name='gpt-3.5-turbo-16k',\n",
    "    temperature = 0.0,\n",
    "    openai_api_key = openai_api_key,         \n",
    "    max_tokens=6000\n",
    ")"
   ]
  },
  {
   "cell_type": "code",
   "execution_count": null,
   "metadata": {},
   "outputs": [],
   "source": [
    "retriever = vectorstore.as_retriever(search_type=\"similarity\", search_kwargs={\"k\": 10})"
   ]
  },
  {
   "cell_type": "code",
   "execution_count": null,
   "metadata": {},
   "outputs": [],
   "source": [
    "retrieved_docs = retriever.get_relevant_documents(\n",
    "    \"quero um resumo sobre o cenario atual em estudos sobre alavancagem financeira dentro do escopo de estudo dos corpos solares\"\n",
    ")"
   ]
  },
  {
   "cell_type": "code",
   "execution_count": null,
   "metadata": {},
   "outputs": [],
   "source": [
    "from langchain.prompts import PromptTemplate\n",
    "\n",
    "template = \"\"\"\n",
    "Use as seguintes partes do contexto para responder à pergunta no final.\n",
    "Essas partes são retiradas de artigos científicos.\n",
    "Se você não sabe a resposta, apenas diga que não sabe, não tente inventar uma resposta.\n",
    "\n",
    "{context}\n",
    "\n",
    "Pergunta: {question}\n",
    "Resposta útil:\n",
    "\"\"\"\n",
    "\n",
    "def format_docs(docs):\n",
    "    # print(\"'''\" + \"'''\\n\\n'''\".join(doc.page_content for doc in docs) + \"'''\")\n",
    "    return \"\\n\\n\".join(doc.page_content for doc in docs)\n",
    "\n",
    "rag_prompt_custom = PromptTemplate.from_template(template)\n",
    "\n",
    "rag_chain = (\n",
    "    {\"context\": retriever | format_docs, \"question\": RunnablePassthrough()}\n",
    "    | rag_prompt_custom\n",
    "    | chat\n",
    "    | StrOutputParser()\n",
    ")"
   ]
  },
  {
   "cell_type": "code",
   "execution_count": null,
   "metadata": {},
   "outputs": [],
   "source": [
    "rag_chain.invoke(\"comente sobre as pesquisas em Realidade Virtual e Aumentada sob a perspectiva da indústria 4.0?\")"
   ]
  },
  {
   "cell_type": "code",
   "execution_count": null,
   "metadata": {},
   "outputs": [],
   "source": []
  }
 ],
 "metadata": {
  "kernelspec": {
   "display_name": "llama",
   "language": "python",
   "name": "llama"
  },
  "language_info": {
   "codemirror_mode": {
    "name": "ipython",
    "version": 3
   },
   "file_extension": ".py",
   "mimetype": "text/x-python",
   "name": "python",
   "nbconvert_exporter": "python",
   "pygments_lexer": "ipython3",
   "version": "3.8.18"
  }
 },
 "nbformat": 4,
 "nbformat_minor": 4
}
