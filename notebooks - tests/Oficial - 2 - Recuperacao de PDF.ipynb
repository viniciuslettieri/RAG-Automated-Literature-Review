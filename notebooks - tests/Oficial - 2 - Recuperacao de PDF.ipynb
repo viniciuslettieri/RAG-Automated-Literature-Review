{
 "cells": [
  {
   "cell_type": "markdown",
   "metadata": {},
   "source": [
    "# Introdução"
   ]
  },
  {
   "cell_type": "markdown",
   "metadata": {},
   "source": [
    "Neste documentos iniciamos a extração das informações e do pdf dos documentos recuperados via busca na Base Minerva."
   ]
  },
  {
   "cell_type": "markdown",
   "metadata": {},
   "source": [
    "# Parte 0: Instalações"
   ]
  },
  {
   "cell_type": "code",
   "execution_count": 1,
   "metadata": {},
   "outputs": [],
   "source": [
    "# %pip install PyPDF2"
   ]
  },
  {
   "cell_type": "markdown",
   "metadata": {},
   "source": [
    "# Parte 1: Obtenção dos Metadados do Minerva"
   ]
  },
  {
   "cell_type": "code",
   "execution_count": 2,
   "metadata": {},
   "outputs": [],
   "source": [
    "import os\n",
    "import json"
   ]
  },
  {
   "cell_type": "code",
   "execution_count": 3,
   "metadata": {},
   "outputs": [],
   "source": [
    "pdf_folder_path = \"./metadata_documents\"\n",
    "parsed_filepath = \"./parsed_pdf\""
   ]
  },
  {
   "cell_type": "markdown",
   "metadata": {},
   "source": [
    "## Arquivos de Metadados"
   ]
  },
  {
   "cell_type": "code",
   "execution_count": 4,
   "metadata": {},
   "outputs": [],
   "source": [
    "filename_list = []\n",
    "for filename in os.listdir(pdf_folder_path):\n",
    "    if filename.endswith(\".json\") and not filename.endswith(\"_x.json\"):\n",
    "        filename_list.append(os.path.join(pdf_folder_path, filename))\n",
    "\n",
    "filename_list = sorted(filename_list)"
   ]
  },
  {
   "cell_type": "code",
   "execution_count": 5,
   "metadata": {},
   "outputs": [
    {
     "data": {
      "text/plain": [
       "['./metadata_documents/documento_.json',\n",
       " './metadata_documents/documento_276189.json',\n",
       " './metadata_documents/documento_494080.json',\n",
       " './metadata_documents/documento_547235.json',\n",
       " './metadata_documents/documento_614469.json']"
      ]
     },
     "execution_count": 5,
     "metadata": {},
     "output_type": "execute_result"
    }
   ],
   "source": [
    "filename_list [:5]"
   ]
  },
  {
   "cell_type": "markdown",
   "metadata": {},
   "source": [
    "## Arquivos Já Parseados para Ignorar"
   ]
  },
  {
   "cell_type": "code",
   "execution_count": 6,
   "metadata": {},
   "outputs": [],
   "source": [
    "parsed_filename_list = []\n",
    "for filename in os.listdir(parsed_filepath):\n",
    "    if filename.endswith(\".txt\"):\n",
    "        parsed_filename_list.append(os.path.join(parsed_filepath, filename))\n",
    "\n",
    "parsed_filename_list = sorted(parsed_filename_list)"
   ]
  },
  {
   "cell_type": "code",
   "execution_count": 23,
   "metadata": {},
   "outputs": [
    {
     "data": {
      "text/plain": [
       "1972"
      ]
     },
     "execution_count": 23,
     "metadata": {},
     "output_type": "execute_result"
    }
   ],
   "source": [
    "document_identifier = set([filename.split('/')[-1].split('.')[0] for filename in parsed_filename_list])\n",
    "len(document_identifier)"
   ]
  },
  {
   "cell_type": "markdown",
   "metadata": {},
   "source": [
    "## Remoção de Arquivos Já Parseados"
   ]
  },
  {
   "cell_type": "code",
   "execution_count": 8,
   "metadata": {},
   "outputs": [],
   "source": [
    "filename_list = [filename for filename in filename_list if filename.split('/')[-1].split('.')[0] not in document_identifier]"
   ]
  },
  {
   "cell_type": "code",
   "execution_count": 9,
   "metadata": {},
   "outputs": [
    {
     "data": {
      "text/plain": [
       "['./metadata_documents/documento_.json',\n",
       " './metadata_documents/documento_820983.json',\n",
       " './metadata_documents/documento_841190.json',\n",
       " './metadata_documents/documento_854537.json',\n",
       " './metadata_documents/documento_884503.json']"
      ]
     },
     "execution_count": 9,
     "metadata": {},
     "output_type": "execute_result"
    }
   ],
   "source": [
    "filename_list[:5]"
   ]
  },
  {
   "cell_type": "markdown",
   "metadata": {},
   "source": [
    "## Obtenção dos Metadados"
   ]
  },
  {
   "cell_type": "code",
   "execution_count": 10,
   "metadata": {},
   "outputs": [],
   "source": [
    "def get_metadata(filename_list):\n",
    "    metadata_dict = {}\n",
    "    \n",
    "    for filename in filename_list:\n",
    "        with open(filename, \"r\") as file: \n",
    "            metadata = json.load(file)\n",
    "            _id = metadata[\"id\"]\n",
    "            metadata_dict[_id] = metadata\n",
    "    \n",
    "    return metadata_dict"
   ]
  },
  {
   "cell_type": "code",
   "execution_count": 11,
   "metadata": {},
   "outputs": [],
   "source": [
    "metadata_dict = get_metadata(filename_list)"
   ]
  },
  {
   "cell_type": "code",
   "execution_count": 12,
   "metadata": {},
   "outputs": [
    {
     "data": {
      "text/plain": [
       "78"
      ]
     },
     "execution_count": 12,
     "metadata": {},
     "output_type": "execute_result"
    }
   ],
   "source": [
    "len(metadata_dict.keys())"
   ]
  },
  {
   "cell_type": "code",
   "execution_count": 13,
   "metadata": {},
   "outputs": [
    {
     "data": {
      "text/plain": [
       "{'title': 'Estabilização de polipropileno com antioxidantes naturais : comparação entre as técnicas de mistura in situ e no estado fundido',\n",
       " 'authors': ['Oliveira, Renato Jonas Benne de.',\n",
       "  'Marques, Maria de Fátima Vieira orient.',\n",
       "  'Universidade Federal do Rio de Janeiro.'],\n",
       " 'abstract': ' polipropileno é um polímero muito versátil o que lhe implica a capacidade de atuar em diversos setores industriais. Para isso, a arquitetura e a massa molar do polipropileno são controladas para otimizar uma determinada propriedade. Os polímeros estão sujeitos ao processo degradativo o que acarreta perda de propriedades e funcionalidade para um determinado fim. Por isso, adicionou-se ao polipropileno antioxidantes naturais e sintético para sua estabilização. Para se misturar os aditivos ao polímero foram utilizadas as técnicas de adição in situ e mistura a partir do estado fundido. Um catalisador Ziegler-Natta com controle morfológico de partículas foi preparado para a síntese do polipropileno. O polipropileno foi produzido com forma esférica. Foram realizados testes para avaliar o efeito da adição dos antioxidantes no desempenho do sistema catalítico. As misturas no estado fundido foram conduzidas em mini-extrusora. Um ensaio reológico foi utilizado para comparar a eficiência dos antioxidantes misturados in situ e por extrusão ao polipropileno. Além disso, as propriedades térmicas do PP não variaram devido à manutenção do teor de isotaticidade. Por outro lado, o processo de extrusão provocou diminuição da massa molar do polímero. Foi observado que a mistura in situ se apresentou mais eficiente que a mistura por extrusão na medida em que reduziu uma etapa de processamento no estado fundido, preservando com isso a massa molar. Além disso, os óleos de canola, de soja e de milho na mistura in situ do polipropileno apresentaram uma eficiente ação protetora sobre o polímero.',\n",
       " 'bibliography_pages': None,\n",
       " 'keywords': ['Polipropileno',\n",
       "  'Catalizadores ziegler-natta.',\n",
       "  'Antioxidantes.'],\n",
       " 'urls': ['http://objdig.ufrj.br/64/teses/820983.pdf',\n",
       "  'http://lattes.cnpq.br/7451512099540194'],\n",
       " 'pdf_url': 'http://objdig.ufrj.br/64/teses/820983.pdf',\n",
       " 'id': '820983'}"
      ]
     },
     "execution_count": 13,
     "metadata": {},
     "output_type": "execute_result"
    }
   ],
   "source": [
    "selected_metadata = metadata_dict[list(metadata_dict.keys())[1]]\n",
    "selected_metadata"
   ]
  },
  {
   "cell_type": "markdown",
   "metadata": {},
   "source": [
    "# Parte 2: Recuperação dos Arquivos PDF da URL"
   ]
  },
  {
   "cell_type": "code",
   "execution_count": 14,
   "metadata": {},
   "outputs": [],
   "source": [
    "import requests\n",
    "import io\n",
    "import json"
   ]
  },
  {
   "cell_type": "code",
   "execution_count": 15,
   "metadata": {},
   "outputs": [],
   "source": [
    "def get_pdf_file(metadata):      \n",
    "    url = metadata[\"pdf_url\"]\n",
    "    _id = metadata[\"id\"]\n",
    "\n",
    "    response = requests.get(url)\n",
    "    if response.status_code != 200:\n",
    "        print(\"Error Requestig PDF!\", _id, url)\n",
    "        return None\n",
    "    \n",
    "    pdf_file = io.BytesIO(response.content)\n",
    "    \n",
    "    return pdf_file"
   ]
  },
  {
   "cell_type": "code",
   "execution_count": 16,
   "metadata": {},
   "outputs": [],
   "source": [
    "pdf_file = get_pdf_file(selected_metadata)"
   ]
  },
  {
   "cell_type": "code",
   "execution_count": 17,
   "metadata": {},
   "outputs": [
    {
     "data": {
      "text/plain": [
       "<_io.BytesIO at 0x7f57f024cd10>"
      ]
     },
     "execution_count": 17,
     "metadata": {},
     "output_type": "execute_result"
    }
   ],
   "source": [
    "pdf_file"
   ]
  },
  {
   "cell_type": "markdown",
   "metadata": {},
   "source": [
    "# Parte 3: Parseamento do PDF"
   ]
  },
  {
   "cell_type": "code",
   "execution_count": 18,
   "metadata": {},
   "outputs": [],
   "source": [
    "import PyPDF2"
   ]
  },
  {
   "cell_type": "code",
   "execution_count": 19,
   "metadata": {},
   "outputs": [],
   "source": [
    "class PDFParser:\n",
    "    \n",
    "    def parse(self, pdf_file, ignore_pages: set = {}):\n",
    "        pdf_reader = PyPDF2.PdfReader(pdf_file)\n",
    "\n",
    "        pdf_document = \"\"\n",
    "        for idx, page in enumerate(pdf_reader.pages):\n",
    "            if idx in ignore_pages:\n",
    "                continue\n",
    "                \n",
    "            pdf_document += page.extract_text() + \"\\n\"\n",
    "        \n",
    "        return pdf_document"
   ]
  },
  {
   "cell_type": "code",
   "execution_count": 20,
   "metadata": {},
   "outputs": [],
   "source": [
    "pdf_parser = PDFParser()"
   ]
  },
  {
   "cell_type": "code",
   "execution_count": 21,
   "metadata": {},
   "outputs": [],
   "source": [
    "def parse_pdf_file(pdf_file, metadata):\n",
    "    bibliography_pages = metadata[\"bibliography_pages\"]\n",
    "    ignore_pages = set(range(bibliography_pages[0], bibliography_pages[1]+1))\n",
    "    \n",
    "    full_text = pdf_parser.parse(pdf_file, ignore_pages=ignore_pages)\n",
    "    return full_text"
   ]
  },
  {
   "cell_type": "code",
   "execution_count": null,
   "metadata": {},
   "outputs": [],
   "source": [
    "parsed_pdf_file = parse_pdf_file(pdf_file, selected_metadata)"
   ]
  },
  {
   "cell_type": "code",
   "execution_count": null,
   "metadata": {},
   "outputs": [],
   "source": [
    "print(parsed_pdf_file[:500])"
   ]
  },
  {
   "cell_type": "markdown",
   "metadata": {},
   "source": [
    "# Parte 4: Salvamento dos PDFs Parseados"
   ]
  },
  {
   "cell_type": "code",
   "execution_count": null,
   "metadata": {},
   "outputs": [],
   "source": [
    "for key in metadata_dict:\n",
    "    try:\n",
    "        metadata = metadata_dict[key]\n",
    "        \n",
    "        pdf_file = get_pdf_file(metadata)\n",
    "        if pdf_file is None: continue\n",
    "            \n",
    "        parsed_pdf_file = parse_pdf_file(pdf_file, metadata)\n",
    "        \n",
    "        _id = \"_\".join(key.split('-'))\n",
    "        print(_id)\n",
    "        filename = f\"{parsed_filepath}/documento_\" + _id + \".txt\"\n",
    "    \n",
    "        # descomentar quando for salvar    \n",
    "        with open(filename, \"w\") as file:\n",
    "            file.write(parsed_pdf_file.encode('utf-8', 'replace').decode())\n",
    "\n",
    "    except:\n",
    "        print(\"Error Parsing!\", key)"
   ]
  },
  {
   "cell_type": "code",
   "execution_count": null,
   "metadata": {},
   "outputs": [],
   "source": []
  },
  {
   "cell_type": "code",
   "execution_count": null,
   "metadata": {},
   "outputs": [],
   "source": []
  }
 ],
 "metadata": {
  "kernelspec": {
   "display_name": "llama",
   "language": "python",
   "name": "llama"
  },
  "language_info": {
   "codemirror_mode": {
    "name": "ipython",
    "version": 3
   },
   "file_extension": ".py",
   "mimetype": "text/x-python",
   "name": "python",
   "nbconvert_exporter": "python",
   "pygments_lexer": "ipython3",
   "version": "3.8.18"
  }
 },
 "nbformat": 4,
 "nbformat_minor": 4
}
