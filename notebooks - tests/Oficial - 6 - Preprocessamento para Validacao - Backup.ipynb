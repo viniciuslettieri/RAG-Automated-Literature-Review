{
 "cells": [
  {
   "cell_type": "markdown",
   "metadata": {},
   "source": [
    "# Introdução"
   ]
  },
  {
   "cell_type": "markdown",
   "metadata": {},
   "source": [
    "Neste documento faremos o preprocessamento dos textos para criar os casos testes e salvá-los. Dessa forma, poderemos retestar sem aleatoriedade de eventos."
   ]
  },
  {
   "cell_type": "code",
   "execution_count": 1,
   "metadata": {},
   "outputs": [],
   "source": [
    "# !pip install langchain==0.0.340 langchain --force-reinstall"
   ]
  },
  {
   "cell_type": "code",
   "execution_count": 1,
   "metadata": {},
   "outputs": [],
   "source": [
    "from datetime import date"
   ]
  },
  {
   "cell_type": "code",
   "execution_count": 2,
   "metadata": {},
   "outputs": [],
   "source": [
    "validation_tests_partition = str(date.today())"
   ]
  },
  {
   "cell_type": "code",
   "execution_count": 3,
   "metadata": {},
   "outputs": [
    {
     "data": {
      "text/plain": [
       "'./validation_tests/2024-05-11'"
      ]
     },
     "execution_count": 3,
     "metadata": {},
     "output_type": "execute_result"
    }
   ],
   "source": [
    "validation_tests_path = f'./validation_tests/{validation_tests_partition}'\n",
    "validation_tests_path"
   ]
  },
  {
   "cell_type": "markdown",
   "metadata": {},
   "source": [
    "# 1. Recuperação dos Documentos Formatados"
   ]
  },
  {
   "cell_type": "code",
   "execution_count": 4,
   "metadata": {},
   "outputs": [],
   "source": [
    "import os\n",
    "import json"
   ]
  },
  {
   "cell_type": "code",
   "execution_count": 5,
   "metadata": {},
   "outputs": [],
   "source": [
    "pdf_folder_path = \"./formatted_documents\""
   ]
  },
  {
   "cell_type": "code",
   "execution_count": 6,
   "metadata": {},
   "outputs": [],
   "source": [
    "filename_list = []\n",
    "for filename in os.listdir(pdf_folder_path):\n",
    "    if filename.endswith(\".json\"):\n",
    "        filename_list.append(os.path.join(pdf_folder_path, filename))\n",
    "\n",
    "filename_list = sorted(filename_list)"
   ]
  },
  {
   "cell_type": "code",
   "execution_count": 7,
   "metadata": {},
   "outputs": [
    {
     "data": {
      "text/plain": [
       "1538"
      ]
     },
     "execution_count": 7,
     "metadata": {},
     "output_type": "execute_result"
    }
   ],
   "source": [
    "len(filename_list)"
   ]
  },
  {
   "cell_type": "code",
   "execution_count": 8,
   "metadata": {},
   "outputs": [],
   "source": [
    "def retrieve_document(filename):\n",
    "    with open(filename, \"r\") as file:\n",
    "        json_file = json.load(file)\n",
    "    return json_file"
   ]
  },
  {
   "cell_type": "markdown",
   "metadata": {},
   "source": [
    "## Teste"
   ]
  },
  {
   "cell_type": "code",
   "execution_count": 9,
   "metadata": {},
   "outputs": [],
   "source": [
    "json_document = retrieve_document(filename_list[0])"
   ]
  },
  {
   "cell_type": "code",
   "execution_count": 10,
   "metadata": {},
   "outputs": [
    {
     "data": {
      "text/plain": [
       "dict_keys(['title', 'authors', 'abstract', 'bibliography_pages', 'keywords', 'urls', 'pdf_url', 'id', 'sentences'])"
      ]
     },
     "execution_count": 10,
     "metadata": {},
     "output_type": "execute_result"
    }
   ],
   "source": [
    "json_document.keys()"
   ]
  },
  {
   "cell_type": "code",
   "execution_count": 11,
   "metadata": {},
   "outputs": [
    {
     "data": {
      "text/plain": [
       "'Psicologia, trabalho e atenção básica do SUS : compartilhando experiências em equipes NASF no Rio de Janeiro'"
      ]
     },
     "execution_count": 11,
     "metadata": {},
     "output_type": "execute_result"
    }
   ],
   "source": [
    "json_document['title']"
   ]
  },
  {
   "cell_type": "code",
   "execution_count": 12,
   "metadata": {},
   "outputs": [
    {
     "data": {
      "text/plain": [
       "['Ambrósio, Erika Gonçalves',\n",
       " 'Ferreira, João Batista, orient.',\n",
       " 'Universidade Federal do Rio de Janeiro. Instituto de Psicologia.']"
      ]
     },
     "execution_count": 12,
     "metadata": {},
     "output_type": "execute_result"
    }
   ],
   "source": [
    "json_document['authors']"
   ]
  },
  {
   "cell_type": "code",
   "execution_count": 13,
   "metadata": {},
   "outputs": [
    {
     "data": {
      "text/plain": [
       "'Esta pesquisa analisa a organização do trabalho de psicólogos nas equipes do Núcleo de Apoio à Saúde da Família (NASF) do município do Rio de Janeiro (área programática 2.1). Para tanto, apresenta o contexto de trabalho atual dos psicólogos no âmbito da atenção básica, identifica o trabalho prescrit...'"
      ]
     },
     "execution_count": 13,
     "metadata": {},
     "output_type": "execute_result"
    }
   ],
   "source": [
    "json_document['abstract'][:300] + '...'"
   ]
  },
  {
   "cell_type": "code",
   "execution_count": 14,
   "metadata": {},
   "outputs": [
    {
     "data": {
      "text/plain": [
       "['Psicologia Teses.',\n",
       " 'Psicólogos Condições de trabalho Rio de Janeiro (RJ).',\n",
       " 'Política de saúde.']"
      ]
     },
     "execution_count": 14,
     "metadata": {},
     "output_type": "execute_result"
    }
   ],
   "source": [
    "json_document['keywords']"
   ]
  },
  {
   "cell_type": "code",
   "execution_count": 15,
   "metadata": {},
   "outputs": [
    {
     "data": {
      "text/plain": [
       "['http://objdig.ufrj.br/30/teses/276189.pdf',\n",
       " 'http://lattes.cnpq.br/4763936516818542']"
      ]
     },
     "execution_count": 15,
     "metadata": {},
     "output_type": "execute_result"
    }
   ],
   "source": [
    "json_document['urls']"
   ]
  },
  {
   "cell_type": "code",
   "execution_count": 16,
   "metadata": {},
   "outputs": [
    {
     "name": "stdout",
     "output_type": "stream",
     "text": [
      "411\n"
     ]
    }
   ],
   "source": [
    "print(len(json_document[\"sentences\"]))"
   ]
  },
  {
   "cell_type": "markdown",
   "metadata": {},
   "source": [
    "# 2. Seleção dos Testes"
   ]
  },
  {
   "cell_type": "markdown",
   "metadata": {},
   "source": [
    "**Escolha das sentenças do texto:** \n",
    "\n",
    "Usaremos apenas uma fração, temos 1500 artigos, selecionaremos 100 sentences ao acaso por artigo, totalizando 150000 sentenças.<br>\n",
    "Além disso, faremos alterações nas sentenças obtidas, para testar segmentos do parágrafo.<br>\n",
    "As sentenças precisam ter pelo menos uma quantidade de caracteres."
   ]
  },
  {
   "cell_type": "code",
   "execution_count": 15,
   "metadata": {},
   "outputs": [],
   "source": [
    "MIN_ACCEPTABLE_CHARS = 300\n",
    "MAX_SENTENCE_CHUNK_SIZE = 500"
   ]
  },
  {
   "cell_type": "code",
   "execution_count": 16,
   "metadata": {},
   "outputs": [],
   "source": [
    "import random\n",
    "\n",
    "random.seed(42)"
   ]
  },
  {
   "cell_type": "code",
   "execution_count": 17,
   "metadata": {},
   "outputs": [],
   "source": [
    "def chunkstring(string, length):\n",
    "    return [string[0+i:length+i] for i in range(0, len(string), length)]"
   ]
  },
  {
   "cell_type": "code",
   "execution_count": 18,
   "metadata": {},
   "outputs": [],
   "source": [
    "test_title = []\n",
    "test_abstract = []\n",
    "test_keywords = []\n",
    "test_sentences = []\n",
    "test_modified_sentences = []\n",
    "\n",
    "metadata_dict = {}\n",
    "\n",
    "for filename in filename_list:\n",
    "    doc = retrieve_document(filename).copy()\n",
    "   \n",
    "    test_title.append({\"id\": doc[\"id\"], \"title\": doc[\"title\"]})\n",
    "    test_abstract.append({\"id\": doc[\"id\"], \"abstract\": doc[\"abstract\"]})\n",
    "    test_keywords.append({\"id\": doc[\"id\"], \"keywords\": \"; \".join(doc[\"keywords\"])})\n",
    "        \n",
    "    acceptable_sentences = [sentence for sentence in doc[\"sentences\"] if len(sentence) > MIN_ACCEPTABLE_CHARS]\n",
    "    \n",
    "    sentences = random.sample(acceptable_sentences, len(acceptable_sentences))\n",
    "    for sentence in sentences:\n",
    "        chunked_sentence = [{\"id\": doc[\"id\"], \"sentence\": s} for s in chunkstring(sentence, MAX_SENTENCE_CHUNK_SIZE)]\n",
    "        test_sentences.extend(chunked_sentence)\n",
    "        \n",
    "        start = random.randint(0, int(len(sentence)/2))\n",
    "        test_modified_sentences.append({\"id\": doc[\"id\"], \"sentence\": sentence[start:start+200]})\n",
    "    \n",
    "    metadata = doc.copy()\n",
    "    metadata.pop('sentences')\n",
    "    metadata_dict[doc['id']] = metadata"
   ]
  },
  {
   "cell_type": "code",
   "execution_count": 19,
   "metadata": {},
   "outputs": [
    {
     "data": {
      "text/plain": [
       "[{'id': '276189',\n",
       "  'title': 'Psicologia, trabalho e atenção básica do SUS : compartilhando experiências em equipes NASF no Rio de Janeiro'},\n",
       " {'id': '494080',\n",
       "  'title': 'Terapeutas cognitivo-comportamentais frente à religiosidade/espiritualidade no contexto psicoterapêutico'}]"
      ]
     },
     "execution_count": 19,
     "metadata": {},
     "output_type": "execute_result"
    }
   ],
   "source": [
    "test_title[:2]"
   ]
  },
  {
   "cell_type": "code",
   "execution_count": 20,
   "metadata": {},
   "outputs": [
    {
     "data": {
      "text/plain": [
       "[{'id': '276189',\n",
       "  'abstract': 'Esta pesquisa analisa a organização do trabalho de psicólogos nas equipes do Núcleo de Apoio à Saúde da Família (NASF) do município do Rio de Janeiro (área programática 2.1). Para tanto, apresenta o contexto de trabalho atual dos psicólogos no âmbito da atenção básica, identifica o trabalho prescrito e o realizado; as vivências de sofrimento dos psicólogos em seu contexto de trabalho; assim como as vivências de prazer e estratégias utilizadas para a efetivação da prática profissional. A metodologia caracteriza-se pela realização de entrevistas semiestruturadas com seis psicólogas e um psicólogo, todos de equipes NASF (eNASF) da área da Zona Sul do município. As entrevistas ocorreram entre fevereiro de 2019 e fevereiro de 2020, foram gravadas e transcritas, e posteriormente analisadas por meio da Análise dos Núcleos de Sentido. O contexto de trabalho presente no município do Rio caracteriza-se por: redução gradual de investimentos na Saúde; transferência parcial de gestão dos serviços geridos pelas Organizações Sociais de Saúde para a empresa Rio Saúde; movimentos de resistência dos trabalhadores através de ações coletivas de greve e manifestações; e déficit de trabalhadores nos serviços. Em relação ao trabalho prescrito formal, verificamos a coexistência dos prescritos informais, alusivos às relações sociais marcadas pelas diferenças hierárquicas e de poderes. O trabalho realizado compreende: atividades de atendimento individual e grupal; visitas domiciliares; articulação de rede de Saúde; discussão de casos e participação em reuniões das equipes de Saúde da Família (eSF), o que se apresenta em conformidade com as atividades prescritas aos profissionais das eNASF e, especificamente, aos psicólogos.As vivências de sofrimento estão associadas principalmente à conjuntura de desmonte da política de Saúde e suas consequências na organização dos trabalhadores, por meio de experiências de sobrecarga de trabalho e vínculos empregatícios precários, redução das eSF e aumento na relação eSF/eNASF acima do regulamentado. Abarcam ainda a insatisfatória estrutura física das unidades e processos de adoecimentos em decorrência do trabalho. As experiências de prazer e as estratégias de mediação utilizadas pelos trabalhadores estão relacionadas aos seguintes aspectos: prática de trabalho compartilhado; construção de coletivos de usuários e trabalhadores; participação em processos formativos de outros profissionais; reconhecimento obtido pelo trabalho; e construção de conhecimento teórico na área. Este estudo possibilitou relacionar a trajetória profissional e acadêmica dos participantes à prática psicológica na atenção básica de maneira próxima ao trabalho proposto nas normativas regulatórias, ressaltando a importância dos processos de formação. As estratégias defensivas individuais de substituição dos serviços ambulatoriais apresentam-se como tentativas de lidar com as precarizações da rede de Saúde, mas suas consequências tornam essas situações crônicas. O coletivo aparece, então, como espaço privilegiado para a prática do reconhecimento, da cooperação e da efetivação dos princípios e diretrizes do SUS. Essa pesquisa realiza um recorte temporal e territorial, o que sinaliza a possibilidade de ampliação para outras regiões do município. Além disso, as recentes mudanças nos vínculos empregatícios e os novos desafios em Saúde presentes no município podem suscitar investigações mais atualizadas.'}]"
      ]
     },
     "execution_count": 20,
     "metadata": {},
     "output_type": "execute_result"
    }
   ],
   "source": [
    "test_abstract[:1]"
   ]
  },
  {
   "cell_type": "code",
   "execution_count": 21,
   "metadata": {},
   "outputs": [
    {
     "data": {
      "text/plain": [
       "[{'id': '276189',\n",
       "  'keywords': 'Psicologia Teses.; Psicólogos Condições de trabalho Rio de Janeiro (RJ).; Política de saúde.'},\n",
       " {'id': '494080',\n",
       "  'keywords': 'Psicologia Teses.; Psicologia e religião.; Religiosidade.; Espiritualidade.; Terapia cognitiva.'}]"
      ]
     },
     "execution_count": 21,
     "metadata": {},
     "output_type": "execute_result"
    }
   ],
   "source": [
    "test_keywords[:2]"
   ]
  },
  {
   "cell_type": "code",
   "execution_count": 22,
   "metadata": {},
   "outputs": [
    {
     "data": {
      "text/plain": [
       "[{'id': '276189',\n",
       "  'sentence': 'A partir de 1994, o PACS foi adotado como estratégia transitória para o Programa de Saúde da Família, que se comprometia com o acesso universal e integral ao SUS, numa perspectiva de integralidade do cuidado em saúde, mas que ainda aglutinava práticas focais em áreas com mais riscos (REIS e BORGES, 2016).'},\n",
       " {'id': '276189',\n",
       "  'sentence': 'A partir de março de 2020, em virtude da pandemia da COVID -19 em destaque no país, num movimento que se iniciou na China e foi se ocidentalizando ao longo dos dias, temas como saúde e segurança do trabalho, organização e adoecimento dos profissionais de sa úde, e a relevância do SUS na sociedade brasileira dominaram a programação televisiva, as manchetes jornalísticas e mudaram a rotina de milhões de pessoas. Nesse sentido, Lima (2020) ressalta que “mais do que nunca, a saúde como valor e direi'}]"
      ]
     },
     "execution_count": 22,
     "metadata": {},
     "output_type": "execute_result"
    }
   ],
   "source": [
    "test_sentences[:2]"
   ]
  },
  {
   "cell_type": "code",
   "execution_count": 23,
   "metadata": {},
   "outputs": [
    {
     "data": {
      "text/plain": [
       "[{'id': '276189',\n",
       "  'sentence': 'e se comprometia com o acesso universal e integral ao SUS, numa perspectiva de integralidade do cuidado em saúde, mas que ainda aglutinava práticas focais em áreas com mais riscos (REIS e BORGES, 2016'},\n",
       " {'id': '276189',\n",
       "  'sentence': 'aúde da Família e Comunidade do Instituto de Atenção à Saúde São Francisco de Assis da Universidade Federal do Rio de Janeiro (HESFA/UFRJ) em 2016, inicio minha trajetória profissional como psicóloga.'}]"
      ]
     },
     "execution_count": 23,
     "metadata": {},
     "output_type": "execute_result"
    }
   ],
   "source": [
    "test_modified_sentences[:2]"
   ]
  },
  {
   "cell_type": "markdown",
   "metadata": {},
   "source": [
    "# 3. Salvamento dos Testes"
   ]
  },
  {
   "cell_type": "code",
   "execution_count": 31,
   "metadata": {},
   "outputs": [],
   "source": [
    "import json"
   ]
  },
  {
   "cell_type": "code",
   "execution_count": 40,
   "metadata": {},
   "outputs": [],
   "source": [
    "import os\n",
    "os.mkdir(validation_tests_path)"
   ]
  },
  {
   "cell_type": "code",
   "execution_count": 41,
   "metadata": {},
   "outputs": [],
   "source": [
    "with open(f'{validation_tests_path}/test_title.json', 'w') as fp:\n",
    "    json.dump(test_title, fp)"
   ]
  },
  {
   "cell_type": "code",
   "execution_count": 42,
   "metadata": {},
   "outputs": [],
   "source": [
    "with open(f'{validation_tests_path}/test_abstract.json', 'w') as fp:\n",
    "    json.dump(test_abstract, fp)"
   ]
  },
  {
   "cell_type": "code",
   "execution_count": 43,
   "metadata": {},
   "outputs": [],
   "source": [
    "with open(f'{validation_tests_path}/test_keywords.json', 'w') as fp:\n",
    "    json.dump(test_keywords, fp)"
   ]
  },
  {
   "cell_type": "code",
   "execution_count": 44,
   "metadata": {},
   "outputs": [],
   "source": [
    "with open(f'{validation_tests_path}/test_sentences.json', 'w') as fp:\n",
    "    json.dump(test_sentences, fp)"
   ]
  },
  {
   "cell_type": "code",
   "execution_count": 45,
   "metadata": {},
   "outputs": [],
   "source": [
    "with open(f'{validation_tests_path}/test_modified_sentences.json', 'w') as fp:\n",
    "    json.dump(test_modified_sentences, fp)"
   ]
  },
  {
   "cell_type": "code",
   "execution_count": null,
   "metadata": {},
   "outputs": [],
   "source": []
  }
 ],
 "metadata": {
  "kernelspec": {
   "display_name": "llama",
   "language": "python",
   "name": "llama"
  },
  "language_info": {
   "codemirror_mode": {
    "name": "ipython",
    "version": 3
   },
   "file_extension": ".py",
   "mimetype": "text/x-python",
   "name": "python",
   "nbconvert_exporter": "python",
   "pygments_lexer": "ipython3",
   "version": "3.8.18"
  }
 },
 "nbformat": 4,
 "nbformat_minor": 4
}
