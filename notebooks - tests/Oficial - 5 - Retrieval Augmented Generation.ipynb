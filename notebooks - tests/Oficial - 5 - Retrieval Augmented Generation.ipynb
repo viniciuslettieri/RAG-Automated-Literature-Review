{
 "cells": [
  {
   "cell_type": "markdown",
   "metadata": {},
   "source": [
    "# Introdução"
   ]
  },
  {
   "cell_type": "markdown",
   "metadata": {},
   "source": [
    "Neste documento realizamos os embeddings de cada trecho formatado anteriormente, incluindo o titulo e o resumo.\n",
    "\n",
    "Esses embeddings serão salvos em uma vectorstore."
   ]
  },
  {
   "cell_type": "code",
   "execution_count": 1,
   "metadata": {},
   "outputs": [],
   "source": [
    "# !pip install langchain==0.0.340 langchain --force-reinstall"
   ]
  },
  {
   "cell_type": "markdown",
   "metadata": {},
   "source": [
    "# Obtenção dos Metadados do Minerva"
   ]
  },
  {
   "cell_type": "code",
   "execution_count": 2,
   "metadata": {},
   "outputs": [],
   "source": [
    "import os\n",
    "import json"
   ]
  },
  {
   "cell_type": "code",
   "execution_count": 3,
   "metadata": {},
   "outputs": [],
   "source": [
    "pdf_folder_path = \"./metadata_documents\""
   ]
  },
  {
   "cell_type": "markdown",
   "metadata": {},
   "source": [
    "## Arquivos de Metadados"
   ]
  },
  {
   "cell_type": "code",
   "execution_count": 4,
   "metadata": {},
   "outputs": [],
   "source": [
    "filename_list = []\n",
    "for filename in os.listdir(pdf_folder_path):\n",
    "    if filename.endswith(\".json\") and not filename.endswith(\"_x.json\"):\n",
    "        filename_list.append(os.path.join(pdf_folder_path, filename))\n",
    "\n",
    "filename_list = sorted(filename_list)"
   ]
  },
  {
   "cell_type": "code",
   "execution_count": 5,
   "metadata": {},
   "outputs": [
    {
     "data": {
      "text/plain": [
       "['./metadata_documents/documento_.json',\n",
       " './metadata_documents/documento_276189.json',\n",
       " './metadata_documents/documento_494080.json',\n",
       " './metadata_documents/documento_547235.json',\n",
       " './metadata_documents/documento_614469.json']"
      ]
     },
     "execution_count": 5,
     "metadata": {},
     "output_type": "execute_result"
    }
   ],
   "source": [
    "filename_list [:5]"
   ]
  },
  {
   "cell_type": "markdown",
   "metadata": {},
   "source": [
    "## Obtenção dos Metadados"
   ]
  },
  {
   "cell_type": "code",
   "execution_count": 6,
   "metadata": {},
   "outputs": [],
   "source": [
    "def get_metadata(filename_list):\n",
    "    metadata_dict = {}\n",
    "    \n",
    "    for filename in filename_list:\n",
    "        with open(filename, \"r\") as file: \n",
    "            metadata = json.load(file)\n",
    "            _id = metadata[\"id\"]\n",
    "            metadata_dict[_id] = metadata\n",
    "    \n",
    "    return metadata_dict"
   ]
  },
  {
   "cell_type": "code",
   "execution_count": 7,
   "metadata": {},
   "outputs": [],
   "source": [
    "metadata_dict = get_metadata(filename_list)"
   ]
  },
  {
   "cell_type": "code",
   "execution_count": 8,
   "metadata": {},
   "outputs": [
    {
     "data": {
      "text/plain": [
       "2042"
      ]
     },
     "execution_count": 8,
     "metadata": {},
     "output_type": "execute_result"
    }
   ],
   "source": [
    "len(metadata_dict)"
   ]
  },
  {
   "cell_type": "code",
   "execution_count": 9,
   "metadata": {},
   "outputs": [
    {
     "data": {
      "text/plain": [
       "dict_keys(['title', 'authors', 'abstract', 'bibliography_pages', 'keywords', 'urls', 'pdf_url', 'id'])"
      ]
     },
     "execution_count": 9,
     "metadata": {},
     "output_type": "execute_result"
    }
   ],
   "source": [
    "metadata_dict[\"614469\"].keys()"
   ]
  },
  {
   "cell_type": "code",
   "execution_count": 10,
   "metadata": {},
   "outputs": [
    {
     "data": {
      "text/plain": [
       "'Evolução do relevo, coberturas sedimentares e formação de solos em superfícies geomorfológicas : Medio Vale do Rio Paraíba do Sul (SP/RJ)'"
      ]
     },
     "execution_count": 10,
     "metadata": {},
     "output_type": "execute_result"
    }
   ],
   "source": [
    "metadata_dict[\"614469\"][\"title\"]"
   ]
  },
  {
   "cell_type": "code",
   "execution_count": 11,
   "metadata": {},
   "outputs": [
    {
     "data": {
      "text/plain": [
       "'Apesar de o radiocarbono ser utilizado na cronologia dos depósitos holocênicos e pleistocênicos na r'"
      ]
     },
     "execution_count": 11,
     "metadata": {},
     "output_type": "execute_result"
    }
   ],
   "source": [
    "metadata_dict[\"614469\"][\"abstract\"][:100]"
   ]
  },
  {
   "cell_type": "markdown",
   "metadata": {},
   "source": [
    "# Parte 0: Instalações"
   ]
  },
  {
   "cell_type": "code",
   "execution_count": 12,
   "metadata": {},
   "outputs": [],
   "source": [
    "# %pip install faiss-gpu"
   ]
  },
  {
   "cell_type": "markdown",
   "metadata": {},
   "source": [
    "# Parte 1: Vector Store"
   ]
  },
  {
   "cell_type": "code",
   "execution_count": 13,
   "metadata": {},
   "outputs": [],
   "source": [
    "from operator import itemgetter\n",
    "\n",
    "from langchain.prompts import ChatPromptTemplate\n",
    "from langchain.embeddings import OpenAIEmbeddings\n",
    "from langchain.schema.output_parser import StrOutputParser\n",
    "from langchain.schema.runnable import RunnablePassthrough, RunnableLambda\n",
    "from langchain.vectorstores import FAISS"
   ]
  },
  {
   "cell_type": "code",
   "execution_count": 14,
   "metadata": {},
   "outputs": [],
   "source": [
    "from langchain.embeddings import SentenceTransformerEmbeddings"
   ]
  },
  {
   "cell_type": "code",
   "execution_count": 15,
   "metadata": {},
   "outputs": [
    {
     "name": "stderr",
     "output_type": "stream",
     "text": [
      "/home/vinic/miniconda3/envs/llama/lib/python3.8/site-packages/tqdm/auto.py:21: TqdmWarning: IProgress not found. Please update jupyter and ipywidgets. See https://ipywidgets.readthedocs.io/en/stable/user_install.html\n",
      "  from .autonotebook import tqdm as notebook_tqdm\n"
     ]
    }
   ],
   "source": [
    "embeddings = SentenceTransformerEmbeddings(model_name=\"sentence-transformers/paraphrase-multilingual-mpnet-base-v2\")"
   ]
  },
  {
   "cell_type": "code",
   "execution_count": 16,
   "metadata": {},
   "outputs": [],
   "source": [
    "vectorstore = FAISS.load_local(\"./new_faiss_vector_store/\", embeddings)"
   ]
  },
  {
   "cell_type": "markdown",
   "metadata": {},
   "source": [
    "# Parte 2: Vector Search"
   ]
  },
  {
   "cell_type": "code",
   "execution_count": 17,
   "metadata": {},
   "outputs": [],
   "source": [
    "buscas = [\n",
    "    \"modelos de otimização focados em parques de energia eólica\",\n",
    "    \"algoritmos de aprendizado de maquina para resolver problemas NP-Completos\",\n",
    "    \"redes neurais complexas no contexto de biologia\",\n",
    "    \"pesquisa a respeito dos efeitos da covid na memoria de longo prazo\",\n",
    "    \"sistemas de large language models\",\n",
    "    \"novas espécies de dinossauros\",\n",
    "    \"os efeitos de substancias alucinogenas no cerebro de jovens\",\n",
    "    \"Evolução do relevo, coberturas sedimentares e formação de solos em superfícies geomorfológicas\",\n",
    "    \"pesquisa sobre a comunicação persuasiva através da tecnologia, utilizando engenharia social\",\n",
    "    \"estudo sobre o desenvolvimento de transtornos mentais em profissionais da medicina\",\n",
    "    \"uso de algoritmos de aprendizado de máquina para identificação e prevenção de ataques em redes de computadores\",\n",
    "    \"produção de epicloridrina em larga escala a partir do glicerol como substância base\",\n",
    "    \"estudos sobre saúde mental em alunos de universidades públicas no campo da psicologia social\"\n",
    "]"
   ]
  },
  {
   "cell_type": "code",
   "execution_count": 18,
   "metadata": {},
   "outputs": [
    {
     "data": {
      "text/plain": [
       "'estudo sobre o desenvolvimento de transtornos mentais em profissionais da medicina'"
      ]
     },
     "execution_count": 18,
     "metadata": {},
     "output_type": "execute_result"
    }
   ],
   "source": [
    "query = buscas[9]\n",
    "query"
   ]
  },
  {
   "cell_type": "markdown",
   "metadata": {},
   "source": [
    "## Proximidade de Titulos"
   ]
  },
  {
   "cell_type": "code",
   "execution_count": 19,
   "metadata": {},
   "outputs": [],
   "source": [
    "# !pip install langchain==0.0.340"
   ]
  },
  {
   "cell_type": "code",
   "execution_count": 20,
   "metadata": {},
   "outputs": [
    {
     "name": "stdout",
     "output_type": "stream",
     "text": [
      "Query: estudo sobre o desenvolvimento de transtornos mentais em profissionais da medicina \n",
      "\n",
      "2.960468 : 920863 : Inovações práticas e pistas para formação médica no campo da saúde mental : a passagem pelo internato em Carmo - RJ\n",
      "3.4189978 : 916013 : Prevalência de transtornos mentais no estudantes de medicina da Universidade Federal do Rio de Janeiro\n",
      "3.7175002 : 889637 : Estudo do estigma como barreira ao tratamento dos transtornos mentais no contexto de uma intervenção psicossocial\n",
      "4.102117 : 894489 : Muros e passagens : práticas assistenicais na internação psiquiátrica em hospital especializado\n",
      "4.456772 : 921772 : Fisioterapia e inovação : Atenção psicossocial, motivação e o cuidado neurocognitivo funcional de idosos com transtornos mentais\n",
      "4.9555397 : 916084 : Religiosidade e saúde mental : influências na experiência de tratamento de portadores de transtorno psíquico\n",
      "4.9571075 : 917937 : Aplicação e validação de instrumentos psicométricos na psiquiatria forense : importância clínica e pericial\n",
      "5.2305045 : 917939 : Imobilidade tônica : um fenômeno clínico pouco conhecido com forte imapcto no trnastorno de estress pós-traumático\n",
      "5.272876 : 917904 : Percepção da doença no transtorno obsessivo-compulsivo, transtorno da ansiedade social e trnastorno de pânico\n",
      "5.4919744 : 925581 : Os (Des)caminhos da Psicologia no século XX : um estudo sobre a história do Instituto de Psicologia da UFRJ\n"
     ]
    },
    {
     "data": {
      "text/plain": [
       "[None, None, None, None, None, None, None, None, None, None]"
      ]
     },
     "execution_count": 20,
     "metadata": {},
     "output_type": "execute_result"
    }
   ],
   "source": [
    "print(\"Query:\", query, \"\\n\")\n",
    "\n",
    "res = vectorstore.similarity_search_with_score(\n",
    "    query,\n",
    "    k=10,\n",
    "    fetch_k=100000,\n",
    "    filter=dict(type=\"title\")\n",
    ")\n",
    "len(res)\n",
    "[print(r[1], \":\", r[0].metadata[\"id\"], \":\", r[0].page_content) for r in res]"
   ]
  },
  {
   "cell_type": "markdown",
   "metadata": {},
   "source": [
    "## Proximidade de Resumos"
   ]
  },
  {
   "cell_type": "code",
   "execution_count": 21,
   "metadata": {
    "scrolled": true
   },
   "outputs": [
    {
     "name": "stdout",
     "output_type": "stream",
     "text": [
      "Query: estudo sobre o desenvolvimento de transtornos mentais em profissionais da medicina \n",
      "\n",
      "4.0081997 : 931498 : A Reforma Psiquiátrica Brasileira permitiu problematizar o lugar que o indivíduo diagnosticado com algum transtorno psiquiátrico ocupa na sociedade contemporânea, repensar saberes e práticas na assistência à saúde mental, e institucionalizar no contexto brasileiro um modelo de assistência que se contrapõe ao à internação psiquiátrica, admitida como medida excepcional, e uma intervenção terapêutica de base comunitária visando o restabelecimento deste indivíduo à vida social. A desinstitucionalização inicia-se como um aspecto central com o objetivo de superar o modelo asilar e permitir às pessoas advindas de longas internações a vida fora das instituições sua inclusão social. Concomitantemente é criado um sistema de assistência social, com programas de transferência de renda e outros benefícios sociais, garantindo apoio social como um direito de cidadania a população economicamente hipossuficiente. Iniciado o processo de desinstitucionalização surge um enorme número de usuários que se encontrava completamente isolado da vida social, sem vínculos familiares e recursos materiais para a vida em liberdade. O estudo tem como objetivo geral a análise dos aspectos éticos implicados no processo de desinstitucionalização e os programas de transferência de renda ofertados a usuários com transtornos psiquiátricos cronificados, com histórico de permanência prolongada em instituições psiquiátricas. A metodologia combinou pesquisa documental e bibliográfica em bases bibliográficas e governamentais de acesso livre na Internet.Primeiramente foram identificados os principais elementos da discussão e as normativas adotadas no Brasil sobre o objeto do estudo, seguindo-se da análise ética que adotou o método hermenêutico de interpretação e o referencial teórico da perspectiva dos funcionamentos. Esta perspectiva teórica reconhece o direito de cada indivíduo desenvolver seus próprios funcionamentos, independentemente do seu grau de autonomia e liberdade. A partir de investigação empírica das singularidades dos sujeitos, o Estado e a sociedade deve estabelecer a distribuição de recursos que permita a vida digna para todos, considerando as diferentes circunstancias vivenciadas, daqueles não aptos à liberdade e autonomia. Conclui-se que o imperativo da desinstitucionalização no modelo assistencial brasileiro constituiu uma proposta de cunho ético que conflui com a proposta da perspectiva ética dos funcionamentos, na medida em que inclui as pessoas com transtornos psiquiátricos no escopo da consideração moral, como sujeitos e agentes morais, e cria dispositivos sociais favoráveis à sua inclusão. As leis e políticas brasileiras estabelecem uma estrutura favorável que inclui o CAPS, SRT, no âmbito do SUS, e o CRAS, no âmbito do SUAS, e dispositivos como: o projeto terapêutico, reabilitação psicossocial e assistência social, no nível local, cujas ações devem ser orientadas pelos princípios da autonomia, com respeito à singularidade dos sujeitos, e justiça social indissociáveis da cidadania.As discussões identificadas enfatizam a importância das ações intersetoriais entre saúde e assistência social, intrasetorial da saúde, e o estabelecimento de estratégias para o estabelecimento de vínculos dos egressos com os serviços, comunidades e família, de forma a ampliar a co-responsabilização no cuidado das pessoas com transtornos psiquiátricos e sua efetiva inclusão social. O estudo revela pouca discussão da relação entre os benefícios sociais identificados - Benefício de Prestação Continuada (BPC) e o Programa de Volta Para Casa - e as intervenções e ações de saúde e social; e poucas ações intersetoriais – saúde e assistência social – que poderiam potencializar os efeitos das políticas públicas existentes. A perspectiva dos funcionamentos de Dias como referencial ético para a análise mostrou-se bastante adequada e promissora, com potencial para orientar e legitimar eticamente condutas e políticas públicas voltadas às pessoas com transtornos psiquiátricos cronificados. \n",
      "\n",
      "4.0863876 : 916013 : Introdução: A prevalência de transtornos mentais encontrada entre os estudantes de medicina brasileiros tem sido mais alta do que a encontrada em estudantes de países desenvolvidos. Apesar de ser consenso na literatura que as prevalências encontradas em países em desenvolvimento são mais elevadas, torna-se relevante conhecer como esta dinâmica e seus fatores de risco se apresentam na realidade dos estudantes médicos da UFRJ. O objetivo deste estudo foi investigar a prevalência e fatores associados ao episódio depressivo maior e transtorno de ansiedade generalizada em estudantes de medicina da Universidade Federal do Rio de Janeiro, bem como perceber como estes estudantes avaliam o curso. Métodos: Foi realizado um estudo transversal em uma amostra representativa e aleatória de 296 estudantes (taxa de participação=91,4%), utilizando os seguintes instrumentos: PHQ-9 (Patient Health Questionare-9) para avaliação do episódio depressivo maior, GAD-7 (General Anxiety Disorder-7) para avaliação do transtorno de ansiedade generalizada, o protocolo de avaliação SUPREMISS-OMS para avaliar o comportamento suicida, o ASSIST (Teste de triagem do envolvimento com álcool, cigarro e outras substâncias), e o AUDIT (Teste para identificação de problemas relacionados ao uso de álcool) para avaliar o uso e abuso de substâncias e o DREEM (Dundee Ready Education Environment Measure), para avaliar a percepção dos alunos sobre aspectos de ambiente de ensino.Resultados: A taxa de prevalência do episódio depressivo maior encontrada foi de 59,5% (IC 95% 54,1- 63,8). Os fatores associados na análise final foram o gênero feminino, relato de história de tratamento psiquiátrico atual e percepção negativa de estressores como violência psicológica, dificuldades financeiras, dificuldades de aprendizagem e dificuldades de adaptação a novas situações. A prevalência do episódio transtorno de ansiedade generalizada encontrada foi de 51,9% (IC 95% 46,1-58,2), uma taxa maior em comparação aos estudos em países desenvolvidos e similar a alguns estudos conduzidos em países em desenvolvimento, incluindo o Brasil. Apresentar percepção extrema de estressores como conflitos religiosos, sobrecarga de trabalho acadêmico, dificuldades nas relações amorosas e conjugais esteve associada a ansiedade na análise bivariada. A pontuação total média do DREEM foi de 95, de um máximo possível de 200 e esta condição revelou que o ambiente de ensino foi avaliado como tendo muitos problemas. A pontuação total média para Percepção da Aprendizagem foi avaliada como mais negativa do que positiva; para Percepções sobre seus professores o escore obtido revela que os mesmos estão na direção certa; para autopercepções acadêmicas, o escore obtido revelou que os alunos perceberam o ambiente do curso com mais aspectos positivos que negativos; para as percepções da atmosfera do ambiente de ensino o escore de 21/48 revelou que existem muitos aspectos tem que ser melhorados e para as autopercepções sociais os resultados revelaram que não são muito boas.A pontuação média de 0,77 para o item 3 “Existe um bom sistema de apoio para os alunos estressados” foi a menor e é um indicativo de que o sistema de apoio se apresenta insuficiente. Enquanto a pontuação média de 3,15 para o item 46 “Moro em um lugar confortável” foi a mais alta evidenciando um aspecto sobre a qualidade da moradia dos entrevistados. Conclusão: Os alunos percebem o ambiente educacional do curso de medicina da Universidade Federal do Rio de Janeiro como tendo muitos problemas. Certas áreas precisam de mais exploração das causas subjacentes que após análise ampliada devem servir como um mecanismo de apoio a decisão para os gestores, educadores e alunos do curso na racionalização de suas prioridades para reformas. Considerando a alta prevalência de episódio depressivo maior e o transtorno de ansiedade generalizada, seus impactos negativos assim como os fatores de risco observados nessa população, torna-se fundamental a implementação e ampliação de programas institucionais que enfoquem a promoção da saúde e o desenvolvimento integral para contribuir com a melhoria na qualidade de vida dos estudantes. \n",
      "\n",
      "4.1942606 : 276189 : Esta pesquisa analisa a organização do trabalho de psicólogos nas equipes do Núcleo de Apoio à Saúde da Família (NASF) do município do Rio de Janeiro (área programática 2.1). Para tanto, apresenta o contexto de trabalho atual dos psicólogos no âmbito da atenção básica, identifica o trabalho prescrito e o realizado; as vivências de sofrimento dos psicólogos em seu contexto de trabalho; assim como as vivências de prazer e estratégias utilizadas para a efetivação da prática profissional. A metodologia caracteriza-se pela realização de entrevistas semiestruturadas com seis psicólogas e um psicólogo, todos de equipes NASF (eNASF) da área da Zona Sul do município. As entrevistas ocorreram entre fevereiro de 2019 e fevereiro de 2020, foram gravadas e transcritas, e posteriormente analisadas por meio da Análise dos Núcleos de Sentido. O contexto de trabalho presente no município do Rio caracteriza-se por: redução gradual de investimentos na Saúde; transferência parcial de gestão dos serviços geridos pelas Organizações Sociais de Saúde para a empresa Rio Saúde; movimentos de resistência dos trabalhadores através de ações coletivas de greve e manifestações; e déficit de trabalhadores nos serviços. Em relação ao trabalho prescrito formal, verificamos a coexistência dos prescritos informais, alusivos às relações sociais marcadas pelas diferenças hierárquicas e de poderes. O trabalho realizado compreende: atividades de atendimento individual e grupal; visitas domiciliares; articulação de rede de Saúde; discussão de casos e participação em reuniões das equipes de Saúde da Família (eSF), o que se apresenta em conformidade com as atividades prescritas aos profissionais das eNASF e, especificamente, aos psicólogos.As vivências de sofrimento estão associadas principalmente à conjuntura de desmonte da política de Saúde e suas consequências na organização dos trabalhadores, por meio de experiências de sobrecarga de trabalho e vínculos empregatícios precários, redução das eSF e aumento na relação eSF/eNASF acima do regulamentado. Abarcam ainda a insatisfatória estrutura física das unidades e processos de adoecimentos em decorrência do trabalho. As experiências de prazer e as estratégias de mediação utilizadas pelos trabalhadores estão relacionadas aos seguintes aspectos: prática de trabalho compartilhado; construção de coletivos de usuários e trabalhadores; participação em processos formativos de outros profissionais; reconhecimento obtido pelo trabalho; e construção de conhecimento teórico na área. Este estudo possibilitou relacionar a trajetória profissional e acadêmica dos participantes à prática psicológica na atenção básica de maneira próxima ao trabalho proposto nas normativas regulatórias, ressaltando a importância dos processos de formação. As estratégias defensivas individuais de substituição dos serviços ambulatoriais apresentam-se como tentativas de lidar com as precarizações da rede de Saúde, mas suas consequências tornam essas situações crônicas. O coletivo aparece, então, como espaço privilegiado para a prática do reconhecimento, da cooperação e da efetivação dos princípios e diretrizes do SUS. Essa pesquisa realiza um recorte temporal e territorial, o que sinaliza a possibilidade de ampliação para outras regiões do município. Além disso, as recentes mudanças nos vínculos empregatícios e os novos desafios em Saúde presentes no município podem suscitar investigações mais atualizadas. \n",
      "\n",
      "4.309613 : 889681 : ste trabalho tem por objetivo identificar elementos clínicos e fisiológicos que sejam relacionados ao prognóstico e à resposta ao tratamento no transtorno de ansiedade generalizada (TAG). Buscamos também avaliar sua relação com outras facetas clínicas e correlatos fisiológicos, além de sua relação com potenciais elementos de confundimento. No estudo inicial, realizamos uma revisão sistemática de ensaios clínicos buscando preditores de resposta ao tratamento farmacológico no TAG. Em nossos resultados, neuroticismo, tratamento anterior, polimorfismos genéticos, e a ativação do cíngulo anterior e da amígdala, além de sintomas subclínicos de depressão, foram encontrados como potenciais preditores de resposta ao tratamento no TAG. Discutimos o papel da regulação emocional como elemento de intercessão de alguns preditores biológicos e psicológicos. No estudo subsequente avaliamos o papel da prevalência de emoções negativas na impulsividade de pacientes com TAG e controles saudáveis. Nossos resultados confirmaram nossa hipótese de que indivíduos com TAG relatam aumento da impulsividade em geral quando comparados a controles saudáveis, e que pacientes com TAG tendem a ser mais impulsivos na presença de emoções negativas, confirmando indiretamente a relação já demonstrada na literatura entre urgência negativa e sintomas de TAG. Discutimos também a interação dos transtornos de ansiedade com o diagnóstico de transtorno de déficit de atenção e hiperatividade. Por fim, no último estudo relatado, demonstramos que a variabilidade da frequência cardíaca é um potencial biomarcador de resposta ao tratamento por mindfulness, quando comparado com farmacoterapia. \n",
      "\n",
      "4.33801 : 923089 : este trabalho são descritos e analisados diferentes modos de manifestação do sofrimento psíquico agudo em adolescentes e apresentado seu manejo clínico pela via de um trabalho com a urgência subjetiva a partir da referência da psicanálise aplicada ao campo da atenção psicossocial no contexto social atual. Apresenta-se um debate sobre a adolescência nos dias de hoje e seus impasses, situando a incidência das modificações sociais na subjetividade e as vias que o adolescente pode encontrar para lidar com o seu mal-estar. Aponta-se uma distinção entre a crise do adolescente, como o trabalho psíquico que o adolescente faz para encontrar sua maneira própria de estar no mundo, uma vez que as referências identificatórias das figuras parentais já não lhe servem de apoio, e a crise que a sociedade hoje enfrenta sem as referências mais coletivas que dariam uma orientação compartilhada. A partir da metodologia de construção do caso clínico em psicanálise, são apresentadas três situações de urgência subjetiva recebidas em um CAPSI e suas respectivas resoluções. Os casos permitem situar as pequenas indicações dadas por estes jovens e a importância de recolher esses pequenos indícios para dar contorno às situações de crise da adolescência, seja ela marcada pela estruturação da psicose ou não. O fato de não haver certos ideais coletivos radicaliza a exigência que cada sujeito tem de encontrar os seus próprios parâmetros, a partir de sua posição sintomática, para estar no mundo. \n",
      "\n"
     ]
    }
   ],
   "source": [
    "print(\"Query:\", query, \"\\n\")\n",
    "\n",
    "res = vectorstore.similarity_search_with_score(\n",
    "    query,\n",
    "    k=5,\n",
    "    fetch_k=100000,\n",
    "    filter=dict(type=\"abstract\")\n",
    ")\n",
    "len(res)\n",
    "\n",
    "for r in res:\n",
    "    print(r[1], \":\", r[0].metadata[\"id\"], \":\", r[0].page_content, \"\\n\")"
   ]
  },
  {
   "cell_type": "markdown",
   "metadata": {},
   "source": [
    "## Proximidade de Frases"
   ]
  },
  {
   "cell_type": "code",
   "execution_count": 22,
   "metadata": {
    "tags": []
   },
   "outputs": [
    {
     "name": "stdout",
     "output_type": "stream",
     "text": [
      "Query: estudo sobre o desenvolvimento de transtornos mentais em profissionais da medicina \n",
      "\n"
     ]
    }
   ],
   "source": [
    "print(\"Query:\", query, \"\\n\")\n",
    "\n",
    "res = vectorstore.similarity_search_with_score(\n",
    "    query,\n",
    "    k=100,\n",
    "    fetch_k=1000000,\n",
    "    filter=dict(type=\"sentences\")\n",
    ")"
   ]
  },
  {
   "cell_type": "code",
   "execution_count": 23,
   "metadata": {
    "tags": []
   },
   "outputs": [
    {
     "name": "stdout",
     "output_type": "stream",
     "text": [
      "2.8952703 : 916084 :  LIMA, M\n",
      " F\n",
      ", FERREIRA, C\n",
      " B\n",
      " Estratégias de enfrentamento de pacientes com transtornos mentais\n",
      "2.9416125 : 916084 :  M\n",
      ", FUREGATO, A\n",
      " R\n",
      " F\n",
      " Relação de ajuda com paciente psiquiátrico: além do paradigma médico\n",
      "2.9912298 : 916084 :  Estratégias de enfrentamento de pacientes com transtornos mentais\n",
      " Pesquisas e Práticas Psicossociais, São João Del Rei, v\n",
      " 13, n\n",
      " 2, p\n",
      " 1-15, 2018\n",
      "3.0091233 : 889637 : Um número crescente de estudos avaliou o estigma relacionado aos transtornos mentais e suas consequências. Alguns deles se concentraram nas atitudes do público e m relação às pessoas com transtornos mentais (KNIFTON et al, 2010; SCHOMERUS et al, 2012) , outros consideraram a percepção das famílias, dos cuidadores e dos profissionais, e outros avaliaram a experiência pessoal daqueles que sofrem estigma (WAHL, 1999; STUART, 2005; King et al, 2007) . Há, portanto, polissemia nos proces sos de estigmatização sofridos por portadores de transtornos mentais na percepção e na vivência de usuários, de familiares e de profissionais dos serviços de saúde. Em teoria, é de se esperar que os profissionais de saúde mental mantenham pelo menos atitud es neutras em relação aos pacientes com transtorno mental. Porém, como referido previamente, os profissionais de saúde parecem ser uma importante fonte de estigma. Uma queixa frequente contra profissionais de saúde diz respeito às suas atitudes (STEFANOVIC S et al, 2016) , enquanto as percepções do estigma sócio -institucional dizem respeito a processos de cuidados e escassez de recursos. O último exige soluções políticas e de saúde pública em cada país. O estigma decorrente de profissionais e instituições pod e ser menos provável para pacientes com menos de três anos de doença ou aqueles que nunca foram institucionalizados.\n",
      "3.0091233 : 889637 : Um número crescente de estudos avaliou o estigma relacionado aos transtornos mentais e suas consequências. Alguns deles se concentraram nas atitudes do público e m relação às pessoas com transtornos mentais (KNIFTON et al, 2010; SCHOMERUS et al, 2012) , outros consideraram a percepção das famílias, dos cuidadores e dos profissionais, e outros avaliaram a experiência pessoal daqueles que sofrem estigma (WAHL, 1999; STUART, 2005; King et al, 2007) . Há, portanto, polissemia nos proces sos de estigmatização sofridos por portadores de transtornos mentais na percepção e na vivência de usuários, de familiares e de profissionais dos serviços de saúde. Em teoria, é de se esperar que os profissionais de saúde mental mantenham pelo menos atitud es neutras em relação aos pacientes com transtorno mental. Porém, como referido previamente, os profissionais de saúde parecem ser uma importante fonte de estigma. Uma queixa frequente contra profissionais de saúde diz respeito às suas atitudes (STEFANOVIC S et al, 2016) , enquanto as percepções do estigma sócio -institucional dizem respeito a processos de cuidados e escassez de recursos. O último exige soluções políticas e de saúde pública em cada país. O estigma decorrente de profissionais e instituições pod e ser menos provável para pacientes com menos de três anos de doença ou aqueles que nunca foram institucionalizados.\n",
      "Por sua vez, os psiquiatras podem ter opiniões mais positivas sobre seus pacientes , mas expressam uma vontade reduzida de ter contato com eles. Um estudo suíço revelou que os psiquiatras são mais a favor da psiquiatria comu nitária para pessoas com transtornos mentais graves do que a população em geral (LAUBER et al, 2006) . Mas quando a vontade para o contato social é avaliada, não há diferen ça entre os psiquiatras e a população em geral. Os pesquisadores observaram que quanto mais uma pessoa identifica o quadro clínico de doenças psiquiátricas que lhe são apresentadas, mais estigmatizam pessoas com estas doenças. Neste estudo, os psiquiatras pontuaram escores mais altos ao avaliar o grau de estigma, independentemente dos diagnósticos. A explicação mais provável para este comportamento é\n",
      "que os profissionais de saúde mental são frequentemente confrontados com pacientes reticentes a serem submet idos a tratamento. É difícil construir uma forte relação terapêutica com esses pacientes. No entanto, quanto melhor a relação entre o paciente e o profissional de saúde e quanto mais voluntário o tratamento, por exemplo, no atendimento ambulatorial, menos profissionais estigmatizam seus pacientes.\n",
      "De todo modo, tanto famílias quanto profissionais foram fontes de estigma. Pesquisas anteriores são contraditórias sobre esta questão. Houve sugestões de que uma interação estreita com os pacientes reduziria as atitudes estigmatizantes ou negativas (PINTO -FOLTZ & LOGSDON, 2009), porém pesquisas mais recentes indicam que aqueles com o contato mais próximo po dem ser os mais discriminantes de todos (ROSE et al, 2011) . Assim, há necessidade de um estudo mais aprofundado de como o grau de intimidade leva a um aumento ou diminuição do estigma.\n",
      "3.0436666 : 889637 : Justificativa do estudo A implantação de intervenções em saúde mental em todo o mundo tem sido prejudicada pelo estigma em relação às pessoas identificadas como portadoras de transtorno mental e/ou que utilizam serviços de saúde mental (THORNICROFT et al, 2009). O estigma é uma das principais barreiras para o processo de recuperação de pessoas que desenvolvem um transtorno mental grave (THORNICROFT, 2008). Extensa literatura tem relatado a sua associação com o agravamento dos sintomas (LYSAKER et al, 2007), a baixa adesão ao tratamento (FUNG et al, 2010) , diminuição da qualidade de vida (LIVINGSTON & BOYD, 2010) e redução significativa dos laços sociais (CORRIGAN et al, 2011) Portanto, dado o seu impacto negativo no bem -estar desta população, o desenvolvimento de estratégias para avaliar e reduzir o estigma é considerado uma prioridade de saúde pública (THORNICROFT et al, 2010) . Não obstante, até o momento, estudos sobre o estigma dos transtornos mentais têm sido particularmente escassos no Brasil e em outros países da América Latina (PELUSO & BLAY, 2004; 2011; MASCAYANO et al, 2016), havendo, portanto, uma lacuna a ser enfrenta da para a criação de estratégias de intervenção e combate aos processos de estigmatização. A necessidade de enfrentar o estigma tem sido incluída tanto nas políticas globais e locais de saúde mental e nas agendas de pesquisa (SARACENO et al, 2007). Em 2008 , o Brasil ratificou a Convenção das Nações Unidas sobre os Direitos das Pessoas com Deficiência, proibindo qualquer tipo de discriminação contra pessoas com transtornos mentais. No entanto, apesar de tudo isso, o estigma ainda apresenta um desafio no país para as políticas públicas, para a prestação de cuidados e para as pessoas em todo o mundo que vivem com a experiência\n",
      "3.054151 : 889637 : importante, principalmente no campo do trabalho e como causa de recusa de tratamento (CLEMENTE et al , 2017) Algumas práticas psiquiátricas podem contribuir para a perpetuação de atitudes estigmatizantes, e sua própria luta profissional, em defesa de seus pacientes, pode reforçar certos estereótipos de pessoas com transtornos mentais (SARTORIUS, 2002; LAUBER et al, 2006) . Os autores acreditam, por e xemplo, que a aplicação do modelo médico ao transtorno bipolar co mparando -o com outras doenças de evolução crônica pode reduzir o estigma e melhorar a adesão. Essa perspectiva, no entanto, demonstrou limitações e até resultados opostos. A mensagem de que \" transto rnos mentais são doenças como outra qualquer \" ajuda a reduzir o estigma relacionado a fraquezas de caráter ou culpa do indivíduo promovendo a busca de tratamento (WAHL, 1999; PATTYN et al, 2013) , mas intensifica alguns estereótipos perniciosos, como incurabilidade, incapacidade, imprevisibilidade e periculosidade (ANGERMEYER, 2003; READ et al, 2006; LINCOLN et al, 2008) .\n",
      "3.0760713 : 916013 : Sendo assim, a associação entre estudar medicina e desenvolver transtornos psíquicos é altamente prevalente e mundialmente conhecida (HEINS ; FAHEY; LEIDEN , 1984; DEMARCO et al., 1999; ALVI et al. , 2010).\n",
      "O curso médico é uma carreira que exige algumas características especificas e expõe seus alunos a numerosas situações de estresse. Alguns estudantes que por características subjetivas, possuam baixa capacidade de enfrentam ento a frustrações, baixa capacidade de criar redes de suporte interpessoal, diminuída capacidade de resiliência e maior suscetibilidade a quadros depressivos poderão apresentar maior prevalência de sofrimento psíquico com surgimento de morbidades psíquica s de intensidade moderada a grave (CATALD O NETO et al. , 1998; BORST Algumas etapas do curso como o internato, os atendimentos ao paciente e a dedicação integral frequentemente suscitam nos estudantes o aumento dos níveis de angústia. A falta de tempo e a necessidade de escolher uma especialidade também podem desencadear processos de sofrimentos psíquicos. Assim, sentimentos como desânimo, depressão, impotência, stress, entre outros, podem ser vivenciados. Também há que se considerar que a com unicação com doentes graves, por vezes de tratamento difícil, o lidar com o sofrimento, o desespero e a morte, bem como com situações de dor e frustração, podem afetar a autoestima do aluno ainda em formação (STEWART et al. , 1995).\n",
      "3.0760713 : 916013 : Sendo assim, a associação entre estudar medicina e desenvolver transtornos psíquicos é altamente prevalente e mundialmente conhecida (HEINS ; FAHEY; LEIDEN , 1984; DEMARCO et al., 1999; ALVI et al. , 2010).\n",
      "O curso médico é uma carreira que exige algumas características especificas e expõe seus alunos a numerosas situações de estresse. Alguns estudantes que por características subjetivas, possuam baixa capacidade de enfrentam ento a frustrações, baixa capacidade de criar redes de suporte interpessoal, diminuída capacidade de resiliência e maior suscetibilidade a quadros depressivos poderão apresentar maior prevalência de sofrimento psíquico com surgimento de morbidades psíquica s de intensidade moderada a grave (CATALD O NETO et al. , 1998; BORST Algumas etapas do curso como o internato, os atendimentos ao paciente e a dedicação integral frequentemente suscitam nos estudantes o aumento dos níveis de angústia. A falta de tempo e a necessidade de escolher uma especialidade também podem desencadear processos de sofrimentos psíquicos. Assim, sentimentos como desânimo, depressão, impotência, stress, entre outros, podem ser vivenciados. Também há que se considerar que a com unicação com doentes graves, por vezes de tratamento difícil, o lidar com o sofrimento, o desespero e a morte, bem como com situações de dor e frustração, podem afetar a autoestima do aluno ainda em formação (STEWART et al. , 1995).\n",
      "Características como os parâmetros de avaliação, a ampla carga horária, a falta de tempo para o lazer, a pressão para excelência e a sobrecarga de trabalho são considerados estressores potentes que o curso de medicina estabelece aos seus alunos, predispondo -os ao surgimento de tr anstornos mentais diversos Estudos sugerem que, devido ao fato das taxas de depressão permanecerem elevadas durante todo o curso (variando apenas nos graus de acordo com cada período) e não se comportarem de maneira episódica, o curso em s i seria um fator preditor de estresse crônico sobre os estudantes de medicina (ROSAL et al. , 1997). Cumpre sinalizar que o processo de estudo nas escolas médicas tem sido visto, em algumas realidades, como abusivo aos estudantes, podendo ser caracterizado, em muitos casos, como assédio psicológico. Alguns estudos relatam comportamento obsessivo, perfeccionismo e autoexigência como traços comuns encontrados na personalidade entre estudantes de medicina. Na esteira desses infortúnios, é frequente o relato de ansiedade, drogadição, depressão e até mesmo casos de suicídio em maior número entre estudantes e profissionais médicos do que entre estudantes de outros cursos ou ainda na população em geral (MINGOTE ; ADÁN; PEREZ CORRAL , 1999; ALVI et al. , 2010).\n",
      "O Brasil segue o padrão mundial com características de um país em desenvolvimento. Importantes estudos vêm mostrando que os estudantes de medicina também apresentam alta prevalência de transtornos afetivos. Baldassin et al. (2008) realizou um estudo na Universidade de São Paulo e constatou que 38,2% dos estudantes de medicina possuíam depressão.\n",
      "3.1445398 : 920863 : xviii. Conhecer as classes, indic ações, efeitos colaterais, os mecanismos de ação e suas aplicabilidade dos principais medicamentos usados do tratamento dos transtornos mentais xix. Conhecer o impacto da medicação de uso crônico na qualidade de vida do portador de transtorno mental.\n",
      "xx. Realizar atendimento e acompanhamento, sob supervisão do preceptor, de pacientes usuários de medicações de uso crônico.\n",
      "xxi. Saber integrar todos os conhecimentos, habilidades e recursos que a rede de saúde dispõe.\n",
      "xxii. Transformar suas ações em experiênc ia, fazendo de sua prática profissional uma oportunidade de criação de saber.\n",
      "xxiii. Conhecer as indicações, os tipos e os respectivos aspectos envolvidos na hospitalização dos pacientes portadores de saúde mental\n"
     ]
    }
   ],
   "source": [
    "len(res)\n",
    "\n",
    "for r in res[:10]:\n",
    "    print(r[1], \":\", r[0].metadata[\"id\"], \":\", r[0].page_content)"
   ]
  },
  {
   "cell_type": "code",
   "execution_count": 24,
   "metadata": {
    "tags": []
   },
   "outputs": [],
   "source": [
    "results = {}\n",
    "\n",
    "# geramos um mapa com id.start_index.[lista dos documents que iniciam naquele index]\n",
    "for doc in res:\n",
    "    _id = doc[0].metadata[\"id\"]\n",
    "    _start_index = doc[0].metadata[\"start_index\"]\n",
    "    \n",
    "    if _id not in results.keys():\n",
    "        results[_id] = {}\n",
    "\n",
    "    if _start_index not in results[_id].keys():\n",
    "        results[_id][_start_index] = []\n",
    "    \n",
    "    results[_id][_start_index].append(doc)"
   ]
  },
  {
   "cell_type": "code",
   "execution_count": 25,
   "metadata": {},
   "outputs": [
    {
     "data": {
      "text/plain": [
       "dict_keys(['916084', '889637', '916013', '920863', '917904', '921772', '889610', '918182', '924713', '924999', '895776', '924254', '894489', '921103', '916920', '814014', '922622', '494080', '887841', '921122', '925329', '940138', '925204', '895957', '917938', '920719'])"
      ]
     },
     "execution_count": 25,
     "metadata": {},
     "output_type": "execute_result"
    }
   ],
   "source": [
    "results.keys()"
   ]
  },
  {
   "cell_type": "code",
   "execution_count": 26,
   "metadata": {},
   "outputs": [],
   "source": [
    "# results"
   ]
  },
  {
   "cell_type": "code",
   "execution_count": 27,
   "metadata": {},
   "outputs": [
    {
     "name": "stdout",
     "output_type": "stream",
     "text": [
      "Documento 921772 ignorado por pouco conteúdo similar.\n",
      "Documento 889610 ignorado por pouco conteúdo similar.\n",
      "Documento 918182 ignorado por pouco conteúdo similar.\n",
      "Documento 924713 ignorado por pouco conteúdo similar.\n",
      "Documento 895776 ignorado por pouco conteúdo similar.\n",
      "Documento 916920 ignorado por pouco conteúdo similar.\n",
      "Documento 814014 ignorado por pouco conteúdo similar.\n",
      "Documento 922622 ignorado por pouco conteúdo similar.\n",
      "Documento 494080 ignorado por pouco conteúdo similar.\n",
      "Documento 887841 ignorado por pouco conteúdo similar.\n",
      "Documento 921122 ignorado por pouco conteúdo similar.\n",
      "Documento 925329 ignorado por pouco conteúdo similar.\n",
      "Documento 940138 ignorado por pouco conteúdo similar.\n",
      "Documento 925204 ignorado por pouco conteúdo similar.\n",
      "Documento 895957 ignorado por pouco conteúdo similar.\n",
      "Documento 917938 ignorado por pouco conteúdo similar.\n",
      "Documento 920719 ignorado por pouco conteúdo similar.\n"
     ]
    }
   ],
   "source": [
    "# a partir disso podemos selecionar apenas para cada start_index o de maior janela\n",
    "\n",
    "results_by_document = {}\n",
    "for _id, docs in results.items():\n",
    "    \n",
    "    if len(docs) <= 2:\n",
    "        print(\"Documento\", _id, \"ignorado por pouco conteúdo similar.\")\n",
    "        continue\n",
    "    \n",
    "    results_by_document[_id] = []\n",
    "    \n",
    "    for start_index, doc_tuples in docs.items():\n",
    "        elements = sorted(doc_tuples, key=lambda x: (x[1], -x[0].metadata[\"window_size\"]), reverse=False)\n",
    "        results_by_document[_id].append((elements[0][1], elements[0][0]))"
   ]
  },
  {
   "cell_type": "code",
   "execution_count": 28,
   "metadata": {
    "tags": []
   },
   "outputs": [
    {
     "name": "stdout",
     "output_type": "stream",
     "text": [
      ">>  916084 : Religiosidade e saúde mental : influências na experiência de tratamento de portadores de transtorno psíquico : 9 \n",
      "\n",
      ">>  889637 : Estudo do estigma como barreira ao tratamento dos transtornos mentais no contexto de uma intervenção psicossocial : 13 \n",
      "\n",
      ">>  916013 : Prevalência de transtornos mentais no estudantes de medicina da Universidade Federal do Rio de Janeiro : 11 \n",
      "\n",
      ">>  920863 : Inovações práticas e pistas para formação médica no campo da saúde mental : a passagem pelo internato em Carmo - RJ : 12 \n",
      "\n",
      ">>  917904 : Percepção da doença no transtorno obsessivo-compulsivo, transtorno da ansiedade social e trnastorno de pânico : 6 \n",
      "\n",
      ">>  924999 : Avaliação do comportamento suicida em estudantes de medicina da Universidade Federal do Rio de Janeiro : 4 \n",
      "\n",
      ">>  924254 : O processo de constituição de redes comunitárias de apoio e inclusão para pessoas com transtorno mental na cidade do Rio de Janeiro : a experiência do programa Entrelaços : 4 \n",
      "\n",
      ">>  894489 : Muros e passagens : práticas assistenicais na internação psiquiátrica em hospital especializado : 3 \n",
      "\n",
      ">>  921103 : O papel do estresse e da inflamação na fisiopatologia do transtorno de pânico sob a luz do neurodesenvolvimento : 3 \n",
      "\n"
     ]
    }
   ],
   "source": [
    "for _id in results_by_document.keys():\n",
    "    print(\">> \", _id, \":\", metadata_dict[_id][\"title\"], \":\", len(results_by_document[_id]), \"\\n\")\n",
    "    \n",
    "    # for doc in results_by_document[_id]:\n",
    "    #     print(f\"{doc.metadata['start_index']}\\t{doc.metadata['window_size']}\\t\", doc.page_content, \"\\n\")"
   ]
  },
  {
   "cell_type": "code",
   "execution_count": 29,
   "metadata": {},
   "outputs": [],
   "source": [
    "# results_by_document"
   ]
  },
  {
   "cell_type": "markdown",
   "metadata": {},
   "source": [
    "## Retrieval Class"
   ]
  },
  {
   "cell_type": "code",
   "execution_count": 30,
   "metadata": {},
   "outputs": [],
   "source": [
    "class Retriever:\n",
    "    \n",
    "    def __init__(self, vectorstore):\n",
    "        self.vectorstore = vectorstore\n",
    "    \n",
    "    def _group_documents(self, retrieved_documents: list):\n",
    "        \"\"\"Groups documents by id\"\"\"\n",
    "        \n",
    "        results = {}\n",
    "\n",
    "        # geramos um mapa com id.start_index.[lista dos documents que iniciam naquele index]\n",
    "        for doc in retrieved_documents:\n",
    "            _id = doc[0].metadata[\"id\"]\n",
    "            _start_index = doc[0].metadata[\"start_index\"]\n",
    "\n",
    "            if _id not in results.keys():\n",
    "                results[_id] = {}\n",
    "\n",
    "            if _start_index not in results[_id].keys():\n",
    "                results[_id][_start_index] = []\n",
    "\n",
    "            results[_id][_start_index].append(doc)\n",
    "        \n",
    "        return results\n",
    "    \n",
    "    def _organize_documents(self, grouped_documents: dict):\n",
    "        \"\"\"\n",
    "        Organizes documents by better similarity results.\n",
    "        Chooses longest document when multiple start on the same paragraph.\n",
    "        Ignores documents with less than 2 results.\n",
    "        \"\"\"\n",
    "\n",
    "        results_by_document = {}\n",
    "        for _id, docs in grouped_documents.items():\n",
    "\n",
    "            if len(docs) <= 2:\n",
    "                # print(\"Documento\", _id, \"ignorado por pouco conteúdo similar.\")\n",
    "                continue\n",
    "\n",
    "            results_by_document[_id] = []\n",
    "\n",
    "            for start_index, doc_tuples in docs.items():\n",
    "                # a partir disso podemos selecionar apenas para cada start_index o de maior janela\n",
    "                elements = sorted(doc_tuples, key=lambda x: (x[1], -x[0].metadata[\"window_size\"]), reverse=False)\n",
    "                results_by_document[_id].append((elements[0][1], elements[0][0]))\n",
    "        \n",
    "        return results_by_document\n",
    "\n",
    "    def _limit_k_by_document(self, organized_documents, max_k_by_document):\n",
    "        organized_documents = organized_documents.copy()\n",
    "        \n",
    "        for _id in organized_documents.keys():\n",
    "            doc_tuples = organized_documents[_id]\n",
    "            sorted_by_score = sorted(doc_tuples, key=lambda x: x[0], reverse=False)\n",
    "            top_k_sorted_by_score = sorted_by_score[:max_k_by_document]\n",
    "            \n",
    "            organized_documents[_id] = top_k_sorted_by_score\n",
    "            \n",
    "        return organized_documents\n",
    "\n",
    "    async def search(self, query, k, fetch_k, max_k_by_document=100, filter=None):\n",
    "        res = vectorstore.similarity_search_with_score(\n",
    "            query,\n",
    "            k=k,\n",
    "            fetch_k=fetch_k,\n",
    "            filter=filter\n",
    "        )\n",
    "        \n",
    "        grouped_documents = self._group_documents(res)\n",
    "        organized_documents = self._organize_documents(grouped_documents)\n",
    "        top_k_documents = self._limit_k_by_document(organized_documents, max_k_by_document)\n",
    "        \n",
    "        return top_k_documents"
   ]
  },
  {
   "cell_type": "code",
   "execution_count": 31,
   "metadata": {},
   "outputs": [],
   "source": [
    "retriever = Retriever(vectorstore)"
   ]
  },
  {
   "cell_type": "code",
   "execution_count": 32,
   "metadata": {},
   "outputs": [
    {
     "data": {
      "text/plain": [
       "'estudo sobre o desenvolvimento de transtornos mentais em profissionais da medicina'"
      ]
     },
     "execution_count": 32,
     "metadata": {},
     "output_type": "execute_result"
    }
   ],
   "source": [
    "query = buscas[9]\n",
    "query"
   ]
  },
  {
   "cell_type": "code",
   "execution_count": 33,
   "metadata": {},
   "outputs": [],
   "source": [
    "retrieved_documents = await retriever.search(query, k=100, fetch_k=10000, max_k_by_document=10, filter={\"type\":\"sentences\"})"
   ]
  },
  {
   "cell_type": "code",
   "execution_count": 34,
   "metadata": {},
   "outputs": [
    {
     "name": "stdout",
     "output_type": "stream",
     "text": [
      ">>  916084 : Religiosidade e saúde mental : influências na experiência de tratamento de portadores de transtorno psíquico : Total 9 \n",
      "\n",
      "\tScore 2.895: Start Index [1265] with window size [5]\n",
      "\n",
      "\tScore 2.942: Start Index [1521] with window size [5]\n",
      "\n",
      "\tScore 2.991: Start Index [1269] with window size [5]\n",
      "\n",
      "\tScore 3.179: Start Index [1268] with window size [5]\n",
      "\n",
      "\tScore 3.364: Start Index [1334] with window size [5]\n",
      "\n",
      "\tScore 3.434: Start Index [1397] with window size [5]\n",
      "\n",
      "\tScore 3.644: Start Index [1266] with window size [5]\n",
      "\n",
      "\tScore 3.65: Start Index [689] with window size [5]\n",
      "\n",
      "\tScore 3.726: Start Index [222] with window size [5]\n",
      "\n",
      ">>  889637 : Estudo do estigma como barreira ao tratamento dos transtornos mentais no contexto de uma intervenção psicossocial : Total 10 \n",
      "\n",
      "\tScore 3.009: Start Index [77] with window size [4]\n",
      "\n",
      "\tScore 3.044: Start Index [25] with window size [1]\n",
      "\n",
      "\tScore 3.054: Start Index [75] with window size [1]\n",
      "\n",
      "\tScore 3.38: Start Index [14] with window size [3]\n",
      "\n",
      "\tScore 3.567: Start Index [103] with window size [4]\n",
      "\n",
      "\tScore 3.576: Start Index [104] with window size [3]\n",
      "\n",
      "\tScore 3.624: Start Index [261] with window size [1]\n",
      "\n",
      "\tScore 3.676: Start Index [18] with window size [3]\n",
      "\n",
      "\tScore 3.693: Start Index [327] with window size [3]\n",
      "\n",
      "\tScore 3.731: Start Index [412] with window size [1]\n",
      "\n",
      ">>  916013 : Prevalência de transtornos mentais no estudantes de medicina da Universidade Federal do Rio de Janeiro : Total 10 \n",
      "\n",
      "\tScore 3.076: Start Index [44] with window size [4]\n",
      "\n",
      "\tScore 3.552: Start Index [73] with window size [3]\n",
      "\n",
      "\tScore 3.592: Start Index [3] with window size [5]\n",
      "\n",
      "\tScore 3.631: Start Index [43] with window size [3]\n",
      "\n",
      "\tScore 3.714: Start Index [100] with window size [2]\n",
      "\n",
      "\tScore 3.724: Start Index [97] with window size [4]\n",
      "\n",
      "\tScore 3.73: Start Index [39] with window size [4]\n",
      "\n",
      "\tScore 3.759: Start Index [29] with window size [3]\n",
      "\n",
      "\tScore 3.768: Start Index [96] with window size [5]\n",
      "\n",
      "\tScore 3.773: Start Index [50] with window size [3]\n",
      "\n",
      ">>  920863 : Inovações práticas e pistas para formação médica no campo da saúde mental : a passagem pelo internato em Carmo - RJ : Total 10 \n",
      "\n",
      "\tScore 3.145: Start Index [563] with window size [5]\n",
      "\n",
      "\tScore 3.272: Start Index [203] with window size [4]\n",
      "\n",
      "\tScore 3.51: Start Index [367] with window size [3]\n",
      "\n",
      "\tScore 3.539: Start Index [242] with window size [5]\n",
      "\n",
      "\tScore 3.567: Start Index [562] with window size [3]\n",
      "\n",
      "\tScore 3.591: Start Index [560] with window size [3]\n",
      "\n",
      "\tScore 3.662: Start Index [567] with window size [5]\n",
      "\n",
      "\tScore 3.668: Start Index [602] with window size [2]\n",
      "\n",
      "\tScore 3.669: Start Index [616] with window size [4]\n",
      "\n",
      "\tScore 3.751: Start Index [609] with window size [4]\n",
      "\n",
      ">>  917904 : Percepção da doença no transtorno obsessivo-compulsivo, transtorno da ansiedade social e trnastorno de pânico : Total 6 \n",
      "\n",
      "\tScore 3.225: Start Index [40] with window size [1]\n",
      "\n",
      "\tScore 3.512: Start Index [33] with window size [2]\n",
      "\n",
      "\tScore 3.55: Start Index [36] with window size [1]\n",
      "\n",
      "\tScore 3.759: Start Index [139] with window size [5]\n",
      "\n",
      "\tScore 3.766: Start Index [7] with window size [5]\n",
      "\n",
      "\tScore 3.782: Start Index [85] with window size [3]\n",
      "\n",
      ">>  924999 : Avaliação do comportamento suicida em estudantes de medicina da Universidade Federal do Rio de Janeiro : Total 4 \n",
      "\n",
      "\tScore 3.504: Start Index [172] with window size [5]\n",
      "\n",
      "\tScore 3.52: Start Index [171] with window size [5]\n",
      "\n",
      "\tScore 3.676: Start Index [173] with window size [5]\n",
      "\n",
      "\tScore 3.754: Start Index [81] with window size [4]\n",
      "\n",
      ">>  924254 : O processo de constituição de redes comunitárias de apoio e inclusão para pessoas com transtorno mental na cidade do Rio de Janeiro : a experiência do programa Entrelaços : Total 4 \n",
      "\n",
      "\tScore 3.551: Start Index [2719] with window size [5]\n",
      "\n",
      "\tScore 3.682: Start Index [1989] with window size [4]\n",
      "\n",
      "\tScore 3.73: Start Index [176] with window size [4]\n",
      "\n",
      "\tScore 3.74: Start Index [254] with window size [5]\n",
      "\n",
      ">>  894489 : Muros e passagens : práticas assistenicais na internação psiquiátrica em hospital especializado : Total 3 \n",
      "\n",
      "\tScore 3.566: Start Index [838] with window size [5]\n",
      "\n",
      "\tScore 3.631: Start Index [1630] with window size [5]\n",
      "\n",
      "\tScore 3.717: Start Index [837] with window size [5]\n",
      "\n",
      ">>  921103 : O papel do estresse e da inflamação na fisiopatologia do transtorno de pânico sob a luz do neurodesenvolvimento : Total 3 \n",
      "\n",
      "\tScore 3.624: Start Index [266] with window size [2]\n",
      "\n",
      "\tScore 3.704: Start Index [267] with window size [1]\n",
      "\n",
      "\tScore 3.778: Start Index [16] with window size [5]\n",
      "\n"
     ]
    }
   ],
   "source": [
    "for _id in retrieved_documents.keys():\n",
    "    print(\">> \", _id, \":\", metadata_dict[_id][\"title\"], \": Total\", len(retrieved_documents[_id]), \"\\n\")\n",
    "    \n",
    "    for doc in retrieved_documents[_id]:\n",
    "        print(f\"\\tScore {str(round(doc[0], 3))}: Start Index [{doc[1].metadata['start_index']}] with window size [{doc[1].metadata['window_size']}]\\n\")"
   ]
  },
  {
   "cell_type": "markdown",
   "metadata": {},
   "source": [
    "# Parte Extra: Sumarização"
   ]
  },
  {
   "cell_type": "code",
   "execution_count": 35,
   "metadata": {},
   "outputs": [],
   "source": [
    "from langchain.chat_models import ChatOpenAI\n",
    "from langchain.prompts.chat import (\n",
    "    ChatPromptTemplate,\n",
    "    HumanMessagePromptTemplate,\n",
    "    SystemMessagePromptTemplate,\n",
    ")\n",
    "from langchain.schema import HumanMessage, SystemMessage"
   ]
  },
  {
   "cell_type": "code",
   "execution_count": 36,
   "metadata": {},
   "outputs": [],
   "source": [
    "openai_api_key = \"xxxxx\""
   ]
  },
  {
   "cell_type": "code",
   "execution_count": 37,
   "metadata": {},
   "outputs": [],
   "source": [
    "chat = ChatOpenAI(\n",
    "    model_name='gpt-3.5-turbo-16k',\n",
    "    temperature = 0.2,\n",
    "    openai_api_key = openai_api_key,         \n",
    "    max_tokens=8000\n",
    ")"
   ]
  },
  {
   "cell_type": "code",
   "execution_count": 38,
   "metadata": {},
   "outputs": [],
   "source": [
    "# _id = \"918768\"\n",
    "_id = \"916013\""
   ]
  },
  {
   "cell_type": "markdown",
   "metadata": {},
   "source": [
    "## Testes"
   ]
  },
  {
   "cell_type": "markdown",
   "metadata": {},
   "source": [
    "### Sumarização do Artigo"
   ]
  },
  {
   "cell_type": "code",
   "execution_count": 41,
   "metadata": {
    "tags": []
   },
   "outputs": [],
   "source": [
    "texto = \"\"\"\n",
    "Sua tarefa é sumarizar trechos retirados de um artigo científico, acompanhado do resumo do artigo e seu título.\n",
    "Com essas informações, você deve gerar uma sumarização sobre esse artigo e seu conteúdo, seu objetivo e suas possíveis descobertas.\n",
    "A seguir, será passado o resumo e em seguida os trechos, todos declarados por colchetes.\n",
    "Após isso, será dado o comando para iniciar sua atuação. \n",
    "Importante, retorne apenas a sumarização, sem informações extras e explicações sobre o que está sendo realizado. \n",
    "Isso não é um chat de conversa.\n",
    "\n",
    "\"\"\"\n",
    "\n",
    "title = metadata_dict[_id][\"title\"]\n",
    "abstract = metadata_dict[_id][\"abstract\"]\n",
    "\n",
    "texto += f\"[TITULO]\\n{title}\\n\\n\"\n",
    "texto += f\"[RESUMO]\\n{abstract}\\n\\n\"\n",
    "\n",
    "for doc in sorted(results_by_document[_id])[:10]:\n",
    "    texto += f\"[TRECHO]\\n{doc[1].page_content}\\n\\n\"\n",
    "    \n",
    "texto += \"\\n\\nTrechos Finalizados. Retorne a sumarização do artigo como instruído e com 200 palavras:\""
   ]
  },
  {
   "cell_type": "code",
   "execution_count": null,
   "metadata": {},
   "outputs": [],
   "source": [
    "print(texto)"
   ]
  },
  {
   "cell_type": "code",
   "execution_count": null,
   "metadata": {
    "tags": []
   },
   "outputs": [],
   "source": [
    "messages = [SystemMessage(content=texto)]\n",
    "\n",
    "response = chat(messages)"
   ]
  },
  {
   "cell_type": "code",
   "execution_count": null,
   "metadata": {},
   "outputs": [],
   "source": [
    "print(response.content)"
   ]
  },
  {
   "cell_type": "markdown",
   "metadata": {},
   "source": [
    "### Sumarização do Artigo Contextualizada com a Busca"
   ]
  },
  {
   "cell_type": "code",
   "execution_count": null,
   "metadata": {},
   "outputs": [],
   "source": [
    "query"
   ]
  },
  {
   "cell_type": "code",
   "execution_count": null,
   "metadata": {},
   "outputs": [],
   "source": [
    "# texto = f\"\"\"\n",
    "# A partir da busca \"{query}\" feita pelo usuário, foram recuperados trechos e o resumo do seguinte artigo similar.\n",
    "# Sua tarefa é sumarizar esses textos do artigo contextualizando em relação a busca realizada.\n",
    "# A sumarização será feita em quatro tópicos distintos:\n",
    "\n",
    "# - Sumarização do artigo, com base no título, resumo e seus trechos.\n",
    "# - Sumarização do objetivo do artigo.\n",
    "# - Seleção das principais informações sobre o artigo, como descobertas, conclusões, etc.\n",
    "# - Sumarização de como o artigo se relaciona com a busca realizada pelo usuário.\n",
    "\n",
    "# A seguir, será passado o resumo e em seguida os trechos, todos declarados por colchetes.\n",
    "# Após isso, será dado o comando para iniciar sua atuação. \n",
    "# Importante, retorne apenas a sumarização, sem informações extras e explicações sobre o que está sendo realizado. \n",
    "# Isso não é um chat de conversa.\n",
    "\n",
    "# \"\"\"\n",
    "\n",
    "# title = metadata_dict[_id][\"title\"]\n",
    "# abstract = metadata_dict[_id][\"abstract\"]\n",
    "\n",
    "# texto += f\"[TITULO]\\n{title}\\n\\n\"\n",
    "# texto += f\"[RESUMO]\\n{abstract}\\n\\n\"\n",
    "\n",
    "# for doc in results_by_document[_id][:10]:\n",
    "#     texto += f\"[TRECHO]\\n{doc.page_content}\\n\\n\"\n",
    "    \n",
    "# texto += \"\\n\\nTrechos Finalizados. Retorne as sumarizações como instruído e com um tamanho médio (mais ou menos 300 palavras):\""
   ]
  },
  {
   "cell_type": "code",
   "execution_count": null,
   "metadata": {},
   "outputs": [],
   "source": [
    "# texto = f\"\"\"\n",
    "# A partir da busca \"{query}\" feita pelo usuário, foram recuperados trechos e o resumo do seguinte artigo similar.\n",
    "# Sua tarefa é relacionar a busca realizada pelo usuário com o artigo, a partir do resumo e os trechos de similaridade. \n",
    "# Inclua informações importantes, como descobertas, conclusões, etc.\n",
    "\n",
    "# A seguir, será passado o resumo e em seguida os trechos, todos declarados por colchetes.\n",
    "# Após isso, será dado o comando para iniciar sua atuação. \n",
    "# Importante, retorne apenas a sumarização, sem informações extras e explicações sobre o que está sendo realizado. \n",
    "# Isso não é um chat de conversa.\n",
    "\n",
    "# \"\"\"\n",
    "\n",
    "# title = metadata_dict[_id][\"title\"]\n",
    "# abstract = metadata_dict[_id][\"abstract\"]\n",
    "\n",
    "# texto += f\"[TITULO]\\n{title}\\n\\n\"\n",
    "# texto += f\"[RESUMO]\\n{abstract}\\n\\n\"\n",
    "\n",
    "# for doc in results_by_document[_id][:10]:\n",
    "#     texto += f\"[TRECHO]\\n{doc.page_content}\\n\\n\"\n",
    "    \n",
    "# texto += \"\\n\\nTrechos Finalizados. Retorne as sumarizações como instruído e com um tamanho médio (mais ou menos 300 palavras):\""
   ]
  },
  {
   "cell_type": "code",
   "execution_count": null,
   "metadata": {},
   "outputs": [],
   "source": [
    "texto = f\"\"\"\n",
    "A partir da busca \"{query}\" feita pelo usuário, foram recuperados trechos e o resumo do seguinte artigo similar.\n",
    "A seguir, será passado o resumo e em seguida os trechos, todos declarados por colchetes.\n",
    "Após isso, será dado o comando para iniciar sua atuação. \n",
    "\n",
    "\"\"\"\n",
    "\n",
    "title = metadata_dict[_id][\"title\"]\n",
    "abstract = metadata_dict[_id][\"abstract\"]\n",
    "\n",
    "texto += f\"[TITULO]\\n{title}\\n\\n\"\n",
    "texto += f\"[RESUMO]\\n{abstract}\\n\\n\"\n",
    "\n",
    "for doc in results_by_document[_id][:10]:\n",
    "    texto += f\"[TRECHO]\\n{doc.page_content}\\n\\n\"\n",
    "    \n",
    "texto += \"\"\"\n",
    "Trechos Finalizados.\n",
    "Sua resposta será no formato JSON com 3 propriedades que respondem:\n",
    "1. \"sumarizacao\": Sumarize o artigo a partir do resumo e os trechos com as informações mais relevantes sobre ele, como descobertas, etc. (200 palavras)\n",
    "2. \"objetivo_conclusao\": Sumarize o ojetivo e a conclusão do artigo. (200 palavras)\n",
    "3. \"relevancia\": Disserte sobre como o artigo encontrado se relaciona com a busca realizada e como o usuário poderá utilizar para auxiliar no estudo do tema. (200 palavras)\n",
    "\"\"\""
   ]
  },
  {
   "cell_type": "code",
   "execution_count": null,
   "metadata": {
    "tags": []
   },
   "outputs": [],
   "source": []
  },
  {
   "cell_type": "code",
   "execution_count": null,
   "metadata": {
    "tags": []
   },
   "outputs": [],
   "source": [
    "print(texto)"
   ]
  },
  {
   "cell_type": "code",
   "execution_count": null,
   "metadata": {
    "tags": []
   },
   "outputs": [],
   "source": [
    "messages = [SystemMessage(content=texto)]\n",
    "\n",
    "response = chat(messages)"
   ]
  },
  {
   "cell_type": "code",
   "execution_count": null,
   "metadata": {},
   "outputs": [],
   "source": [
    "print(response.content)"
   ]
  },
  {
   "cell_type": "code",
   "execution_count": null,
   "metadata": {},
   "outputs": [],
   "source": [
    "json.loads(response.content)"
   ]
  },
  {
   "cell_type": "markdown",
   "metadata": {},
   "source": [
    "# Parte 3: Filtragem e Reranking"
   ]
  },
  {
   "cell_type": "markdown",
   "metadata": {},
   "source": [
    "## Reranker Class"
   ]
  },
  {
   "cell_type": "code",
   "execution_count": 122,
   "metadata": {},
   "outputs": [],
   "source": [
    "import cohere\n",
    "\n",
    "class Reranker:\n",
    "    \n",
    "    def __init__(self, cohere_key, model):\n",
    "        self.cohere_client = cohere.Client(cohere_key)\n",
    "        self.model = model\n",
    "    \n",
    "    def prepare_documents(self, metadata_dict: dict, retrieved_documents: dict):\n",
    "        \"\"\"\n",
    "        - metadata_dict: all metadata\n",
    "        - retrieved_documents: retrieved sentence documents grouped by key\n",
    "        \"\"\"\n",
    "        \n",
    "        documents = {}\n",
    "        for key in retrieved_documents:\n",
    "            documents[key] = metadata_dict[key]\n",
    "            documents[key][\"sentences\"] = [doc[1] for doc in retrieved_documents[key]]   # score and doc tuple\n",
    "        \n",
    "        return documents\n",
    "        \n",
    "    \n",
    "    def encode_document(self, document: dict):\n",
    "        sentences_text = [doc.page_content for doc in document[\"sentences\"]]\n",
    "        sentences = \"\\n\\n\".join(sentences_text)\n",
    "        text = document['title'] + \"\\n\\n\" + document['abstract'] + \"\\n\\n\" + sentences\n",
    "        return text\n",
    "    \n",
    "    def rerank(self, query: str, documents: dict, top_n: int):\n",
    "        \"\"\"\n",
    "        - query: string used by to retrieve documents\n",
    "        - documents: dictionary with key as the article id and value as the metadata for the document, with title, abstract and sentences\n",
    "        - top_n: number of top documents to return\n",
    "        - return: list of document metadata\n",
    "        \"\"\"\n",
    "        \n",
    "        keys_list = list(documents.keys())\n",
    "        document_list = [self.encode_document(documents[key]) for key in keys_list]\n",
    "        \n",
    "        response = self.cohere_client.rerank(\n",
    "          model = self.model,\n",
    "          query = query,\n",
    "          documents = document_list,\n",
    "          top_n = top_n\n",
    "        )\n",
    "        \n",
    "        ordered_documents = []\n",
    "        for res in response:\n",
    "            key = keys_list[res.index]\n",
    "            doc = documents[key]\n",
    "            doc[\"relevance_score\"] = res.relevance_score\n",
    "            ordered_documents.append(doc)\n",
    "        \n",
    "        return ordered_documents"
   ]
  },
  {
   "cell_type": "markdown",
   "metadata": {},
   "source": [
    "## Teste"
   ]
  },
  {
   "cell_type": "code",
   "execution_count": 123,
   "metadata": {},
   "outputs": [
    {
     "data": {
      "text/plain": [
       "'estudo sobre o desenvolvimento de transtornos mentais em profissionais da medicina'"
      ]
     },
     "execution_count": 123,
     "metadata": {},
     "output_type": "execute_result"
    }
   ],
   "source": [
    "query = buscas[9]\n",
    "query"
   ]
  },
  {
   "cell_type": "code",
   "execution_count": 124,
   "metadata": {},
   "outputs": [],
   "source": [
    "retrieved_documents = await retriever.search(query, k=1000, fetch_k=100000, max_k_by_document=8, filter={\"type\":\"sentences\"})"
   ]
  },
  {
   "cell_type": "code",
   "execution_count": 125,
   "metadata": {},
   "outputs": [],
   "source": [
    "reranker = Reranker(cohere_key=\"xxxxxx\", model=\"rerank-multilingual-v2.0\")"
   ]
  },
  {
   "cell_type": "code",
   "execution_count": 126,
   "metadata": {},
   "outputs": [],
   "source": [
    "documents = reranker.prepare_documents(metadata_dict, retrieved_documents)"
   ]
  },
  {
   "cell_type": "code",
   "execution_count": 130,
   "metadata": {},
   "outputs": [],
   "source": [
    "rerankerd_documents = reranker.rerank(query, documents, 10)"
   ]
  },
  {
   "cell_type": "code",
   "execution_count": 132,
   "metadata": {},
   "outputs": [
    {
     "data": {
      "text/plain": [
       "{'title': 'Prevalência de transtornos mentais no estudantes de medicina da Universidade Federal do Rio de Janeiro',\n",
       " 'authors': ['Campos Junior, Ailson',\n",
       "  'Lima, Lúcia Abelha orient.',\n",
       "  'Brasil, Marco Antônio coorient.',\n",
       "  'Universidade Federal do Rio de Janeiro. Instituto de Estudos em Saúde Coletiva.'],\n",
       " 'abstract': 'Introdução: A prevalência de transtornos mentais encontrada entre os estudantes de medicina brasileiros tem sido mais alta do que a encontrada em estudantes de países desenvolvidos. Apesar de ser consenso na literatura que as prevalências encontradas em países em desenvolvimento são mais elevadas, torna-se relevante conhecer como esta dinâmica e seus fatores de risco se apresentam na realidade dos estudantes médicos da UFRJ. O objetivo deste estudo foi investigar a prevalência e fatores associados ao episódio depressivo maior e transtorno de ansiedade generalizada em estudantes de medicina da Universidade Federal do Rio de Janeiro, bem como perceber como estes estudantes avaliam o curso. Métodos: Foi realizado um estudo transversal em uma amostra representativa e aleatória de 296 estudantes (taxa de participação=91,4%), utilizando os seguintes instrumentos: PHQ-9 (Patient Health Questionare-9) para avaliação do episódio depressivo maior, GAD-7 (General Anxiety Disorder-7) para avaliação do transtorno de ansiedade generalizada, o protocolo de avaliação SUPREMISS-OMS para avaliar o comportamento suicida, o ASSIST (Teste de triagem do envolvimento com álcool, cigarro e outras substâncias), e o AUDIT (Teste para identificação de problemas relacionados ao uso de álcool) para avaliar o uso e abuso de substâncias e o DREEM (Dundee Ready Education Environment Measure), para avaliar a percepção dos alunos sobre aspectos de ambiente de ensino.Resultados: A taxa de prevalência do episódio depressivo maior encontrada foi de 59,5% (IC 95% 54,1- 63,8). Os fatores associados na análise final foram o gênero feminino, relato de história de tratamento psiquiátrico atual e percepção negativa de estressores como violência psicológica, dificuldades financeiras, dificuldades de aprendizagem e dificuldades de adaptação a novas situações. A prevalência do episódio transtorno de ansiedade generalizada encontrada foi de 51,9% (IC 95% 46,1-58,2), uma taxa maior em comparação aos estudos em países desenvolvidos e similar a alguns estudos conduzidos em países em desenvolvimento, incluindo o Brasil. Apresentar percepção extrema de estressores como conflitos religiosos, sobrecarga de trabalho acadêmico, dificuldades nas relações amorosas e conjugais esteve associada a ansiedade na análise bivariada. A pontuação total média do DREEM foi de 95, de um máximo possível de 200 e esta condição revelou que o ambiente de ensino foi avaliado como tendo muitos problemas. A pontuação total média para Percepção da Aprendizagem foi avaliada como mais negativa do que positiva; para Percepções sobre seus professores o escore obtido revela que os mesmos estão na direção certa; para autopercepções acadêmicas, o escore obtido revelou que os alunos perceberam o ambiente do curso com mais aspectos positivos que negativos; para as percepções da atmosfera do ambiente de ensino o escore de 21/48 revelou que existem muitos aspectos tem que ser melhorados e para as autopercepções sociais os resultados revelaram que não são muito boas.A pontuação média de 0,77 para o item 3 “Existe um bom sistema de apoio para os alunos estressados” foi a menor e é um indicativo de que o sistema de apoio se apresenta insuficiente. Enquanto a pontuação média de 3,15 para o item 46 “Moro em um lugar confortável” foi a mais alta evidenciando um aspecto sobre a qualidade da moradia dos entrevistados. Conclusão: Os alunos percebem o ambiente educacional do curso de medicina da Universidade Federal do Rio de Janeiro como tendo muitos problemas. Certas áreas precisam de mais exploração das causas subjacentes que após análise ampliada devem servir como um mecanismo de apoio a decisão para os gestores, educadores e alunos do curso na racionalização de suas prioridades para reformas. Considerando a alta prevalência de episódio depressivo maior e o transtorno de ansiedade generalizada, seus impactos negativos assim como os fatores de risco observados nessa população, torna-se fundamental a implementação e ampliação de programas institucionais que enfoquem a promoção da saúde e o desenvolvimento integral para contribuir com a melhoria na qualidade de vida dos estudantes.',\n",
       " 'bibliography_pages': [138, 147],\n",
       " 'keywords': ['Estudantes de medicina',\n",
       "  'Transtornos mentais',\n",
       "  'Fatores de risco'],\n",
       " 'urls': ['http://objdig.ufrj.br/96/teses/916013.pdf',\n",
       "  'http://lattes.cnpq.br/5618415797884890'],\n",
       " 'pdf_url': 'http://objdig.ufrj.br/96/teses/916013.pdf',\n",
       " 'id': '916013',\n",
       " 'sentences': [Document(page_content='Sendo assim, a associação entre estudar medicina e desenvolver transtornos psíquicos é altamente prevalente e mundialmente conhecida (HEINS ; FAHEY; LEIDEN , 1984; DEMARCO et al., 1999; ALVI et al. , 2010).\\nO curso médico é uma carreira que exige algumas características especificas e expõe seus alunos a numerosas situações de estresse. Alguns estudantes que por características subjetivas, possuam baixa capacidade de enfrentam ento a frustrações, baixa capacidade de criar redes de suporte interpessoal, diminuída capacidade de resiliência e maior suscetibilidade a quadros depressivos poderão apresentar maior prevalência de sofrimento psíquico com surgimento de morbidades psíquica s de intensidade moderada a grave (CATALD O NETO et al. , 1998; BORST Algumas etapas do curso como o internato, os atendimentos ao paciente e a dedicação integral frequentemente suscitam nos estudantes o aumento dos níveis de angústia. A falta de tempo e a necessidade de escolher uma especialidade também podem desencadear processos de sofrimentos psíquicos. Assim, sentimentos como desânimo, depressão, impotência, stress, entre outros, podem ser vivenciados. Também há que se considerar que a com unicação com doentes graves, por vezes de tratamento difícil, o lidar com o sofrimento, o desespero e a morte, bem como com situações de dor e frustração, podem afetar a autoestima do aluno ainda em formação (STEWART et al. , 1995).\\nCaracterísticas como os parâmetros de avaliação, a ampla carga horária, a falta de tempo para o lazer, a pressão para excelência e a sobrecarga de trabalho são considerados estressores potentes que o curso de medicina estabelece aos seus alunos, predispondo -os ao surgimento de tr anstornos mentais diversos Estudos sugerem que, devido ao fato das taxas de depressão permanecerem elevadas durante todo o curso (variando apenas nos graus de acordo com cada período) e não se comportarem de maneira episódica, o curso em s i seria um fator preditor de estresse crônico sobre os estudantes de medicina (ROSAL et al. , 1997). Cumpre sinalizar que o processo de estudo nas escolas médicas tem sido visto, em algumas realidades, como abusivo aos estudantes, podendo ser caracterizado, em muitos casos, como assédio psicológico. Alguns estudos relatam comportamento obsessivo, perfeccionismo e autoexigência como traços comuns encontrados na personalidade entre estudantes de medicina. Na esteira desses infortúnios, é frequente o relato de ansiedade, drogadição, depressão e até mesmo casos de suicídio em maior número entre estudantes e profissionais médicos do que entre estudantes de outros cursos ou ainda na população em geral (MINGOTE ; ADÁN; PEREZ CORRAL , 1999; ALVI et al. , 2010).\\nO Brasil segue o padrão mundial com características de um país em desenvolvimento. Importantes estudos vêm mostrando que os estudantes de medicina também apresentam alta prevalência de transtornos afetivos. Baldassin et al. (2008) realizou um estudo na Universidade de São Paulo e constatou que 38,2% dos estudantes de medicina possuíam depressão.', metadata={'id': '916013', 'type': 'sentences', 'start_index': 44, 'window_size': 4}),\n",
       "  Document(page_content='2.6 PRINCIPAIS ESTUDOS SOBRE TRANSTORNOS MENTAIS NOS ESTUDANTES DE MEDICINA\\nFoi feita uma revisão da literatura acerca dos estudos que buscaram investigar a temática dos transtornos mentais no contexto do estudante universitário. Para tal, foram acessadas as seguintes bases de dados: Scielo, PubMed/Lilacs, Medline e Scopus, com publicações nos últimos 20 anos nos idiomas de português, inglês e espanhol.\\nNa estratégia de busca foram utilizadas as seguintes palavras -chave: “prevalência”, “prevalence”, “preva lencia” “transtorno mental”; “mental disorders”; “trastornos mentales”; “estudantes”; “students”; “estudiantes”; “graduandos”; “graduates”; “undergraduates”; A busca foi realizada em janeiro de 2018. Inicialmente foram achados 1026 artigos. Utilizando a e stratégia de busca, todos os artigos foram selecionados inicialmente com base em seus títulos, bem como em seus resumos. Dos 1026 artigos encontrados, 769 foram excluídos por apresentarem características de conteúdo que não se aplicavam ao estudo ou ap resentarem repetição nas bases pesquisadas. Dos 257 restantes,198 não respeitavam os critérios de inclusão desta presente revisão. Foram incluídos apenas os estudos que tivessem as seguintes características:', metadata={'id': '916013', 'type': 'sentences', 'start_index': 73, 'window_size': 3}),\n",
       "  Document(page_content='Considerando a alta prevalência de episódio depressivo maior e o transtorno de ansiedade generalizada , seus impactos negativos assim como os fatores de risco observados nessa população, torna -se fundamental a implementação e ampliação de programas institucionais que enfoquem a promoção da saúde e o desenvolvimento integral para contribuir com a melhoria na qualidade de vida dos estudantes.\\nPalavras -chave: Estudantes de medicina. Prevalência de transtornos mentais.\\nABSTRACT\\nCAMPOS , Ailson Junior . Prevalence of mental disorders among medical students at the Federal University of Rio de Janeiro . 2021. 174 f. Thesis (Doctorate in Public Health) – Institute of Public Health Studies, Federal University of Rio de Janeiro, Rio de Janeiro, 2021.\\nIntroduction: The prevalence of mental disorders among Brazilian medical students has shown higher scores when compared to students from developed countries.', metadata={'id': '916013', 'type': 'sentences', 'start_index': 3, 'window_size': 5}),\n",
       "  Document(page_content='Estudos também indicam , além da superi oridade nas taxas de suicídio, que existem evidências de que os estudantes de medicina e residentes têm mais possibilidade de sofrer de depressão do que alunos de outras pós -graduações e adultos jovens em geral (REZENDE et al. , 2008; GOEBERT et al. , 2009). Nesse contexto, a faculdade de medicina é entendida por diversas pesquisas como facilitadora do surgimento de sofrimentos psíquicos e desencadeadora de influência negativa no bem -estar físico e psicológico. Os transtornos mentais, segundo a lite ratura, podem estar presentes em até 50% dessa população (REIMER; TRINKAUS, 2005).\\nSendo assim, a associação entre estudar medicina e desenvolver transtornos psíquicos é altamente prevalente e mundialmente conhecida (HEINS ; FAHEY; LEIDEN , 1984; DEMARCO et al., 1999; ALVI et al. , 2010).\\nO curso médico é uma carreira que exige algumas características especificas e expõe seus alunos a numerosas situações de estresse. Alguns estudantes que por características subjetivas, possuam baixa capacidade de enfrentam ento a frustrações, baixa capacidade de criar redes de suporte interpessoal, diminuída capacidade de resiliência e maior suscetibilidade a quadros depressivos poderão apresentar maior prevalência de sofrimento psíquico com surgimento de morbidades psíquica s de intensidade moderada a grave (CATALD O NETO et al. , 1998; BORST Algumas etapas do curso como o internato, os atendimentos ao paciente e a dedicação integral frequentemente suscitam nos estudantes o aumento dos níveis de angústia. A falta de tempo e a necessidade de escolher uma especialidade também podem desencadear processos de sofrimentos psíquicos. Assim, sentimentos como desânimo, depressão, impotência, stress, entre outros, podem ser vivenciados. Também há que se considerar que a com unicação com doentes graves, por vezes de tratamento difícil, o lidar com o sofrimento, o desespero e a morte, bem como com situações de dor e frustração, podem afetar a autoestima do aluno ainda em formação (STEWART et al. , 1995).', metadata={'id': '916013', 'type': 'sentences', 'start_index': 43, 'window_size': 3}),\n",
       "  Document(page_content='Chandler et al., 2008. Faculdades de Medicina de Oxford e Stanford, Reino Unido. Seccional n=2019 Depressão Oxford (6,2%) Stanford (6,6%) GHQ -28 Prime -MD (Primary Care Evaluation of Mental Disorders Análise de Regressão Logística (p < 0,005) Estudantes de Oxford e Stanford têm taxas semelhantes de angústia de humor, depressão e uso geral de medicamentos. Estudantes em Oxford têm uma maior prevalência de pontuações de MDQ que possivelmente indicam um transtorno bipolar, enquanto os estud antes de Stanford recebem mais psicotrópicos.\\nBayram ; Bilgel, 2008. Uludas University, Turquia. Seccional n=1617 Depressão Ansiedade e Stress Depressão Ansiedade (47,1%) Stress DASS 42 Análise de Regressão Logística (p < 0,005) A variável sexo feminino se apresentou como maior fator de risco para ansiedade. Autores Ano Local do Estudo Tipo de Estudo Tamanho da Amostra Morbidade Prevalência Instrumentos Tratamento Estatístico Principais Resultados/Covariáveis analisadas Mikolajczyk et al., 2008. Universidades de Medicina da Alemanha, Polônia e Bulgária. Seccional n=2145 Depressão Polônia = 34% Alemanha = 23% Bulgária = 39% Inventário de Beck M(BDI) Questionário elaborado pelos autores. Análise de Regressão Linear (p < 0,005) Ser do sexo feminino aumenta a chance de depressão.', metadata={'id': '916013', 'type': 'sentences', 'start_index': 100, 'window_size': 2}),\n",
       "  Document(page_content='2011 para\\ndepressão foi de ansiedade e 25% para problemas de saúde mental.\\nSurbhi et al., 2012. Universidade de Maulana Azad Medical College, Nova Deli - Índia. Seccional n=237 Depressão Transtorno Depressivo T. Depressivo previamente diagnosticado Patient Health Questionare Análise de Regressão Logística (p < 0,005) O ano de estudo e o desempenho acadêmico dos alunos tiveram associação estatisticamente significativa com a depressão. incluindo gênero, histórico de depressão , história familiar de transtornos psiquiátricos, tipo de apoio social, estrutura familiar não encontraram associação significativa com a prevalência de depressão no estudo.\\nChandler et al., 2008. Faculdades de Medicina de Oxford e Stanford, Reino Unido. Seccional n=2019 Depressão Oxford (6,2%) Stanford (6,6%) GHQ -28 Prime -MD (Primary Care Evaluation of Mental Disorders Análise de Regressão Logística (p < 0,005) Estudantes de Oxford e Stanford têm taxas semelhantes de angústia de humor, depressão e uso geral de medicamentos. Estudantes em Oxford têm uma maior prevalência de pontuações de MDQ que possivelmente indicam um transtorno bipolar, enquanto os estud antes de Stanford recebem mais psicotrópicos.', metadata={'id': '916013', 'type': 'sentences', 'start_index': 97, 'window_size': 4}),\n",
       "  Document(page_content='Nesse universo de adoecimento emocional algumas carreiras apresentam elevado nível de sofrimento, dentre elas, a carreira médica. Assim sendo, uma breve análise sobre as características desse grupo, torna -se questão crucial para o entendimento do perfil de adoecimento desses estudantes.\\n2 REVISÃO DA LITERATURA\\n2.1 TRANSTORNOS MENTAIS E A FORMAÇÃO MÉDICA\\nFrequentemente o curso de medicina é aceito como um dos mais complexos por exigir com intensidade algumas características dos alunos que a ele se submetem. Algumas habilidades são exercitadas na formação médica, dentre elas: dedicação, esforço, sacrifício e sobretudo, resistência física e emocional. Esse alto nível de exigência pode tornar essa experiência passível de inúmeras adversidades. Ao entrar na escola de Medicina, o aluno experimenta mudanças, tanto na vida pessoal quanto na vida social. A falta de adaptação cria situações de conflito que podem desencadear distúrbios emocionais, com significativa prevalência de depressão, ansiedade e suicídio nesse grupo (MILLA N; ROSSI; DEMARCO , 1990; FIOROTTI et al. , 2010).', metadata={'id': '916013', 'type': 'sentences', 'start_index': 39, 'window_size': 4}),\n",
       "  Document(page_content='ANEXO B – CARTA DE ANUÊNCIA DA DIREÇÃO DA FACULDADE DE MEDICINA\\n1 INTRODUÇÃO\\nNos últimos anos, principalmente, nas últimas duas décadas, vários estudos têm sido re alizados acerca dos transtornos mentais e seus desdobramentos incapacitantes. Os transtornos psíquicos acarretam significativo prejuízo nas pessoas, nas famílias e na sociedade de forma geral, ocasionando problemas na produtividade, faltas ao trabalho, int errupção de alguns projetos na vida, além de diversas limitações que afetam diretamente a qualidade de vida. A prevalência de transtornos mentais, em diversos estudos de base populacional, variou entre 12,2% a 48,6%. Esta variação se mostrou presente na ap licação de diferentes instrumentos e nas diferentes populações estudadas (GONÇALVES ; STEIN; KAPCZINSCK , 2008). A importância da saúde mental tem sido discutida em diversos espaços pelo mundo e atualmente vem ganhando importância também no cenário acadêmico. Isso é significativo porque os transtornos mentais representam cerca de 13% de sobrecarga de doenças no mundo (WHO, 2017).', metadata={'id': '916013', 'type': 'sentences', 'start_index': 29, 'window_size': 3})],\n",
       " 'relevance_score': 0.99838966}"
      ]
     },
     "execution_count": 132,
     "metadata": {},
     "output_type": "execute_result"
    }
   ],
   "source": [
    "rerankerd_documents[0]"
   ]
  },
  {
   "cell_type": "markdown",
   "metadata": {},
   "source": [
    "# Parte 4: Retrieval Augmented Generation"
   ]
  },
  {
   "cell_type": "markdown",
   "metadata": {},
   "source": [
    "* Etapa 1: Retrieval - A partir da busca seleciona os principais trechos e resumos similares.\n",
    "* Etapa 2: Agrupa as Informações - Unifica os resumos e trechos de um único artigo em um objeto.\n",
    "* Etapa 3: Filtragem e Reranking - Para ser mais preciso na busca, filtra e reordena os artigos selecionados.\n",
    "* Etapa 4: Generation - Com a informação de título, autores, resumo e trechos similares, gera os textos de sumarização."
   ]
  },
  {
   "cell_type": "markdown",
   "metadata": {},
   "source": [
    "## Generation"
   ]
  },
  {
   "cell_type": "code",
   "execution_count": 159,
   "metadata": {},
   "outputs": [],
   "source": [
    "import ast, json\n",
    "\n",
    "\n",
    "class Generator:\n",
    "    \n",
    "    def __init__(self, query, document_info: dict, top_k_results: int = 10, model_name='gpt-3.5-turbo-16k', temperature=0.2, max_tokens=10000):\n",
    "        self.llm = ChatOpenAI(\n",
    "            model_name=model_name,\n",
    "            temperature=temperature,\n",
    "            openai_api_key=openai_api_key,       \n",
    "            max_tokens=max_tokens\n",
    "        )\n",
    "        \n",
    "        self.query = query\n",
    "        self.title = document_info[\"title\"]\n",
    "        self.abstract = document_info[\"abstract\"]\n",
    "        self.authors = document_info[\"authors\"]\n",
    "        self.search_results = document_info[\"sentences\"]\n",
    "        self.top_k_results = top_k_results\n",
    "        \n",
    "    async def run_llm(self):\n",
    "        text = (\n",
    "            f\"\"\"A partir da busca \"{self.query}\" feita pelo usuário, foram recuperados trechos e o resumo do seguinte artigo similar.\\n\"\"\"\n",
    "            \"\"\"A seguir, será passado o resumo e em seguida os trechos, todos declarados por colchetes.\\n\"\"\"\n",
    "            \"\"\"Após isso, será dado o comando para iniciar sua atuação.\"\"\"\n",
    "            \"\"\"\\n\\n\"\"\"\n",
    "            f\"\"\"[TITULO]\\n{self.title}\"\"\"\n",
    "            \"\"\"\\n\\n\"\"\"\n",
    "            f\"\"\"[RESUMO]\\n{self.abstract}\"\"\"\n",
    "            \"\"\"\\n\\n\"\"\"\n",
    "        )\n",
    "\n",
    "        for doc in self.search_results[:self.top_k_results]:\n",
    "            text += f\"[TRECHO]\\n{doc.page_content}\\n\\n\"\n",
    "\n",
    "        text += (\n",
    "            \"\"\"Trechos Finalizados. Sua resposta será no formato JSON com 3 propriedades que respondem:\\n\"\"\"\n",
    "            \"\"\"1. \"sumarizacao\": Sumarize o artigo a partir do resumo e os trechos com as informações mais relevantes sobre ele, como descobertas, etc. (200 palavras)\\n\"\"\"\n",
    "            \"\"\"2. \"objetivo_conclusao\": Sumarize o ojetivo e a conclusão do artigo. (200 palavras)\\n\"\"\"\n",
    "            \"\"\"3. \"relevancia\": Disserte sobre como o artigo encontrado se relaciona com a busca realizada e como o usuário poderá utilizar para auxiliar no estudo do tema. (200 palavras)\\n\"\"\"\n",
    "        )\n",
    "        \n",
    "        try:\n",
    "            messages = [SystemMessage(content=text)]\n",
    "            response = self.llm(messages)\n",
    "            content = ast.literal_eval(response.content)\n",
    "        except Exception as e:\n",
    "            print(response.content)\n",
    "            raise(e)\n",
    "        \n",
    "        self.llm_query = text\n",
    "        self.llm_summary = content[\"sumarizacao\"]\n",
    "        self.llm_objective_conclusion = content[\"objetivo_conclusao\"]\n",
    "        self.llm_relevance = content[\"relevancia\"]\n",
    "\n",
    "    @property\n",
    "    def article_summary(self):\n",
    "        if not hasattr(self, \"llm_summary\"):\n",
    "            raise Exception(\"Summary not found. First execute .run_llm() method.\")\n",
    "        return self.llm_summary\n",
    "    \n",
    "    @property\n",
    "    def article_objectives_and_conclusion(self):\n",
    "        if not hasattr(self, \"llm_objective_conclusion\"):\n",
    "            raise Exception(\"Objectives and Conclusions not found. First execute .run_llm() method.\")\n",
    "        return self.llm_objective_conclusion\n",
    "    \n",
    "    @property\n",
    "    def article_relevance(self):\n",
    "        if not hasattr(self, \"llm_relevance\"):\n",
    "            raise Exception(\"Relevance not found. First execute .run_llm() method.\")\n",
    "        return self.llm_relevance"
   ]
  },
  {
   "cell_type": "code",
   "execution_count": 144,
   "metadata": {},
   "outputs": [],
   "source": [
    "# generator = Generator(query, metadata_dict[_id], results_by_document[_id])"
   ]
  },
  {
   "cell_type": "markdown",
   "metadata": {},
   "source": [
    "## Retrieve & Generate"
   ]
  },
  {
   "cell_type": "code",
   "execution_count": 145,
   "metadata": {},
   "outputs": [
    {
     "data": {
      "text/plain": [
       "'estudo sobre o desenvolvimento de transtornos mentais em profissionais da medicina'"
      ]
     },
     "execution_count": 145,
     "metadata": {},
     "output_type": "execute_result"
    }
   ],
   "source": [
    "query = buscas[9]\n",
    "query"
   ]
  },
  {
   "cell_type": "code",
   "execution_count": 146,
   "metadata": {},
   "outputs": [],
   "source": [
    "retrieved_documents = await retriever.search(query, k=1000, fetch_k=100000, max_k_by_document=8, filter={\"type\":\"sentences\"})"
   ]
  },
  {
   "cell_type": "code",
   "execution_count": 147,
   "metadata": {},
   "outputs": [],
   "source": [
    "reranker = Reranker(cohere_key=\"xxxxxx\", model=\"rerank-multilingual-v2.0\")"
   ]
  },
  {
   "cell_type": "code",
   "execution_count": 148,
   "metadata": {},
   "outputs": [],
   "source": [
    "documents = reranker.prepare_documents(metadata_dict, retrieved_documents)"
   ]
  },
  {
   "cell_type": "code",
   "execution_count": 149,
   "metadata": {},
   "outputs": [],
   "source": [
    "reranked_documents = reranker.rerank(query, documents, 10)"
   ]
  },
  {
   "cell_type": "code",
   "execution_count": 150,
   "metadata": {},
   "outputs": [],
   "source": [
    "# best document\n",
    "best_document_info = reranked_documents[0]"
   ]
  },
  {
   "cell_type": "code",
   "execution_count": 160,
   "metadata": {},
   "outputs": [],
   "source": [
    "generator = Generator(query, best_document_info)"
   ]
  },
  {
   "cell_type": "code",
   "execution_count": 161,
   "metadata": {
    "tags": []
   },
   "outputs": [],
   "source": [
    "await generator.run_llm()"
   ]
  },
  {
   "cell_type": "code",
   "execution_count": 162,
   "metadata": {},
   "outputs": [
    {
     "data": {
      "text/plain": [
       "'estudo sobre o desenvolvimento de transtornos mentais em profissionais da medicina'"
      ]
     },
     "execution_count": 162,
     "metadata": {},
     "output_type": "execute_result"
    }
   ],
   "source": [
    "generator.query"
   ]
  },
  {
   "cell_type": "code",
   "execution_count": 163,
   "metadata": {},
   "outputs": [
    {
     "data": {
      "text/plain": [
       "'Prevalência de transtornos mentais no estudantes de medicina da Universidade Federal do Rio de Janeiro'"
      ]
     },
     "execution_count": 163,
     "metadata": {},
     "output_type": "execute_result"
    }
   ],
   "source": [
    "generator.title"
   ]
  },
  {
   "cell_type": "code",
   "execution_count": 164,
   "metadata": {},
   "outputs": [
    {
     "data": {
      "text/plain": [
       "['Campos Junior, Ailson',\n",
       " 'Lima, Lúcia Abelha orient.',\n",
       " 'Brasil, Marco Antônio coorient.',\n",
       " 'Universidade Federal do Rio de Janeiro. Instituto de Estudos em Saúde Coletiva.']"
      ]
     },
     "execution_count": 164,
     "metadata": {},
     "output_type": "execute_result"
    }
   ],
   "source": [
    "generator.authors"
   ]
  },
  {
   "cell_type": "code",
   "execution_count": 165,
   "metadata": {},
   "outputs": [
    {
     "data": {
      "text/plain": [
       "'Introdução: A prevalência de transtornos mentais encontrada entre os estudantes de medicina brasileiros tem sido mais alta do que a encontrada em estudantes de países desenvolvidos. Apesar de ser consenso na literatura que as prevalências encontradas em países em desenvolvimento são mais elevadas, torna-se relevante conhecer como esta dinâmica e seus fatores de risco se apresentam na realidade dos estudantes médicos da UFRJ. O objetivo deste estudo foi investigar a prevalência e fatores associados ao episódio depressivo maior e transtorno de ansiedade generalizada em estudantes de medicina da Universidade Federal do Rio de Janeiro, bem como perceber como estes estudantes avaliam o curso. Métodos: Foi realizado um estudo transversal em uma amostra representativa e aleatória de 296 estudantes (taxa de participação=91,4%), utilizando os seguintes instrumentos: PHQ-9 (Patient Health Questionare-9) para avaliação do episódio depressivo maior, GAD-7 (General Anxiety Disorder-7) para avaliação do transtorno de ansiedade generalizada, o protocolo de avaliação SUPREMISS-OMS para avaliar o comportamento suicida, o ASSIST (Teste de triagem do envolvimento com álcool, cigarro e outras substâncias), e o AUDIT (Teste para identificação de problemas relacionados ao uso de álcool) para avaliar o uso e abuso de substâncias e o DREEM (Dundee Ready Education Environment Measure), para avaliar a percepção dos alunos sobre aspectos de ambiente de ensino.Resultados: A taxa de prevalência do episódio depressivo maior encontrada foi de 59,5% (IC 95% 54,1- 63,8). Os fatores associados na análise final foram o gênero feminino, relato de história de tratamento psiquiátrico atual e percepção negativa de estressores como violência psicológica, dificuldades financeiras, dificuldades de aprendizagem e dificuldades de adaptação a novas situações. A prevalência do episódio transtorno de ansiedade generalizada encontrada foi de 51,9% (IC 95% 46,1-58,2), uma taxa maior em comparação aos estudos em países desenvolvidos e similar a alguns estudos conduzidos em países em desenvolvimento, incluindo o Brasil. Apresentar percepção extrema de estressores como conflitos religiosos, sobrecarga de trabalho acadêmico, dificuldades nas relações amorosas e conjugais esteve associada a ansiedade na análise bivariada. A pontuação total média do DREEM foi de 95, de um máximo possível de 200 e esta condição revelou que o ambiente de ensino foi avaliado como tendo muitos problemas. A pontuação total média para Percepção da Aprendizagem foi avaliada como mais negativa do que positiva; para Percepções sobre seus professores o escore obtido revela que os mesmos estão na direção certa; para autopercepções acadêmicas, o escore obtido revelou que os alunos perceberam o ambiente do curso com mais aspectos positivos que negativos; para as percepções da atmosfera do ambiente de ensino o escore de 21/48 revelou que existem muitos aspectos tem que ser melhorados e para as autopercepções sociais os resultados revelaram que não são muito boas.A pontuação média de 0,77 para o item 3 “Existe um bom sistema de apoio para os alunos estressados” foi a menor e é um indicativo de que o sistema de apoio se apresenta insuficiente. Enquanto a pontuação média de 3,15 para o item 46 “Moro em um lugar confortável” foi a mais alta evidenciando um aspecto sobre a qualidade da moradia dos entrevistados. Conclusão: Os alunos percebem o ambiente educacional do curso de medicina da Universidade Federal do Rio de Janeiro como tendo muitos problemas. Certas áreas precisam de mais exploração das causas subjacentes que após análise ampliada devem servir como um mecanismo de apoio a decisão para os gestores, educadores e alunos do curso na racionalização de suas prioridades para reformas. Considerando a alta prevalência de episódio depressivo maior e o transtorno de ansiedade generalizada, seus impactos negativos assim como os fatores de risco observados nessa população, torna-se fundamental a implementação e ampliação de programas institucionais que enfoquem a promoção da saúde e o desenvolvimento integral para contribuir com a melhoria na qualidade de vida dos estudantes.'"
      ]
     },
     "execution_count": 165,
     "metadata": {},
     "output_type": "execute_result"
    }
   ],
   "source": [
    "generator.abstract"
   ]
  },
  {
   "cell_type": "code",
   "execution_count": 166,
   "metadata": {},
   "outputs": [
    {
     "data": {
      "text/plain": [
       "'Este estudo investigou a prevalência e fatores associados ao episódio depressivo maior e transtorno de ansiedade generalizada em estudantes de medicina da Universidade Federal do Rio de Janeiro (UFRJ). Foi encontrada uma taxa de prevalência de episódio depressivo maior de 59,5% e uma taxa de prevalência de transtorno de ansiedade generalizada de 51,9%. Os fatores associados foram o gênero feminino, história de tratamento psiquiátrico atual e percepção negativa de estressores. Os estudantes avaliaram o ambiente educacional como tendo muitos problemas. Considerando esses resultados, é fundamental implementar programas institucionais que promovam a saúde e o desenvolvimento integral dos estudantes para melhorar sua qualidade de vida.'"
      ]
     },
     "execution_count": 166,
     "metadata": {},
     "output_type": "execute_result"
    }
   ],
   "source": [
    "generator.article_summary"
   ]
  },
  {
   "cell_type": "code",
   "execution_count": 167,
   "metadata": {},
   "outputs": [
    {
     "data": {
      "text/plain": [
       "'O objetivo deste estudo foi investigar a prevalência e fatores associados ao episódio depressivo maior e transtorno de ansiedade generalizada em estudantes de medicina da UFRJ, bem como avaliar a percepção dos alunos sobre o ambiente de ensino. Os resultados mostraram altas taxas de transtornos mentais nessa população, com fatores de risco como gênero feminino, história de tratamento psiquiátrico e percepção negativa de estressores. Além disso, os estudantes avaliaram o ambiente educacional como problemático. Conclui-se que é necessário implementar programas institucionais que promovam a saúde e o bem-estar dos estudantes para melhorar sua qualidade de vida.'"
      ]
     },
     "execution_count": 167,
     "metadata": {},
     "output_type": "execute_result"
    }
   ],
   "source": [
    "generator.article_objectives_and_conclusion"
   ]
  },
  {
   "cell_type": "code",
   "execution_count": 168,
   "metadata": {},
   "outputs": [
    {
     "data": {
      "text/plain": [
       "'Esse artigo é relevante para a busca realizada, pois aborda o tema do desenvolvimento de transtornos mentais em profissionais da medicina, mais especificamente em estudantes de medicina da UFRJ. Os resultados encontrados mostram altas taxas de episódio depressivo maior e transtorno de ansiedade generalizada nessa população, além de fatores de risco associados. Essas informações podem ser úteis para profissionais da saúde, gestores educacionais e estudantes de medicina, pois destacam a importância de programas institucionais que promovam a saúde mental e o bem-estar dos estudantes. Além disso, os resultados sobre a percepção dos alunos sobre o ambiente de ensino podem fornecer insights para melhorias na qualidade do curso. Portanto, o usuário pode utilizar esse artigo como base para compreender a prevalência e os fatores de risco dos transtornos mentais em estudantes de medicina, bem como para embasar a implementação de programas de promoção da saúde nessa população.'"
      ]
     },
     "execution_count": 168,
     "metadata": {},
     "output_type": "execute_result"
    }
   ],
   "source": [
    "generator.article_relevance"
   ]
  },
  {
   "cell_type": "code",
   "execution_count": null,
   "metadata": {},
   "outputs": [],
   "source": []
  }
 ],
 "metadata": {
  "kernelspec": {
   "display_name": "llama",
   "language": "python",
   "name": "llama"
  },
  "language_info": {
   "codemirror_mode": {
    "name": "ipython",
    "version": 3
   },
   "file_extension": ".py",
   "mimetype": "text/x-python",
   "name": "python",
   "nbconvert_exporter": "python",
   "pygments_lexer": "ipython3",
   "version": "3.8.18"
  }
 },
 "nbformat": 4,
 "nbformat_minor": 4
}
