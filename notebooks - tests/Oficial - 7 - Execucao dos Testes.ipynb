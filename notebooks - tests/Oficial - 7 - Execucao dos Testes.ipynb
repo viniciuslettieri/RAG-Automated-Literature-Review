{
 "cells": [
  {
   "cell_type": "markdown",
   "metadata": {},
   "source": [
    "# Introdução"
   ]
  },
  {
   "cell_type": "markdown",
   "metadata": {},
   "source": [
    "Neste documento faremos os testes de validação do sistema."
   ]
  },
  {
   "cell_type": "code",
   "execution_count": null,
   "metadata": {},
   "outputs": [],
   "source": [
    "# !pip install langchain==0.0.340 langchain --force-reinstall"
   ]
  },
  {
   "cell_type": "code",
   "execution_count": 1,
   "metadata": {},
   "outputs": [],
   "source": [
    "validation_results_path = './validation_results'"
   ]
  },
  {
   "cell_type": "code",
   "execution_count": 2,
   "metadata": {},
   "outputs": [],
   "source": [
    "openai_api_key = \"xxxxxxxxx\"\n",
    "cohere_key = \"xxxxxxx\""
   ]
  },
  {
   "cell_type": "markdown",
   "metadata": {
    "tags": []
   },
   "source": [
    "# 1. Obtenção dos Metadados do Minerva"
   ]
  },
  {
   "cell_type": "code",
   "execution_count": 3,
   "metadata": {},
   "outputs": [],
   "source": [
    "import os\n",
    "import json\n",
    "import numpy as np"
   ]
  },
  {
   "cell_type": "code",
   "execution_count": 4,
   "metadata": {},
   "outputs": [],
   "source": [
    "pdf_folder_path = \"./metadata_documents\""
   ]
  },
  {
   "cell_type": "markdown",
   "metadata": {},
   "source": [
    "## Arquivos de Metadados"
   ]
  },
  {
   "cell_type": "code",
   "execution_count": 5,
   "metadata": {},
   "outputs": [],
   "source": [
    "filename_list = []\n",
    "for filename in os.listdir(pdf_folder_path):\n",
    "    if filename.endswith(\".json\") and not filename.endswith(\"_x.json\"):\n",
    "        filename_list.append(os.path.join(pdf_folder_path, filename))\n",
    "\n",
    "filename_list = sorted(filename_list)"
   ]
  },
  {
   "cell_type": "code",
   "execution_count": 6,
   "metadata": {},
   "outputs": [
    {
     "data": {
      "text/plain": [
       "['./metadata_documents/documento_.json',\n",
       " './metadata_documents/documento_276189.json',\n",
       " './metadata_documents/documento_494080.json',\n",
       " './metadata_documents/documento_547235.json',\n",
       " './metadata_documents/documento_614469.json']"
      ]
     },
     "execution_count": 6,
     "metadata": {},
     "output_type": "execute_result"
    }
   ],
   "source": [
    "filename_list [:5]"
   ]
  },
  {
   "cell_type": "markdown",
   "metadata": {},
   "source": [
    "## Obtenção dos Metadados"
   ]
  },
  {
   "cell_type": "code",
   "execution_count": 7,
   "metadata": {},
   "outputs": [],
   "source": [
    "def get_metadata(filename_list):\n",
    "    metadata_dict = {}\n",
    "    \n",
    "    for filename in filename_list:\n",
    "        with open(filename, \"r\") as file: \n",
    "            metadata = json.load(file)\n",
    "            _id = metadata[\"id\"]\n",
    "            metadata_dict[_id] = metadata\n",
    "    \n",
    "    return metadata_dict"
   ]
  },
  {
   "cell_type": "code",
   "execution_count": 8,
   "metadata": {},
   "outputs": [],
   "source": [
    "metadata_dict = get_metadata(filename_list)"
   ]
  },
  {
   "cell_type": "code",
   "execution_count": 9,
   "metadata": {},
   "outputs": [],
   "source": [
    "key = list(metadata_dict.keys())[10]"
   ]
  },
  {
   "cell_type": "code",
   "execution_count": 10,
   "metadata": {},
   "outputs": [
    {
     "data": {
      "text/plain": [
       "{'title': 'Mal-estar docente : vozes de professores em uma escola pública de Niterói',\n",
       " 'authors': ['Santos, Roberta Duarte dos',\n",
       "  'Carneiro, Cristiana orient.',\n",
       "  'Universidade Federal do Rio de Janeiro. Instituto de Psicologia.'],\n",
       " 'abstract': 'A presente pesquisa de Mestrado é dedicada a apresentar algumas considerações a respeito do mal-estar docente sob o viés psicanalítico. Para tanto, utiliza o referencial teórico de Freud e de psicanalistas contemporâneos que vêm se debruçando sobre essa questão. Partindo da escuta realizada em oficinas de rodas de conversas com professores do Instituto de Educação Professor Ismael Coutinho (IEPIC), assim também como de entrevistas individuais com os docentes, foram registradas suas queixas, impotências e impasses. Nesse material, com auxílio da revisão da literatura selecionada, procuramos mapear o mal-estar nas falas dos professores, relacionando-o ao conceito freudiano de mal-estar. A análise das transcrições de tais falas tem nos levado a pensar que uma faceta do mal-estar docente relaciona-se a questões correlatas à destituição contemporânea da autoridade no cotidiano escolar. Não sem efeito, é possível perceber, atualmente, consequências importantes tanto na prática pedagógica quanto no sofrimento psíquico dos sujeitos que exercem a função docente.',\n",
       " 'bibliography_pages': [97, 103],\n",
       " 'keywords': ['Psicologia Teses.',\n",
       "  'Psicanálise e educação.',\n",
       "  'Sofrimento Aspectos psíquicos.',\n",
       "  'Professores Stress ocupacional.'],\n",
       " 'urls': ['http://objdig.ufrj.br/30/teses/814014.pdf',\n",
       "  'http://lattes.cnpq.br/9687290822239788'],\n",
       " 'pdf_url': 'http://objdig.ufrj.br/30/teses/814014.pdf',\n",
       " 'id': '814014'}"
      ]
     },
     "execution_count": 10,
     "metadata": {},
     "output_type": "execute_result"
    }
   ],
   "source": [
    "metadata_dict[key]"
   ]
  },
  {
   "cell_type": "markdown",
   "metadata": {},
   "source": [
    "# 2. Seleção dos Testes"
   ]
  },
  {
   "cell_type": "code",
   "execution_count": 11,
   "metadata": {},
   "outputs": [],
   "source": [
    "import json\n",
    "from datetime import datetime"
   ]
  },
  {
   "cell_type": "code",
   "execution_count": 12,
   "metadata": {},
   "outputs": [
    {
     "data": {
      "text/plain": [
       "'./validation_tests/2024-06-09'"
      ]
     },
     "execution_count": 12,
     "metadata": {},
     "output_type": "execute_result"
    }
   ],
   "source": [
    "# validation_tests_partition = '2024-05-13' # esse eh o oficial do artigo\n",
    "validation_tests_partition = '2024-06-09'\n",
    "\n",
    "validation_tests_path = f'./validation_tests/{validation_tests_partition}'\n",
    "validation_tests_path"
   ]
  },
  {
   "cell_type": "code",
   "execution_count": 13,
   "metadata": {},
   "outputs": [],
   "source": [
    "with open(f'{validation_tests_path}/test_info.json', 'r') as fp:\n",
    "    test_info = json.load(fp)"
   ]
  },
  {
   "cell_type": "code",
   "execution_count": 33,
   "metadata": {},
   "outputs": [],
   "source": [
    "# for x in test_info[:2]:\n",
    "#     print(f\"{x['abstract'][:800]} & {x['query']} \\\\\\\\\\n\\\\hline\")"
   ]
  },
  {
   "cell_type": "markdown",
   "metadata": {},
   "source": [
    "# 3. Vector Search"
   ]
  },
  {
   "cell_type": "code",
   "execution_count": 15,
   "metadata": {},
   "outputs": [],
   "source": [
    "from langchain.vectorstores import FAISS\n",
    "from langchain.embeddings import SentenceTransformerEmbeddings\n",
    "\n",
    "from lib.retriever import Retriever\n",
    "from lib.reranker import Reranker"
   ]
  },
  {
   "cell_type": "code",
   "execution_count": 16,
   "metadata": {},
   "outputs": [
    {
     "name": "stdout",
     "output_type": "stream",
     "text": [
      "Recuperando Embeddings...\n"
     ]
    }
   ],
   "source": [
    "print(\"Recuperando Embeddings...\")\n",
    "embeddings = SentenceTransformerEmbeddings(model_name=\"sentence-transformers/paraphrase-multilingual-mpnet-base-v2\")"
   ]
  },
  {
   "cell_type": "code",
   "execution_count": 17,
   "metadata": {},
   "outputs": [
    {
     "name": "stdout",
     "output_type": "stream",
     "text": [
      "Construindo Vector Database...\n"
     ]
    }
   ],
   "source": [
    "print(\"Construindo Vector Database...\")\n",
    "vectorstore = FAISS.load_local(\"./faiss_vector_store/\", embeddings)"
   ]
  },
  {
   "cell_type": "code",
   "execution_count": 18,
   "metadata": {},
   "outputs": [],
   "source": [
    "retriever = Retriever(vectorstore)\n",
    "retriever1 = Retriever(vectorstore, MINIMUM_RESULTS_PER_DOCUMENT=1)\n",
    "reranker = Reranker(cohere_key=cohere_key, model=\"rerank-multilingual-v2.0\")"
   ]
  },
  {
   "cell_type": "markdown",
   "metadata": {},
   "source": [
    "# Preparação"
   ]
  },
  {
   "cell_type": "code",
   "execution_count": 19,
   "metadata": {},
   "outputs": [],
   "source": [
    "def get_index_of_element(list_scores, _id):\n",
    "    count = 1\n",
    "    for score in list_scores:\n",
    "        if score['id'] == _id:\n",
    "            return count\n",
    "        count += 1\n",
    "    return None"
   ]
  },
  {
   "cell_type": "markdown",
   "metadata": {
    "tags": []
   },
   "source": [
    "# Teste Retriever"
   ]
  },
  {
   "cell_type": "markdown",
   "metadata": {},
   "source": [
    "**Passo a Passo do Teste:**\n",
    "\n",
    "..."
   ]
  },
  {
   "cell_type": "code",
   "execution_count": 20,
   "metadata": {},
   "outputs": [],
   "source": [
    "import time\n",
    "import copy"
   ]
  },
  {
   "cell_type": "code",
   "execution_count": 22,
   "metadata": {},
   "outputs": [
    {
     "name": "stdout",
     "output_type": "stream",
     "text": [
      "...................................................................................................."
     ]
    }
   ],
   "source": [
    "retriever_results = []\n",
    "\n",
    "for info in test_info:\n",
    "    docid = info['id']\n",
    "    query = info['query']\n",
    "    # similar = info['similar']\n",
    "    \n",
    "    start = time.time()\n",
    "        \n",
    "    retrieved_documents = await retriever.search(\n",
    "        query, k=100, fetch_k=1000, max_k_by_document=5, filter={\"type\":\"sentences\"}\n",
    "    )\n",
    "    \n",
    "    docs_mean = []\n",
    "    docs_median = []\n",
    "    docs_min = []\n",
    "    for idx, docs in retrieved_documents.items():\n",
    "        # removes sentence == abstract\n",
    "        scores = [doc[0] for doc in docs if doc[0] > 0.05]\n",
    "        texts = [doc[1].page_content for doc in docs if doc[0] > 0.05]\n",
    "\n",
    "        mean = np.mean(scores)\n",
    "        median = np.median(scores)\n",
    "        minimum = np.inf if len(scores) == 0 else np.min(scores)\n",
    "\n",
    "        docs_mean.append({\"id\": idx, \"score\": mean})\n",
    "        docs_median.append({\"id\": idx, \"score\": median})\n",
    "        docs_min.append({\"id\": idx, \"score\": minimum})\n",
    "\n",
    "    docs_mean = sorted(docs_mean, key=lambda elem: elem['score'])\n",
    "    docs_median = sorted(docs_median, key=lambda elem: elem['score'])\n",
    "    docs_min = sorted(docs_min, key=lambda elem: elem['score'])\n",
    "    \n",
    "    end = time.time()\n",
    "    retrieval_time = end - start\n",
    "    \n",
    "    start = time.time()\n",
    "    \n",
    "    documents = reranker.prepare_documents(metadata_dict, retrieved_documents)\n",
    "    reranked_documents = reranker.rerank(query, documents, 10)\n",
    "    \n",
    "    end = time.time()\n",
    "    reranker_time = end - start\n",
    "\n",
    "    results_by_reranker = [{\"id\": res['id'], \"relevance_score\": res['relevance_score']} for res in reranked_documents]\n",
    "        \n",
    "    result = info.copy()\n",
    "    result[\"retriever_documents\"] = reranked_documents[:5].copy()\n",
    "    result[\"retriever_results\"] = {\n",
    "        # \"rank_by_document_mean\": get_index_of_element(docs_mean, docid),\n",
    "        # \"rank_by_document_median\": get_index_of_element(docs_median, docid),\n",
    "        # \"rank_by_document_min\": get_index_of_element(docs_min, docid),\n",
    "        # \"rank_by_reranker\": get_index_of_element(results_by_reranker, docid),\n",
    "        \"results_by_mean\": docs_mean[:10].copy(),\n",
    "        \"results_by_median\": docs_median[:10].copy(),\n",
    "        \"results_by_min\": docs_min[:10].copy(),\n",
    "        \"results_by_reranker\": results_by_reranker[:10].copy(),\n",
    "        \"retrieval_time\": retrieval_time,\n",
    "        \"reranker_time\": reranker_time\n",
    "    }\n",
    "    \n",
    "    retriever_results.append(result)\n",
    "    \n",
    "    print('.', end='')"
   ]
  },
  {
   "cell_type": "code",
   "execution_count": 23,
   "metadata": {},
   "outputs": [
    {
     "data": {
      "text/plain": [
       "'O objetivo inicial da pesquisa é avaliar os efeitos tóxicos da salinização do solo causada por eventos extremos de transgressão marinha sobre minhocas (Eisenia andrei) em um cenário de aumento do nível do mar na planície de Jacarepaguá, no Rio de Janeiro. Utilizando geotecnologias, foram identificadas as classes de solo mais vulneráveis, realizando bioensaios para investigar a toxicidade da salinização e seus impactos nos ecossistemas de solo.'"
      ]
     },
     "execution_count": 23,
     "metadata": {},
     "output_type": "execute_result"
    }
   ],
   "source": [
    "retriever_results[1][\"query\"]"
   ]
  },
  {
   "cell_type": "code",
   "execution_count": 24,
   "metadata": {},
   "outputs": [
    {
     "ename": "KeyError",
     "evalue": "'similar'",
     "output_type": "error",
     "traceback": [
      "\u001b[0;31m---------------------------------------------------------------------------\u001b[0m",
      "\u001b[0;31mKeyError\u001b[0m                                  Traceback (most recent call last)",
      "Cell \u001b[0;32mIn[24], line 1\u001b[0m\n\u001b[0;32m----> 1\u001b[0m \u001b[43mretriever_results\u001b[49m\u001b[43m[\u001b[49m\u001b[38;5;241;43m1\u001b[39;49m\u001b[43m]\u001b[49m\u001b[43m[\u001b[49m\u001b[38;5;124;43m\"\u001b[39;49m\u001b[38;5;124;43msimilar\u001b[39;49m\u001b[38;5;124;43m\"\u001b[39;49m\u001b[43m]\u001b[49m\n",
      "\u001b[0;31mKeyError\u001b[0m: 'similar'"
     ]
    }
   ],
   "source": [
    "retriever_results[1][\"similar\"]"
   ]
  },
  {
   "cell_type": "code",
   "execution_count": 25,
   "metadata": {},
   "outputs": [
    {
     "data": {
      "text/plain": [
       "'Ecotoxicidade terrestre do sal marinho em cenário de aumento do nível do mar na planície costeira de Jacarepaguá, Rio de Janeiro - RJ'"
      ]
     },
     "execution_count": 25,
     "metadata": {},
     "output_type": "execute_result"
    }
   ],
   "source": [
    "retriever_results[1][\"title\"]"
   ]
  },
  {
   "cell_type": "code",
   "execution_count": 26,
   "metadata": {},
   "outputs": [],
   "source": [
    "# retriever_results[1][\"retriever_documents\"]"
   ]
  },
  {
   "cell_type": "code",
   "execution_count": 123,
   "metadata": {},
   "outputs": [],
   "source": [
    "import pickle"
   ]
  },
  {
   "cell_type": "code",
   "execution_count": 124,
   "metadata": {},
   "outputs": [
    {
     "name": "stdout",
     "output_type": "stream",
     "text": [
      "202405150915\n"
     ]
    }
   ],
   "source": [
    "currenttimestamp = datetime.now().strftime(\"%Y%m%d%H%M\")\n",
    "print(currenttimestamp)\n",
    "\n",
    "with open(f'{validation_results_path}/retriever_results_{currenttimestamp}.pkl', 'wb') as fp:\n",
    "    pickle.dump(retriever_results, fp, protocol=pickle.HIGHEST_PROTOCOL)"
   ]
  },
  {
   "cell_type": "markdown",
   "metadata": {},
   "source": [
    "# Análise Retriever"
   ]
  },
  {
   "cell_type": "code",
   "execution_count": 28,
   "metadata": {},
   "outputs": [],
   "source": [
    "import pickle\n",
    "import pandas as pd"
   ]
  },
  {
   "cell_type": "code",
   "execution_count": 29,
   "metadata": {},
   "outputs": [],
   "source": [
    "# with open(f'{validation_results_path}/retriever_results_202405111922.pkl', 'rb') as fp:\n",
    "# with open(f'{validation_results_path}/retriever_results_202405121536.pkl', 'rb') as fp:\n",
    "with open(f'{validation_results_path}/retriever_results_202405150915.pkl', 'rb') as fp:\n",
    "    retriever_results = pickle.load(fp)"
   ]
  },
  {
   "cell_type": "code",
   "execution_count": 30,
   "metadata": {},
   "outputs": [
    {
     "data": {
      "text/plain": [
       "1000"
      ]
     },
     "execution_count": 30,
     "metadata": {},
     "output_type": "execute_result"
    }
   ],
   "source": [
    "len(retriever_results)"
   ]
  },
  {
   "cell_type": "code",
   "execution_count": 31,
   "metadata": {},
   "outputs": [
    {
     "data": {
      "text/plain": [
       "dict_keys(['id', 'title', 'abstract', 'query', 'similar', 'retriever_documents', 'retriever_results'])"
      ]
     },
     "execution_count": 31,
     "metadata": {},
     "output_type": "execute_result"
    }
   ],
   "source": [
    "retriever_results[0].keys()"
   ]
  },
  {
   "cell_type": "code",
   "execution_count": 32,
   "metadata": {},
   "outputs": [
    {
     "data": {
      "text/plain": [
       "[{'id': '918227', 'relevance_score': 0.9999934},\n",
       " {'id': '912618', 'relevance_score': 0.8000679},\n",
       " {'id': '921202', 'relevance_score': 0.77982527},\n",
       " {'id': '913300', 'relevance_score': 0.72749174},\n",
       " {'id': '915443', 'relevance_score': 0.56427854},\n",
       " {'id': '922097', 'relevance_score': 0.5427118}]"
      ]
     },
     "execution_count": 32,
     "metadata": {},
     "output_type": "execute_result"
    }
   ],
   "source": [
    "retriever_results[15][\"retriever_results\"][\"results_by_reranker\"]"
   ]
  },
  {
   "cell_type": "code",
   "execution_count": 37,
   "metadata": {},
   "outputs": [
    {
     "data": {
      "text/plain": [
       "dict_keys(['id', 'title', 'abstract', 'query', 'similar', 'retriever_documents', 'retriever_results'])"
      ]
     },
     "execution_count": 37,
     "metadata": {},
     "output_type": "execute_result"
    }
   ],
   "source": [
    "retriever_results[1].keys()"
   ]
  },
  {
   "cell_type": "code",
   "execution_count": 41,
   "metadata": {},
   "outputs": [
    {
     "data": {
      "text/plain": [
       "'Gestão de emergências na indústria de óleo e gás : uma proposta de aplicação da metodologia do Incident Command System'"
      ]
     },
     "execution_count": 41,
     "metadata": {},
     "output_type": "execute_result"
    }
   ],
   "source": [
    "retriever_results[1]['title']"
   ]
  },
  {
   "cell_type": "code",
   "execution_count": 43,
   "metadata": {},
   "outputs": [
    {
     "data": {
      "text/plain": [
       "{'title': 'Aperfeiçoamento da regulação brasileira de segurança do processamento submarino de óleo e gás a partir de análise crítica e comparativa com regulações congêneres',\n",
       " 'authors': ['Figueredo, Ana Karolina Muniz',\n",
       "  'Souza Júnior, Maurício Bezerra de orient.',\n",
       "  'Vaz Junior, Carlos André coorient.',\n",
       "  'Universidade Federal do Rio de Janeiro. Escola de Química'],\n",
       " 'abstract': 'Com a diminuição das reservas de petróleo facilmente acessíveis no mundo, o processamento submarino vem ganhando o interesse da indústria de óleo e gás. A utilização de equipamentos submarinos traz diferentes riscos associados devido as condições operacionais e ambientais. As unidades de processamento submarino são parte do sistema submarino e podem incluir etapas de separação, elevação, escoamento e injeção dos fluidos produzido. Atualmente, existem mais de 48 unidades de processamento submarino instaladas no Brasil. Em 2015, a Agência Nacional de Petróleo, Gás Natural e Biocombustíveis (ANP) publicou um regulamento de segurança específico para instalações submarinas denominado SGSS (Regulamento Técnico de Sistema de Gestão da Segurança Operacional do Sistema Submarino), motivado pelos acidentes de dutos offshore. Essa regulamentação estabelece requisitos específicos para riser, contudo, apenas requisitos gerais para outras instalações e demais equipamentos submarinos. Assim, essa pesquisa avalia a regulação brasileira de segurança submarina, bem como a compara com a regulação internacional de equipamentos submarinos do Reino Unido, Estados Unidos e Noruega. Além disso, avalia os resultados da implementação do regulamento de segurança específico para equipamentos submarinos por meio dos resultados de inspeções e comunicações de incidentes apresentados à ANP.A influência da regulamentação na identificação e gerenciamento de acidentes graves é também analisada. Com base no estudo realizado, foi possível verificar que a implementação da regulação de equipamento submarinos não foi suficiente para promover a segurança dessas instalações. Sendo assim, esta tese propõe uma simplificação no arcabouço regulatório atual, a realização de análise ex-post, a introdução de novos requisitos específicos para instalações submarinas (qualificação de nova tecnologia, prazo máximo de cinco anos fora de operação para o descomissionamento, requisitos específicos para instalações de processamento subsea, reportação de incidentes, detecção de vazamentos e plano de resposta a emergências com vazamento de óleo), e a criação de um comitê técnico para melhorar à segurança dos equipamentos submarinos.',\n",
       " 'bibliography_pages': [119, 140],\n",
       " 'keywords': ['Instalações submarinas', 'Regulamentação', 'Segurança'],\n",
       " 'urls': ['http://objdig.ufrj.br/61/teses/920278.pdf',\n",
       "  'http://lattes.cnpq.br/0632680305671209'],\n",
       " 'pdf_url': 'http://objdig.ufrj.br/61/teses/920278.pdf',\n",
       " 'id': '920278',\n",
       " 'sentences': [Document(page_content='melhoria contínua (API, 2019) . A norma era uma prática recomendada pelo BSEE para as operações de óleo e gás nos Estados Unidos, porém, após o acidente de Macondo, tornou -se obrigatória em 2010 (BSEE, 2013) .\\nEm 2007, o CCPS desenvolveu uma estrutura de sistema de gerenciamento de segurança baseado em risco, o qual é chamado RBPS. Essa estrutura foi fundame ntada na experiência em segurança de processos da indústria química. Além disso, publicou um guia para ajudar na utilização prática desse sistema , o qual é composto por 4 pilares e 20 elementos distribuídos dentro desses pilares. Os pilares são (1) comprom isso com a segurança de processos; (2) entendimento de perigos e riscos; (3) gestão de risco ; e (4) aprendizado com a experiência (CCPS, 2007) . Já em 2014 , foi publicado o OMS , contendo as lições aprendidas da implementação do guia relativo a o gerenciamento de segurança publicado pelo IOGP em 1994. Esse guia é aplicável para a indústria de óleo e gá s, tanto upstream , quanto downstream . Ele é composto por 4 princípios fundamentais e 10 elementos. Os princípios são (1) liderança; (2) gerenciamento do risco; (3) melhoria contínua ; e (4) implementação (IPIECA; OGP, 2014) . A Tabela 5 faz a correlação entre as práticas do s sistemas de gestão analisados, sendo possível verificar as semelhanças e diferenças.', metadata={'id': '920278', 'type': 'sentences', 'start_index': 172, 'window_size': 2}),\n",
       "  Document(page_content='A investigação de acidentes é amplamente reconhecida como uma parte essencial de um processo abrangente e eficiente de gestão da segurança. Uma análise detalhada e sistemática de um evento imprevisto permite identificar , não apenas a sua causa imediata (primária), como todo o conjunto de causas raízes, cuja combinação levo u à falha do sistema e à ocorrência das consequências prejudiciais correspondentes (acidente grave) , ou uma condição perigosa temporária não planejada (quase acidente) (ABDOLHAMIDZADEH et al., 2012) . É necessário estudar o acidente além das causas imedia tas, identificando pontos como falhas humanas, organizacionais e pontos fracos no sistema de gestão. Além disso, se as causas subjacentes forem encontradas, recomendações adequadas devem ser efetuadas e executadas (KLETZ, 2001) . Uma estratégia essencial na prevenção de incidentes é aprender com as ocorrências anteriores e, assim, ser mais capaz de evitá -las. A investigação do acidente é como descascar uma cebola. A camada externa lida com as causas técnicas imediatas. Em contraste , as camadas internas estão preocupadas em evitar o perigo e as causas subjacentes, como deficiências no sistema de gestão. Assim, as causas imediatas e raízes de um acidente são essenciais e devem ser consideradas para prevenir futuros acidentes (KLETZ, 2 011).\\nOs acidentes graves podem ser vistos como falhas na gestão dos riscos das instalações, e a melhoria desse aspecto pode ajudar a resolver problemas sistêmicos específicos se for identificado nos relatórios de investigação de acidentes. Os modelos de acidentes mostram que o controle de risco é baseado na definição e gestão de risco entre diferentes atores da indústria, incluindo o regulador, as empresas e o ambiente de trabalho. Assim, falhas de exigências ou supervisão de um regulador podem gerar con dições indesejáveis para a prevenção de acidentes maiores, mesmo após atribuir a responsabilidade pela segurança às empresas, as quais são responsáveis pela impl antação do sistema de gestão. Apesar disso, a abordagem da regulação não se deve limitar a um conjunto de requisitos não prescritivos e auditorias frequentes. Também exige um bom equilíbrio entre diálogo, avaliação de desempenho, outras atividades de influência, construção e apoio ao compromisso, consciência de risco e cultura de segurança (ALMEID A; VINNEM, 2020) . Portanto, para a geração de lições aprendidas dos acidentes deve haver uma análise cuidadosa das causas (imediatas e raízes). Suplementarmente, a aprendizagem com os acidentes não deve focar apenas em evitar a recorrência, mas também me lhorar o processo de aprendizado com os incidentes (DRUPSTEEN; GROENEWEG; ZWETSLOOT, 2013) . O s trabalho s de DRUPSTEEN , GROENEWEG e ZWETSLOOT (2013 ) e PARKER et al. (2018) apresenta m modelo s para o aprendizado com acidentes . A Figura 24 apresenta os passos definidos nesses modelos.', metadata={'id': '920278', 'type': 'sentences', 'start_index': 357, 'window_size': 2}),\n",
       "  Document(page_content='A perspectiva de análise de causas baseada nas práticas de gestão já foi realizada em trabalhos anteriores , como o de (ALMEIDA; VINNEM, 2020) , que avaliou as práticas de gestão envolvidas em acidentes de descarga de óleo no mar . Nessa abordagem , são identificadas as principais circunstâncias relacionadas com as causas que env olvem os acidentes e correlacionadas às práticas de gestão. No ambiente brasileiro, as práticas de gestão referentes às unidades submarinas são apresentadas no SGSS conforme a Tabela 8. Para essa classificação , foi u sada a informação fornecida pelo operador no RDI.\\nA identificação das causas raízes dos incidentes é apresentada na Tabela 20 . Essa classificação levou em conta a informação apresentada pelo operador no RDI (Relatório Detalhado de Incidente. Observa -se que a maior parte das causas apontadas estão relacionadas às falhas na integridade ou a falhas de projeto, demonstrando pouca pr ofundidade nas investigações dos eventos. Nota -se que , em nenhum dos acidentes foi apontado como causa , fatores human os ou organizacionais, mostrando que esse assunto ainda é pouco explorado em investigações de acidentes. Analisando em uma perspectiva hist órica, observa -se que há uma evolução na profundidade da investigação de incidentes envolvendo riser , já que é possível observar que mais práticas de gestão estão sendo associadas aos incidentes ao longo do tempo , com um destaque para 2020 . Observa -se também , que os acidentes de riser podem estar ligados a fatores humanos ou organizacionais em aspectos relacionados a esse assunto , tais como : aprendizado com os incidentes ; percepção de risco e processo decisório , e comunicação de risco s que n ão estão sendo considerados como causas dessas investigações. Nota -se que foram apontadas falhas no aprendizado com incidentes (PG 14).', metadata={'id': '920278', 'type': 'sentences', 'start_index': 408, 'window_size': 2}),\n",
       "  Document(page_content='A identificação de alguns cenários de causa foi realizada com base em Estudos de Impacto Ambiental (EIA) realizados pelos operadores e enviados para o IBAMA (PETROBRAS , 2020b , 2019a, 2019b) e literatura (BAI, YONG; BAI, 2014; HSE, 1998) . Esses cenários , apresentados no também podem ser aplicáveis a equipamentos de processo.\\nApós a identificação das causas de acidentes, os cenários foram classific ados em termos de etapa do ciclo de vida em que se deu ocorrência . Para isso , estabeleceu -se a seguinte legenda : P=projeto, F=fabricação; I=instalação, C=comissionamento, O=operação, M=manutenção e D=descomissionamento. A identificação da etapa do ciclo de vida da instalação tomou como base informações presentes nos EIA avaliados. É possível identificar que algumas causas ocorrem durante a etapa de operação, porém sua s causa s raiz pode ter sido erro de projeto ou no comissionamento, como por exemplo, erros no proje to de proteção catódica ou na escolha do material do revestimento , que durante a operação vai ser identificado através de corrosão . Por fim, as consequências foram identificadas por intermédio dos EIA, d os alertas de segurança e da resoluç ão sobre comunica ção de incidentes publicad as pela ANP (ANP, 2009) . As\\nconsequências e seus desdobramentos variam de acordo com o volume vazado, a composição do material contido no equipamento , as barreiras existentes, as condições ambientais ao longo do acidente e planos de resposta a emergência acionado s.\\nEm posse de todas essas informações , foi elaborada a Tabela do Anexo 1, contendo os perigos identificados, sua classificação de gravidade, fatores causais, etapa do ciclo de vida conforme os fatores causais e as consequências potenciais.\\nApós a análise da Tabela do Anexo 1 , é possível verificar que 3 dos 21 perigos identificados são considerados graves e devem ser comunicados imediatamente à ANP caso ocorram . São eles: descarga maior de óleo (a partir de equipamento/ instrumento/dutos/conexões submarinas) , descarga maior de água oleosa (a partir de equipamento/ instrumento/ dutos/conexões submarinas) e falha estrutural em sistema de coleta ou escoamento da produção (a pa rtir de equipamento / instrumento/ dutos/ conexões submarinas) . Além disso, os acidentes que gerarem danos ao meio ambiente, à saúde humana, prejuízos materiais ao patrimônio ou a terceiros, ocorrência de fatalidades ou ferimentos graves para o pessoal próp rio, para terceiros ou população e interrupção não programada por mais de 24 (vinte e quatro) horas , devem enviar relatório detalhado a respeito de sua investigação para a ANP (ANP, 2009) .', metadata={'id': '920278', 'type': 'sentences', 'start_index': 120, 'window_size': 5}),\n",
       "  Document(page_content='(13) Solicita que o potencial de impacto ambiental seja considerado como parte do processo de avaliaçã o de risco , garantindo que as ações necessári as para limitar o potencial de qualquer acident e maior ambiental serão tomadas .\\n(14) No regulamento de dutos, solicita a existência de detectores de vazamento apropriados para o fluido e as condições operacionais. Também solicita a introdução de intertravamentos nos sistemas de segurança dos dutos .\\nAssim como no Brasil, o HSE realiza inspeções e investigações de acidente. Diferente mente do Brasil, apresenta um regulamento bem mais enxuto relacionado aos requisitos para apresentação da documentação para elaboração do safety case , porém apresenta guias que ajudam a explicar o que o regulamento deseja em cada um dos seus itens. Não há regul amento nem requisito específico para instalações de produção subsea . Em relação aos dutos, ele apresenta regulamento focado em dutos onshore e offshore com alguns requisitos prescritivos nesse tema. Em relação aos acidentes, não há tipologia específica de acidente para equipamentos e instalações submarinas, sendo difícil encontrar os acidentes relacionados ao tema nas bases de dados do HSE. Porém, o EI ( Energy Institute ) elabora o relatório PARLOC ( Pipeline and Riser Loss of Containment ), contendo os dados de incidentes com perda de contenção em dutos offshore e risers no Reino Unido , que é um banco de dados privado . De acordo com (ENERGY INSTITUTE; OIL & GAS UK, 2015) , para a elaboração do relatório , o EI solicita uma série de informações adicionais sobre os incidentes , como:', metadata={'id': '920278', 'type': 'sentences', 'start_index': 306, 'window_size': 3})],\n",
       " 'relevance_score': 0.7088176}"
      ]
     },
     "execution_count": 43,
     "metadata": {},
     "output_type": "execute_result"
    }
   ],
   "source": [
    "retriever_results[1]['retriever_documents'][1]"
   ]
  },
  {
   "cell_type": "code",
   "execution_count": 47,
   "metadata": {},
   "outputs": [
    {
     "data": {
      "text/plain": [
       "{'results_by_mean': [{'id': '943756', 'score': 1.0833454},\n",
       "  {'id': '920278', 'score': 1.8786119}],\n",
       " 'results_by_median': [{'id': '943756', 'score': 1.1941775},\n",
       "  {'id': '920278', 'score': 1.8611869}],\n",
       " 'results_by_min': [{'id': '943756', 'score': 0.80350846},\n",
       "  {'id': '920278', 'score': 1.7959509}],\n",
       " 'results_by_reranker': [{'id': '943756', 'relevance_score': 0.99998003},\n",
       "  {'id': '920278', 'relevance_score': 0.7088176}],\n",
       " 'retrieval_time': 0.219987154006958,\n",
       " 'reranker_time': 0.3584113121032715}"
      ]
     },
     "execution_count": 47,
     "metadata": {},
     "output_type": "execute_result"
    }
   ],
   "source": [
    "retriever_results[1]['retriever_results']"
   ]
  },
  {
   "cell_type": "markdown",
   "metadata": {},
   "source": [
    "### Average Position"
   ]
  },
  {
   "cell_type": "code",
   "execution_count": 30,
   "metadata": {},
   "outputs": [],
   "source": [
    "ranks_without_reranking = []\n",
    "ranks_with_reranking = []\n",
    "\n",
    "for query_result in retriever_results:\n",
    "    doc_id = query_result[\"id\"]\n",
    "    retriever_result = query_result[\"retriever_results\"]\n",
    "    \n",
    "    results_without_reranking = retriever_result[\"results_by_min\"]\n",
    "    results_with_reranking = retriever_result[\"results_by_reranker\"]\n",
    "    \n",
    "    rank_without_reranking = get_index_of_element(results_without_reranking, doc_id)\n",
    "    rank_with_reranking = get_index_of_element(results_with_reranking, doc_id)\n",
    "    \n",
    "    ranks_without_reranking.append(rank_without_reranking)\n",
    "    ranks_with_reranking.append(rank_with_reranking)"
   ]
  },
  {
   "cell_type": "code",
   "execution_count": 33,
   "metadata": {},
   "outputs": [
    {
     "data": {
      "text/plain": [
       "6"
      ]
     },
     "execution_count": 33,
     "metadata": {},
     "output_type": "execute_result"
    }
   ],
   "source": [
    "pd.Series(ranks_without_reranking).isna().sum()"
   ]
  },
  {
   "cell_type": "code",
   "execution_count": 34,
   "metadata": {},
   "outputs": [
    {
     "data": {
      "text/plain": [
       "6"
      ]
     },
     "execution_count": 34,
     "metadata": {},
     "output_type": "execute_result"
    }
   ],
   "source": [
    "pd.Series(ranks_with_reranking).isna().sum()"
   ]
  },
  {
   "cell_type": "code",
   "execution_count": 35,
   "metadata": {},
   "outputs": [
    {
     "data": {
      "text/plain": [
       "count    94.000000\n",
       "mean      1.212766\n",
       "std       0.685837\n",
       "min       1.000000\n",
       "25%       1.000000\n",
       "50%       1.000000\n",
       "75%       1.000000\n",
       "max       5.000000\n",
       "dtype: float64"
      ]
     },
     "execution_count": 35,
     "metadata": {},
     "output_type": "execute_result"
    }
   ],
   "source": [
    "pd.Series(ranks_without_reranking).describe()"
   ]
  },
  {
   "cell_type": "code",
   "execution_count": 36,
   "metadata": {},
   "outputs": [
    {
     "data": {
      "text/plain": [
       "count    94.000000\n",
       "mean      1.010638\n",
       "std       0.103142\n",
       "min       1.000000\n",
       "25%       1.000000\n",
       "50%       1.000000\n",
       "75%       1.000000\n",
       "max       2.000000\n",
       "dtype: float64"
      ]
     },
     "execution_count": 36,
     "metadata": {},
     "output_type": "execute_result"
    }
   ],
   "source": [
    "pd.Series(ranks_with_reranking).describe()"
   ]
  },
  {
   "cell_type": "code",
   "execution_count": 37,
   "metadata": {
    "tags": []
   },
   "outputs": [
    {
     "data": {
      "text/plain": [
       "['928288', '941372', '886308', '919665', '939636', '913782']"
      ]
     },
     "execution_count": 37,
     "metadata": {},
     "output_type": "execute_result"
    }
   ],
   "source": [
    "# nulos\n",
    "[retriever_results[idx][\"id\"] for idx, v in enumerate(ranks_with_reranking) if v is None]"
   ]
  },
  {
   "cell_type": "markdown",
   "metadata": {},
   "source": [
    "### Mean Reciprocal Rank"
   ]
  },
  {
   "cell_type": "markdown",
   "metadata": {},
   "source": [
    "Podemos transformar os nulos em um valor, para representar um valor pequeno."
   ]
  },
  {
   "cell_type": "code",
   "execution_count": 38,
   "metadata": {},
   "outputs": [
    {
     "data": {
      "text/plain": [
       "0.8736666666666666"
      ]
     },
     "execution_count": 38,
     "metadata": {},
     "output_type": "execute_result"
    }
   ],
   "source": [
    "(1 / pd.Series(ranks_without_reranking).fillna(np.inf)).mean()"
   ]
  },
  {
   "cell_type": "code",
   "execution_count": 39,
   "metadata": {},
   "outputs": [
    {
     "data": {
      "text/plain": [
       "0.935"
      ]
     },
     "execution_count": 39,
     "metadata": {},
     "output_type": "execute_result"
    }
   ],
   "source": [
    "(1 / pd.Series(ranks_with_reranking).fillna(np.inf)).mean()"
   ]
  },
  {
   "cell_type": "markdown",
   "metadata": {},
   "source": [
    "### Métricas @ 1"
   ]
  },
  {
   "cell_type": "code",
   "execution_count": 40,
   "metadata": {},
   "outputs": [
    {
     "data": {
      "text/plain": [
       "dict_keys(['results_by_mean', 'results_by_median', 'results_by_min', 'results_by_reranker', 'retrieval_time', 'reranker_time'])"
      ]
     },
     "execution_count": 40,
     "metadata": {},
     "output_type": "execute_result"
    }
   ],
   "source": [
    "retriever_results[0][\"retriever_results\"].keys()"
   ]
  },
  {
   "cell_type": "code",
   "execution_count": 41,
   "metadata": {},
   "outputs": [],
   "source": [
    "precision1_without_reranking = []\n",
    "precision1_with_reranking = []\n",
    "\n",
    "for query_result in retriever_results:\n",
    "    doc_id = query_result[\"id\"]\n",
    "    retriever_result = query_result[\"retriever_results\"]\n",
    "    \n",
    "    results_without_reranking = retriever_result[\"results_by_min\"][:1]\n",
    "    results_with_reranking = retriever_result[\"results_by_reranker\"][:1]\n",
    "    \n",
    "    has_returned_without_reranking = 1 if get_index_of_element(results_without_reranking, doc_id) is not None else 0\n",
    "    has_returned_with_reranking = 1 if get_index_of_element(results_with_reranking, doc_id) is not None else 0\n",
    "\n",
    "    precision1_without_reranking.append(has_returned_without_reranking / 1)\n",
    "    precision1_with_reranking.append(has_returned_with_reranking / 1)"
   ]
  },
  {
   "cell_type": "code",
   "execution_count": 42,
   "metadata": {},
   "outputs": [
    {
     "data": {
      "text/plain": [
       "0.83"
      ]
     },
     "execution_count": 42,
     "metadata": {},
     "output_type": "execute_result"
    }
   ],
   "source": [
    "pd.Series(precision1_without_reranking).mean()"
   ]
  },
  {
   "cell_type": "code",
   "execution_count": 43,
   "metadata": {},
   "outputs": [
    {
     "data": {
      "text/plain": [
       "0.93"
      ]
     },
     "execution_count": 43,
     "metadata": {},
     "output_type": "execute_result"
    }
   ],
   "source": [
    "pd.Series(precision1_with_reranking).mean()"
   ]
  },
  {
   "cell_type": "markdown",
   "metadata": {},
   "source": [
    "### Métricas @ 5"
   ]
  },
  {
   "cell_type": "code",
   "execution_count": 44,
   "metadata": {},
   "outputs": [
    {
     "ename": "KeyError",
     "evalue": "'similar'",
     "output_type": "error",
     "traceback": [
      "\u001b[0;31m---------------------------------------------------------------------------\u001b[0m",
      "\u001b[0;31mKeyError\u001b[0m                                  Traceback (most recent call last)",
      "Cell \u001b[0;32mIn[44], line 6\u001b[0m\n\u001b[1;32m      4\u001b[0m \u001b[38;5;28;01mfor\u001b[39;00m query_result \u001b[38;5;129;01min\u001b[39;00m retriever_results:\n\u001b[1;32m      5\u001b[0m     doc_id \u001b[38;5;241m=\u001b[39m query_result[\u001b[38;5;124m\"\u001b[39m\u001b[38;5;124mid\u001b[39m\u001b[38;5;124m\"\u001b[39m]\n\u001b[0;32m----> 6\u001b[0m     relevant_list \u001b[38;5;241m=\u001b[39m [\u001b[38;5;241m*\u001b[39m\u001b[43mquery_result\u001b[49m\u001b[43m[\u001b[49m\u001b[38;5;124;43m\"\u001b[39;49m\u001b[38;5;124;43msimilar\u001b[39;49m\u001b[38;5;124;43m\"\u001b[39;49m\u001b[43m]\u001b[49m, doc_id]\n\u001b[1;32m      7\u001b[0m     retriever_result \u001b[38;5;241m=\u001b[39m query_result[\u001b[38;5;124m\"\u001b[39m\u001b[38;5;124mretriever_results\u001b[39m\u001b[38;5;124m\"\u001b[39m]\n\u001b[1;32m      9\u001b[0m     results_without_reranking \u001b[38;5;241m=\u001b[39m retriever_result[\u001b[38;5;124m\"\u001b[39m\u001b[38;5;124mresults_by_min\u001b[39m\u001b[38;5;124m\"\u001b[39m][:\u001b[38;5;241m5\u001b[39m]\n",
      "\u001b[0;31mKeyError\u001b[0m: 'similar'"
     ]
    }
   ],
   "source": [
    "precision5_without_reranking = []\n",
    "precision5_with_reranking = []\n",
    "\n",
    "for query_result in retriever_results:\n",
    "    doc_id = query_result[\"id\"]\n",
    "    relevant_list = [*query_result[\"similar\"], doc_id]\n",
    "    retriever_result = query_result[\"retriever_results\"]\n",
    "    \n",
    "    results_without_reranking = retriever_result[\"results_by_min\"][:5]\n",
    "    results_with_reranking = retriever_result[\"results_by_reranker\"][:5]\n",
    "    \n",
    "    has_returned_without_reranking = np.sum([1 if get_index_of_element(results_without_reranking, relevantid) is not None else 0 for relevantid in relevant_list])\n",
    "    has_returned_with_reranking = np.sum([1 if get_index_of_element(results_with_reranking, relevantid) is not None else 0 for relevantid in relevant_list])\n",
    "\n",
    "    precision5_without_reranking.append(has_returned_without_reranking / len(relevant_list))\n",
    "    precision5_with_reranking.append(has_returned_with_reranking / len(relevant_list))"
   ]
  },
  {
   "cell_type": "code",
   "execution_count": 45,
   "metadata": {},
   "outputs": [
    {
     "data": {
      "text/plain": [
       "nan"
      ]
     },
     "execution_count": 45,
     "metadata": {},
     "output_type": "execute_result"
    }
   ],
   "source": [
    "pd.Series(precision5_without_reranking).mean()"
   ]
  },
  {
   "cell_type": "code",
   "execution_count": 36,
   "metadata": {},
   "outputs": [
    {
     "data": {
      "text/plain": [
       "0.48358333333333337"
      ]
     },
     "execution_count": 36,
     "metadata": {},
     "output_type": "execute_result"
    }
   ],
   "source": [
    "pd.Series(precision5_with_reranking).mean()"
   ]
  },
  {
   "cell_type": "markdown",
   "metadata": {},
   "source": [
    "### Métricas R"
   ]
  },
  {
   "cell_type": "code",
   "execution_count": 46,
   "metadata": {},
   "outputs": [
    {
     "ename": "NameError",
     "evalue": "name 'relevant_list' is not defined",
     "output_type": "error",
     "traceback": [
      "\u001b[0;31m---------------------------------------------------------------------------\u001b[0m",
      "\u001b[0;31mNameError\u001b[0m                                 Traceback (most recent call last)",
      "Cell \u001b[0;32mIn[56], line 12\u001b[0m\n\u001b[1;32m      7\u001b[0m retriever_result \u001b[38;5;241m=\u001b[39m query_result[\u001b[38;5;124m\"\u001b[39m\u001b[38;5;124mretriever_results\u001b[39m\u001b[38;5;124m\"\u001b[39m]\n\u001b[1;32m      9\u001b[0m \u001b[38;5;66;03m# results_without_reranking = retriever_result[\"results_by_min\"][:len(relevant_list)]\u001b[39;00m\n\u001b[1;32m     10\u001b[0m \u001b[38;5;66;03m# results_with_reranking = retriever_result[\"results_by_reranker\"][:len(relevant_list)]\u001b[39;00m\n\u001b[0;32m---> 12\u001b[0m has_returned_without_reranking \u001b[38;5;241m=\u001b[39m np\u001b[38;5;241m.\u001b[39msum([\u001b[38;5;241m1\u001b[39m \u001b[38;5;28;01mif\u001b[39;00m get_index_of_element(results_without_reranking, relevantid) \u001b[38;5;129;01mis\u001b[39;00m \u001b[38;5;129;01mnot\u001b[39;00m \u001b[38;5;28;01mNone\u001b[39;00m \u001b[38;5;28;01melse\u001b[39;00m \u001b[38;5;241m0\u001b[39m \u001b[38;5;28;01mfor\u001b[39;00m relevantid \u001b[38;5;129;01min\u001b[39;00m \u001b[43mrelevant_list\u001b[49m])\n\u001b[1;32m     13\u001b[0m has_returned_with_reranking \u001b[38;5;241m=\u001b[39m np\u001b[38;5;241m.\u001b[39msum([\u001b[38;5;241m1\u001b[39m \u001b[38;5;28;01mif\u001b[39;00m get_index_of_element(results_with_reranking, relevantid) \u001b[38;5;129;01mis\u001b[39;00m \u001b[38;5;129;01mnot\u001b[39;00m \u001b[38;5;28;01mNone\u001b[39;00m \u001b[38;5;28;01melse\u001b[39;00m \u001b[38;5;241m0\u001b[39m \u001b[38;5;28;01mfor\u001b[39;00m relevantid \u001b[38;5;129;01min\u001b[39;00m relevant_list])\n\u001b[1;32m     15\u001b[0m precisionR_without_reranking\u001b[38;5;241m.\u001b[39mappend(has_returned_without_reranking \u001b[38;5;241m/\u001b[39m \u001b[38;5;28mlen\u001b[39m(relevant_list))\n",
      "\u001b[0;31mNameError\u001b[0m: name 'relevant_list' is not defined"
     ]
    }
   ],
   "source": [
    "precisionR_without_reranking = []\n",
    "precisionR_with_reranking = []\n",
    "\n",
    "for query_result in retriever_results:\n",
    "    doc_id = query_result[\"id\"]\n",
    "    relevant_list = [*query_result[\"similar\"], doc_id]\n",
    "    retriever_result = query_result[\"retriever_results\"]\n",
    "    \n",
    "    results_without_reranking = retriever_result[\"results_by_min\"][:len(relevant_list)]\n",
    "    results_with_reranking = retriever_result[\"results_by_reranker\"][:len(relevant_list)]\n",
    "    \n",
    "    has_returned_without_reranking = np.sum([1 if get_index_of_element(results_without_reranking, relevantid) is not None else 0 for relevantid in relevant_list])\n",
    "    has_returned_with_reranking = np.sum([1 if get_index_of_element(results_with_reranking, relevantid) is not None else 0 for relevantid in relevant_list])\n",
    "\n",
    "    precisionR_without_reranking.append(has_returned_without_reranking / len(relevant_list))\n",
    "    precisionR_with_reranking.append(has_returned_with_reranking / len(relevant_list))"
   ]
  },
  {
   "cell_type": "code",
   "execution_count": 47,
   "metadata": {},
   "outputs": [
    {
     "data": {
      "text/plain": [
       "nan"
      ]
     },
     "execution_count": 47,
     "metadata": {},
     "output_type": "execute_result"
    }
   ],
   "source": [
    "pd.Series(precisionR_without_reranking).mean()"
   ]
  },
  {
   "cell_type": "code",
   "execution_count": 48,
   "metadata": {},
   "outputs": [
    {
     "data": {
      "text/plain": [
       "nan"
      ]
     },
     "execution_count": 48,
     "metadata": {},
     "output_type": "execute_result"
    }
   ],
   "source": [
    "pd.Series(precisionR_with_reranking).mean()"
   ]
  },
  {
   "cell_type": "markdown",
   "metadata": {},
   "source": [
    "### Context Relevancy (Top 5)"
   ]
  },
  {
   "cell_type": "markdown",
   "metadata": {},
   "source": [
    "O modelo de reranker já faz uma análise de relevância para fazer o reranking, então podemos utilizar as métricas...\n",
    "\n",
    "Isso também pode ser feito com o output final de relevancia...."
   ]
  },
  {
   "cell_type": "code",
   "execution_count": 50,
   "metadata": {},
   "outputs": [],
   "source": [
    "context_relevance_with_reranking = []\n",
    "\n",
    "for query_result in retriever_results:\n",
    "    doc_id = query_result[\"id\"]\n",
    "    # relevant_list = [*query_result[\"similar\"], doc_id]\n",
    "    retriever_result = query_result[\"retriever_results\"]\n",
    "\n",
    "    results_with_reranking = retriever_result[\"results_by_reranker\"][:5]\n",
    "\n",
    "    context_relevance = [res[\"relevance_score\"] for res in results_with_reranking]\n",
    "\n",
    "    context_relevance_with_reranking.extend(context_relevance)"
   ]
  },
  {
   "cell_type": "code",
   "execution_count": 51,
   "metadata": {},
   "outputs": [
    {
     "data": {
      "text/plain": [
       "0.9078932495161289"
      ]
     },
     "execution_count": 51,
     "metadata": {},
     "output_type": "execute_result"
    }
   ],
   "source": [
    "pd.Series(context_relevance_with_reranking).fillna(0).mean()"
   ]
  },
  {
   "cell_type": "code",
   "execution_count": 53,
   "metadata": {},
   "outputs": [],
   "source": [
    "context_relevance_without_reranking = []\n",
    "\n",
    "for query_result in retriever_results:\n",
    "    doc_id = query_result[\"id\"]\n",
    "    # relevant_list = [*query_result[\"similar\"], doc_id]\n",
    "    retriever_result = query_result[\"retriever_results\"]\n",
    "    \n",
    "    score_with_reranking = {r['id']: r['relevance_score'] for r in retriever_result[\"results_by_reranker\"]}\n",
    "    results_without_reranking = retriever_result[\"results_by_min\"][:5]\n",
    "    \n",
    "    # print(score_with_reranking)\n",
    "    # print(results_without_reranking)\n",
    "\n",
    "    context_relevance = [score_with_reranking.get(res[\"id\"]) or 0.4 for res in results_without_reranking]\n",
    "\n",
    "    context_relevance_without_reranking.extend(context_relevance)"
   ]
  },
  {
   "cell_type": "code",
   "execution_count": 54,
   "metadata": {},
   "outputs": [
    {
     "data": {
      "text/plain": [
       "0.6453237157929518"
      ]
     },
     "execution_count": 54,
     "metadata": {},
     "output_type": "execute_result"
    }
   ],
   "source": [
    "pd.Series(context_relevance_without_reranking).fillna(0).mean()"
   ]
  },
  {
   "cell_type": "markdown",
   "metadata": {},
   "source": [
    "### Tempo de Execução"
   ]
  },
  {
   "cell_type": "code",
   "execution_count": 187,
   "metadata": {},
   "outputs": [
    {
     "data": {
      "text/plain": [
       "count    1000.000000\n",
       "mean        0.251965\n",
       "std         0.057481\n",
       "min         0.179228\n",
       "25%         0.206047\n",
       "50%         0.239344\n",
       "75%         0.287115\n",
       "max         0.714301\n",
       "dtype: float64"
      ]
     },
     "execution_count": 187,
     "metadata": {},
     "output_type": "execute_result"
    }
   ],
   "source": [
    "pd.Series([r['retriever_results']['retrieval_time'] for r in retriever_results]).describe()"
   ]
  },
  {
   "cell_type": "code",
   "execution_count": 188,
   "metadata": {},
   "outputs": [
    {
     "data": {
      "text/plain": [
       "count    1000.000000\n",
       "mean        0.643066\n",
       "std         0.846831\n",
       "min         0.271600\n",
       "25%         0.461383\n",
       "50%         0.642182\n",
       "75%         0.727551\n",
       "max        26.506854\n",
       "dtype: float64"
      ]
     },
     "execution_count": 188,
     "metadata": {},
     "output_type": "execute_result"
    }
   ],
   "source": [
    "pd.Series([r['retriever_results']['reranker_time'] for r in retriever_results]).describe()"
   ]
  },
  {
   "cell_type": "markdown",
   "metadata": {},
   "source": [
    "# Teste Generation"
   ]
  },
  {
   "cell_type": "code",
   "execution_count": 149,
   "metadata": {},
   "outputs": [],
   "source": [
    "from lib.generator import Generator\n",
    "import asyncio\n",
    "import time"
   ]
  },
  {
   "cell_type": "code",
   "execution_count": 153,
   "metadata": {
    "collapsed": true,
    "jupyter": {
     "outputs_hidden": true
    },
    "tags": []
   },
   "outputs": [
    {
     "name": "stdout",
     "output_type": "stream",
     "text": [
      "............................................................................................................................................................................................................................................................................................................................................................................................"
     ]
    },
    {
     "name": "stderr",
     "output_type": "stream",
     "text": [
      "Retrying langchain.chat_models.openai.ChatOpenAI.completion_with_retry.<locals>._completion_with_retry in 4.0 seconds as it raised Timeout: Request timed out: HTTPSConnectionPool(host='api.openai.com', port=443): Read timed out. (read timeout=600).\n"
     ]
    },
    {
     "name": "stdout",
     "output_type": "stream",
     "text": [
      "......................................................................................................................................................................................................................................................................................................................................................................................................................................"
     ]
    },
    {
     "name": "stderr",
     "output_type": "stream",
     "text": [
      "Retrying langchain.chat_models.openai.ChatOpenAI.completion_with_retry.<locals>._completion_with_retry in 4.0 seconds as it raised Timeout: Request timed out: HTTPSConnectionPool(host='api.openai.com', port=443): Read timed out. (read timeout=600).\n"
     ]
    },
    {
     "name": "stdout",
     "output_type": "stream",
     "text": [
      "........................."
     ]
    },
    {
     "name": "stderr",
     "output_type": "stream",
     "text": [
      "Retrying langchain.chat_models.openai.ChatOpenAI.completion_with_retry.<locals>._completion_with_retry in 4.0 seconds as it raised APIError: HTTP code 520 from API (<!DOCTYPE html>\n",
      "<!--[if lt IE 7]> <html class=\"no-js ie6 oldie\" lang=\"en-US\"> <![endif]-->\n",
      "<!--[if IE 7]>    <html class=\"no-js ie7 oldie\" lang=\"en-US\"> <![endif]-->\n",
      "<!--[if IE 8]>    <html class=\"no-js ie8 oldie\" lang=\"en-US\"> <![endif]-->\n",
      "<!--[if gt IE 8]><!--> <html class=\"no-js\" lang=\"en-US\"> <!--<![endif]-->\n",
      "<head>\n",
      "\n",
      "\n",
      "<title>api.openai.com | 520: Web server is returning an unknown error</title>\n",
      "<meta charset=\"UTF-8\" />\n",
      "<meta http-equiv=\"Content-Type\" content=\"text/html; charset=UTF-8\" />\n",
      "<meta http-equiv=\"X-UA-Compatible\" content=\"IE=Edge\" />\n",
      "<meta name=\"robots\" content=\"noindex, nofollow\" />\n",
      "<meta name=\"viewport\" content=\"width=device-width,initial-scale=1\" />\n",
      "<link rel=\"stylesheet\" id=\"cf_styles-css\" href=\"/cdn-cgi/styles/main.css\" />\n",
      "\n",
      "\n",
      "</head>\n",
      "<body>\n",
      "<div id=\"cf-wrapper\">\n",
      "    <div id=\"cf-error-details\" class=\"p-0\">\n",
      "        <header class=\"mx-auto pt-10 lg:pt-6 lg:px-8 w-240 lg:w-full mb-8\">\n",
      "            <h1 class=\"inline-block sm:block sm:mb-2 font-light text-60 lg:text-4xl text-black-dark leading-tight mr-2\">\n",
      "              <span class=\"inline-block\">Web server is returning an unknown error</span>\n",
      "              <span class=\"code-label\">Error code 520</span>\n",
      "            </h1>\n",
      "            <div>\n",
      "               Visit <a href=\"https://www.cloudflare.com/5xx-error-landing?utm_source=errorcode_520&utm_campaign=api.openai.com\" target=\"_blank\" rel=\"noopener noreferrer\">cloudflare.com</a> for more information.\n",
      "            </div>\n",
      "            <div class=\"mt-3\">2024-05-16 13:13:13 UTC</div>\n",
      "        </header>\n",
      "        <div class=\"my-8 bg-gradient-gray\">\n",
      "            <div class=\"w-240 lg:w-full mx-auto\">\n",
      "                <div class=\"clearfix md:px-8\">\n",
      "                  \n",
      "<div id=\"cf-browser-status\" class=\" relative w-1/3 md:w-full py-15 md:p-0 md:py-8 md:text-left md:border-solid md:border-0 md:border-b md:border-gray-400 overflow-hidden float-left md:float-none text-center\">\n",
      "  <div class=\"relative mb-10 md:m-0\">\n",
      "    \n",
      "    <span class=\"cf-icon-browser block md:hidden h-20 bg-center bg-no-repeat\"></span>\n",
      "    <span class=\"cf-icon-ok w-12 h-12 absolute left-1/2 md:left-auto md:right-0 md:top-0 -ml-6 -bottom-4\"></span>\n",
      "    \n",
      "  </div>\n",
      "  <span class=\"md:block w-full truncate\">You</span>\n",
      "  <h3 class=\"md:inline-block mt-3 md:mt-0 text-2xl text-gray-600 font-light leading-1.3\">\n",
      "    \n",
      "    Browser\n",
      "    \n",
      "  </h3>\n",
      "  <span class=\"leading-1.3 text-2xl text-green-success\">Working</span>\n",
      "</div>\n",
      "\n",
      "<div id=\"cf-cloudflare-status\" class=\" relative w-1/3 md:w-full py-15 md:p-0 md:py-8 md:text-left md:border-solid md:border-0 md:border-b md:border-gray-400 overflow-hidden float-left md:float-none text-center\">\n",
      "  <div class=\"relative mb-10 md:m-0\">\n",
      "    <a href=\"https://www.cloudflare.com/5xx-error-landing?utm_source=errorcode_520&utm_campaign=api.openai.com\" target=\"_blank\" rel=\"noopener noreferrer\">\n",
      "    <span class=\"cf-icon-cloud block md:hidden h-20 bg-center bg-no-repeat\"></span>\n",
      "    <span class=\"cf-icon-ok w-12 h-12 absolute left-1/2 md:left-auto md:right-0 md:top-0 -ml-6 -bottom-4\"></span>\n",
      "    </a>\n",
      "  </div>\n",
      "  <span class=\"md:block w-full truncate\">Rio de Janeiro</span>\n",
      "  <h3 class=\"md:inline-block mt-3 md:mt-0 text-2xl text-gray-600 font-light leading-1.3\">\n",
      "    <a href=\"https://www.cloudflare.com/5xx-error-landing?utm_source=errorcode_520&utm_campaign=api.openai.com\" target=\"_blank\" rel=\"noopener noreferrer\">\n",
      "    Cloudflare\n",
      "    </a>\n",
      "  </h3>\n",
      "  <span class=\"leading-1.3 text-2xl text-green-success\">Working</span>\n",
      "</div>\n",
      "\n",
      "<div id=\"cf-host-status\" class=\"cf-error-source relative w-1/3 md:w-full py-15 md:p-0 md:py-8 md:text-left md:border-solid md:border-0 md:border-b md:border-gray-400 overflow-hidden float-left md:float-none text-center\">\n",
      "  <div class=\"relative mb-10 md:m-0\">\n",
      "    \n",
      "    <span class=\"cf-icon-server block md:hidden h-20 bg-center bg-no-repeat\"></span>\n",
      "    <span class=\"cf-icon-error w-12 h-12 absolute left-1/2 md:left-auto md:right-0 md:top-0 -ml-6 -bottom-4\"></span>\n",
      "    \n",
      "  </div>\n",
      "  <span class=\"md:block w-full truncate\">api.openai.com</span>\n",
      "  <h3 class=\"md:inline-block mt-3 md:mt-0 text-2xl text-gray-600 font-light leading-1.3\">\n",
      "    \n",
      "    Host\n",
      "    \n",
      "  </h3>\n",
      "  <span class=\"leading-1.3 text-2xl text-red-error\">Error</span>\n",
      "</div>\n",
      "\n",
      "                </div>\n",
      "            </div>\n",
      "        </div>\n",
      "\n",
      "        <div class=\"w-240 lg:w-full mx-auto mb-8 lg:px-8\">\n",
      "            <div class=\"clearfix\">\n",
      "                <div class=\"w-1/2 md:w-full float-left pr-6 md:pb-10 md:pr-0 leading-relaxed\">\n",
      "                    <h2 class=\"text-3xl font-normal leading-1.3 mb-4\">What happened?</h2>\n",
      "                    <p>There is an unknown connection issue between Cloudflare and the origin web server. As a result, the web page can not be displayed.</p>\n",
      "                </div>\n",
      "                <div class=\"w-1/2 md:w-full float-left leading-relaxed\">\n",
      "                    <h2 class=\"text-3xl font-normal leading-1.3 mb-4\">What can I do?</h2>\n",
      "                          <h3 class=\"text-15 font-semibold mb-2\">If you are a visitor of this website:</h3>\n",
      "      <p class=\"mb-6\">Please try again in a few minutes.</p>\n",
      "\n",
      "      <h3 class=\"text-15 font-semibold mb-2\">If you are the owner of this website:</h3>\n",
      "      <p><span>There is an issue between Cloudflare's cache and your origin web server. Cloudflare monitors for these errors and automatically investigates the cause. To help support the investigation, you can pull the corresponding error log from your web server and submit it our support team.  Please include the Ray ID (which is at the bottom of this error page).</span> <a rel=\"noopener noreferrer\" href=\"https://support.cloudflare.com/hc/en-us/articles/200171936-Error-520\">Additional troubleshooting resources</a>.</p>\n",
      "                </div>\n",
      "            </div>\n",
      "        </div>\n",
      "\n",
      "        <div class=\"cf-error-footer cf-wrapper w-240 lg:w-full py-10 sm:py-4 sm:px-8 mx-auto text-center sm:text-left border-solid border-0 border-t border-gray-300\">\n",
      "  <p class=\"text-13\">\n",
      "    <span class=\"cf-footer-item sm:block sm:mb-1\">Cloudflare Ray ID: <strong class=\"font-semibold\">884b9e129d797a8c</strong></span>\n",
      "    <span class=\"cf-footer-separator sm:hidden\">&bull;</span>\n",
      "    <span id=\"cf-footer-item-ip\" class=\"cf-footer-item hidden sm:block sm:mb-1\">\n",
      "      Your IP:\n",
      "      <button type=\"button\" id=\"cf-footer-ip-reveal\" class=\"cf-footer-ip-reveal-btn\">Click to reveal</button>\n",
      "      <span class=\"hidden\" id=\"cf-footer-ip\">201.17.124.176</span>\n",
      "      <span class=\"cf-footer-separator sm:hidden\">&bull;</span>\n",
      "    </span>\n",
      "    <span class=\"cf-footer-item sm:block sm:mb-1\"><span>Performance &amp; security by</span> <a rel=\"noopener noreferrer\" href=\"https://www.cloudflare.com/5xx-error-landing?utm_source=errorcode_520&utm_campaign=api.openai.com\" id=\"brand_link\" target=\"_blank\">Cloudflare</a></span>\n",
      "    \n",
      "  </p>\n",
      "  <script>(function(){function d(){var b=a.getElementById(\"cf-footer-item-ip\"),c=a.getElementById(\"cf-footer-ip-reveal\");b&&\"classList\"in b&&(b.classList.remove(\"hidden\"),c.addEventListener(\"click\",function(){c.classList.add(\"hidden\");a.getElementById(\"cf-footer-ip\").classList.remove(\"hidden\")}))}var a=document;document.addEventListener&&a.addEventListener(\"DOMContentLoaded\",d)})();</script>\n",
      "</div><!-- /.error-footer -->\n",
      "\n",
      "\n",
      "    </div>\n",
      "</div>\n",
      "</body>\n",
      "</html>\n",
      ").\n"
     ]
    },
    {
     "name": "stdout",
     "output_type": "stream",
     "text": [
      "............................................................................................................................................................................."
     ]
    }
   ],
   "source": [
    "# generation_results = []\n",
    "# error = []\n",
    "\n",
    "for info in retriever_results[:1000]:\n",
    "    docid = info['id']\n",
    "    query = info['query']\n",
    "    reranked_documents = info[\"retriever_documents\"]\n",
    "    \n",
    "    start = time.time()\n",
    "    \n",
    "    try:\n",
    "        llm_results = []\n",
    "        for doc in reranked_documents:\n",
    "            generator = Generator(\n",
    "                openai_api_key,\n",
    "                query,\n",
    "                document_info=doc,\n",
    "                model_name=\"gpt-3.5-turbo-0125\",\n",
    "                temperature=0.2,\n",
    "                max_tokens=4096\n",
    "            )\n",
    "            await generator.run_llm()\n",
    "\n",
    "            llm_result = {\n",
    "                \"id\": doc[\"id\"],\n",
    "                \"doc\": doc,\n",
    "                \"relevance\": generator.article_relevance,\n",
    "                \"summary\": generator.article_summary,\n",
    "                \"objectives\": generator.article_objectives,\n",
    "                \"conclusions\": generator.article_conclusions\n",
    "            }\n",
    "\n",
    "            llm_results.append(llm_result)\n",
    "\n",
    "    except Exception as e:\n",
    "        print(\"ERROR:\", e)\n",
    "        error.append(docid)\n",
    "        continue\n",
    "    \n",
    "    end = time.time()\n",
    "    generation_time = end - start\n",
    "        \n",
    "    result = info.copy()\n",
    "    result[\"generation_results\"] = {\n",
    "        \"results\": llm_results,\n",
    "        \"generation_time\": generation_time\n",
    "    }    \n",
    "    \n",
    "    generation_results.append(result)\n",
    "    \n",
    "    print('.', end='')"
   ]
  },
  {
   "cell_type": "code",
   "execution_count": 157,
   "metadata": {},
   "outputs": [],
   "source": [
    "# generation_results[0]"
   ]
  },
  {
   "cell_type": "code",
   "execution_count": 158,
   "metadata": {},
   "outputs": [
    {
     "data": {
      "text/plain": [
       "1000"
      ]
     },
     "execution_count": 158,
     "metadata": {},
     "output_type": "execute_result"
    }
   ],
   "source": [
    "len(generation_results)"
   ]
  },
  {
   "cell_type": "code",
   "execution_count": 159,
   "metadata": {},
   "outputs": [],
   "source": [
    "import pickle"
   ]
  },
  {
   "cell_type": "code",
   "execution_count": 161,
   "metadata": {},
   "outputs": [
    {
     "name": "stdout",
     "output_type": "stream",
     "text": [
      "202405170017\n"
     ]
    }
   ],
   "source": [
    "currenttimestamp = datetime.now().strftime(\"%Y%m%d%H%M\")\n",
    "print(currenttimestamp)\n",
    "\n",
    "with open(f'{validation_results_path}/generation_results_{currenttimestamp}.pkl', 'wb') as fp:\n",
    "    pickle.dump(generation_results, fp, protocol=pickle.HIGHEST_PROTOCOL)"
   ]
  },
  {
   "cell_type": "markdown",
   "metadata": {},
   "source": [
    "# Análise Generation"
   ]
  },
  {
   "cell_type": "code",
   "execution_count": 48,
   "metadata": {},
   "outputs": [],
   "source": [
    "import pickle\n",
    "import pandas as pd"
   ]
  },
  {
   "cell_type": "code",
   "execution_count": 49,
   "metadata": {},
   "outputs": [],
   "source": [
    "# with open(f'{validation_results_path}/generation_results_202405121153.pkl', 'rb') as fp:\n",
    "with open(f'{validation_results_path}/generation_results_202405170017.pkl', 'rb') as fp:     # teste oficial 1000 abstracts\n",
    "    generation_results = pickle.load(fp)"
   ]
  },
  {
   "cell_type": "code",
   "execution_count": 50,
   "metadata": {},
   "outputs": [
    {
     "data": {
      "text/plain": [
       "1000"
      ]
     },
     "execution_count": 50,
     "metadata": {},
     "output_type": "execute_result"
    }
   ],
   "source": [
    "len(generation_results)"
   ]
  },
  {
   "cell_type": "code",
   "execution_count": 51,
   "metadata": {},
   "outputs": [
    {
     "data": {
      "text/plain": [
       "dict_keys(['id', 'title', 'abstract', 'query', 'similar', 'retriever_documents', 'retriever_results', 'generation_results'])"
      ]
     },
     "execution_count": 51,
     "metadata": {},
     "output_type": "execute_result"
    }
   ],
   "source": [
    "generation_results[0].keys()"
   ]
  },
  {
   "cell_type": "code",
   "execution_count": 59,
   "metadata": {},
   "outputs": [
    {
     "data": {
      "text/plain": [
       "dict_keys(['results', 'generation_time'])"
      ]
     },
     "execution_count": 59,
     "metadata": {},
     "output_type": "execute_result"
    }
   ],
   "source": [
    "generation_results[0]['generation_results'].keys()"
   ]
  },
  {
   "cell_type": "code",
   "execution_count": 63,
   "metadata": {},
   "outputs": [
    {
     "data": {
      "text/plain": [
       "{'id': '920278',\n",
       " 'doc': {'title': 'Aperfeiçoamento da regulação brasileira de segurança do processamento submarino de óleo e gás a partir de análise crítica e comparativa com regulações congêneres',\n",
       "  'authors': ['Figueredo, Ana Karolina Muniz',\n",
       "   'Souza Júnior, Maurício Bezerra de orient.',\n",
       "   'Vaz Junior, Carlos André coorient.',\n",
       "   'Universidade Federal do Rio de Janeiro. Escola de Química'],\n",
       "  'abstract': 'Com a diminuição das reservas de petróleo facilmente acessíveis no mundo, o processamento submarino vem ganhando o interesse da indústria de óleo e gás. A utilização de equipamentos submarinos traz diferentes riscos associados devido as condições operacionais e ambientais. As unidades de processamento submarino são parte do sistema submarino e podem incluir etapas de separação, elevação, escoamento e injeção dos fluidos produzido. Atualmente, existem mais de 48 unidades de processamento submarino instaladas no Brasil. Em 2015, a Agência Nacional de Petróleo, Gás Natural e Biocombustíveis (ANP) publicou um regulamento de segurança específico para instalações submarinas denominado SGSS (Regulamento Técnico de Sistema de Gestão da Segurança Operacional do Sistema Submarino), motivado pelos acidentes de dutos offshore. Essa regulamentação estabelece requisitos específicos para riser, contudo, apenas requisitos gerais para outras instalações e demais equipamentos submarinos. Assim, essa pesquisa avalia a regulação brasileira de segurança submarina, bem como a compara com a regulação internacional de equipamentos submarinos do Reino Unido, Estados Unidos e Noruega. Além disso, avalia os resultados da implementação do regulamento de segurança específico para equipamentos submarinos por meio dos resultados de inspeções e comunicações de incidentes apresentados à ANP.A influência da regulamentação na identificação e gerenciamento de acidentes graves é também analisada. Com base no estudo realizado, foi possível verificar que a implementação da regulação de equipamento submarinos não foi suficiente para promover a segurança dessas instalações. Sendo assim, esta tese propõe uma simplificação no arcabouço regulatório atual, a realização de análise ex-post, a introdução de novos requisitos específicos para instalações submarinas (qualificação de nova tecnologia, prazo máximo de cinco anos fora de operação para o descomissionamento, requisitos específicos para instalações de processamento subsea, reportação de incidentes, detecção de vazamentos e plano de resposta a emergências com vazamento de óleo), e a criação de um comitê técnico para melhorar à segurança dos equipamentos submarinos.',\n",
       "  'bibliography_pages': [119, 140],\n",
       "  'keywords': ['Instalações submarinas', 'Regulamentação', 'Segurança'],\n",
       "  'urls': ['http://objdig.ufrj.br/61/teses/920278.pdf',\n",
       "   'http://lattes.cnpq.br/0632680305671209'],\n",
       "  'pdf_url': 'http://objdig.ufrj.br/61/teses/920278.pdf',\n",
       "  'id': '920278',\n",
       "  'sentences': [Document(page_content='melhoria contínua (API, 2019) . A norma era uma prática recomendada pelo BSEE para as operações de óleo e gás nos Estados Unidos, porém, após o acidente de Macondo, tornou -se obrigatória em 2010 (BSEE, 2013) .\\nEm 2007, o CCPS desenvolveu uma estrutura de sistema de gerenciamento de segurança baseado em risco, o qual é chamado RBPS. Essa estrutura foi fundame ntada na experiência em segurança de processos da indústria química. Além disso, publicou um guia para ajudar na utilização prática desse sistema , o qual é composto por 4 pilares e 20 elementos distribuídos dentro desses pilares. Os pilares são (1) comprom isso com a segurança de processos; (2) entendimento de perigos e riscos; (3) gestão de risco ; e (4) aprendizado com a experiência (CCPS, 2007) . Já em 2014 , foi publicado o OMS , contendo as lições aprendidas da implementação do guia relativo a o gerenciamento de segurança publicado pelo IOGP em 1994. Esse guia é aplicável para a indústria de óleo e gá s, tanto upstream , quanto downstream . Ele é composto por 4 princípios fundamentais e 10 elementos. Os princípios são (1) liderança; (2) gerenciamento do risco; (3) melhoria contínua ; e (4) implementação (IPIECA; OGP, 2014) . A Tabela 5 faz a correlação entre as práticas do s sistemas de gestão analisados, sendo possível verificar as semelhanças e diferenças.', metadata={'id': '920278', 'type': 'sentences', 'start_index': 172, 'window_size': 2}),\n",
       "   Document(page_content='A investigação de acidentes é amplamente reconhecida como uma parte essencial de um processo abrangente e eficiente de gestão da segurança. Uma análise detalhada e sistemática de um evento imprevisto permite identificar , não apenas a sua causa imediata (primária), como todo o conjunto de causas raízes, cuja combinação levo u à falha do sistema e à ocorrência das consequências prejudiciais correspondentes (acidente grave) , ou uma condição perigosa temporária não planejada (quase acidente) (ABDOLHAMIDZADEH et al., 2012) . É necessário estudar o acidente além das causas imedia tas, identificando pontos como falhas humanas, organizacionais e pontos fracos no sistema de gestão. Além disso, se as causas subjacentes forem encontradas, recomendações adequadas devem ser efetuadas e executadas (KLETZ, 2001) . Uma estratégia essencial na prevenção de incidentes é aprender com as ocorrências anteriores e, assim, ser mais capaz de evitá -las. A investigação do acidente é como descascar uma cebola. A camada externa lida com as causas técnicas imediatas. Em contraste , as camadas internas estão preocupadas em evitar o perigo e as causas subjacentes, como deficiências no sistema de gestão. Assim, as causas imediatas e raízes de um acidente são essenciais e devem ser consideradas para prevenir futuros acidentes (KLETZ, 2 011).\\nOs acidentes graves podem ser vistos como falhas na gestão dos riscos das instalações, e a melhoria desse aspecto pode ajudar a resolver problemas sistêmicos específicos se for identificado nos relatórios de investigação de acidentes. Os modelos de acidentes mostram que o controle de risco é baseado na definição e gestão de risco entre diferentes atores da indústria, incluindo o regulador, as empresas e o ambiente de trabalho. Assim, falhas de exigências ou supervisão de um regulador podem gerar con dições indesejáveis para a prevenção de acidentes maiores, mesmo após atribuir a responsabilidade pela segurança às empresas, as quais são responsáveis pela impl antação do sistema de gestão. Apesar disso, a abordagem da regulação não se deve limitar a um conjunto de requisitos não prescritivos e auditorias frequentes. Também exige um bom equilíbrio entre diálogo, avaliação de desempenho, outras atividades de influência, construção e apoio ao compromisso, consciência de risco e cultura de segurança (ALMEID A; VINNEM, 2020) . Portanto, para a geração de lições aprendidas dos acidentes deve haver uma análise cuidadosa das causas (imediatas e raízes). Suplementarmente, a aprendizagem com os acidentes não deve focar apenas em evitar a recorrência, mas também me lhorar o processo de aprendizado com os incidentes (DRUPSTEEN; GROENEWEG; ZWETSLOOT, 2013) . O s trabalho s de DRUPSTEEN , GROENEWEG e ZWETSLOOT (2013 ) e PARKER et al. (2018) apresenta m modelo s para o aprendizado com acidentes . A Figura 24 apresenta os passos definidos nesses modelos.', metadata={'id': '920278', 'type': 'sentences', 'start_index': 357, 'window_size': 2}),\n",
       "   Document(page_content='A perspectiva de análise de causas baseada nas práticas de gestão já foi realizada em trabalhos anteriores , como o de (ALMEIDA; VINNEM, 2020) , que avaliou as práticas de gestão envolvidas em acidentes de descarga de óleo no mar . Nessa abordagem , são identificadas as principais circunstâncias relacionadas com as causas que env olvem os acidentes e correlacionadas às práticas de gestão. No ambiente brasileiro, as práticas de gestão referentes às unidades submarinas são apresentadas no SGSS conforme a Tabela 8. Para essa classificação , foi u sada a informação fornecida pelo operador no RDI.\\nA identificação das causas raízes dos incidentes é apresentada na Tabela 20 . Essa classificação levou em conta a informação apresentada pelo operador no RDI (Relatório Detalhado de Incidente. Observa -se que a maior parte das causas apontadas estão relacionadas às falhas na integridade ou a falhas de projeto, demonstrando pouca pr ofundidade nas investigações dos eventos. Nota -se que , em nenhum dos acidentes foi apontado como causa , fatores human os ou organizacionais, mostrando que esse assunto ainda é pouco explorado em investigações de acidentes. Analisando em uma perspectiva hist órica, observa -se que há uma evolução na profundidade da investigação de incidentes envolvendo riser , já que é possível observar que mais práticas de gestão estão sendo associadas aos incidentes ao longo do tempo , com um destaque para 2020 . Observa -se também , que os acidentes de riser podem estar ligados a fatores humanos ou organizacionais em aspectos relacionados a esse assunto , tais como : aprendizado com os incidentes ; percepção de risco e processo decisório , e comunicação de risco s que n ão estão sendo considerados como causas dessas investigações. Nota -se que foram apontadas falhas no aprendizado com incidentes (PG 14).', metadata={'id': '920278', 'type': 'sentences', 'start_index': 408, 'window_size': 2}),\n",
       "   Document(page_content='A identificação de alguns cenários de causa foi realizada com base em Estudos de Impacto Ambiental (EIA) realizados pelos operadores e enviados para o IBAMA (PETROBRAS , 2020b , 2019a, 2019b) e literatura (BAI, YONG; BAI, 2014; HSE, 1998) . Esses cenários , apresentados no também podem ser aplicáveis a equipamentos de processo.\\nApós a identificação das causas de acidentes, os cenários foram classific ados em termos de etapa do ciclo de vida em que se deu ocorrência . Para isso , estabeleceu -se a seguinte legenda : P=projeto, F=fabricação; I=instalação, C=comissionamento, O=operação, M=manutenção e D=descomissionamento. A identificação da etapa do ciclo de vida da instalação tomou como base informações presentes nos EIA avaliados. É possível identificar que algumas causas ocorrem durante a etapa de operação, porém sua s causa s raiz pode ter sido erro de projeto ou no comissionamento, como por exemplo, erros no proje to de proteção catódica ou na escolha do material do revestimento , que durante a operação vai ser identificado através de corrosão . Por fim, as consequências foram identificadas por intermédio dos EIA, d os alertas de segurança e da resoluç ão sobre comunica ção de incidentes publicad as pela ANP (ANP, 2009) . As\\nconsequências e seus desdobramentos variam de acordo com o volume vazado, a composição do material contido no equipamento , as barreiras existentes, as condições ambientais ao longo do acidente e planos de resposta a emergência acionado s.\\nEm posse de todas essas informações , foi elaborada a Tabela do Anexo 1, contendo os perigos identificados, sua classificação de gravidade, fatores causais, etapa do ciclo de vida conforme os fatores causais e as consequências potenciais.\\nApós a análise da Tabela do Anexo 1 , é possível verificar que 3 dos 21 perigos identificados são considerados graves e devem ser comunicados imediatamente à ANP caso ocorram . São eles: descarga maior de óleo (a partir de equipamento/ instrumento/dutos/conexões submarinas) , descarga maior de água oleosa (a partir de equipamento/ instrumento/ dutos/conexões submarinas) e falha estrutural em sistema de coleta ou escoamento da produção (a pa rtir de equipamento / instrumento/ dutos/ conexões submarinas) . Além disso, os acidentes que gerarem danos ao meio ambiente, à saúde humana, prejuízos materiais ao patrimônio ou a terceiros, ocorrência de fatalidades ou ferimentos graves para o pessoal próp rio, para terceiros ou população e interrupção não programada por mais de 24 (vinte e quatro) horas , devem enviar relatório detalhado a respeito de sua investigação para a ANP (ANP, 2009) .', metadata={'id': '920278', 'type': 'sentences', 'start_index': 120, 'window_size': 5}),\n",
       "   Document(page_content='(13) Solicita que o potencial de impacto ambiental seja considerado como parte do processo de avaliaçã o de risco , garantindo que as ações necessári as para limitar o potencial de qualquer acident e maior ambiental serão tomadas .\\n(14) No regulamento de dutos, solicita a existência de detectores de vazamento apropriados para o fluido e as condições operacionais. Também solicita a introdução de intertravamentos nos sistemas de segurança dos dutos .\\nAssim como no Brasil, o HSE realiza inspeções e investigações de acidente. Diferente mente do Brasil, apresenta um regulamento bem mais enxuto relacionado aos requisitos para apresentação da documentação para elaboração do safety case , porém apresenta guias que ajudam a explicar o que o regulamento deseja em cada um dos seus itens. Não há regul amento nem requisito específico para instalações de produção subsea . Em relação aos dutos, ele apresenta regulamento focado em dutos onshore e offshore com alguns requisitos prescritivos nesse tema. Em relação aos acidentes, não há tipologia específica de acidente para equipamentos e instalações submarinas, sendo difícil encontrar os acidentes relacionados ao tema nas bases de dados do HSE. Porém, o EI ( Energy Institute ) elabora o relatório PARLOC ( Pipeline and Riser Loss of Containment ), contendo os dados de incidentes com perda de contenção em dutos offshore e risers no Reino Unido , que é um banco de dados privado . De acordo com (ENERGY INSTITUTE; OIL & GAS UK, 2015) , para a elaboração do relatório , o EI solicita uma série de informações adicionais sobre os incidentes , como:', metadata={'id': '920278', 'type': 'sentences', 'start_index': 306, 'window_size': 3})],\n",
       "  'relevance_score': 0.7088176},\n",
       " 'relevance': 'Relevante. O artigo fornece uma análise crítica da regulação brasileira de segurança do processamento submarino de óleo e gás, o que pode contribuir significativamente para a pesquisa do usuário sobre gestão de emergências na indústria de óleo e gás, abordando os regulamentos brasileiros relacionados ao planejamento de emergências.',\n",
       " 'summary': 'O artigo aborda a regulação brasileira de segurança do processamento submarino de óleo e gás, comparando-a com regulações internacionais. Avalia a implementação do regulamento específico para equipamentos submarinos e propõe melhorias no arcabouço regulatório atual. Destaca a importância da investigação de acidentes para identificar causas e promover a segurança das instalações submarinas.',\n",
       " 'objectives': 'O artigo tem como objetivo avaliar a regulação brasileira de segurança submarina, comparando-a com regulações internacionais, analisar a implementação do regulamento específico para equipamentos submarinos e propor melhorias no arcabouço regulatório atual.',\n",
       " 'conclusions': 'A implementação da regulação de equipamentos submarinos não foi suficiente para promover a segurança dessas instalações. São propostas melhorias no arcabouço regulatório, como simplificação, introdução de novos requisitos específicos e criação de um comitê técnico para melhorar a segurança dos equipamentos submarinos.'}"
      ]
     },
     "execution_count": 63,
     "metadata": {},
     "output_type": "execute_result"
    }
   ],
   "source": [
    "generation_results[1]['generation_results']['results'][1]"
   ]
  },
  {
   "cell_type": "code",
   "execution_count": 53,
   "metadata": {},
   "outputs": [
    {
     "data": {
      "text/plain": [
       "count    1.000000e+03\n",
       "mean     5.030625e+01\n",
       "std      9.506539e+02\n",
       "min      2.384186e-07\n",
       "25%      7.818095e+00\n",
       "50%      1.560901e+01\n",
       "75%      3.121361e+01\n",
       "max      3.007287e+04\n",
       "dtype: float64"
      ]
     },
     "execution_count": 53,
     "metadata": {},
     "output_type": "execute_result"
    }
   ],
   "source": [
    "pd.Series([r['generation_results'][\"generation_time\"] for r in generation_results]).describe()"
   ]
  },
  {
   "cell_type": "code",
   "execution_count": 54,
   "metadata": {},
   "outputs": [
    {
     "data": {
      "text/plain": [
       "15.609010934829712"
      ]
     },
     "execution_count": 54,
     "metadata": {},
     "output_type": "execute_result"
    }
   ],
   "source": [
    "np.median([r['generation_results'][\"generation_time\"] for r in generation_results])"
   ]
  },
  {
   "cell_type": "code",
   "execution_count": 55,
   "metadata": {},
   "outputs": [],
   "source": [
    "index = 15"
   ]
  },
  {
   "cell_type": "code",
   "execution_count": 47,
   "metadata": {},
   "outputs": [
    {
     "data": {
      "text/plain": [
       "'produção de um campo de exploração petrolífera por diferentes abordagens analíticas'"
      ]
     },
     "execution_count": 47,
     "metadata": {},
     "output_type": "execute_result"
    }
   ],
   "source": [
    "generation_results[index][\"title\"]"
   ]
  },
  {
   "cell_type": "code",
   "execution_count": 48,
   "metadata": {},
   "outputs": [
    {
     "data": {
      "text/plain": [
       "'O objetivo da pesquisa é caracterizar e comparar as regiões hipervariáveis do gene rRNA 16S da comunidade microbiana presente na água de produção de um tanque de armazenamento da plataforma P-37 da PETROBRAS, a fim de conhecer a diversidade microbiológica.'"
      ]
     },
     "execution_count": 48,
     "metadata": {},
     "output_type": "execute_result"
    }
   ],
   "source": [
    "generation_results[index][\"query\"]"
   ]
  },
  {
   "cell_type": "code",
   "execution_count": 49,
   "metadata": {},
   "outputs": [
    {
     "data": {
      "text/plain": [
       "2"
      ]
     },
     "execution_count": 49,
     "metadata": {},
     "output_type": "execute_result"
    }
   ],
   "source": [
    "len(generation_results[index][\"generation_results\"])"
   ]
  },
  {
   "cell_type": "code",
   "execution_count": 66,
   "metadata": {},
   "outputs": [],
   "source": [
    "for r in generation_results:\n",
    "    for rr in r[\"generation_results\"][\"results\"]:\n",
    "        if rr[\"relevance\"] == \"\":\n",
    "            print(rr)"
   ]
  },
  {
   "cell_type": "code",
   "execution_count": 50,
   "metadata": {
    "tags": []
   },
   "outputs": [],
   "source": [
    "# for result in generation_results[index][\"generation_results\"]:\n",
    "#     print(f\">>> {result['doc']['title']} [Relevância {result['doc']['relevance_score']}]\", \"\\n\")\n",
    "\n",
    "#     print(\"> Abstract:\", result[\"doc\"][\"abstract\"], \"\\n\")\n",
    "#     print(\"> Relevance:\", result[\"relevance\"], \"\\n\")\n",
    "#     print(\"> Summary:\", result[\"summary\"], \"\\n\")\n",
    "#     print(\"> Objectives:\", result[\"objectives\"], \"\\n\")\n",
    "#     print(\"> Conclusions:\", result[\"conclusions\"], \"\\n\")\n",
    "          \n",
    "#     print(\"---\\n\")"
   ]
  },
  {
   "cell_type": "markdown",
   "metadata": {},
   "source": [
    "### Answer Relevance"
   ]
  },
  {
   "cell_type": "markdown",
   "metadata": {},
   "source": [
    "Visto que a única parte da resposta que diretamente diz respeito a consulta é a relevância, será a unica analisada."
   ]
  },
  {
   "cell_type": "code",
   "execution_count": 51,
   "metadata": {},
   "outputs": [],
   "source": [
    "from langchain.embeddings import HuggingFaceEmbeddings, SentenceTransformerEmbeddings, HuggingFaceBgeEmbeddings"
   ]
  },
  {
   "cell_type": "code",
   "execution_count": 52,
   "metadata": {},
   "outputs": [],
   "source": [
    "embedding_model = SentenceTransformerEmbeddings(model_name=\"sentence-transformers/paraphrase-multilingual-mpnet-base-v2\")"
   ]
  },
  {
   "cell_type": "code",
   "execution_count": 53,
   "metadata": {},
   "outputs": [],
   "source": [
    "from langchain.evaluation import load_evaluator, EmbeddingDistance"
   ]
  },
  {
   "cell_type": "code",
   "execution_count": 54,
   "metadata": {},
   "outputs": [],
   "source": [
    "evaluator = load_evaluator(\"pairwise_embedding_distance\", embeddings=embedding_model)"
   ]
  },
  {
   "cell_type": "code",
   "execution_count": 183,
   "metadata": {},
   "outputs": [],
   "source": [
    "similarity_scores = []\n",
    "for res in generation_results:\n",
    "    scores = []\n",
    "    for gen_res in res[\"generation_results\"][\"results\"]:\n",
    "        simrelevance = evaluator.evaluate_string_pairs(\n",
    "            prediction=res[\"query\"],\n",
    "            prediction_b=gen_res[\"relevance\"],\n",
    "            distance_metric=EmbeddingDistance.COSINE\n",
    "        )['score']\n",
    "        \n",
    "        simsummary = evaluator.evaluate_string_pairs(\n",
    "            prediction=res[\"query\"],\n",
    "            prediction_b=gen_res[\"summary\"],\n",
    "            distance_metric=EmbeddingDistance.COSINE\n",
    "        )['score']\n",
    "        \n",
    "        simobjectives = evaluator.evaluate_string_pairs(\n",
    "            prediction=res[\"query\"],\n",
    "            prediction_b=gen_res[\"objectives\"],\n",
    "            distance_metric=EmbeddingDistance.COSINE\n",
    "        )['score']\n",
    "        \n",
    "        simconclusions = evaluator.evaluate_string_pairs(\n",
    "            prediction=res[\"query\"],\n",
    "            prediction_b=gen_res[\"conclusions\"],\n",
    "            distance_metric=EmbeddingDistance.COSINE\n",
    "        )['score']\n",
    "\n",
    "        scores.append({\n",
    "            \"relevance\": simrelevance,\n",
    "            \"summary\": simsummary,\n",
    "            \"objectives\": simobjectives,\n",
    "            \"conclusions\": simconclusions\n",
    "        })\n",
    "    \n",
    "    similarity_scores.append(scores)\n",
    "    print(\".\", end=\"\")"
   ]
  },
  {
   "cell_type": "code",
   "execution_count": 184,
   "metadata": {},
   "outputs": [],
   "source": [
    "import functools\n",
    "import operator\n",
    "\n",
    "simple_similarity_scores = functools.reduce(operator.iconcat, similarity_scores, [])"
   ]
  },
  {
   "cell_type": "code",
   "execution_count": 138,
   "metadata": {},
   "outputs": [
    {
     "data": {
      "text/plain": [
       "0.15443502177333301"
      ]
     },
     "execution_count": 138,
     "metadata": {},
     "output_type": "execute_result"
    }
   ],
   "source": [
    "np.mean([r['relevance'] for r in simple_similarity_scores])"
   ]
  },
  {
   "cell_type": "code",
   "execution_count": 139,
   "metadata": {},
   "outputs": [
    {
     "data": {
      "text/plain": [
       "0.1924503854766851"
      ]
     },
     "execution_count": 139,
     "metadata": {},
     "output_type": "execute_result"
    }
   ],
   "source": [
    "np.mean([r['summary'] for r in simple_similarity_scores])"
   ]
  },
  {
   "cell_type": "code",
   "execution_count": 140,
   "metadata": {},
   "outputs": [
    {
     "data": {
      "text/plain": [
       "0.27054856187288345"
      ]
     },
     "execution_count": 140,
     "metadata": {},
     "output_type": "execute_result"
    }
   ],
   "source": [
    "np.mean([r['objectives'] for r in simple_similarity_scores])"
   ]
  },
  {
   "cell_type": "code",
   "execution_count": 141,
   "metadata": {},
   "outputs": [
    {
     "data": {
      "text/plain": [
       "0.2707868140405986"
      ]
     },
     "execution_count": 141,
     "metadata": {},
     "output_type": "execute_result"
    }
   ],
   "source": [
    "np.mean([r['conclusions'] for r in simple_similarity_scores])"
   ]
  },
  {
   "cell_type": "markdown",
   "metadata": {},
   "source": [
    "### Faithfulness"
   ]
  },
  {
   "cell_type": "code",
   "execution_count": 68,
   "metadata": {},
   "outputs": [
    {
     "data": {
      "text/plain": [
       "\"O artigo apresenta uma leitura da narrativa de Christy Brown em 'Meu Pé Esquerdo', abordando temas como corpo, amor, felicidade e tristeza. Analisa as diferenças entre o livro e o filme, além de explorar a relação entre leitura, interpretação, educação poética e superação humana. Destaca a importância da obra de Brown para a reflexão sobre questões relacionadas à deficiência e superação.\""
      ]
     },
     "execution_count": 68,
     "metadata": {},
     "output_type": "execute_result"
    }
   ],
   "source": [
    "generation_results[0][\"generation_results\"][\"results\"][0][\"summary\"]"
   ]
  },
  {
   "cell_type": "code",
   "execution_count": 69,
   "metadata": {},
   "outputs": [
    {
     "data": {
      "text/plain": [
       "\"O artigo tem como objetivo analisar as questões abordadas na narrativa de Christy Brown em 'Meu Pé Esquerdo', destacando temas como corpo, amor, felicidade e tristeza, e explorar as diferenças entre o livro e o filme, além de discutir a relação entre leitura, interpretação, educação poética e superação humana.\""
      ]
     },
     "execution_count": 69,
     "metadata": {},
     "output_type": "execute_result"
    }
   ],
   "source": [
    "generation_results[0][\"generation_results\"][\"results\"][0][\"objectives\"]"
   ]
  },
  {
   "cell_type": "code",
   "execution_count": 70,
   "metadata": {},
   "outputs": [
    {
     "data": {
      "text/plain": [
       "'O artigo conclui que a obra de Christy Brown proporciona uma reflexão profunda sobre a vida, a deficiência, a superação e a importância da arte e da educação poética. Destaca o poder de superação inerente ao ser humano e a relevância da leitura e interpretação crítica de obras literárias e cinematográficas.'"
      ]
     },
     "execution_count": 70,
     "metadata": {},
     "output_type": "execute_result"
    }
   ],
   "source": [
    "generation_results[0][\"generation_results\"][\"results\"][0][\"conclusions\"]"
   ]
  },
  {
   "cell_type": "code",
   "execution_count": 71,
   "metadata": {},
   "outputs": [],
   "source": [
    "def generate_faithful_check(result, result_2=None):\n",
    "    # usamos o result para os contextos e result2 para as geracoes\n",
    "    \n",
    "    result_2 = result_2 or result\n",
    "    \n",
    "    paragrafos = \"\\n\\n\".join([\"[CONTEXTO] \\\"\" + s.page_content + \"\\\"\" for s in result[\"doc\"][\"sentences\"]])\n",
    "\n",
    "    query = f\"\"\"\n",
    "    Um modelo de linguagem gerou alguns textos a respeito de um artigo científico a partir dos seguintes contextos:\n",
    "\n",
    "    [CONTEXTO] \"{result[\"doc\"][\"abstract\"]}\"\n",
    "\n",
    "    {paragrafos}\n",
    "\n",
    "    A partir destes contextos, é possível afirmar os textos a seguir? Todos os fatos apresentados nos seguintes textos podem ser encontrados nos contextos?\n",
    "\n",
    "    RESUMO: {result_2[\"summary\"]}\n",
    "    OBJETIVOS: {result_2[\"objectives\"]}\n",
    "    CONCLUSÕES: {result_2[\"conclusions\"]}\n",
    "\n",
    "    Responda com apenas SIM ou NÃO:\n",
    "    \"\"\"\n",
    "    \n",
    "    return query"
   ]
  },
  {
   "cell_type": "code",
   "execution_count": 72,
   "metadata": {},
   "outputs": [],
   "source": [
    "# print(generate_faithful_check(generation_results[0][\"generation_results\"][\"results\"][0]))"
   ]
  },
  {
   "cell_type": "code",
   "execution_count": 73,
   "metadata": {},
   "outputs": [],
   "source": [
    "from langchain.schema import SystemMessage\n",
    "from langchain.chat_models import ChatOpenAI"
   ]
  },
  {
   "cell_type": "code",
   "execution_count": 74,
   "metadata": {},
   "outputs": [],
   "source": [
    "openai_api_key = \"xxxxxx\""
   ]
  },
  {
   "cell_type": "code",
   "execution_count": 75,
   "metadata": {},
   "outputs": [],
   "source": [
    "llm = ChatOpenAI(\n",
    "    model_name=\"gpt-3.5-turbo-0125\",\n",
    "    temperature=0.2,\n",
    "    openai_api_key=openai_api_key,       \n",
    "    max_tokens=4096\n",
    ")"
   ]
  },
  {
   "cell_type": "code",
   "execution_count": 76,
   "metadata": {},
   "outputs": [],
   "source": [
    "import random\n",
    "random.seed(42)\n",
    "\n",
    "import time"
   ]
  },
  {
   "cell_type": "code",
   "execution_count": 98,
   "metadata": {
    "tags": []
   },
   "outputs": [
    {
     "name": "stdout",
     "output_type": "stream",
     "text": [
      "N\n",
      "..N\n",
      ".N\n",
      ".N\n",
      ".N\n",
      "..N\n",
      ".N\n",
      ".N\n",
      ".N\n",
      ".N\n",
      ".N\n",
      ".N\n",
      ".N\n",
      ".N\n",
      ".N\n",
      ".N\n",
      ".N\n",
      ".N\n",
      ".N\n",
      ".N\n",
      ".N\n",
      ".N\n",
      ".N\n",
      "..N\n",
      ".N\n",
      "..N\n",
      ".N\n",
      ".N\n",
      ".N\n",
      ".N\n",
      ".N\n",
      ".N\n",
      ".N\n",
      ".N\n",
      ".N\n",
      ".N\n",
      ".N\n",
      ".N\n",
      "...N\n",
      ".N\n",
      ".N\n",
      ".N\n",
      ".N\n",
      ".N\n",
      ".N\n",
      ".N\n",
      ".N\n",
      ".N\n",
      ".N\n",
      ".N\n",
      ".N\n",
      ".N\n",
      ".N\n",
      "..N\n",
      ".N\n",
      ".N\n",
      ".N\n",
      ".N\n",
      ".N\n",
      ".N\n",
      ".N\n",
      ".N\n",
      ".N\n",
      ".N\n",
      ".N\n",
      ".N\n",
      ".N\n",
      ".N\n",
      ".N\n",
      ".N\n",
      "..N\n",
      ".N\n",
      ".N\n",
      ".N\n",
      ".N\n",
      ".N\n",
      "..N\n",
      "..N\n",
      ".N\n",
      ".N\n",
      ".N\n",
      ".N\n",
      ".N\n",
      ".N\n",
      "..N\n",
      ".N\n",
      ".N\n",
      ".N\n",
      ".."
     ]
    }
   ],
   "source": [
    "faithful_results = []\n",
    "error = []\n",
    "bad_checks = []\n",
    "\n",
    "for gen_res in generation_results[200:300]:\n",
    "    tmp_results = []\n",
    "    tmp_bad = []\n",
    "\n",
    "    # only the top results\n",
    "    for res in gen_res[\"generation_results\"][\"results\"][:1]:\n",
    "        ## obtem uma resposta errada\n",
    "        res_fake = {\"id\": res[\"id\"]}\n",
    "        while res[\"id\"] == res_fake[\"id\"]:\n",
    "            try:\n",
    "                gen_res_fake = random.choice(generation_results)\n",
    "                res_fake = random.choice(gen_res_fake[\"generation_results\"][\"results\"])\n",
    "            except:\n",
    "                continue\n",
    "        \n",
    "        query = generate_faithful_check(res, res_fake)\n",
    "        # print(query, \"\\n\\n---\\n\\n\")\n",
    "        \n",
    "        messages = [SystemMessage(content=query)]\n",
    "        response = llm(messages).content\n",
    "                \n",
    "        if response == \"SIM\":\n",
    "            tmp_results.append(1)\n",
    "        elif response == \"NÃO\":\n",
    "            tmp_results.append(0)\n",
    "            tmp_bad.append(query)\n",
    "        else:\n",
    "            tmp_results.append(None)\n",
    "            error.append(response)\n",
    "    \n",
    "    time.sleep(5)\n",
    "    print(\".\", end=\"\")\n",
    "            \n",
    "    faithful_results.append(tmp_results)\n",
    "    bad_checks.append(tmp_bad)"
   ]
  },
  {
   "cell_type": "code",
   "execution_count": 121,
   "metadata": {},
   "outputs": [
    {
     "data": {
      "text/plain": [
       "100"
      ]
     },
     "execution_count": 121,
     "metadata": {},
     "output_type": "execute_result"
    }
   ],
   "source": [
    "len(faithful_results)"
   ]
  },
  {
   "cell_type": "code",
   "execution_count": 122,
   "metadata": {},
   "outputs": [],
   "source": [
    "import functools\n",
    "import operator\n",
    "\n",
    "simple_faithful_results = functools.reduce(operator.iconcat, faithful_results, [])"
   ]
  },
  {
   "cell_type": "code",
   "execution_count": 123,
   "metadata": {},
   "outputs": [
    {
     "data": {
      "text/plain": [
       "0    88\n",
       "1     7\n",
       "Name: count, dtype: int64"
      ]
     },
     "execution_count": 123,
     "metadata": {},
     "output_type": "execute_result"
    }
   ],
   "source": [
    "pd.Series(simple_faithful_results).value_counts()"
   ]
  },
  {
   "cell_type": "markdown",
   "metadata": {},
   "source": [
    "# Answer Semantic Similarity"
   ]
  },
  {
   "cell_type": "code",
   "execution_count": 126,
   "metadata": {},
   "outputs": [],
   "source": [
    "from langchain.embeddings import HuggingFaceEmbeddings, SentenceTransformerEmbeddings, HuggingFaceBgeEmbeddings"
   ]
  },
  {
   "cell_type": "code",
   "execution_count": 127,
   "metadata": {},
   "outputs": [],
   "source": [
    "embedding_model = SentenceTransformerEmbeddings(model_name=\"sentence-transformers/paraphrase-multilingual-mpnet-base-v2\")"
   ]
  },
  {
   "cell_type": "code",
   "execution_count": 128,
   "metadata": {},
   "outputs": [],
   "source": [
    "from langchain.evaluation import load_evaluator, EmbeddingDistance"
   ]
  },
  {
   "cell_type": "code",
   "execution_count": 129,
   "metadata": {},
   "outputs": [],
   "source": [
    "evaluator = load_evaluator(\"pairwise_embedding_distance\", embeddings=embedding_model)"
   ]
  },
  {
   "cell_type": "code",
   "execution_count": 143,
   "metadata": {},
   "outputs": [
    {
     "name": "stdout",
     "output_type": "stream",
     "text": [
      "........................................................................................................................................................................................................................................................................................................................................................................................................................................................................................................................................................................................................................................................................................................................................................................................................................................................................................................................................................................................................................................"
     ]
    }
   ],
   "source": [
    "answer_similarity_scores = []\n",
    "for res in generation_results:\n",
    "    scores = []\n",
    "    for gen_res in res[\"generation_results\"][\"results\"]:\n",
    "        simrelevance = evaluator.evaluate_string_pairs(\n",
    "            prediction=res[\"abstract\"],\n",
    "            prediction_b=gen_res[\"relevance\"],\n",
    "            distance_metric=EmbeddingDistance.COSINE\n",
    "        )['score']\n",
    "        \n",
    "        simsummary = evaluator.evaluate_string_pairs(\n",
    "            prediction=res[\"abstract\"],\n",
    "            prediction_b=gen_res[\"summary\"],\n",
    "            distance_metric=EmbeddingDistance.COSINE\n",
    "        )['score']\n",
    "        \n",
    "        simobjectives = evaluator.evaluate_string_pairs(\n",
    "            prediction=res[\"abstract\"],\n",
    "            prediction_b=gen_res[\"objectives\"],\n",
    "            distance_metric=EmbeddingDistance.COSINE\n",
    "        )['score']\n",
    "        \n",
    "        simconclusions = evaluator.evaluate_string_pairs(\n",
    "            prediction=res[\"abstract\"],\n",
    "            prediction_b=gen_res[\"conclusions\"],\n",
    "            distance_metric=EmbeddingDistance.COSINE\n",
    "        )['score']\n",
    "\n",
    "        scores.append({\n",
    "            \"relevance\": simrelevance,\n",
    "            \"summary\": simsummary,\n",
    "            \"objectives\": simobjectives,\n",
    "            \"conclusions\": simconclusions\n",
    "        })\n",
    "    \n",
    "    answer_similarity_scores.append(scores)\n",
    "    print(\".\", end=\"\")"
   ]
  },
  {
   "cell_type": "code",
   "execution_count": 144,
   "metadata": {},
   "outputs": [
    {
     "data": {
      "text/plain": [
       "1000"
      ]
     },
     "execution_count": 144,
     "metadata": {},
     "output_type": "execute_result"
    }
   ],
   "source": [
    "len(answer_similarity_scores)"
   ]
  },
  {
   "cell_type": "code",
   "execution_count": 145,
   "metadata": {},
   "outputs": [],
   "source": [
    "import functools\n",
    "import operator\n",
    "\n",
    "simple_answer_similarity_scores = functools.reduce(operator.iconcat, answer_similarity_scores, [])"
   ]
  },
  {
   "cell_type": "code",
   "execution_count": 146,
   "metadata": {},
   "outputs": [
    {
     "data": {
      "text/plain": [
       "0.2219844191505647"
      ]
     },
     "execution_count": 146,
     "metadata": {},
     "output_type": "execute_result"
    }
   ],
   "source": [
    "np.mean([r['relevance'] for r in simple_answer_similarity_scores])"
   ]
  },
  {
   "cell_type": "code",
   "execution_count": 147,
   "metadata": {},
   "outputs": [
    {
     "data": {
      "text/plain": [
       "0.23630617871373105"
      ]
     },
     "execution_count": 147,
     "metadata": {},
     "output_type": "execute_result"
    }
   ],
   "source": [
    "np.mean([r['summary'] for r in simple_answer_similarity_scores])"
   ]
  },
  {
   "cell_type": "code",
   "execution_count": 148,
   "metadata": {},
   "outputs": [
    {
     "data": {
      "text/plain": [
       "0.3591785686390749"
      ]
     },
     "execution_count": 148,
     "metadata": {},
     "output_type": "execute_result"
    }
   ],
   "source": [
    "np.mean([r['objectives'] for r in simple_answer_similarity_scores])"
   ]
  },
  {
   "cell_type": "code",
   "execution_count": 149,
   "metadata": {},
   "outputs": [
    {
     "data": {
      "text/plain": [
       "0.30363927741350405"
      ]
     },
     "execution_count": 149,
     "metadata": {},
     "output_type": "execute_result"
    }
   ],
   "source": [
    "np.mean([r['conclusions'] for r in simple_answer_similarity_scores])"
   ]
  },
  {
   "cell_type": "markdown",
   "metadata": {},
   "source": [
    "# Extra"
   ]
  },
  {
   "cell_type": "code",
   "execution_count": 162,
   "metadata": {},
   "outputs": [],
   "source": [
    "idx = 810"
   ]
  },
  {
   "cell_type": "code",
   "execution_count": null,
   "metadata": {},
   "outputs": [],
   "source": []
  },
  {
   "cell_type": "code",
   "execution_count": 163,
   "metadata": {},
   "outputs": [
    {
     "data": {
      "text/plain": [
       "'Prevalência de transtornos mentais no estudantes de medicina da Universidade Federal do Rio de Janeiro'"
      ]
     },
     "execution_count": 163,
     "metadata": {},
     "output_type": "execute_result"
    }
   ],
   "source": [
    "generation_results[idx][\"title\"]"
   ]
  },
  {
   "cell_type": "code",
   "execution_count": 164,
   "metadata": {},
   "outputs": [
    {
     "data": {
      "text/plain": [
       "'Introdução: A prevalência de transtornos mentais encontrada entre os estudantes de medicina brasileiros tem sido mais alta do que a encontrada em estudantes de países desenvolvidos. Apesar de ser consenso na literatura que as prevalências encontradas em países em desenvolvimento são mais elevadas, torna-se relevante conhecer como esta dinâmica e seus fatores de risco se apresentam na realidade dos estudantes médicos da UFRJ. O objetivo deste estudo foi investigar a prevalência e fatores associados ao episódio depressivo maior e transtorno de ansiedade generalizada em estudantes de medicina da Universidade Federal do Rio de Janeiro, bem como perceber como estes estudantes avaliam o curso. Métodos: Foi realizado um estudo transversal em uma amostra representativa e aleatória de 296 estudantes (taxa de participação=91,4%), utilizando os seguintes instrumentos: PHQ-9 (Patient Health Questionare-9) para avaliação do episódio depressivo maior, GAD-7 (General Anxiety Disorder-7) para avaliação do transtorno de ansiedade generalizada, o protocolo de avaliação SUPREMISS-OMS para avaliar o comportamento suicida, o ASSIST (Teste de triagem do envolvimento com álcool, cigarro e outras substâncias), e o AUDIT (Teste para identificação de problemas relacionados ao uso de álcool) para avaliar o uso e abuso de substâncias e o DREEM (Dundee Ready Education Environment Measure), para avaliar a percepção dos alunos sobre aspectos de ambiente de ensino.Resultados: A taxa de prevalência do episódio depressivo maior encontrada foi de 59,5% (IC 95% 54,1- 63,8). Os fatores associados na análise final foram o gênero feminino, relato de história de tratamento psiquiátrico atual e percepção negativa de estressores como violência psicológica, dificuldades financeiras, dificuldades de aprendizagem e dificuldades de adaptação a novas situações. A prevalência do episódio transtorno de ansiedade generalizada encontrada foi de 51,9% (IC 95% 46,1-58,2), uma taxa maior em comparação aos estudos em países desenvolvidos e similar a alguns estudos conduzidos em países em desenvolvimento, incluindo o Brasil. Apresentar percepção extrema de estressores como conflitos religiosos, sobrecarga de trabalho acadêmico, dificuldades nas relações amorosas e conjugais esteve associada a ansiedade na análise bivariada. A pontuação total média do DREEM foi de 95, de um máximo possível de 200 e esta condição revelou que o ambiente de ensino foi avaliado como tendo muitos problemas. A pontuação total média para Percepção da Aprendizagem foi avaliada como mais negativa do que positiva; para Percepções sobre seus professores o escore obtido revela que os mesmos estão na direção certa; para autopercepções acadêmicas, o escore obtido revelou que os alunos perceberam o ambiente do curso com mais aspectos positivos que negativos; para as percepções da atmosfera do ambiente de ensino o escore de 21/48 revelou que existem muitos aspectos tem que ser melhorados e para as autopercepções sociais os resultados revelaram que não são muito boas.A pontuação média de 0,77 para o item 3 “Existe um bom sistema de apoio para os alunos estressados” foi a menor e é um indicativo de que o sistema de apoio se apresenta insuficiente. Enquanto a pontuação média de 3,15 para o item 46 “Moro em um lugar confortável” foi a mais alta evidenciando um aspecto sobre a qualidade da moradia dos entrevistados. Conclusão: Os alunos percebem o ambiente educacional do curso de medicina da Universidade Federal do Rio de Janeiro como tendo muitos problemas. Certas áreas precisam de mais exploração das causas subjacentes que após análise ampliada devem servir como um mecanismo de apoio a decisão para os gestores, educadores e alunos do curso na racionalização de suas prioridades para reformas. Considerando a alta prevalência de episódio depressivo maior e o transtorno de ansiedade generalizada, seus impactos negativos assim como os fatores de risco observados nessa população, torna-se fundamental a implementação e ampliação de programas institucionais que enfoquem a promoção da saúde e o desenvolvimento integral para contribuir com a melhoria na qualidade de vida dos estudantes.'"
      ]
     },
     "execution_count": 164,
     "metadata": {},
     "output_type": "execute_result"
    }
   ],
   "source": [
    "generation_results[idx][\"abstract\"]"
   ]
  },
  {
   "cell_type": "code",
   "execution_count": 165,
   "metadata": {},
   "outputs": [
    {
     "data": {
      "text/plain": [
       "'O objetivo da pesquisa foi investigar a prevalência e fatores associados ao episódio depressivo maior e transtorno de ansiedade generalizada em estudantes de medicina da Universidade Federal do Rio de Janeiro, bem como avaliar a percepção desses estudantes sobre o curso de medicina.'"
      ]
     },
     "execution_count": 165,
     "metadata": {},
     "output_type": "execute_result"
    }
   ],
   "source": [
    "generation_results[idx][\"query\"]"
   ]
  },
  {
   "cell_type": "code",
   "execution_count": 178,
   "metadata": {},
   "outputs": [
    {
     "data": {
      "text/plain": [
       "0.9999997"
      ]
     },
     "execution_count": 178,
     "metadata": {},
     "output_type": "execute_result"
    }
   ],
   "source": [
    "generation_results[idx][\"generation_results\"][\"results\"][0][\"doc\"][\"relevance_score\"]"
   ]
  },
  {
   "cell_type": "code",
   "execution_count": 170,
   "metadata": {},
   "outputs": [
    {
     "data": {
      "text/plain": [
       "'O artigo é altamente relevante para a revisão de literatura do usuário, pois fornece informações detalhadas sobre a prevalência de transtornos mentais em estudantes de medicina, incluindo depressão e ansiedade, além de fatores associados e a percepção dos alunos sobre o curso. Esses dados podem contribuir significativamente para a pesquisa do usuário, fornecendo insights importantes sobre a saúde mental dos estudantes de medicina e possíveis intervenções para melhorar sua qualidade de vida.'"
      ]
     },
     "execution_count": 170,
     "metadata": {},
     "output_type": "execute_result"
    }
   ],
   "source": [
    "generation_results[idx][\"generation_results\"][\"results\"][0][\"relevance\"]"
   ]
  },
  {
   "cell_type": "code",
   "execution_count": 171,
   "metadata": {},
   "outputs": [
    {
     "data": {
      "text/plain": [
       "'O artigo investigou a prevalência de transtornos mentais, como episódio depressivo maior e transtorno de ansiedade generalizada, em estudantes de medicina da Universidade Federal do Rio de Janeiro. Foram identificados altos índices de depressão e ansiedade, associados a fatores como gênero feminino, história de tratamento psiquiátrico e percepção negativa de estressores. Além disso, a percepção dos estudantes sobre o curso de medicina foi avaliada como tendo muitos problemas, indicando a necessidade de programas institucionais para promoção da saúde mental e melhoria da qualidade de vida dos alunos.'"
      ]
     },
     "execution_count": 171,
     "metadata": {},
     "output_type": "execute_result"
    }
   ],
   "source": [
    "generation_results[idx][\"generation_results\"][\"results\"][0][\"summary\"]"
   ]
  },
  {
   "cell_type": "code",
   "execution_count": 172,
   "metadata": {},
   "outputs": [
    {
     "data": {
      "text/plain": [
       "'Investigar a prevalência de episódio depressivo maior e transtorno de ansiedade generalizada em estudantes de medicina da Universidade Federal do Rio de Janeiro, bem como avaliar a percepção desses estudantes sobre o curso.'"
      ]
     },
     "execution_count": 172,
     "metadata": {},
     "output_type": "execute_result"
    }
   ],
   "source": [
    "generation_results[idx][\"generation_results\"][\"results\"][0][\"objectives\"]"
   ]
  },
  {
   "cell_type": "code",
   "execution_count": 173,
   "metadata": {},
   "outputs": [
    {
     "data": {
      "text/plain": [
       "'Os altos índices de depressão e ansiedade entre os estudantes de medicina da UFRJ apontam para a necessidade de implementação de programas institucionais que promovam a saúde mental e contribuam para a melhoria da qualidade de vida dos alunos. Além disso, a percepção dos estudantes sobre o curso indica a existência de diversos problemas que precisam ser abordados e melhorados.'"
      ]
     },
     "execution_count": 173,
     "metadata": {},
     "output_type": "execute_result"
    }
   ],
   "source": [
    "generation_results[idx][\"generation_results\"][\"results\"][0][\"conclusions\"]"
   ]
  },
  {
   "cell_type": "code",
   "execution_count": null,
   "metadata": {},
   "outputs": [],
   "source": []
  }
 ],
 "metadata": {
  "kernelspec": {
   "display_name": "llama",
   "language": "python",
   "name": "llama"
  },
  "language_info": {
   "codemirror_mode": {
    "name": "ipython",
    "version": 3
   },
   "file_extension": ".py",
   "mimetype": "text/x-python",
   "name": "python",
   "nbconvert_exporter": "python",
   "pygments_lexer": "ipython3",
   "version": "3.8.undefined"
  }
 },
 "nbformat": 4,
 "nbformat_minor": 4
}
