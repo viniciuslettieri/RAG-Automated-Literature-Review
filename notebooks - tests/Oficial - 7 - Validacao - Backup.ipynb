{
 "cells": [
  {
   "cell_type": "markdown",
   "metadata": {},
   "source": [
    "# Introdução"
   ]
  },
  {
   "cell_type": "markdown",
   "metadata": {},
   "source": [
    "Neste documento faremos os testes de validação do sistema."
   ]
  },
  {
   "cell_type": "code",
   "execution_count": 2,
   "metadata": {},
   "outputs": [],
   "source": [
    "# !pip install langchain==0.0.340 langchain --force-reinstall"
   ]
  },
  {
   "cell_type": "code",
   "execution_count": 3,
   "metadata": {},
   "outputs": [],
   "source": [
    "validation_results_path = './validation_results'"
   ]
  },
  {
   "cell_type": "markdown",
   "metadata": {},
   "source": [
    "# 1. Obtenção dos Metadados do Minerva"
   ]
  },
  {
   "cell_type": "code",
   "execution_count": 4,
   "metadata": {},
   "outputs": [],
   "source": [
    "import os\n",
    "import json\n",
    "import numpy as np"
   ]
  },
  {
   "cell_type": "code",
   "execution_count": 5,
   "metadata": {},
   "outputs": [],
   "source": [
    "pdf_folder_path = \"./metadata_documents\""
   ]
  },
  {
   "cell_type": "markdown",
   "metadata": {},
   "source": [
    "## Arquivos de Metadados"
   ]
  },
  {
   "cell_type": "code",
   "execution_count": 6,
   "metadata": {},
   "outputs": [],
   "source": [
    "filename_list = []\n",
    "for filename in os.listdir(pdf_folder_path):\n",
    "    if filename.endswith(\".json\") and not filename.endswith(\"_x.json\"):\n",
    "        filename_list.append(os.path.join(pdf_folder_path, filename))\n",
    "\n",
    "filename_list = sorted(filename_list)"
   ]
  },
  {
   "cell_type": "code",
   "execution_count": 7,
   "metadata": {},
   "outputs": [
    {
     "data": {
      "text/plain": [
       "['./metadata_documents/documento_.json',\n",
       " './metadata_documents/documento_276189.json',\n",
       " './metadata_documents/documento_494080.json',\n",
       " './metadata_documents/documento_547235.json',\n",
       " './metadata_documents/documento_614469.json']"
      ]
     },
     "execution_count": 7,
     "metadata": {},
     "output_type": "execute_result"
    }
   ],
   "source": [
    "filename_list [:5]"
   ]
  },
  {
   "cell_type": "markdown",
   "metadata": {},
   "source": [
    "## Obtenção dos Metadados"
   ]
  },
  {
   "cell_type": "code",
   "execution_count": 8,
   "metadata": {},
   "outputs": [],
   "source": [
    "def get_metadata(filename_list):\n",
    "    metadata_dict = {}\n",
    "    \n",
    "    for filename in filename_list:\n",
    "        with open(filename, \"r\") as file: \n",
    "            metadata = json.load(file)\n",
    "            _id = metadata[\"id\"]\n",
    "            metadata_dict[_id] = metadata\n",
    "    \n",
    "    return metadata_dict"
   ]
  },
  {
   "cell_type": "code",
   "execution_count": 9,
   "metadata": {},
   "outputs": [],
   "source": [
    "metadata_dict = get_metadata(filename_list)"
   ]
  },
  {
   "cell_type": "code",
   "execution_count": 10,
   "metadata": {},
   "outputs": [],
   "source": [
    "key = list(metadata_dict.keys())[10]"
   ]
  },
  {
   "cell_type": "code",
   "execution_count": 11,
   "metadata": {},
   "outputs": [
    {
     "data": {
      "text/plain": [
       "{'title': 'Mal-estar docente : vozes de professores em uma escola pública de Niterói',\n",
       " 'authors': ['Santos, Roberta Duarte dos',\n",
       "  'Carneiro, Cristiana orient.',\n",
       "  'Universidade Federal do Rio de Janeiro. Instituto de Psicologia.'],\n",
       " 'abstract': 'A presente pesquisa de Mestrado é dedicada a apresentar algumas considerações a respeito do mal-estar docente sob o viés psicanalítico. Para tanto, utiliza o referencial teórico de Freud e de psicanalistas contemporâneos que vêm se debruçando sobre essa questão. Partindo da escuta realizada em oficinas de rodas de conversas com professores do Instituto de Educação Professor Ismael Coutinho (IEPIC), assim também como de entrevistas individuais com os docentes, foram registradas suas queixas, impotências e impasses. Nesse material, com auxílio da revisão da literatura selecionada, procuramos mapear o mal-estar nas falas dos professores, relacionando-o ao conceito freudiano de mal-estar. A análise das transcrições de tais falas tem nos levado a pensar que uma faceta do mal-estar docente relaciona-se a questões correlatas à destituição contemporânea da autoridade no cotidiano escolar. Não sem efeito, é possível perceber, atualmente, consequências importantes tanto na prática pedagógica quanto no sofrimento psíquico dos sujeitos que exercem a função docente.',\n",
       " 'bibliography_pages': [97, 103],\n",
       " 'keywords': ['Psicologia Teses.',\n",
       "  'Psicanálise e educação.',\n",
       "  'Sofrimento Aspectos psíquicos.',\n",
       "  'Professores Stress ocupacional.'],\n",
       " 'urls': ['http://objdig.ufrj.br/30/teses/814014.pdf',\n",
       "  'http://lattes.cnpq.br/9687290822239788'],\n",
       " 'pdf_url': 'http://objdig.ufrj.br/30/teses/814014.pdf',\n",
       " 'id': '814014'}"
      ]
     },
     "execution_count": 11,
     "metadata": {},
     "output_type": "execute_result"
    }
   ],
   "source": [
    "metadata_dict[key]"
   ]
  },
  {
   "cell_type": "markdown",
   "metadata": {},
   "source": [
    "# 2. Seleção dos Testes"
   ]
  },
  {
   "cell_type": "code",
   "execution_count": 12,
   "metadata": {},
   "outputs": [],
   "source": [
    "import json"
   ]
  },
  {
   "cell_type": "code",
   "execution_count": 13,
   "metadata": {},
   "outputs": [
    {
     "data": {
      "text/plain": [
       "'./validation_tests/2024-03-10'"
      ]
     },
     "execution_count": 13,
     "metadata": {},
     "output_type": "execute_result"
    }
   ],
   "source": [
    "validation_tests_partition = '2024-03-10'\n",
    "\n",
    "validation_tests_path = f'./validation_tests/{validation_tests_partition}'\n",
    "validation_tests_path"
   ]
  },
  {
   "cell_type": "code",
   "execution_count": 14,
   "metadata": {},
   "outputs": [],
   "source": [
    "with open(f'{validation_tests_path}/test_abstract.json', 'r') as fp:\n",
    "    test_abstract = json.load(fp)"
   ]
  },
  {
   "cell_type": "code",
   "execution_count": 15,
   "metadata": {},
   "outputs": [],
   "source": [
    "with open(f'{validation_tests_path}/test_keywords.json', 'r') as fp:\n",
    "    test_keywords = json.load(fp)"
   ]
  },
  {
   "cell_type": "code",
   "execution_count": 16,
   "metadata": {},
   "outputs": [],
   "source": [
    "with open(f'{validation_tests_path}/test_modified_sentences.json', 'r') as fp:\n",
    "    test_modified_sentences = json.load(fp)"
   ]
  },
  {
   "cell_type": "code",
   "execution_count": 17,
   "metadata": {},
   "outputs": [],
   "source": [
    "with open(f'{validation_tests_path}/test_sentences.json', 'r') as fp:\n",
    "    test_sentences = json.load(fp)"
   ]
  },
  {
   "cell_type": "code",
   "execution_count": 18,
   "metadata": {},
   "outputs": [],
   "source": [
    "with open(f'{validation_tests_path}/test_title.json', 'r') as fp:\n",
    "    test_title = json.load(fp)"
   ]
  },
  {
   "cell_type": "markdown",
   "metadata": {},
   "source": [
    "# 3. Vector Search"
   ]
  },
  {
   "cell_type": "code",
   "execution_count": 19,
   "metadata": {},
   "outputs": [],
   "source": [
    "from langchain.vectorstores import FAISS\n",
    "from langchain.embeddings import SentenceTransformerEmbeddings\n",
    "\n",
    "from lib.retriever import Retriever\n",
    "from lib.reranker import Reranker"
   ]
  },
  {
   "cell_type": "code",
   "execution_count": 20,
   "metadata": {},
   "outputs": [
    {
     "name": "stdout",
     "output_type": "stream",
     "text": [
      "Recuperando Embeddings...\n"
     ]
    }
   ],
   "source": [
    "print(\"Recuperando Embeddings...\")\n",
    "embeddings = SentenceTransformerEmbeddings(model_name=\"sentence-transformers/paraphrase-multilingual-mpnet-base-v2\")"
   ]
  },
  {
   "cell_type": "code",
   "execution_count": 21,
   "metadata": {},
   "outputs": [
    {
     "name": "stdout",
     "output_type": "stream",
     "text": [
      "Construindo Vector Database...\n"
     ]
    }
   ],
   "source": [
    "print(\"Construindo Vector Database...\")\n",
    "vectorstore = FAISS.load_local(\"./faiss_vector_store/\", embeddings)"
   ]
  },
  {
   "cell_type": "code",
   "execution_count": 22,
   "metadata": {},
   "outputs": [],
   "source": [
    "openai_api_key = \"xxxxxxxxxxxx\"\n",
    "cohere_key = \"xxxxxxxxxx\""
   ]
  },
  {
   "cell_type": "code",
   "execution_count": 23,
   "metadata": {},
   "outputs": [],
   "source": [
    "retriever = Retriever(vectorstore)\n",
    "retriever1 = Retriever(vectorstore, MINIMUM_RESULTS_PER_DOCUMENT=1)\n",
    "reranker = Reranker(cohere_key=cohere_key, model=\"rerank-multilingual-v2.0\")"
   ]
  },
  {
   "cell_type": "markdown",
   "metadata": {},
   "source": [
    "# 4. LLM"
   ]
  },
  {
   "cell_type": "code",
   "execution_count": 24,
   "metadata": {},
   "outputs": [],
   "source": [
    "from langchain.schema import SystemMessage\n",
    "from langchain.chat_models import ChatOpenAI"
   ]
  },
  {
   "cell_type": "code",
   "execution_count": 25,
   "metadata": {},
   "outputs": [],
   "source": [
    "llm = ChatOpenAI(\n",
    "    model_name=\"gpt-3.5-turbo\",\n",
    "    temperature=\"0.5\",\n",
    "    openai_api_key=openai_api_key,       \n",
    "    max_tokens=2000\n",
    ")"
   ]
  },
  {
   "cell_type": "markdown",
   "metadata": {
    "tags": []
   },
   "source": [
    "# Teste 1. Recuperação Vector Search por Abstracts"
   ]
  },
  {
   "cell_type": "markdown",
   "metadata": {},
   "source": [
    "Neste teste ainda temos alguns pontos abertos, como os parametros de k para recuperação."
   ]
  },
  {
   "cell_type": "markdown",
   "metadata": {},
   "source": [
    "*Cohere Embedding Limitations:*<br>\n",
    "The total max chunks (length of documents * max_chunks_per_doc) must be less than 10000.\n",
    "We recommend a maximum of 1,000 documents for optimal endpoint performance."
   ]
  },
  {
   "cell_type": "raw",
   "metadata": {},
   "source": [
    "(abstract) == vector search ==> (top sentences) == reranker ==> (top ranked sentences)"
   ]
  },
  {
   "cell_type": "code",
   "execution_count": 26,
   "metadata": {},
   "outputs": [],
   "source": [
    "import time"
   ]
  },
  {
   "cell_type": "code",
   "execution_count": 60,
   "metadata": {},
   "outputs": [],
   "source": [
    "def get_index_of_element(list_scores, _id):\n",
    "    count = 0\n",
    "    for score in list_scores:\n",
    "        if score['id'] == _id:\n",
    "            return count\n",
    "        count += 1\n",
    "    return -1"
   ]
  },
  {
   "cell_type": "code",
   "execution_count": 70,
   "metadata": {},
   "outputs": [],
   "source": [
    "from difflib import SequenceMatcher\n",
    "\n",
    "def similar(a, b):\n",
    "    return SequenceMatcher(None, a, b).ratio()"
   ]
  },
  {
   "cell_type": "code",
   "execution_count": 100,
   "metadata": {},
   "outputs": [
    {
     "data": {
      "text/plain": [
       "1.0"
      ]
     },
     "execution_count": 100,
     "metadata": {},
     "output_type": "execute_result"
    }
   ],
   "source": [
    "similar(\n",
    "    \"A religiosidade e a espiritualidade (R/E) têm sido foco de grande interesse de pesquisadores, pois se mostram presentes na vida de muitos indivíduos, representando formas de vivenciar o sagrado e o transcendente. Sendo assim, é possível que o tema surja com frequência no contexto de psicoterapia e que influencie vários aspectos da vida dos pacientes.\",\n",
    "    \"A religiosidade e a espiritualidade (R/E) têm sido foco de grande interesse de pesquisadores, pois se mostram presentes na vida de muitos indivíduos, representando formas de vivenciar o sagrado e o transcendente. Sendo assim, é possível que o tema surja com frequência no contexto de psicoterapia e que influencie vários aspectos da vida dos pacientes.\"\n",
    ")"
   ]
  },
  {
   "cell_type": "code",
   "execution_count": 106,
   "metadata": {},
   "outputs": [
    {
     "data": {
      "text/plain": [
       "0.8723702664796634"
      ]
     },
     "execution_count": 106,
     "metadata": {},
     "output_type": "execute_result"
    }
   ],
   "source": [
    "similar(\n",
    "    \"A religiosidade e a espiritualidade (R/E) têm sido foco de grande interesse de pesquisadores, pois se mostram presentes na vida de muitos indivíduos, representando formas de vivenciar o sagrado e o transcendente. Sendo assim, é possível que o tema surja com frequência no contexto de psicoterapia e que influencie vários aspectos da vida dos pacientes.\",\n",
    "    \"A religioxsidade e aespirxxxitualidade (R/E) têm sido foco de grandeintexxxresse de pesquisa ores, pois se mxxx 123 ostram presentes na vida de muitos indivíd uos, representando formas de vivenciar o sagradoe o transcendente. Sendo assim, é possível que oema surja com frequência no contexto de psico terapia e que ncie vá  rios aspec tos da vida dos pacientes.\"\n",
    ")"
   ]
  },
  {
   "cell_type": "code",
   "execution_count": 101,
   "metadata": {},
   "outputs": [
    {
     "data": {
      "text/plain": [
       "0.3187919463087248"
      ]
     },
     "execution_count": 101,
     "metadata": {},
     "output_type": "execute_result"
    }
   ],
   "source": [
    "similar(\n",
    "    \"A religiosidade e a espiritualidade (R/E) têm sido foco de grande interesse de pesquisadores, pois se mostram presentes na vida de muitos indivíduos, representando formas de vivenciar o sagrado e o transcendente. Sendo assim, é possível que o tema surja com frequência no contexto de psicoterapia e que influencie vários aspectos da vida dos pacientes.\",\n",
    "    \"A religiosidade e a têm sido foco de grande interesse de pesquisadores, pois se mostram vida de muitos indivíduos, de vivenciar o sagrado e o transcendente. é possível que o contexto de psicoterapia e que influencie vários aspectos da vida dos.\"\n",
    ")"
   ]
  },
  {
   "cell_type": "code",
   "execution_count": 96,
   "metadata": {},
   "outputs": [
    {
     "data": {
      "text/plain": [
       "0.75177304964539"
      ]
     },
     "execution_count": 96,
     "metadata": {},
     "output_type": "execute_result"
    }
   ],
   "source": [
    "similar(\n",
    "    \"A religiosidade e a espiritualidade (R/E) têm sido foco de grande interesse de pesquisadores, pois se mostram presentes na vida de muitos indivíduos, representando formas de vivenciar o sagrado e o transcendente. Sendo assim, é possível que o tema surja com frequência no contexto de psicoterapia e que influencie vários aspectos da vida dos pacientes.\",\n",
    "    \"A religiosidade e a espiritualidade (R/E) têm sido foco de grande interesse de pesquisadores, pois se mostram presentes na vida de muitos indivíduos, representando formas de vivenciar o sagrado e o transcendente.\"\n",
    ")"
   ]
  },
  {
   "cell_type": "code",
   "execution_count": 98,
   "metadata": {},
   "outputs": [
    {
     "data": {
      "text/plain": [
       "0.7292418772563177"
      ]
     },
     "execution_count": 98,
     "metadata": {},
     "output_type": "execute_result"
    }
   ],
   "source": [
    "similar(\n",
    "    \"A religiosidade e a espiritualidade (R/E) têm sido foco de grande interesse de pesquisadores, pois se mostram presentes na vida de muitos indivíduos, representando formas de vivenciar o sagrado e o transcendente. Sendo assim, é possível que o tema surja com frequência no contexto de psicoterapia e que influencie vários aspectos da vida dos pacientes.\",\n",
    "    \"representando formas de vivenciar o sagrado e o transcendente. Sendo assim, é possível que o tema surja com frequência no contexto de psicoterapia e que influencie vários aspectos da vida dos pacientes.\"\n",
    ")"
   ]
  },
  {
   "cell_type": "code",
   "execution_count": 99,
   "metadata": {},
   "outputs": [
    {
     "data": {
      "text/plain": [
       "0.04769475357710652"
      ]
     },
     "execution_count": 99,
     "metadata": {},
     "output_type": "execute_result"
    }
   ],
   "source": [
    "similar(\n",
    "    \"A religiosidade e a espiritualidade (R/E) têm sido foco de grande interesse de pesquisadores, pois se mostram presentes na vida de muitos indivíduos, representando formas de vivenciar o sagrado e o transcendente. Sendo assim, é possível que o tema surja com frequência no contexto de psicoterapia e que influencie vários aspectos da vida dos pacientes.\",\n",
    "    \"No entanto, o assunto pode não ser contemplado por psicoterapeutas na sua prática clínica. Isso pode ocorrer pela ideia de que não seria possível abordar o assunto no contexto da psicoterapia baseada em evidências científicas, como é o caso da Terapia Cognitivo-Comportamental.\"\n",
    ")"
   ]
  },
  {
   "cell_type": "code",
   "execution_count": null,
   "metadata": {},
   "outputs": [
    {
     "name": "stdout",
     "output_type": "stream",
     "text": [
      "> 276189\n",
      "0\n",
      "0\n",
      "0\n",
      "> 494080\n",
      "0\n",
      "0\n",
      "0\n",
      "> 547235\n",
      "0\n",
      "0\n",
      "0\n",
      "> 614469\n",
      "0\n",
      "0\n",
      "0\n",
      "> 683353\n",
      "-1\n",
      "-1\n",
      "-1\n",
      "> 762801\n",
      "0\n",
      "0\n",
      "0\n",
      "> 768599\n",
      "1\n",
      "1\n",
      "1\n",
      "> 774811\n",
      "-1\n",
      "-1\n",
      "-1\n",
      "> 806362\n",
      "13\n",
      "14\n",
      "4\n",
      "> 814014\n",
      "0\n",
      "0\n",
      "0\n",
      "> 81683\n",
      "-1\n",
      "-1\n",
      "-1\n",
      "> 829660\n",
      "0\n",
      "0\n",
      "0\n",
      "> 842988\n",
      "-1\n",
      "-1\n",
      "-1\n",
      "> 856777\n",
      "0\n",
      "0\n",
      "0\n",
      "> 861483\n",
      "0\n",
      "0\n",
      "0\n",
      "> 868374\n",
      "1\n",
      "1\n",
      "1\n",
      "> 873196\n",
      "0\n",
      "0\n",
      "0\n",
      "> 880394\n",
      "0\n",
      "0\n",
      "0\n",
      "> 881375\n",
      "0\n",
      "0\n",
      "0\n",
      "> 883182\n",
      "0\n",
      "0\n",
      "0\n",
      "> 883218\n",
      "0\n",
      "0\n",
      "0\n",
      "> 883377\n",
      "1\n",
      "1\n",
      "0\n",
      "> 883397\n",
      "0\n",
      "0\n",
      "0\n",
      "> 883402\n",
      "2\n",
      "1\n",
      "2\n",
      "> 883419\n",
      "0\n",
      "0\n",
      "0\n",
      "> 883546\n",
      "0\n",
      "0\n",
      "0\n",
      "> 883556\n",
      "0\n",
      "0\n",
      "0\n",
      "> 883689\n",
      "0\n",
      "0\n",
      "0\n",
      "> 883720\n",
      "19\n",
      "29\n",
      "6\n",
      "> 884143\n",
      "0\n",
      "0\n",
      "0\n",
      "> 884145\n",
      "0\n",
      "0\n",
      "2\n",
      "> 884150\n",
      "5\n",
      "5\n",
      "12\n",
      "> 884154\n",
      "0\n",
      "0\n",
      "0\n",
      "> 884425\n",
      "0\n",
      "0\n",
      "0\n",
      "> 884532\n",
      "0\n",
      "0\n",
      "0\n",
      "> 884536\n",
      "-1\n",
      "-1\n",
      "-1\n",
      "> 884641\n",
      "8\n",
      "9\n",
      "10\n",
      "> 884656\n",
      "0\n",
      "0\n",
      "0\n",
      "> 884744\n",
      "0\n",
      "0\n",
      "0\n",
      "> 884752\n",
      "0\n",
      "0\n",
      "0\n",
      "> 885010\n"
     ]
    }
   ],
   "source": [
    "for abstract_obj in test_abstract:\n",
    "    print(\">\", abstract_obj['id'])\n",
    "\n",
    "    abstract = abstract_obj['abstract']\n",
    "    doc_id = abstract_obj['id']\n",
    "\n",
    "    retrieved_documents = await retriever.search(\n",
    "        abstract, k=1000, fetch_k=100000, max_k_by_document=5, filter={\"type\":\"sentences\"}\n",
    "    )\n",
    "\n",
    "#     print(abstract[:600])\n",
    "\n",
    "#     print(\"\")\n",
    "\n",
    "    docs_mean = []\n",
    "    docs_median = []\n",
    "    docs_min = []\n",
    "    for idx, docs in retrieved_documents.items():\n",
    "        scores = [doc[0] for doc in docs if doc[0] > 0.15 and similar(abstract, doc[1].page_content) < 0.7] # removes sentence == abstract\n",
    "        texts = [doc[1].page_content for doc in docs if doc[0] > 0.15 and similar(abstract, doc[1].page_content) < 0.7]\n",
    "\n",
    "        mean = np.mean(scores)\n",
    "        median = np.median(scores)\n",
    "        minimum = np.inf if len(scores) == 0 else np.min(scores)\n",
    "        # print(idx, \"len\", len(scores), mean, median, minimum, \"scores:\", scores)\n",
    "\n",
    "        # print(texts[0][:600])\n",
    "        # print(similar(abstract, texts[0]))\n",
    "\n",
    "        docs_mean.append({\"id\": idx, \"score\": mean})\n",
    "        docs_median.append({\"id\": idx, \"score\": median})\n",
    "        docs_min.append({\"id\": idx, \"score\": minimum})\n",
    "\n",
    "        # print(\"\")\n",
    "\n",
    "    docs_mean = sorted(docs_mean, key=lambda elem: elem['score'])\n",
    "    docs_median = sorted(docs_median, key=lambda elem: elem['score'])\n",
    "    docs_min = sorted(docs_min, key=lambda elem: elem['score'])\n",
    "\n",
    "    print(get_index_of_element(docs_mean, doc_id))\n",
    "    print(get_index_of_element(docs_median, doc_id))\n",
    "    print(get_index_of_element(docs_min, doc_id))"
   ]
  },
  {
   "cell_type": "code",
   "execution_count": null,
   "metadata": {},
   "outputs": [],
   "source": []
  },
  {
   "cell_type": "code",
   "execution_count": null,
   "metadata": {},
   "outputs": [],
   "source": []
  },
  {
   "cell_type": "code",
   "execution_count": 54,
   "metadata": {},
   "outputs": [
    {
     "name": "stderr",
     "output_type": "stream",
     "text": [
      "Query has been truncated from the right to 256 tokens from 939 tokens.\n",
      "Query has been truncated from the right to 256 tokens from 605 tokens.\n",
      "Query has been truncated from the right to 256 tokens from 318 tokens.\n",
      "Query has been truncated from the right to 256 tokens from 1531 tokens.\n",
      "Query has been truncated from the right to 256 tokens from 345 tokens.\n",
      "Query has been truncated from the right to 256 tokens from 658 tokens.\n",
      "Query has been truncated from the right to 256 tokens from 271 tokens.\n",
      "Query has been truncated from the right to 256 tokens from 411 tokens.\n",
      "Query has been truncated from the right to 256 tokens from 537 tokens.\n",
      "Query has been truncated from the right to 256 tokens from 303 tokens.\n",
      "Query has been truncated from the right to 256 tokens from 535 tokens.\n",
      "Query has been truncated from the right to 256 tokens from 804 tokens.\n",
      "Query has been truncated from the right to 256 tokens from 282 tokens.\n",
      "Query has been truncated from the right to 256 tokens from 859 tokens.\n",
      "Query has been truncated from the right to 256 tokens from 362 tokens.\n",
      "Query has been truncated from the right to 256 tokens from 358 tokens.\n",
      "Query has been truncated from the right to 256 tokens from 601 tokens.\n",
      "Query has been truncated from the right to 256 tokens from 462 tokens.\n",
      "Query has been truncated from the right to 256 tokens from 319 tokens.\n",
      "Query has been truncated from the right to 256 tokens from 1090 tokens.\n",
      "Query has been truncated from the right to 256 tokens from 1091 tokens.\n",
      "Query has been truncated from the right to 256 tokens from 510 tokens.\n",
      "Query has been truncated from the right to 256 tokens from 333 tokens.\n",
      "Query has been truncated from the right to 256 tokens from 506 tokens.\n",
      "Query has been truncated from the right to 256 tokens from 682 tokens.\n",
      "Query has been truncated from the right to 256 tokens from 897 tokens.\n",
      "Query has been truncated from the right to 256 tokens from 403 tokens.\n",
      "Query has been truncated from the right to 256 tokens from 744 tokens.\n",
      "Query has been truncated from the right to 256 tokens from 710 tokens.\n",
      "Query has been truncated from the right to 256 tokens from 815 tokens.\n",
      "Query has been truncated from the right to 256 tokens from 569 tokens.\n",
      "Query has been truncated from the right to 256 tokens from 720 tokens.\n",
      "Query has been truncated from the right to 256 tokens from 269 tokens.\n",
      "Query has been truncated from the right to 256 tokens from 299 tokens.\n",
      "Query has been truncated from the right to 256 tokens from 487 tokens.\n",
      "Query has been truncated from the right to 256 tokens from 605 tokens.\n",
      "Query has been truncated from the right to 256 tokens from 853 tokens.\n",
      "Query has been truncated from the right to 256 tokens from 738 tokens.\n",
      "Query has been truncated from the right to 256 tokens from 440 tokens.\n",
      "Query has been truncated from the right to 256 tokens from 716 tokens.\n",
      "Query has been truncated from the right to 256 tokens from 546 tokens.\n",
      "Query has been truncated from the right to 256 tokens from 645 tokens.\n",
      "Query has been truncated from the right to 256 tokens from 399 tokens.\n",
      "Query has been truncated from the right to 256 tokens from 419 tokens.\n",
      "Query has been truncated from the right to 256 tokens from 296 tokens.\n"
     ]
    }
   ],
   "source": [
    "test_1_execution = []\n",
    "\n",
    "for abstract_obj in test_abstract[:50]:\n",
    "    abstract = abstract_obj['abstract']\n",
    "    doc_id = abstract_obj['id']\n",
    "    \n",
    "    retrieved_documents = await retriever.search(\n",
    "        abstract, k=1000, fetch_k=100000, max_k_by_document=5, filter={\"type\":\"sentences\"}\n",
    "    )\n",
    "\n",
    "    documents = reranker.prepare_documents(metadata_dict, retrieved_documents)\n",
    "    reranked_documents = reranker.rerank(abstract, documents, 10, using=[\"sentences\"])\n",
    "    # print(documents)\n",
    "\n",
    "    ordered_docs = [{\"id\": doc[\"id\"], \"relevance_score\": doc[\"relevance_score\"]} for doc in reranked_documents]\n",
    "    test_1_execution.append({\"id\": doc_id, \"result\": ordered_docs})\n",
    "    \n",
    "    time.sleep(10)"
   ]
  },
  {
   "cell_type": "code",
   "execution_count": 55,
   "metadata": {},
   "outputs": [],
   "source": [
    "# Salvamento do resultado\n",
    "\n",
    "# with open(f'{validation_results_path}/test_1_execution.json', 'w') as fp:\n",
    "#     json.dump(test_1_execution, fp)"
   ]
  },
  {
   "cell_type": "code",
   "execution_count": 56,
   "metadata": {},
   "outputs": [],
   "source": [
    "test_1_scores = []\n",
    "for exec in test_1_execution:\n",
    "    score = None\n",
    "    for res in exec['result']:\n",
    "        if res['id'] == exec['id']:\n",
    "            score = res['relevance_score']\n",
    "    \n",
    "    test_1_scores.append(score)"
   ]
  },
  {
   "cell_type": "code",
   "execution_count": 57,
   "metadata": {},
   "outputs": [
    {
     "data": {
      "text/plain": [
       "[0.99999934,\n",
       " 0.9998013,\n",
       " 0.9952448,\n",
       " 0.23846151,\n",
       " None,\n",
       " 0.99999934,\n",
       " 0.99998105,\n",
       " None,\n",
       " 0.99993545,\n",
       " 0.99998707,\n",
       " None,\n",
       " 0.9999996,\n",
       " None,\n",
       " 0.9999985,\n",
       " 0.99999976,\n",
       " 0.9999685,\n",
       " 0.9999998,\n",
       " 0.9999998,\n",
       " 0.9999981,\n",
       " 0.999991,\n",
       " 0.9998823,\n",
       " 0.9815951,\n",
       " 0.9994807,\n",
       " 0.99993134,\n",
       " 0.9999809,\n",
       " 0.999996,\n",
       " 0.9999996,\n",
       " 0.9999829,\n",
       " 0.9995505,\n",
       " 0.99999887,\n",
       " 0.9998676,\n",
       " 0.9999755,\n",
       " 0.998835,\n",
       " 0.9996513,\n",
       " 0.9999998,\n",
       " None,\n",
       " None,\n",
       " 0.99999934,\n",
       " 0.9999994,\n",
       " 0.8949732,\n",
       " 0.99999976,\n",
       " 0.99999696,\n",
       " 0.99718815,\n",
       " 0.99999696,\n",
       " 0.99999636,\n",
       " 0.99999905,\n",
       " 0.999935,\n",
       " 0.99985117,\n",
       " 0.9999528,\n",
       " 0.9999987]"
      ]
     },
     "execution_count": 57,
     "metadata": {},
     "output_type": "execute_result"
    }
   ],
   "source": [
    "test_1_scores"
   ]
  },
  {
   "cell_type": "markdown",
   "metadata": {
    "tags": []
   },
   "source": [
    "# Teste 2: Recuperação Vector Search por Abstracts Parafraseados"
   ]
  },
  {
   "cell_type": "code",
   "execution_count": 24,
   "metadata": {},
   "outputs": [],
   "source": [
    "import time"
   ]
  },
  {
   "cell_type": "code",
   "execution_count": 40,
   "metadata": {},
   "outputs": [
    {
     "name": "stdout",
     "output_type": "stream",
     "text": [
      "> 842988\n",
      "O artigo aborda o desenvolvimento de métodos computacionais para estudar a interação de átomos e moléculas com radiação em diferentes faixas de frequência, desde o ultravioleta até raios-X. Foram utilizadas técnicas como TDDFT e CC para analisar a fotoabsorção e fotoionização de diversas substâncias, como benzeno e água, em estados fundamentais e excitados. Os resultados mostram a eficácia dessas abordagens na obtenção de informações sobre as propriedades eletrônicas e espectrais desses sistemas, incluindo o papel das ligações de hidrogênio em moléculas como o ácido fórmico. \n",
      "\n",
      "920848 1.7540516 1.7569684 scores: [1.5443864, 1.7113216, 1.7569684, 1.8723807, 1.885201]\n",
      "911280 1.7790353 1.8756056 scores: [1.5772862, 1.6793933, 1.8756056, 1.8776317, 1.8852603]\n",
      "918355 2.0631623 2.145453 scores: [1.6467042, 1.7508944, 2.145453, 2.3389368, 2.4338236]\n",
      "940981 1.9041357 2.0000498 scores: [1.6921196, 1.7786847, 2.0000498, 2.013498, 2.0363266]\n",
      "933868 2.1462436 2.2285793 scores: [1.7760398, 2.1767683, 2.2285793, 2.2609112, 2.2889183]\n",
      "933921 2.1055324 2.2065668 scores: [1.7856798, 2.094531, 2.2065668, 2.218619, 2.2222655]\n",
      "931478 2.1115174 2.2473502 scores: [1.7882411, 2.0124512, 2.2473502, 2.2529054, 2.2566395]\n",
      "933914 2.1546118 2.2623818 scores: [1.831705, 2.07863, 2.2623818, 2.2895384, 2.3108034]\n",
      "914665 2.212664 2.3147745 scores: [1.8432974, 2.2023144, 2.3147745, 2.3313236, 2.3716097]\n",
      "935474 2.3200543 2.4259677 scores: [1.8610721, 2.393293, 2.4259677, 2.443861, 2.476078]\n",
      "940488 2.0667167 2.0739307 scores: [1.8825698, 2.0718627, 2.0739307, 2.1523972, 2.1528225]\n",
      "931677 1.9543607 1.925663 scores: [1.8898929, 1.9166012, 1.925663, 2.0149736, 2.0246727]\n",
      "933970 1.9784015 1.9990371 scores: [1.9030178, 1.9085882, 1.9990371, 2.0119827, 2.0693812]\n",
      "944265 2.1481938 2.2029018 scores: [1.9133506, 2.1030502, 2.2029018, 2.2358456, 2.285821]\n",
      "934198 2.124943 2.1537533 scores: [1.9163051, 2.1300354, 2.1537533, 2.18878, 2.2358406]\n",
      "912907 2.1815982 2.1758254 scores: [1.9212408, 2.1758254, 2.4477286]\n",
      "934121 2.0979066 2.1114624 scores: [1.9228294, 2.0501473, 2.1114624, 2.1784725, 2.226621]\n",
      "924896 2.1194015 2.0989454 scores: [1.9460676, 2.0908496, 2.0989454, 2.2114172, 2.2497272]\n",
      "911484 2.2891839 2.3767562 scores: [1.9504925, 2.350797, 2.3767562, 2.3829455, 2.3849277]\n",
      "909858 2.279271 2.3321085 scores: [1.9515845, 2.330903, 2.3321085, 2.3667808, 2.414978]\n",
      "915671 2.2032313 2.1866126 scores: [1.9657657, 2.1436956, 2.1866126, 2.3124228, 2.4076595]\n",
      "920282 2.0035665 1.9926181 scores: [1.9706008, 1.9712088, 1.9926181, 2.0305805, 2.0528245]\n",
      "928847 2.2463214 2.2330742 scores: [1.9825516, 2.1858087, 2.2330742, 2.3955994, 2.434574]\n",
      "918400 2.2752132 2.321598 scores: [1.9872749, 2.2526424, 2.3905535, 2.4703822]\n",
      "919962 2.257289 2.308402 scores: [2.0040035, 2.3045812, 2.308402, 2.3311381, 2.3383198]\n",
      "931460 2.266057 2.2735724 scores: [2.0234942, 2.2545018, 2.292643, 2.493589]\n",
      "939267 2.181604 2.1147504 scores: [2.0243635, 2.0971465, 2.1323545, 2.4725518]\n",
      "931458 2.3030133 2.3802216 scores: [2.0347195, 2.19829, 2.3802216, 2.4250164, 2.476819]\n",
      "920989 2.1520643 2.1206288 scores: [2.0373228, 2.1206288, 2.2982416]\n",
      "897742 2.2288854 2.200845 scores: [2.0394711, 2.045238, 2.200845, 2.4021287, 2.456744]\n",
      "918368 2.2513523 2.2731776 scores: [2.0420918, 2.1621437, 2.3842118, 2.4169612]\n",
      "931461 2.3241305 2.386042 scores: [2.047896, 2.3162198, 2.4558647, 2.4765413]\n",
      "919255 2.2929397 2.3161695 scores: [2.0643716, 2.3122706, 2.3200684, 2.4750476]\n",
      "934139 2.291952 2.3913295 scores: [2.0647407, 2.3913295, 2.4197857]\n",
      "913300 2.1722982 2.1041074 scores: [2.0679612, 2.1041074, 2.3448255]\n",
      "924689 2.2255073 2.2493067 scores: [2.0824065, 2.2096422, 2.2889712, 2.32101]\n",
      "924644 2.2248292 2.2663074 scores: [2.0836535, 2.2090585, 2.2663074, 2.2772222, 2.287904]\n",
      "934244 2.3551307 2.4258478 scores: [2.0847216, 2.2918339, 2.4258478, 2.479286, 2.4939632]\n",
      "930501 2.2855792 2.2802346 scores: [2.0932798, 2.2429957, 2.2802346, 2.379247, 2.432139]\n",
      "935122 2.212273 2.2487493 scores: [2.0960155, 2.130774, 2.2487493, 2.289435, 2.2963908]\n",
      "916022 2.2982714 2.3282664 scores: [2.1115787, 2.320785, 2.3357477, 2.4249744]\n",
      "920555 2.2645123 2.3007946 scores: [2.1161587, 2.2604704, 2.3007946, 2.3033333, 2.3418045]\n",
      "909743 2.3050728 2.3203044 scores: [2.118499, 2.2797482, 2.3203044, 2.3467443, 2.460068]\n",
      "907886 2.333426 2.3723278 scores: [2.1354506, 2.3325415, 2.4121144, 2.4535975]\n",
      "918392 2.216038 2.2520654 scores: [2.1432433, 2.1553967, 2.2520654, 2.2638564, 2.265628]\n",
      "886585 2.2308521 2.2254882 scores: [2.1579924, 2.220831, 2.2254882, 2.258009, 2.2919405]\n",
      "914989 2.291572 2.2940583 scores: [2.187214, 2.2777638, 2.2940583, 2.3290877, 2.369738]\n",
      "898880 2.3565326 2.415812 scores: [2.1883783, 2.332167, 2.415812, 2.4198534, 2.4264522]\n",
      "889981 2.2652588 2.2578516 scores: [2.1947596, 2.2292993, 2.2578516, 2.321917, 2.3224657]\n",
      "934101 2.2909915 2.265687 scores: [2.1956933, 2.235097, 2.265687, 2.3493633, 2.4091172]\n",
      "906654 2.3266425 2.2962666 scores: [2.2082074, 2.22889, 2.2962666, 2.4457626, 2.454086]\n",
      "885067 2.2764041 2.2386272 scores: [2.2164605, 2.227116, 2.2386272, 2.296763, 2.403053]\n",
      "943171 2.279121 2.2911797 scores: [2.2179089, 2.2511454, 2.2911797, 2.3056586, 2.3297133]\n",
      "885111 2.3523765 2.3583345 scores: [2.2182798, 2.3035526, 2.4131162, 2.4745574]\n",
      "919925 2.3490155 2.3741126 scores: [2.2207344, 2.3741126, 2.4521997]\n",
      "883218 2.3835642 2.4087138 scores: [2.2270455, 2.3319125, 2.4855154, 2.4897835]\n",
      "934445 2.3379872 2.3398037 scores: [2.2386177, 2.2820415, 2.3398037, 2.3842902, 2.4451828]\n",
      "931017 2.3038049 2.3178606 scores: [2.2397795, 2.2495227, 2.3178606, 2.3553917, 2.35647]\n",
      "916034 2.2950935 2.3078046 scores: [2.2432723, 2.286986, 2.3078046, 2.3159156, 2.3214898]\n",
      "935573 2.3659847 2.3967776 scores: [2.244501, 2.3755696, 2.4179857, 2.4258826]\n",
      "915792 2.3662648 2.3786979 scores: [2.2448812, 2.3424163, 2.4149795, 2.4627829]\n",
      "895151 2.3464484 2.3510776 scores: [2.248312, 2.3191786, 2.3829765, 2.4353268]\n",
      "918397 2.4095106 2.4377444 scores: [2.2700531, 2.4229472, 2.4525416, 2.4924998]\n",
      "925575 2.3583655 2.3828504 scores: [2.2840457, 2.2940662, 2.3828504, 2.4029078, 2.427957]\n",
      "938672 2.3990104 2.405919 scores: [2.3095965, 2.405919, 2.4815154]\n",
      "896899 2.377168 2.3898942 scores: [2.3167615, 2.3898942, 2.4248483]\n",
      "935301 2.370481 2.325342 scores: [2.3170245, 2.325342, 2.4690766]\n",
      "933922 2.400621 2.4051256 scores: [2.3280678, 2.3589978, 2.4051256, 2.4157126, 2.4952013]\n",
      "889940 2.3877873 2.3923883 scores: [2.3318589, 2.3842087, 2.3923883, 2.4089696, 2.4215117]\n",
      "918371 2.4314346 2.4495745 scores: [2.3617878, 2.4495745, 2.4829416]\n",
      "890589 2.4205127 2.415247 scores: [2.4027238, 2.4069545, 2.4235392, 2.4488335]\n",
      "935554 2.4677858 2.4821281 scores: [2.4119852, 2.481967, 2.4822893, 2.4949021]\n",
      "911363 2.4654179 2.4769192 scores: [2.4370937, 2.4769192, 2.482241]\n",
      "933920 2.4730814 2.4791012 scores: [2.4468095, 2.4791012, 2.4933333]\n"
     ]
    }
   ],
   "source": [
    "abstract_obj = test_abstract[12]\n",
    "print(\">\", abstract_obj['id'])\n",
    "\n",
    "abstract = abstract_obj['abstract']\n",
    "doc_id = abstract_obj['id']\n",
    "\n",
    "query = f\"\"\"\n",
    "A seguir, está um resumo de um artigo científico:\n",
    "\n",
    "{abstract}\n",
    "\n",
    "Retorne um resumo com no máximo 100 palavras e com escrita simples, em português:\n",
    "\"\"\"\n",
    "\n",
    "messages = [SystemMessage(content=query)]\n",
    "abstract = llm(messages).content\n",
    "\n",
    "print(abstract, \"\\n\")\n",
    "\n",
    "retrieved_documents = await retriever.search(\n",
    "    abstract, k=1000, fetch_k=100000, max_k_by_document=5, filter={\"type\":\"sentences\"}\n",
    ")\n",
    "\n",
    "count = 0\n",
    "for idx, docs in retrieved_documents.items():\n",
    "    scores = [doc[0] for doc in docs]\n",
    "        \n",
    "    print(idx, np.mean(scores), np.median(scores), \"scores:\", scores)\n",
    "    if idx == abstract_obj['id']:\n",
    "        print(\">\", count, np.mean(scores), np.median(scores))\n",
    "    \n",
    "    count += 1"
   ]
  },
  {
   "cell_type": "code",
   "execution_count": 25,
   "metadata": {
    "collapsed": true,
    "jupyter": {
     "outputs_hidden": true
    },
    "tags": []
   },
   "outputs": [
    {
     "name": "stdout",
     "output_type": "stream",
     "text": [
      "O estudo analisa o trabalho de psicólogos no NASF do Rio de Janeiro, destacando desafios como sobrecarga, precarização e falta de profissionais. Identifica estratégias de prazer e defesa dos trabalhadores, ressaltando a importância da formação. O coletivo é visto como essencial para lidar com as precarizações na saúde. O estudo sugere ampliação para outras regiões e destaca a necessidade de investigações atualizadas diante das mudanças nos vínculos empregatícios e desafios em saúde na cidade. \n",
      "\n",
      "O artigo investigou como terapeutas cognitivo-comportamentais lidam com a religiosidade e espiritualidade de pacientes no Brasil. A maioria dos terapeutas se considerava religiosa e espiritualizada, sendo que a abordagem do tema estava mais relacionada à crença pessoal do terapeuta do que à sua formação profissional. Os resultados destacaram a importância de capacitar psicólogos para discutir R/E na terapia. Recomenda-se mais iniciativas educacionais e pesquisas sobre o assunto, incluindo estudos com diferentes religiões e maior participação de profissionais para ampliar o conhecimento na área. \n",
      "\n",
      "Neste estudo, os romances de Tahar Ben Jelloun são analisados como palco da teatralidade do narrador-contador, que transita entre culturas e tradições, passado e presente, oral e escrito. O escritor atua como mediador, reterritorializando culturas magrebinas. A praça é o cenário onde se desenrola essa teatralidade, com o narrador oscilando entre diferentes vozes e versões. Esse personagem estratégico incorpora elementos de coro, máscara, comédia e tragédia, catalisando estratégias metanarrativas e dialogando com diversas narrativas entrelaçadas. \n",
      "\n",
      "O artigo investiga a cronologia e evolução geomorfológica de depósitos quaternários na região do Médio Vale do Rio Paraíba do Sul, utilizando luminescência para datação. Foram identificados três níveis geomorfológicos com diferentes idades, indicando fases de erosão e deposição durante o Pleistoceno e Holoceno. A análise detalhada dos sedimentos e solos revelou respostas ambientais variadas, influenciadas por mudanças climáticas e processos tectônicos regionais. A luminescência mostrou-se uma ferramenta importante para avaliar a contemporaneidade dos eventos geológicos. \n",
      "\n",
      "O artigo analisa como o poder é construído no orçamento participativo de Porto Alegre, destacando a formação dos territórios urbanos e identidades dos participantes. A pesquisa etnográfica revela as estratégias de poder usadas no processo decisório e a trajetória dos envolvidos. A identidade e atuação dos sujeitos políticos estão intimamente ligadas à definição do território em que atuam. \n",
      "\n",
      "Este estudo analisou a construção do currículo do curso de Licenciatura em Química da UFRJ de 1993 a 2005, destacando as influências dos formadores de professores. Foram identificadas tensões entre diferentes concepções de formação docente do IQ e da FE, além de embates institucionais. Apesar da reestruturação curricular, a categoria \"Licenciatura em Química\" seguiu predominante. A pesquisa contribui para entender os desafios na formação de professores de Química, evidenciando fatores institucionais, políticos e culturais que influenciam a prática docente. \n",
      "\n",
      "O estudo analisa a violência do Estado, em especial da polícia militar, contra a população negra, pobre e jovem nas favelas e periferias do Rio de Janeiro, e como essa violência é retratada pela mídia. Destaca-se o papel da mídia na construção de estereótipos que perpetuam a figura do inimigo. A sociedade brasileira, marcada pelo autoritarismo desde o período colonial, enfrenta desigualdades na garantia do direito à segurança e à vida. O aumento da violência policial evidencia a fragilidade da democracia no país, segundo Adorno (1995). \n",
      "\n",
      "Um modelo preditivo de escorregamentos rasos (SHALSTAB) foi testado em bacias na Tijuca, Rio de Janeiro, após chuvas intensas. O modelo combina informações hidrológicas e de estabilidade de encostas para prever escorregamentos. Ao desconsiderar a coesão do solo, obteve-se melhor resultado, indicando forte influência topográfica. Uma análise de sensitividade foi realizada para encontrar valores ótimos dos parâmetros do solo. Os resultados mostram a eficiência do modelo, que foi comparado com mapas de escorregamentos. Discussões sobre metodologias aplicadas na área também foram feitas. \n",
      "\n",
      "Este estudo validou a Escala de Autonomia e Sobrecarga no Contexto Laboral, baseada no modelo Job Demands-Resources. Os resultados mostraram boa consistência interna das escalas. A análise confirmatória indicou que as escalas se adequaram parcialmente ao modelo, com associações esperadas entre recursos de trabalho e sobrecarga. Assim, a autonomia no trabalho se relacionou positivamente com recursos e a sobrecarga se relacionou negativamente, além de positivamente com assédio moral. Essas evidências são importantes para compreender como os indivíduos lidam com as demandas do trabalho em um contexto de mudanças constantes. \n",
      "\n",
      "O artigo aborda o mal-estar docente sob a perspectiva psicanalítica, analisando queixas e impasses de professores do IEPIC. A destituição da autoridade na escola é apontada como um dos fatores desencadeadores desse mal-estar. A pesquisa destaca a relação entre esse fenômeno e o sofrimento psíquico dos professores, impactando sua prática pedagógica. \n",
      "\n",
      "O artigo aborda o meio ambiente como objeto de estudo, partindo de sua problematização como questão social. Propõe uma abordagem teórico-metodológica para compreender o meio ambiente como uma forma específica de organização do território. Para isso, analisa os fundamentos teóricos da biologia e geografia, e testa a proposta com base em conflitos envolvendo pequenos agricultores em Nova Friburgo, RJ, em área de proteção ambiental. \n",
      "\n",
      "Este estudo analisa as políticas de acesso e permanência de pessoas trans no ensino superior nas regiões norte e nordeste do Brasil. Destaca-se a importância da política de nome social, enquanto as políticas de espaços segregados e cotas ainda carecem de documentação expressiva. Além disso, ressalta-se a necessidade de garantir direitos cidadãos a essa população, que historicamente enfrenta discriminação. O estudo busca visibilizar dados sobre pessoas trans na educação superior, preenchendo uma lacuna na produção acadêmica sobre o tema no Brasil. \n",
      "\n",
      "O artigo apresenta avanços em métodos computacionais para espectroscopia de fotoabsorção e fotoionização em diversas regiões espectrais. Foram realizados estudos TDDFT e CC para diferentes moléculas, demonstrando eficiência computacional. Além disso, foi desenvolvida uma metodologia para cálculo de energias de excitação em estados excitados. O papel das ligações de hidrogênio nos espectros de aglomerados de ácido fórmico também foi investigado. Os resultados contribuem para a compreensão de processos fotoeletrônicos em átomos e moléculas. \n",
      "\n",
      "O estudo analisa como a China é retratada pela revista eletrônica Fantástico, da TV Globo, entre 2008 e 2018. Utilizando teorias da imagologia intercultural e da representação cultural, foram analisadas 15 reportagens sobre o país oriental, divididas em temas como a China moderna, tradicional e o povo chinês. O objetivo foi compreender como a mídia brasileira constrói a imagem da China, considerando seu contexto histórico e a globalização. \n",
      "\n",
      "O artigo analisa a construção da biografia de Reynaldo Gianecchini durante seu tratamento de câncer, destacando a importância das narrativas midiáticas na subjetivação de celebridades. Explora como o ator incorporou o ethos terapêutico, redefinindo a masculinidade e compartilhando sua experiência para humanizar sua imagem. Gianecchini passa de símbolo de perfeição a sobrevivente, inspirando o público com sua jornada de superação. A exposição de suas vulnerabilidades o torna mais autêntico e próximo das pessoas comuns, marcando um ponto de ruptura em sua biografia de vida desafiadora. \n",
      "\n",
      "O artigo aborda a proposta de ensino da escola nova, baseada no método do projeto de Kilpatrick, para aumentar a participação dos alunos em sala de aula. Foram realizadas aplicações práticas em uma escola de Duque de Caxias, com embasamento teórico e plano de projeto elaborado. Apesar de focar em Física, o trabalho destaca a aplicabilidade em diversas áreas. Alerta-se para a necessidade de cuidados na adoção dessa pedagogia inovadora. \n",
      "\n",
      "O artigo analisa a representação da população negra no Rio de Janeiro pelo telejornal RJTV – 1ª Edição. Destaca a influência da mídia na construção de estereótipos e a relação da TV com a formação de identidade e práticas racistas. Conclui que o programa, ligado à Rede Globo, tende a apresentar o negro de forma negativa, embora ocasionalmente fuja desse padrão. Sugere que o telejornal deveria mostrar a complexidade do afrodescendente, sem limitar a representação a aspectos negativos ou positivos. \n",
      "\n",
      "A pesquisa analisa a obra do artista libanês Rabih Mroué, explorando sua relação com a guerra civil no Líbano e na Síria. Através da performance \"Revolução em Pixels\" e de conceitos de teóricos da imagem, investiga-se um modo revolucionário de fazer arte. O estudo destaca o uso das imagens como arma e testemunho, buscando criar uma abordagem crítica e poética sobre a criação artística desse artista. A pesquisa propõe a ideia de \"imagem-guerra\" como conceito emergente nesse contexto. \n",
      "\n",
      "O artigo analisa a politização do consumo de produtos orgânicos, destacando a influência de ativismos e do marketing. Também aborda a produtilização da natureza, onde resíduos orgânicos se tornam produtos valorizados. Com base em uma pesquisa com consumidores e produtores em feiras na Zona Oeste do Rio de Janeiro, identificou-se indícios de politização do consumo e produtilização da natureza, refletindo em mudanças nas relações sociais e ambientais. \n",
      "\n",
      "Este estudo analisa a peça Café Müller de Pina Bausch e a técnica do Tanztheater, investigando como a dança pode comunicar sem palavras. Também explora a obra Suma Ateológica de Georges Bataille em busca de pontos em comum, sem usar o autor francês como suporte para as observações sobre Pina. \n",
      "\n",
      "O estudo propõe o uso de fluidos magneto-reológicos para controlar a perda de circulação em fraturas. A mistura de polímeros e partículas magnetizáveis, quando submetida a um campo magnético, reduz a perda de circulação, permitindo a cura do polímero. Testes demonstraram aumento da resistência ao escoamento sob ação do campo magnético. Foi desenvolvido um modelo empírico para produção desses fluidos, visando interromper a invasão de fluidos nas fraturas do reservatório. Esse estudo representa um avanço no controle da perda de circulação. \n",
      "\n",
      "O estudo investigou a relação entre o ensino de física e questões étnico-raciais em um colégio público no Rio de Janeiro, com maioria de estudantes negros. Foram realizadas atividades decoloniais para fortalecer a identidade dos alunos e aproximá-los da física. Um teste mostrou mudanças positivas nas atitudes e crenças dos estudantes em relação à disciplina, melhorando seu desempenho nas aulas. \n",
      "\n",
      "O artigo aborda a resistência de Streptococcus pyogenes à penicilina, investigando mecanismos moleculares envolvidos. Foi observado que a resistência não está relacionada a mutações genéticas, mas sim a fatores como estresse oxidativo e alta densidade populacional. A expressão de genes relacionados ao metabolismo e crescimento celular foi reduzida, enquanto genes de bombas de efluxo e toxinas foram aumentados. As células resistentes mostraram maior virulência em um modelo animal. Os resultados sugerem uma possível regulação epigenética nesse fenômeno de resistência bacteriana. \n",
      "\n",
      "O estudo analisou amostras de MRSA de hospitais no Rio de Janeiro, identificando resistência a antibióticos e antissépticos, presença de bombas de efluxo e genes relacionados. Encontrou-se resistência cruzada entre ciprofloxacina, moxifloxacina, gentamicina, tetraciclina, vancomicina e clorexidina. Mutações genéticas foram observadas nos genes gyrA, parC e norA. Linhagens como USA100/SCCmec II (com genes qacA/B) e amostras com SCCmec tipo IV (gene smr) foram destacadas. A resistência cruzada entre antimicrobianos e biocidas, juntamente com mutações genéticas, ressalta a importância do uso racional dessas substâncias em ambientes hospitalares. \n",
      "\n",
      "Este estudo desenvolveu ferramentas de automação para plantas químicas, integrando tecnologias digitais e analógicas. Foram criados modelos de machine learning para prever variáveis e detectar falhas, com alta precisão. Uma estratégia de controle ativo tolerante a falhas foi implementada. Foram propostas soluções para obstáculos, como manutenção online de sensores e simulações de Monte Carlo. As ferramentas foram validadas com dados reais, com potencial para reduzir consumo de água, reagentes e emissões poluentes. Aplicáveis a outros processos, visam minimizar paradas não planejadas e melhorar a eficiência operacional. \n",
      "\n",
      "O artigo propõe uma reflexão sobre os romances \"Nas tuas mãos\" de Inês Pedrosa e \"O alegre canto da perdiz\" de Paulina Chiziane, sob a perspectiva do romance de formação feminino. Utilizando estudos bakhtinianos, discute-se o movimento das personagens femininas, a importância do esquecimento para lembrar, e questões de subalternidade e transgressão. \n",
      "\n",
      "Este estudo analisa seis campanhas de mulheres vítimas de assédio e violência sexual nas redes sociais entre 2013 e 2017. Identificou-se a emergência de uma nova moralidade sexual, baseada no princípio do não-dano e consentimento. A pesquisa utilizou a perspectiva da genealogia foucaultiana para compreender as condições que possibilitaram essas campanhas. Observou-se a criação de uma subjetividade feminina empoderada, porém com pouca abertura ao diálogo com opiniões divergentes. As campanhas formaram comunidades de apoio, mas também apresentaram aspectos controversos. \n",
      "\n",
      "O artigo analisa a crise enfrentada pelos Hospitais Universitários Federais na primeira década dos anos 2000. Apesar das dificuldades de gestão e financiamento, houve esforços para manter o atendimento e avançar para alta complexidade. Foram adotados novos modelos de financiamento e gestão, como o REHUF e a EBSERH. Diversos atores, como professores, diretores, sindicatos e órgãos governamentais, buscaram soluções para viabilizar as atividades dos hospitais. O envolvimento de diferentes partes foi essencial para superar o modelo burocrático e garantir o funcionamento dos hospitais em condições adversas. \n",
      "\n",
      "Neste estudo, foram desenvolvidos modelos para prever propriedades físico-químicas de petróleo, como grau API, temperatura de cristalização e ponto de fulgor, utilizando GC×GC-TOFMS. Foram testadas técnicas como PARAFAC, PARAFAC2 e N-PLS, obtendo resultados promissores para o grau API e a temperatura de cristalização, porém insatisfatórios para o ponto de fulgor. Esses avanços permitem uma caracterização mais eficiente do petróleo, reduzindo custos e tempo de análise, contribuindo para um processo de refino mais sustentável. \n",
      "\n",
      "O estudo investigou a relação entre a estrutura tributária dos planos de saúde e o sistema público de saúde no Brasil. Foram analisadas as políticas de tributação, renúncia fiscal e desoneração do setor, identificando incentivos e gastos tributários. Utilizando a metodologia da ANS, foram avaliados os impactos financeiros da tributação, dívidas, pagamentos, multas, créditos, parcelamentos e ações judiciais. O estudo buscou compreender o impacto econômico-financeiro das obrigações tributárias e a carga tributária, em relação à receita nacional. \n",
      "\n",
      "O estudo descreve a adaptação do KIDSCREEN-52 para pais no Brasil, avaliando sua confiabilidade e dimensionalidade. A versão brasileira mostrou-se equivalente ao original, com boa compreensão pelos entrevistados. A análise estatística indicou adequação dos itens do instrumento, porém as dimensões isoladas podem não ter a mesma precisão que o instrumento como um todo. Conclui-se que a versão brasileira do KIDSCREEN-52 é adequada para avaliar a qualidade de vida relacionada à saúde, mas restrita para avaliar dimensões isoladamente. \n",
      "\n",
      "A leishmaniose cutânea é uma doença infecciosa causada por protozoários do gênero Leishmania, com transmissão complexa. Um estudo no Brasil identificou 14 determinantes ambientais e socioeconômicos, como atividades agropecuárias, temperatura e renda, para mapear áreas de risco da doença. Utilizando análise de múltiplos critérios e SIG, foram gerados mapas de risco. Esses resultados podem auxiliar na vigilância e redução de casos da doença, direcionando recursos para áreas de maior vulnerabilidade. \n",
      "\n",
      "O estudo analisou a mortalidade infantil no Rio de Janeiro em 2007-08, considerando a idade e a escolaridade maternas. Mães mais jovens e mais velhas, com baixa escolaridade, apresentaram maior risco de óbito infantil. A falta de escolaridade influenciou negativamente nos cuidados pré-natais e no peso dos bebês. Não houve diferença significativa na interação entre idade e escolaridade. Conclui-se que é necessário dar mais atenção a esses grupos vulneráveis, especialmente nos extremos de idade, para reduzir a mortalidade na infância. \n",
      "\n",
      "O artigo analisa o uso dos demonstrativos no português brasileiro e europeu em romances gráficos. Observou-se uma tendência para um sistema binário de demonstrativos, com neutralização entre formas de 1ª e 2ª pessoa em oposição às formas de 3ª pessoa. As duas variedades apresentam mudanças no sistema de demonstrativos, com o português brasileiro generalizando a forma \"esse\" e o português europeu a forma \"este\". Além disso, o português brasileiro utiliza mais advérbios de lugar, criando oposições discursivas. \n",
      "\n",
      "A tese analisa o livro de ensaios de Jorge de Sena, \"Maquiavel, Marx e outros estudos\", de 1974. O autor percorre a história do pensamento humano, atualizando o desconcerto camoniano diante das incertezas de um mundo em constante mudança. Através da arte, Sena reflete sobre a vida e o mundo, dialogando com obras e autores estudados. \n",
      "\n",
      "O artigo analisa a saúde integral de mulheres que realizam a Interrupção Voluntária da Gestação (IVG) no Brasil, considerando as questões morais e de gênero. Conclui que as moralidades e o binarismo de gênero influenciam a experiência da IVG, podendo afetar a saúde mental. Identificaram-se funcionamentos básicos importantes para as mulheres que passam por essa experiência, como trabalho, estudo, maternidade e sexualidade. A estigmatização da IVG e a criminalização da sexualidade foram apontadas como determinantes de saúde, podendo causar sofrimento psíquico. \n",
      "\n",
      "O artigo destaca a importância de Haroldo de Campos nos estudos literários brasileiros, ressaltando sua originalidade e postura crítica. Explora as entrevistas concedidas por ele ao longo da vida, buscando integrá-las à sua trajetória intelectual como forma de escrita. Haroldo é reconhecido como um poeta, tradutor e teórico que deixou um legado inovador para a literatura e cultura brasileira. \n",
      "\n",
      "A tese investiga o traço de animacidade em várias línguas, destacando sua importância na sintaxe, concordância, voz inversa e outros aspectos linguísticos. Contrariando a visão tradicional, sugere que a animacidade é um traço sintático enviado para interpretação na interface C-I. A marcação morfológica do traço varia entre as línguas, sendo considerada um parâmetro linguístico. A pesquisa abrange línguas geneticamente distintas, evidenciando a relevância do traço de animacidade na estruturação de sentenças. \n",
      "\n",
      "Este estudo investigou a aquisição de verbos inacusativos em Hebraico como segunda língua por falantes nativos de Português do Brasil. Os resultados mostraram que a distinção entre as classes verbais é influenciada pelo conhecimento prévio da gramática universal, sem transferência das propriedades da língua materna. A distinção entre as classes verbais ocorre cedo na aquisição, enquanto os diagnósticos são adquiridos mais tarde. A aquisição final é variável, com influência da gramática universal e possibilidade de fossilização em alguns contextos. \n",
      "\n",
      "O artigo propõe uma análise da obra de Autran Dourado, destacando o personagem como metáfora em três aspectos: intratextual, intertextual e materializante. A pesquisa explora a fundamentação teórica do personagem-metáfora e investiga todas as obras ficcionais do escritor, com base em estudos de autores como Gaston Bachelard e Philip Wheelwright. A interpretação das narrativas do autor também é abordada, buscando aprofundar a crítica sobre o domínio da imaginação e do símbolo. \n",
      "\n",
      "O estudo investigou como alunos de um curso de inglês se engajam em estratégias de aprendizagem com recursos digitais e suas necessidades nesse contexto. Os resultados mostram que os alunos se engajam mais em estratégias simples, variadas e interativas. Suas necessidades relacionadas aos recursos digitais foram atendidas total ou parcialmente. Propõe-se um modelo teórico para avaliar a integração de tecnologias no ensino de idiomas com base nos achados da pesquisa. \n",
      "\n",
      "Um estudo investigou compostos fenólicos em folhas e galhos de três espécies de Faramea, encontrando 31 compostos, incluindo flavonoides e iridoides. Os extratos mostraram atividade antidengue, mas a relação com os compostos não foi clara. Uma flavanona inédita bioativa foi identificada, assim como iridoides conhecidos. Alguns compostos foram detectados apenas nos galhos. Os resultados sugerem que outros compostos além da flavanona podem contribuir para a atividade observada, incluindo citotoxicidade. \n",
      "\n",
      "Um estudo de proteômica investigou as alterações em regiões cerebrais afetadas pela doença de Alzheimer em diferentes estágios. Foram identificadas proteínas e vias desreguladas, sendo a maioria específica de cada região. Observou-se perda de sinapses em todas as regiões, com prejuízos específicos em diferentes áreas cerebrais. Indivíduos saudáveis apresentaram diferenças na expressão proteica entre o lobo temporal medial e o neocórtex. Mais pesquisas são necessárias para compreender a vulnerabilidade de cada região à doença. \n",
      "\n",
      "Neste estudo, foram sintetizadas 36 novas substâncias contendo os núcleos 1,2,3 e 1,2,4-triazol, que foram testadas em diferentes ensaios biológicos. As rotas de síntese envolveram a preparação de derivados 1,2,4-triazólicos e a cicloadição com alcinos terminais para obter os produtos finais bi-(1H-1,2,3-1,2,4-triazóis). Os compostos foram caracterizados por diversas técnicas analíticas e testados contra diversos alvos biológicos, com destaque para a atividade inibitória contra os fungos Sporothrix brasiliensis e Candida albicans, apresentando resultados promissores. \n",
      "\n",
      "Neste estudo, foi desenvolvida uma forma eficiente de sintetizar compostos espiro-oxindóis a partir de tetrahidro-carbolinas e dicetopiperazinas. Foram obtidos espiro-pirrolidinil-2-oxindóis e espirodicetopiperazinopirrolidinil-2-oxindóis, com diastereoseletividade variando entre 1:1 e 1:4. Os produtos foram caracterizados por técnicas espectroscópicas e espectrométricas, com uso de RMN de 2D para assinalamento dos átomos. A estereoquímica absoluta dos produtos foi determinada por análise de espectros de RMN de NOESY 2D, em relação ao L-triptofano. \n",
      "\n",
      "Abdellah Taïa, escritor marroquino, aborda em suas obras a identidade e a sexualidade de personagens que transitam por diferentes culturas. Seus textos exploram a desconstrução e reconstrução identitária, especialmente no contato com culturas exógenas. O corpo é central em suas narrativas, sendo apropriado pelos sujeitos dissidentes para representarem a si mesmos, em uma postura crítica ao nacionalismo e ao pós-colonialismo. Taïa mescla referências do djinn e do queer para questionar imaginários identitários historicamente impostos, revelando as complexidades e desafios enfrentados por indivíduos em contextos nativos e diaspóricos. \n",
      "\n",
      "O agronegócio desempenha papel fundamental no crescimento econômico, incluindo a produção de fertilizantes organominerais. No Brasil, a regulamentação do Ministério da Agricultura controla a produção e comercialização desses fertilizantes. Uma pesquisa mapeou a cadeia produtiva, desenvolvendo um sistema de gerenciamento de dados para organizar informações do setor. O levantamento de patentes e publicações científicas destacou a China como maior depositante de patentes e o Brasil como líder em publicações sobre o tema. O estudo evidencia o crescimento do setor e a necessidade de aprimorar a organização e controle de informações. \n",
      "\n",
      "O artigo aborda a importância dos engenhos de açúcar na Baixada de Jacarepaguá, no Rio de Janeiro colonial. O estudo detalhado do Engenho do Camorim revelou aspectos da sua estrutura, funcionamento e mão-de-obra étnica. A pesquisa preenche lacunas na arqueologia local, destacando a relevância histórica e cultural dos engenhos da região. \n",
      "\n",
      "O artigo apresenta novas informações sobre a escravidão no Valongo, Rio de Janeiro, destacando o papel do cemitério dos pretos novos, a Alfândega no comércio de cativos africanos e a importância do Cais do Valongo. Utilizando documentos e dados arqueológicos, discute-se a memória do local e sua valorização como patrimônio da herança africana, revelando aspectos físicos e simbólicos do complexo negreiro. \n",
      "\n",
      "O escritor B. Lopes, do final do século XIX e início do século XX, teve sua obra poética, em destaque o livro Cromos (1881), reavaliada no século XXI. O livro é reconhecido pela crítica por seu lirismo e descrições realistas do interior. Considerado um dos melhores momentos da poesia oitocentista, Cromos é visto como parte da tendência agreste na literatura brasileira, junto a outros poetas. Esta pesquisa investiga a presença do lirismo e do realismo nas descrições dos poemas de Cromos, destacando sua importância nessa tendência literária. \n",
      "\n"
     ]
    }
   ],
   "source": [
    "test_2_execution = []\n",
    "\n",
    "for abstract_obj in test_abstract[:50]:\n",
    "    abstract = abstract_obj['abstract']\n",
    "    doc_id = abstract_obj['id']\n",
    "    \n",
    "    query = f\"\"\"\n",
    "    A seguir, está um resumo de um artigo científico:\n",
    "    \n",
    "    {abstract}\n",
    "    \n",
    "    Retorne um resumo com no máximo 100 palavras e com escrita simples, em português:\n",
    "    \"\"\"\n",
    "    \n",
    "    messages = [SystemMessage(content=query)]\n",
    "    abstract = llm(messages).content\n",
    "    print(abstract, \"\\n\")\n",
    "    \n",
    "    retrieved_documents = await retriever.search(\n",
    "        abstract, k=500, fetch_k=100000, max_k_by_document=5, filter={\"type\":\"sentences\"}\n",
    "    )\n",
    "\n",
    "    documents = reranker.prepare_documents(metadata_dict, retrieved_documents)\n",
    "    \n",
    "    # IMPORTANTE: aqui eu uso apenas as sentences no documento de rerank, para evitar contaminacao\n",
    "    reranked_documents = reranker.rerank(abstract, documents, 10, using=[\"sentences\"])\n",
    "\n",
    "    ordered_docs = [{\"id\": doc[\"id\"], \"relevance_score\": doc[\"relevance_score\"]} for doc in reranked_documents]\n",
    "    test_2_execution.append({\"id\": doc_id, \"result\": ordered_docs})\n",
    "    \n",
    "    time.sleep(10)"
   ]
  },
  {
   "cell_type": "markdown",
   "metadata": {},
   "source": [
    "*Observações:<br>\n",
    "Este teste com k=500 está usando 3 unidades de reranking do cohere por teste*"
   ]
  },
  {
   "cell_type": "code",
   "execution_count": 26,
   "metadata": {
    "tags": []
   },
   "outputs": [],
   "source": [
    "test_2_scores = []\n",
    "for exec in test_2_execution:\n",
    "    score = None\n",
    "    for res in exec['result']:\n",
    "        if res['id'] == exec['id']:\n",
    "            score = res['relevance_score']\n",
    "    \n",
    "    test_2_scores.append(score)"
   ]
  },
  {
   "cell_type": "code",
   "execution_count": 27,
   "metadata": {},
   "outputs": [
    {
     "data": {
      "text/plain": [
       "[0.9998523,\n",
       " 0.99998844,\n",
       " 0.98875546,\n",
       " 0.99589807,\n",
       " None,\n",
       " 0.99999934,\n",
       " 0.99999243,\n",
       " None,\n",
       " 0.99999815,\n",
       " 0.9952633,\n",
       " None,\n",
       " 0.99999905,\n",
       " None,\n",
       " 0.9999947,\n",
       " 0.99988765,\n",
       " 0.73885757,\n",
       " 0.9999994,\n",
       " 0.99999976,\n",
       " 0.89606965,\n",
       " 0.9999987,\n",
       " 0.9999779,\n",
       " 0.9904775,\n",
       " 0.99966204,\n",
       " 0.9999165,\n",
       " 0.99999607,\n",
       " 0.99999845,\n",
       " 0.9956347,\n",
       " 0.9996486,\n",
       " 0.9999971,\n",
       " 0.9999553,\n",
       " 0.9997063,\n",
       " 0.99995667,\n",
       " 0.9996673,\n",
       " 0.99999803,\n",
       " 0.9999992,\n",
       " None,\n",
       " 0.99899167,\n",
       " 0.999995,\n",
       " 0.9678993,\n",
       " 0.8493475,\n",
       " 0.9999996,\n",
       " 0.99984765,\n",
       " 0.9988531,\n",
       " 0.9997508,\n",
       " 0.9984084,\n",
       " 0.9996513,\n",
       " 0.99696034,\n",
       " 0.9999061,\n",
       " 0.9189179,\n",
       " 0.9613165]"
      ]
     },
     "execution_count": 27,
     "metadata": {},
     "output_type": "execute_result"
    }
   ],
   "source": [
    "test_2_scores"
   ]
  },
  {
   "cell_type": "markdown",
   "metadata": {
    "jp-MarkdownHeadingCollapsed": true,
    "tags": []
   },
   "source": [
    "# Teste 3: Recuperação Vector Search por Abstracts tirando seus Objetivos"
   ]
  },
  {
   "cell_type": "code",
   "execution_count": 26,
   "metadata": {},
   "outputs": [],
   "source": [
    "import time"
   ]
  },
  {
   "cell_type": "code",
   "execution_count": 27,
   "metadata": {
    "collapsed": true,
    "jupyter": {
     "outputs_hidden": true
    },
    "tags": []
   },
   "outputs": [
    {
     "name": "stdout",
     "output_type": "stream",
     "text": [
      "276189 : O objetivo da pesquisa foi analisar a organização do trabalho dos psicólogos que atuam nas equipes do Núcleo de Apoio à Saúde da Família (NASF) no município do Rio de Janeiro, especificamente na área programática 2.1. Para isso, o estudo buscou compreender o contexto de trabalho atual desses profissionais na atenção básica, identificar o trabalho prescrito e o realizado, investigar as vivências de sofrimento e prazer dos psicólogos em seu ambiente de trabalho, além de analisar as estratégias utilizadas para efetivar a prática profissional. A pesquisa foi realizada por meio de entrevistas com psicólogos que integram equipes NASF da Zona Sul do município, entre os anos de 2019 e 2020, utilizando a Análise dos Núcleos de Sentido como metodologia de análise dos dados. Os resultados obtidos visam contribuir para a compreensão da realidade desses profissionais e apontar possíveis melhorias nas condições de trabalho e na efetividade dos serviços prestados. \n",
      "\n"
     ]
    },
    {
     "name": "stderr",
     "output_type": "stream",
     "text": [
      "Query has been truncated from the right to 256 tokens from 267 tokens.\n"
     ]
    },
    {
     "name": "stdout",
     "output_type": "stream",
     "text": [
      "494080 : O objetivo da pesquisa foi investigar como os terapeutas cognitivo-comportamentais lidam com a religiosidade e espiritualidade (R/E) de seus pacientes no contexto da psicoterapia. Para isso, foram aplicados questionários em 263 terapeutas que atuam no Brasil, buscando verificar suas percepções e opiniões em relação à R/E dos pacientes. Os resultados obtidos demonstraram que a maioria dos terapeutas se considerava religiosa, espiritualizada ou ambos, e que a abordagem da R/E no contexto terapêutico estava mais relacionada com a própria religiosidade, espiritualidade ou ausência destas do terapeuta do que com sua capacitação profissional. Diante disso, os pesquisadores sugerem a necessidade de iniciativas educacionais e formativas para capacitar os terapeutas cognitivo-comportamentais e psicólogos de modo a lidar de forma mais adequada com a R/E dos pacientes, visando aprofundar o conhecimento sobre o tema e ampliar a compreensão em diferentes contextos religiosos e espirituais. \n",
      "\n"
     ]
    },
    {
     "name": "stderr",
     "output_type": "stream",
     "text": [
      "Query has been truncated from the right to 256 tokens from 275 tokens.\n"
     ]
    },
    {
     "name": "stdout",
     "output_type": "stream",
     "text": [
      "547235 : O objetivo da pesquisa foi analisar os romances de Tahar Ben Jelloun, L'Enfant de sable, La nuit sacrée e La Nuit de l'erreur, sob a perspectiva da teatralidade do narrador-contador. Para isso, foi necessário investigar a presença dessa teatralidade e do personagem do narrador-contador nos romances, utilizando como base a teoria do texto e a intertextualidade. A pesquisa buscou compreender as bifurcações presentes nas narrativas, que se fragmentam em diferentes olhares, vozes, contadores e versões. Além disso, o estudo visou destacar o papel do escritor como testemunha e mediador, que reterritorializa culturas e tradições magrebinas. Por fim, a pesquisa explorou a praça como cenário da teatralidade do contador, que transita entre culturas, tradições, passado e presente, utilizando estratégias metanarrativas para agenciar a pluralidade dialógica e narrativa nas obras analisadas. \n",
      "\n"
     ]
    },
    {
     "name": "stderr",
     "output_type": "stream",
     "text": [
      "Query has been truncated from the right to 256 tokens from 263 tokens.\n"
     ]
    },
    {
     "name": "stdout",
     "output_type": "stream",
     "text": [
      "614469 : O objetivo da pesquisa foi investigar as relações entre o arcabouço sedimentar, a evolução geomorfológica e os solos desenvolvidos em depósitos quaternários identificados em diferentes níveis de interflúvios/divisores de drenagem aplainados e em cabeceiras de drenagem em anfiteatro, na região do Médio Vale do Rio Paraíba do Sul. Para isso, foram realizadas análises da distribuição, características morfológicas e relações espaciais das feições geomorfológicas, reconstituição do arcabouço sedimentar, caracterização dos solos, e datação das unidades sedimentares utilizando a luminescência. Os resultados obtidos permitiram a individualização e caracterização de três níveis principais de interflúvios/divisores de drenagem na área estudada, evidenciando as sucessivas fases de erosão e deposição durante o final do Pleistoceno e no Holoceno inicial a médio, contribuindo para compreender a evolução do relevo e das pedogêneses na região. \n",
      "\n"
     ]
    },
    {
     "name": "stderr",
     "output_type": "stream",
     "text": [
      "Query has been truncated from the right to 256 tokens from 268 tokens.\n"
     ]
    },
    {
     "name": "stdout",
     "output_type": "stream",
     "text": [
      "683353 : O objetivo da pesquisa é analisar os mecanismos, possibilidades e limitações de construção do poder dos participantes do orçamento participativo, destacando o processo de co-formação de territórios urbanos e da identidade dos sujeitos políticos envolvidos. Através de uma abordagem etnográfica, realizada em uma região de Porto Alegre onde o orçamento participativo é implementado, a pesquisa busca compreender como os agentes políticos se formam e se tornam capazes de atuar no processo. São dois os caminhos seguidos: a análise do processo de tomada de decisão no ciclo do orçamento, evidenciando as estratégias de poder utilizadas pelos envolvidos, e a investigação da trajetória de constituição e engajamento no orçamento participativo dos indivíduos e organizações que assumem papéis preponderantes na tomada de decisão. Em ambas as abordagens, a pesquisa identifica a relação entre a formação da identidade e da capacidade de atuação desses sujeitos políticos, bem como o processo de definição e afirmação de um território ao qual eles se referem. \n",
      "\n"
     ]
    },
    {
     "name": "stderr",
     "output_type": "stream",
     "text": [
      "Query has been truncated from the right to 256 tokens from 288 tokens.\n"
     ]
    },
    {
     "name": "stdout",
     "output_type": "stream",
     "text": [
      "762801 : O objetivo da pesquisa foi investigar a construção sócio-histórica do currículo do curso de Licenciatura em Química do Instituto de Química (IQ) da Universidade Federal do Rio de Janeiro (UFRJ) no período de 1993 a 2005. O estudo buscou compreender a gestação, criação, implantação e implementação do curso, além de analisar a influência dos formadores de professores na construção social do currículo, com foco nas tensões e desafios decorrentes de diferentes concepções de formação docente dos formadores do IQ e da Faculdade de Educação (FE). A pesquisa utilizou métodos documentais, como análise de documentos e entrevistas, para investigar as visões dos formadores e membros estratégicos envolvidos no curso. Os resultados buscaram contribuir para os estudos de currículos de formação de professores em nível superior, especificamente para o curso de formação de professores de Química, sob uma perspectiva sócio-histórica. \n",
      "\n",
      "768599 : O objetivo da pesquisa é analisar a violência do Estado, perpetrada pela polícia militar contra a população negra, pobre e jovem moradora das favelas e periferias do Rio de Janeiro, e como essa violência é representada pela mídia brasileira. O estudo busca destacar o papel da mídia como ator social privilegiado na construção de estereótipos, que acabam por produzir e reproduzir a figura ficcional do inimigo. Além disso, a pesquisa pretende entender como essa construção de estereótipos influencia o imaginário social. Outro objetivo é apreender a dinâmica envolvida nesse processo, relacionando-o com as raízes autoritárias da sociedade brasileira, que remontam ao período colonial. Por fim, a pesquisa busca refletir sobre a fragilidade da democracia brasileira, evidenciada pelo recrudescimento da violência estatal, especialmente pela letalidade policial, e discutir a falta de consolidação democrática no país. \n",
      "\n",
      "774811 : O objetivo da pesquisa foi aplicar um modelo preditivo de ocorrência de escorregamentos rasos em duas bacias localizadas no maciço da Tijuca, Rio de Janeiro, para verificar seu desempenho em ambiente tropical. O modelo SHALSTAB combina um modelo hidrológico com um modelo de estabilidade de encostas para determinar a relação entre quantidade de chuva e transmissividade do solo necessária para causar um escorregamento. Foram realizados testes considerando diferentes parâmetros do solo, como declividade, área de contribuição, densidade, ângulo de atrito e coesão. O estudo buscou identificar a influência da topografia nesse tipo de movimento de massa e avaliar a eficiência do modelo. Além disso, foi feita uma análise de sensibilidade do modelo para encontrar a combinação ótima de parâmetros. Os resultados obtidos contribuem para a compreensão e prevenção de escorregamentos em áreas tropicais, fornecendo insights importantes para a gestão de riscos e desastres naturais. \n",
      "\n"
     ]
    },
    {
     "name": "stderr",
     "output_type": "stream",
     "text": [
      "Query has been truncated from the right to 256 tokens from 269 tokens.\n"
     ]
    },
    {
     "name": "stdout",
     "output_type": "stream",
     "text": [
      "806362 : O objetivo da pesquisa foi validar a Escala de Autonomia e Sobrecarga no Contexto Laboral, desenvolvida a partir do modelo Job Demands-Resources (JD-R). Para isso, foram realizadas análises estatísticas, como análise fatorial confirmatória e validade concorrente com a Escala de Indicador de Características do Ambiente Organizacional. Os pesquisadores buscaram verificar a consistência interna das escalas, utilizando os estimadores Alfa de Cronbach e Ômega de Mc Donalds. Além disso, avaliaram como a autonomia e a sobrecarga no trabalho se relacionam com outros aspectos, como recursos de trabalho e assédio moral. Os resultados indicaram que as escalas tiveram boa consistência interna, porém apenas se ajustaram parcialmente ao modelo teórico proposto. As relações encontradas entre os diferentes aspectos investigados foram consistentes com a literatura, contribuindo para uma melhor compreensão de como esses fatores influenciam o ambiente de trabalho. \n",
      "\n",
      "814014 : O objetivo da pesquisa é investigar o mal-estar docente sob uma perspectiva psicanalítica, utilizando o referencial teórico de Freud e de psicanalistas contemporâneos. Através da escuta em oficinas de rodas de conversas e entrevistas individuais com professores do Instituto de Educação Professor Ismael Coutinho (IEPIC), a pesquisa busca registrar as queixas, impotências e impasses relatados pelos docentes. Com base na análise desses relatos e na revisão da literatura selecionada, o estudo pretende mapear o mal-estar presente nas falas dos professores, relacionando-o ao conceito freudiano de mal-estar. Além disso, busca-se compreender como a destituição contemporânea da autoridade no ambiente escolar influencia o mal-estar docente e suas consequências tanto na prática pedagógica quanto no bem-estar psíquico dos professores. \n",
      "\n",
      "81683 : O objetivo da pesquisa é entender o meio ambiente como uma forma específica de organização do território, partindo da problematização do meio ambiente como uma questão social. Para alcançar esse objetivo, a pesquisa busca estabelecer uma proposta teórico-metodológica que conecta os fundamentos teóricos da biologia e da geografia clássica, disciplinas-chave no estudo das questões ambientais e territoriais. O estudo utiliza como teste de viabilidade dessa proposta os conflitos reais enfrentados pelos pequenos agricultores de Nova Friburgo, município do estado do Rio de Janeiro, que estão localizados em uma área oficialmente designada como de proteção ambiental. Assim, a pesquisa busca compreender a relação entre os aspectos ambientais, territoriais e sociais, a partir de um estudo de caso concreto envolvendo a interação entre os pequenos agricultores e a legislação ambiental vigente. \n",
      "\n",
      "829660 : O objetivo da pesquisa é investigar as políticas de currículo voltadas para o acesso e permanência de pessoas transgêneras no ensino superior brasileiro, com foco em instituições federais localizadas no norte e nordeste do país. O estudo analisa especificamente as políticas relacionadas à adoção do nome social, ao uso de espaços segregados por gênero e às cotas de acesso para pessoas trans no ensino superior. A pesquisa busca compreender como essas políticas são desenvolvidas e quais os impactos delas nas instituições federais de ensino superior no Brasil, utilizando o ciclo de políticas de Stephen Ball e colaboradores como referência teórica. Além disso, o estudo visa dar visibilidade a um conjunto de dados sobre a população trans nos espaços formais de educação, que tem sido negligenciada na produção acadêmica educacional, especialmente no campo do Currículo no Brasil. \n",
      "\n",
      "842988 : O objetivo da pesquisa foi desenvolver e aplicar métodos computacionais para estudar a espectroscopia de fotoabsorção e fotoionização em diferentes regiões espectrais, desde o VUV até a região de raios-X, em átomos e moléculas no estado fundamental e excitado. Foram realizados estudos utilizando diferentes abordagens computacionais, como TDDFT e CC, para analisar seções de choque de fotoionização e espectros de fotoionização NEXAFS de diversas moléculas. Além disso, a pesquisa propôs uma formulação do EOM-CCSD para calcular energias de excitação e forças do oscilador para transições entre estados excitados em sistemas específicos. Outro objetivo foi investigar os espectros de seção de choque de fotoionização e fotoabsorção de ácido fórmico e seus aglomerados formados por ligações de hidrogênio, comparando com experimentos de NEXAFS. Em resumo, a pesquisa buscou avançar no entendimento teórico dos processos de interação luz-matéria em diferentes sistemas moleculares. \n",
      "\n"
     ]
    },
    {
     "name": "stderr",
     "output_type": "stream",
     "text": [
      "Query has been truncated from the right to 256 tokens from 282 tokens.\n"
     ]
    },
    {
     "name": "stdout",
     "output_type": "stream",
     "text": [
      "856777 : O objetivo principal da pesquisa é explorar como a China é culturalmente representada pela revista eletrônica Fantástico, da TV Globo, entre os anos de 2008 e 2018. Para alcançar esse objetivo, a pesquisa se fundamenta nas teorias da imagologia intercultural e da representação cultural. Metodologicamente, a análise da materialidade audiovisual e a análise de discurso telejornalístico são aplicadas. Além disso, a pesquisa contextualiza as imagens históricas da China no Ocidente, a construção das imagens da China na globalização, a representação da China pela mídia brasileira e as características da revista Fantástico. O trabalho empírico da pesquisa consiste na análise de quinze matérias sobre a China produzidas pelo Fantástico, divididas em três temas: \"a China moderna e problemática\", \"a China tradicional e cultural\" e \"o povo chinês\". \n",
      "\n",
      "861483 : O objetivo da pesquisa foi analisar a construção biográfica de Reynaldo Gianecchini a partir das narrativas midiáticas relacionadas ao período em que ele passou pelo tratamento de um câncer linfático entre 2011 e 2012. A pesquisa buscou compreender como as narrativas produzidas pela mídia influenciaram a percepção do público sobre a vida e a imagem do ator, explorando as múltiplas articulações entre o individual e o social na subjetivação de uma figura pública. Além disso, o estudo discutiu como as disposições e condutas do ethos terapêutico se manifestam nas narrativas midiáticas, destacando a importância do autoconhecimento, da motivação pessoal, da administração dos afetos e da empatia no processo de enfrentamento da doença. Por fim, a pesquisa também abordou a construção da masculinidade do ator durante o tratamento do câncer, destacando como a exposição pública da superação de vulnerabilidades contribui para uma redefinição dos padrões de força e virilidade associados à masculinidade contemporânea. \n",
      "\n"
     ]
    },
    {
     "name": "stderr",
     "output_type": "stream",
     "text": [
      "Query has been truncated from the right to 256 tokens from 273 tokens.\n"
     ]
    },
    {
     "name": "stdout",
     "output_type": "stream",
     "text": [
      "868374 : O objetivo da pesquisa foi estruturar ideais da escola nova, proposta por John Dewey e William Kilpatrick, para atividades relacionadas ao ensino de Física. A intenção era aumentar o nível de aprendizagem dos alunos através de uma participação mais ativa dos mesmos na sala de aula, seguindo o método do projeto proposto por Kilpatrick em 1918. Foram realizadas duas aplicações práticas em uma escola da rede estadual de ensino em Duque de Caxias, buscando embasar teoricamente a proposta antes de sua execução. O plano de projeto foi elaborado para facilitar o planejamento das atividades de Física, visando estruturar bem a metodologia apresentada. Apesar de não apresentar muitos exemplos práticos, o trabalho sugere que diversos tópicos da área de Física podem ser explorados com essa abordagem pedagógica inovadora, alertando os professores sobre os cuidados necessários para sua adoção. \n",
      "\n",
      "873196 : O objetivo da pesquisa é identificar a representação social construída pelo telejornal RJTV – 1ª Edição sobre a população negra no Rio de Janeiro. Para isso, o estudo se propõe a analisar o conceito de representação social, relacionando-o com estereótipos, minorias e mídia, e a investigar a influência da estrutura da televisão na sociedade contemporânea, especialmente no que diz respeito à formação de identidade, práticas de racismo e hegemonia. Além disso, a pesquisa busca compreender o histórico e as características atuais do RJTV – 1ª Edição, avaliando-o sob a perspectiva da comunicação comunitária. Por meio da metodologia de análise das reportagens do telejornal, o estudo visa verificar se a representação do negro é carregada de conteúdo negativo devido ao racismo estrutural presente na emissora Rede Globo, e se é possível escapar desse padrão em alguns noticiários do programa. A pesquisa sugere que o telejornal deveria apresentar o afrodescendente de forma mais complexa, fugindo da dicotomia entre negativo e positivo. \n",
      "\n"
     ]
    },
    {
     "name": "stderr",
     "output_type": "stream",
     "text": [
      "Query has been truncated from the right to 256 tokens from 300 tokens.\n"
     ]
    },
    {
     "name": "stdout",
     "output_type": "stream",
     "text": [
      "880394 : O objetivo da pesquisa é analisar a obra do artista libanês Rabih Mroué, investigando a sua relação com a guerra civil do Líbano e da Síria, a fim de compreender um possível modo revolucionário de fazer arte. Através da reflexão sobre a performance \"Revolução em Pixels\" e da análise de conceitos de teóricos da imagem, busca-se desenvolver uma abordagem crítica e poética sobre a prática artística desse sujeito, bem como sobre o uso de imagens como instrumento, estratégia e testemunho. Com base nessas reflexões, a intenção é iniciar a construção de um conceito denominado imagem-guerra, que possa contribuir para a compreensão e análise de como as imagens são utilizadas em contextos de conflito e revolução. \n",
      "\n",
      "881375 : O objetivo da pesquisa foi analisar a politização do consumo e a produtilização da natureza no contexto do cultivo de produtos orgânicos e agroecológicos. Através da investigação realizada com consumidores e produtores em feiras na zona urbana próxima ao Maciço da Pedra Branca, Zona Oeste do Rio de Janeiro, Brasil, buscou-se compreender como as práticas de consumo e produção estão relacionadas com a politização e a transformação de resíduos orgânicos em produtos valorizados. A pesquisa teve como foco a análise das subjetividades presentes nessas relações, considerando a influência do marketing, da mídia e das práticas de fertilização das lavouras. Os resultados indicaram pistas da politização do consumo e da produtilização da natureza, evidenciando a interação entre as relações sociais e a natureza através dos \"Kits de subjetividade\". \n",
      "\n",
      "883182 : O objetivo da pesquisa é investigar a contribuição da dançarina e coreógrafa Pina Bausch, por meio da peça Café Müller e da técnica do Tanztheater, para os movimentos corporais soberanos. Busca-se compreender como essa modalidade de dança, que se aproxima da teatralidade, pode abrir o campo da Comunicação para um tipo de saber que não depende de enunciados fechados, utilizando a ausência de palavras para significar e corporificar novas experiências. Além disso, pretende-se analisar o compêndio de três livros de Georges Bataille, chamado de Suma Ateológica, a fim de compreender como ambos os autores lidam com a negatividade comunicacional e encontram questões em comum. O estudo não visa utilizar a obra de Bataille como suporte ou explicação para as observações sobre a obra de Pina Bausch. \n",
      "\n",
      "883218 : O objetivo da pesquisa foi avaliar um novo mecanismo para controle de perda de circulação em fraturas, utilizando uma mistura de polímeros reticulantes e partículas magnetizáveis, conhecidas como fluidos magneto-reológicos (FMR). O mecanismo proposto visa minimizar a perda de circulação inicialmente por meio de um campo magnético e, em seguida, reticular a solução do polímero para controlar a perda de circulação, permitindo a cura da massa polimérica. Foram realizados testes de desempenho dos FMR em equipamentos específicos para simular a perda de circulação em situações de escoamento dos fluidos em canais sob ação de campo magnético. Os resultados obtidos demonstraram um aumento significativo da tensão de escoamento dos FMR sob ação do campo magnético, contribuindo para a criação de um modelo empírico que pode auxiliar na produção de FMR capazes de interromper a invasão de fluidos em fraturas no reservatório. A pesquisa visa gerar um novo conceito em controle de perda de circulação. \n",
      "\n"
     ]
    },
    {
     "name": "stderr",
     "output_type": "stream",
     "text": [
      "Query has been truncated from the right to 256 tokens from 258 tokens.\n"
     ]
    },
    {
     "name": "stdout",
     "output_type": "stream",
     "text": [
      "883377 : O objetivo da pesquisa foi investigar como o ensino de física em um colégio público do Estado do Rio de Janeiro se relaciona com questões étnico-raciais, especialmente considerando que a maioria dos estudantes é negra. A pesquisa buscou identificar aspectos da colonialidade presentes no processo de ensino e aprendizagem, propondo atividades e ações afirmativas de cunho decolonial. Essas atividades tinham o intuito de combater a alienação colonial, fortalecer a identidade dos estudantes e aproximá-los da física e das áreas de exatas. Para avaliar possíveis mudanças nas atitudes e crenças dos estudantes em relação à física, foi aplicado um teste diagnóstico adaptado. Os resultados indicaram que as atividades implementadas contribuíram para ampliar a visão dos estudantes sobre a física, melhorando seus comportamentos em sala de aula e em práticas escolares. \n",
      "\n",
      "883397 : O objetivo da pesquisa foi compreender os mecanismos moleculares envolvidos no surgimento de células de Streptococcus pyogenes refratárias à penicilina, induzidas por elevada densidade populacional (EDP) em meio com penicilina. Além disso, buscou-se determinar se a indução de estresse oxidativo e pH baixo geram células refratárias, avaliar o potencial de virulência dessas células e investigar possíveis mutações no genoma completo relacionadas ao fenômeno de refratariedade. Foram realizados estudos sobre o crescimento sob condições de estresse, avaliação de transcritos de genes relacionados ao estresse oxidativo, metabolismo de aminoácidos e divisão celular, investigação de sistemas toxina/antitoxina, análise da expressão de genes de bombas de efluxo e sua regulação, bem como a avaliação do potencial virulento das células refratárias em um modelo animal. Os resultados sugerem uma possível regulação epigenética na geração do fenômeno de refratariedade à penicilina em S. pyogenes, envolvendo a participação de bombas de efluxo e alterações nos genes relacionados ao metabolismo e crescimento celular. \n",
      "\n"
     ]
    },
    {
     "name": "stderr",
     "output_type": "stream",
     "text": [
      "Query has been truncated from the right to 256 tokens from 314 tokens.\n"
     ]
    },
    {
     "name": "stdout",
     "output_type": "stream",
     "text": [
      "883402 : O objetivo da pesquisa foi caracterizar a resistência a antibióticos e antissépticos em linhagens clonais de Staphylococcus aureus resistente à meticilina (MRSA) isoladas de hospitais no Rio de Janeiro. Isso envolveu a determinação das concentrações mínimas inibitórias (CMIs) de ciprofloxacina, moxifloxacina e digluconato de clorexidina (DC), a identificação da presença de bombas de efluxo e genes relacionados, e a avaliação da resistência cruzada entre antibióticos e DC. Foram investigadas mutações genéticas nos genes gyrA, parC e norA em resposta à exposição aos compostos. Os resultados obtidos demonstraram a presença de sistemas ativos de bomba de efluxo e genes associados em linhagens hospitalares de MRSA, evidenciando a importância do uso adequado de antimicrobianos e biocidas no ambiente hospitalar para evitar a resistência cruzada e o desenvolvimento de cepas mais resistentes. \n",
      "\n"
     ]
    },
    {
     "name": "stderr",
     "output_type": "stream",
     "text": [
      "Query has been truncated from the right to 256 tokens from 265 tokens.\n"
     ]
    },
    {
     "name": "stdout",
     "output_type": "stream",
     "text": [
      "883419 : O objetivo da pesquisa foi desenvolver ferramentas de automação para apoiar a operação de plantas de processamento químico, integrando tecnologias digitais e analógicas. Essas ferramentas tinham como finalidade prever variáveis difíceis de medir, detectar e diagnosticar falhas, e implementar estratégias de controle ativo tolerante a falhas. Além disso, o estudo propôs alternativas para superar obstáculos na implementação em larga escala dessas ferramentas, como a manutenção online de sensores virtuais, atualização de modelos de predição em novas condições operacionais e expansão de dados de operação por meio de simulações. As ferramentas desenvolvidas foram validadas com dados reais de processo, visando a redução do consumo de água e reagentes, a diminuição de emissões poluentes e a prevenção de paradas operacionais não planejadas. Apesar de terem sido aplicadas em processos de combustão específicos, as ferramentas foram projetadas para serem replicáveis e adaptáveis a outros contextos industriais. \n",
      "\n"
     ]
    },
    {
     "name": "stderr",
     "output_type": "stream",
     "text": [
      "Query has been truncated from the right to 256 tokens from 280 tokens.\n"
     ]
    },
    {
     "name": "stdout",
     "output_type": "stream",
     "text": [
      "883546 : O objetivo principal da pesquisa é desenvolver uma reflexão sobre os romances \"Nas tuas mãos\", de Inês Pedrosa, e \"O alegre canto da perdiz\", de Paulina Chiziane, sob a perspectiva do romance de formação feminino. Pretende-se analisar as obras considerando os estudos bakhtinianos e as leituras recentes de Cristina Ferreira Pinto, Marcus Mazzari e Jorge Vaz de Carvalho, especialmente no que diz respeito ao movimento das personagens femininas nas narrativas. Além disso, a pesquisa visa refletir sobre a importância de lembrar para esquecer, conforme a filósofa Jeanne Marie Gagnebin, para acessar os espaços de intimidade relacionados aos traumas das personagens, e discutir as questões de subalternidade e transgressão femininas presentes nos romances analisados. \n",
      "\n",
      "883556 : O objetivo da pesquisa foi investigar as condições de emergência e os processos de atualização do feminino e da feminilidade em seis campanhas de mulheres vítimas de assédio e violência sexual que ocorreram entre 2013 e 2017 nas redes sociais virtuais. Além disso, buscou-se compreender como essas campanhas apontam para a emergência de uma nova moralidade sexual pautada no princípio do não-dano e no consentimento. Utilizando a perspectiva foucaultiana da genealogia, a pesquisa analisou as estratégias discursivas, argumentos morais e linguagem emocional presentes nos relatos das mulheres, destacando a formação de uma subjetividade feminina empoderada e a criação de comunidades emocionais de apoio e solidariedade. Também foi investigado o alcance internacional dessas campanhas, assim como os aspectos controversos relacionados à falta de diálogo com aqueles que não compartilham a identidade da vítima. \n",
      "\n",
      "883689 : O objetivo da pesquisa foi caracterizar e analisar a crise dos Hospitais Universitários Federais na primeira década dos anos 2000. Para isso, foi realizado um estudo qualitativo com pesquisa bibliográfica e documental, analisando três Hospitais Universitários Federais. Os resultados mostraram que, durante a fase aguda da crise por volta de 2002, não houve redução na assistência nem nos recursos financeiros. Entre 2002 e 2005, foram admitidos 13.042 novos funcionários no Regime Jurídico Único (RJU), porém em 2008 havia mais terceirizados e celetistas do que em qualquer outro período. A adição de funcionários e recursos financeiros, decorrente da contratualização pelo Ministério da Saúde, não resultou em aumento no volume assistencial, mas sim em progressão para a atenção de alta complexidade. A conclusão apontou que a crise refletiu dificuldades de gestão e financiamento, com esforços dos hospitais para cumprir suas missões e avançar na assistência de alta complexidade. \n",
      "\n"
     ]
    },
    {
     "name": "stderr",
     "output_type": "stream",
     "text": [
      "Query has been truncated from the right to 256 tokens from 267 tokens.\n"
     ]
    },
    {
     "name": "stdout",
     "output_type": "stream",
     "text": [
      "883720 : O objetivo da pesquisa foi desenvolver modelos de calibração multiway para prever propriedades físico-químicas de petróleo, como °API, temperatura inicial de aparecimento de cristais (TIAC) e ponto de fulgor, utilizando a técnica GC×GC-TOFMS. Para isso, foram utilizadas 102 amostras de petróleo cru cedidas pelo Cenpes / Petrobras, que foram analisadas por cromatografia gasosa bidimensional. Os modelos foram avaliados quanto ao grau de ajuste do resultado, utilizando parâmetros como erro médio de previsão, coeficiente de determinação e bias. Os resultados obtidos indicaram um avanço na caracterização do petróleo em comparação com métodos tradicionais, possibilitando inferências no processo de refino e valoração do petróleo com menor consumo de amostra, tempo e gastos com análises, tornando o processo de caracterização mais eficiente e ambientalmente sustentável. \n",
      "\n",
      "884143 : O objetivo da pesquisa foi investigar se a estrutura tributária que incide sobre o setor de planos e seguros de saúde pode explicar a relação entre o crescimento desse setor e as dificuldades enfrentadas pelo sistema de saúde público no Brasil. Para isso, a análise da política tributária vigente buscou identificar as obrigações legais, políticas de renúncia fiscal e de parcelamento, além de avaliar as diferenças entre as empresas classificadas pela Agência Nacional de Saúde Suplementar (ANS). Também foram identificados os incentivos à demanda e à oferta previstos na desoneração tributária do setor, estimados os gastos tributários com ISSQN, PIS e Cofins, e analisados diversos aspectos relacionados à tributação, como dívidas, pagamentos, multas, créditos, parcelamentos e ações judiciais. A pesquisa teve como propósito avaliar o impacto econômico-financeiro das obrigações tributárias e a participação da tributação corrente na receita tributária nacional. \n",
      "\n"
     ]
    },
    {
     "name": "stderr",
     "output_type": "stream",
     "text": [
      "Query has been truncated from the right to 256 tokens from 268 tokens.\n"
     ]
    },
    {
     "name": "stdout",
     "output_type": "stream",
     "text": [
      "884145 : O objetivo da pesquisa foi descrever os procedimentos de adaptação transcultural para o Brasil do KIDSCREEN-52 na versão para pais ou responsáveis. Isso incluiu a tradução do instrumento original, validação semântica, aplicação em um grupo teste para verificação de compreensão e ajuste, e posterior aplicação em uma amostra de 357 responsáveis por crianças. O estudo buscou manter a equivalência operacional do instrumento, avaliar a confiabilidade por meio do Coeficiente Alfa de Cronbach, corroborar a dimensionalidade com os testes Kaiser-Meyer-Olkin e esfericidade de Bartlett, e realizar análise fatorial exploratória para verificar a estrutura dimensional do instrumento. Os resultados demonstraram que a versão brasileira do KIDSCREEN-52 para pais e responsáveis teve um desempenho satisfatório, sendo considerada adequada para avaliar a qualidade de vida relacionada à saúde, embora a precisão das dimensões isoladas não seja tão alta quanto a do instrumento como um todo. \n",
      "\n"
     ]
    },
    {
     "name": "stderr",
     "output_type": "stream",
     "text": [
      "Query has been truncated from the right to 256 tokens from 265 tokens.\n"
     ]
    },
    {
     "name": "stdout",
     "output_type": "stream",
     "text": [
      "884150 : O objetivo da pesquisa é identificar as áreas de risco de ocorrência da leishmaniose cutânea no Brasil, considerando os principais determinantes ambientais e socioeconômicos relacionados à doença. Para isso, foi realizada uma revisão sistemática da literatura para identificar 14 determinantes-chave, que foram agrupados em quatro temas principais. Utilizando o método de Análise Hierárquica (AHP) e a análise de decisão por múltiplos critérios (MCDA), combinada com Sistema de Informação Geográfica (SIG), foram gerados cinco mapas de risco, um para cada grupo temático, e um mapa final que combina todos os grupos. O objetivo final é contribuir para um melhor entendimento da situação epidemiológica da leishmaniose cutânea no Brasil, identificando as áreas de maior risco para a doença. Com esses resultados, busca-se direcionar a vigilância para as áreas de maior risco, otimizando recursos e reduzindo os casos de leishmaniose cutânea no país e no continente. \n",
      "\n"
     ]
    },
    {
     "name": "stderr",
     "output_type": "stream",
     "text": [
      "Query has been truncated from the right to 256 tokens from 282 tokens.\n"
     ]
    },
    {
     "name": "stdout",
     "output_type": "stream",
     "text": [
      "884154 : O objetivo da pesquisa foi analisar a mortalidade na infância de acordo com a idade e escolaridade maternas na coorte de nascimentos de gravidez única no município do Rio de Janeiro em 2007-08. Para isso, foi realizado um estudo utilizando dados de registros de nascidos vivos e de mortalidade, com o intuito de estimar a mortalidade na infância e seus componentes (neonatal, pós-neonatal e infantil) com base em indicadores de desigualdade relacionados à idade materna (15-19, 20-34 e 35 anos ou mais) e à escolaridade materna (menos de 4 anos, 4 a 11 anos e 12 ou mais anos de estudo). Os pesquisadores buscaram identificar possíveis associações entre a idade e escolaridade maternas com a mortalidade infantil, a fim de compreender melhor os fatores de risco e vulnerabilidades que influenciam nesses resultados, especialmente nos grupos mais vulneráveis, como as mulheres com menor escolaridade nos extremos de idade. \n",
      "\n"
     ]
    },
    {
     "name": "stderr",
     "output_type": "stream",
     "text": [
      "Query has been truncated from the right to 256 tokens from 266 tokens.\n"
     ]
    },
    {
     "name": "stdout",
     "output_type": "stream",
     "text": [
      "884425 : O objetivo da pesquisa foi analisar o uso dos demonstrativos em romances gráficos do português brasileiro e do português europeu, verificando se as duas variedades apresentam os mesmos padrões de uso dessas formas linguísticas relacionadas ao espaço e à pessoa. A pesquisa buscou investigar se há diferenças na orientação das operações mentais envolvidas no funcionamento do sistema da língua entre um locutor brasileiro e um locutor português. A hipótese levantada foi que as duas variedades do português apresentam neutralizações que comprometem a distinção de três campos referenciais separados e levam a uma restruturação do sistema dos demonstrativos, com uma possível alteração na organização dessas formas linguísticas. Os resultados mostraram que, embora ambas as variedades apresentem essa tendência de neutralização, ela se manifesta de maneira diferenciada em cada uma delas, principalmente no que diz respeito aos demonstrativos determinantes. \n",
      "\n",
      "884532 : O objetivo da pesquisa é analisar o posicionamento testemunhal e dialético de Jorge de Sena diante do mundo e da vida, explorando como ele se manifesta por meio da arte. O foco será em um de seus volumes de Ensaios, intitulado Maquiavel, Marx e outros estudos, publicado em 1974. Neste trabalho, o autor de Metamorfoses traça um percurso pela história do pensamento humano, utilizando obras e autores prefaciados e estudados por ele. A pesquisa busca atualizar o desconcerto camoniano, ou seja, as incertezas de um mundo em constante movimento, presentes nas reflexões de Sena. Dessa forma, o estudo pretende aprofundar a compreensão do pensamento e da visão de mundo do autor, a partir de sua análise crítica e reflexiva sobre diferentes aspectos da sociedade e da cultura. \n",
      "\n",
      "884536 : O objetivo da pesquisa foi analisar e discutir a promoção da saúde integral das mulheres que realizam a Interrupção Voluntária da Gestação (IVG), com foco na saúde mental, levando em consideração as diferentes moralidades sobre a IVG no Brasil. Além disso, a pesquisa buscou aplicar a Perspectiva dos Funcionamentos (PdF) de Maria Clara Dias como proposta de Justiça, uma teoria abrangente que destaca a igualdade dos funcionamentos básicos de diversos sistemas funcionais. Para atingir esses objetivos, foram utilizadas duas fontes de dados: análise das moralidades presentes em audiências públicas no Senado Federal e análise da experiência de seis mulheres que passaram pela IVG. Os resultados indicaram a complexidade da relação entre IVG e saúde mental, destacando a influência de fatores individuais e coletivos na significação da experiência. Concluiu-se que certas moralidades sobre a IVG e o binarismo de gênero podem impactar a saúde mental das mulheres, sendo essencial considerar outros funcionamentos básicos para a promoção da saúde integral durante o processo de IVG. \n",
      "\n"
     ]
    },
    {
     "name": "stderr",
     "output_type": "stream",
     "text": [
      "Query has been truncated from the right to 256 tokens from 310 tokens.\n"
     ]
    },
    {
     "name": "stdout",
     "output_type": "stream",
     "text": [
      "884641 : O objetivo da pesquisa é analisar as entrevistas concedidas por Haroldo de Campos ao longo de sua vida, não apenas como um gênero literário, mas sim como parte integrante de sua prática de escrita. Busca-se inserir as entrevistas no contexto da trajetória intelectual de Haroldo de Campos, considerando-as como uma forma de escritura. O foco não está apenas na entrevista em si, mas sim em como ela contribui para a construção do legado inventivo do autor como poeta, tradutor e teórico. A pesquisa visa, portanto, realizar um recolhimento e uma leitura dessas entrevistas, com o intuito de compreender como elas se relacionam com a produção intelectual e criativa de Haroldo de Campos, enriquecendo assim a compreensão de sua obra e sua influência na literatura e cultura brasileira. \n",
      "\n",
      "884656 : O objetivo da pesquisa é investigar os fenômenos linguísticos relacionados ao traço de animacidade em diversas línguas. Enquanto tradicionalmente a animacidade é considerada uma propriedade semântica, este estudo propõe que ela seja tratada como um traço sintático que desempenha um papel importante em várias operações sintáticas, como concordância, voz inversa, caso morfológico, redobro de clítico e marcação de número. A pesquisa analisa diferentes línguas, mesmo aquelas geneticamente distintas, para demonstrar como o traço de animacidade influencia a estrutura sintática. A proposição central da tese é que a animacidade é um traço sintático que é marcado morfologicamente em algumas línguas, sendo essa marcação considerada um parâmetro linguístico. Ao investigar a relação entre o traço de animacidade e as estruturas sintáticas em diversas línguas, a pesquisa busca contribuir para o entendimento da sintaxe e dos mecanismos de marcação linguística relacionados a esse traço. \n",
      "\n"
     ]
    },
    {
     "name": "stderr",
     "output_type": "stream",
     "text": [
      "Query has been truncated from the right to 256 tokens from 265 tokens.\n"
     ]
    },
    {
     "name": "stdout",
     "output_type": "stream",
     "text": [
      "884744 : O objetivo da pesquisa foi investigar a aquisição dos verbos inacusativos no Hebraico como segunda língua por falantes nativos do Português Brasileiro. Para isso, foram abordadas questões como o papel da Gramática Universal (GU) nesse processo, a influência da língua materna na aquisição da inacusatividade na segunda língua, o momento em que ocorre a distinção entre os tipos de verbos intransitivos, a aquisição dos diagnósticos para identificação da inacusatividade e a natureza do estado final da aquisição. A pesquisa utilizou testes de julgamento de gramaticalidade e produção aplicados em diferentes grupos de alunos para analisar como esses aspectos se manifestam durante o processo de aquisição da inacusatividade no Hebraico como L2. Os resultados obtidos indicaram que a distinção entre as classes verbais é adquirida precocemente, mas os diagnósticos são adquiridos em estágios mais avançados, com influência da GU mesmo em casos de fossilização. \n",
      "\n"
     ]
    },
    {
     "name": "stderr",
     "output_type": "stream",
     "text": [
      "Query has been truncated from the right to 256 tokens from 262 tokens.\n"
     ]
    },
    {
     "name": "stdout",
     "output_type": "stream",
     "text": [
      "884752 : O objetivo da pesquisa é analisar a obra de Autran Dourado sob a perspectiva do personagem como metáfora, considerando três acepções: intratextual, intertextual e materializante. Para isso, a pesquisa se dedica ao estudo do personagem em todas as obras ficcionais do escritor mineiro. A primeira parte consiste na fundamentação teórica do personagem-metáfora, com base em autores como Gaston Bachelard, Philip Wheelwright, William Tindall e Eleazar Meletinsky, visando aprofundar a crítica no que diz respeito ao domínio da imaginação e do símbolo. Já a segunda parte da pesquisa foca na interpretação de todas as narrativas ficcionais publicadas pelo autor. Assim, o estudo busca compreender e elucidar a importância e o papel do personagem como metáfora na obra de Autran Dourado, contribuindo para uma maior compreensão e apreciação da sua produção literária. \n",
      "\n"
     ]
    },
    {
     "name": "stderr",
     "output_type": "stream",
     "text": [
      "Query has been truncated from the right to 256 tokens from 257 tokens.\n"
     ]
    },
    {
     "name": "stdout",
     "output_type": "stream",
     "text": [
      "885010 : O objetivo da pesquisa foi investigar como os alunos de um curso de língua inglesa se engajaram em estratégias de aprendizagem mediadas por tecnologias digitais durante e após o curso, identificando quais características dessas estratégias favoreceram seu engajamento. Além disso, a pesquisa buscou compreender as necessidades dos estudantes em relação à integração de recursos digitais em seus processos de aprendizagem de inglês, verificando quais foram atendidas e quais não, e por quê. A fundamentação teórica abordou temas como engajamento discente, variáveis motivacionais, estratégias de aprendizagem de idiomas, integração de tecnologias ao ensino de idiomas e avaliação da integração de tecnologias. A partir dos dados coletados, foi proposto um modelo teórico para avaliar a integração de tecnologias em contextos de aprendizagem de línguas, baseado nos resultados da pesquisa. \n",
      "\n",
      "885060 : O objetivo da pesquisa foi completar o estudo dos compostos fenólicos presentes nas folhas e galhos das espécies Faramea bahiensis, F. hyacinthina e F. truncata, além de acessar a presença desses compostos nas diferentes partes das plantas. Para isso, foi realizada uma caracterização dos compostos por meio de análises químicas em extratos brutos em metanol das folhas e galhos, identificando trinta e um compostos fenólicos, incluindo flavonoides e iridoides. Além disso, foram realizados testes de atividade antidengue nos extratos metanólicos dos galhos, comparando com a atividade já conhecida das folhas. A pesquisa também buscou isolar e identificar compostos bioativos, como a flavanona isosakuranetina-7-O-ß-D-apiofuranosil-(1→6)-ß-D-glucopiranosideo, presente nas três espécies estudadas. Por fim, foi investigada a relação entre os compostos fenólicos identificados e os efeitos antidengue, além de avaliar possíveis contribuições de outros compostos para a atividade observada. \n",
      "\n"
     ]
    },
    {
     "name": "stderr",
     "output_type": "stream",
     "text": [
      "Query has been truncated from the right to 256 tokens from 305 tokens.\n"
     ]
    },
    {
     "name": "stdout",
     "output_type": "stream",
     "text": [
      "885061 : O objetivo da pesquisa foi investigar as alterações proteômicas em diferentes regiões cerebrais afetadas pela doença de Alzheimer em seus diferentes estágios, a fim de compreender por que algumas regiões são mais vulneráveis do que outras. Para isso, foram analisadas amostras de tecidos de regiões afetadas precocemente e tardiamente pela patologia de tau, por meio de espectrometria de massas. Os pesquisadores buscaram identificar proteínas e vias comuns que são desreguladas durante a progressão da doença, além de investigar se tais alterações são específicas de determinadas regiões cerebrais ou compartilhadas entre elas. A pesquisa também teve como objetivo comparar a assinatura proteômica entre regiões cerebrais de indivíduos saudáveis e identificar diferenças que possam estar relacionadas à vulnerabilidade à doença de Alzheimer. Os resultados obtidos podem contribuir para uma melhor compreensão da etiologia da doença e da vulnerabilidade de certas regiões cerebrais, destacando a importância de estudos mais abrangentes para investigar a cascata de eventos da doença em todo o cérebro. \n",
      "\n"
     ]
    },
    {
     "name": "stderr",
     "output_type": "stream",
     "text": [
      "Query has been truncated from the right to 256 tokens from 293 tokens.\n"
     ]
    },
    {
     "name": "stdout",
     "output_type": "stream",
     "text": [
      "885067 : O objetivo da pesquisa foi sintetizar e avaliar o potencial biológico de 36 novas substâncias contendo os núcleos 1,2,3 e 1,2,4-triazol. Foram realizados ensaios para verificar a inibição de enzimas como alfa-amilase pancreática suína e maltase de levedura, além de testes de atividade antimicrobiana contra fungos como Sporothrix brasiliensis, Candida albicans e Fusarium oxysporum, e também frente ao Mycobacterium tuberculosis e ao protozoário Trypanosoma cruzi, causador da Doença de Chagas. As rotas sintéticas envolveram a obtenção de derivados 1,2,4-triazólicos e a cicloadição 1,3-dipolar para a formação dos produtos finais bi-(1H-1,2,3-1,2,4-triazóis). Os objetivos principais foram a síntese dessas substâncias, a caracterização por diferentes técnicas analíticas e a avaliação de sua atividade biológica, destacando-se os resultados promissores obtidos nos testes com os fungos Sporothrix brasiliensis e Candida albicans. \n",
      "\n"
     ]
    },
    {
     "name": "stderr",
     "output_type": "stream",
     "text": [
      "Query has been truncated from the right to 256 tokens from 291 tokens.\n"
     ]
    },
    {
     "name": "stdout",
     "output_type": "stream",
     "text": [
      "885111 : O objetivo da pesquisa foi desenvolver métodos eficientes para a síntese de compostos espiro-oxindóis, que possuem propriedades farmacológicas importantes. Para isso, foram realizados dois estudos: no primeiro, buscou-se sintetizar espiro-pirrolidinil-2-oxindóis a partir de tetrahidro-carbolinas, explorando reações de condensações e rearranjo oxidativo. No segundo estudo, o foco foi na síntese de espiro-dicetopiperazinopirrolidino-2-oxindóis, utilizando duas abordagens diferentes. Os produtos obtidos foram caracterizados estruturalmente por técnicas espectroscópicas e espectrométricas, com destaque para o uso de espectros de RMN de 2D para a identificação dos átomos de hidrogênio e carbono. Além disso, foi avaliada a diastereosseletividade dos rearranjos realizados e a estereoquímica absoluta dos produtos foi determinada em relação ao L-triptofano através de análise de espectros de RMN de NOESY 2D. \n",
      "\n"
     ]
    },
    {
     "name": "stderr",
     "output_type": "stream",
     "text": [
      "Query has been truncated from the right to 256 tokens from 274 tokens.\n"
     ]
    },
    {
     "name": "stdout",
     "output_type": "stream",
     "text": [
      "885153 : O objetivo da pesquisa é analisar a obra do escritor marroquino Abdellah Taïa, que publica romances e contos em língua francesa desde 2004. Através de uma abordagem autoficcional e biográfica, o estudo visa investigar como suas ficções exploram identidades deslocadas em espaços nativos e diaspóricos, transitando por culturas distintas e desafiando normas sexuais e religiosas. O foco recai sobre a materialidade corpórea dos sujeitos narrativos dissidentes, que se apropriam de enunciados e línguas alheias para representar a si mesmos, em uma postura de resistência ao colonialismo e nacionalismo dominantes. A pesquisa busca compreender como esses corpos, mesclando referências djinn e queer, revisam e desconstroem imaginários identitários historicamente construídos, confrontando agentes detentores dos meios expressivos da fala e questionando relações de dominação e violência em contextos nativos e europeus. \n",
      "\n"
     ]
    },
    {
     "name": "stderr",
     "output_type": "stream",
     "text": [
      "Query has been truncated from the right to 256 tokens from 259 tokens.\n"
     ]
    },
    {
     "name": "stdout",
     "output_type": "stream",
     "text": [
      "885376 : O objetivo da pesquisa foi analisar a cadeia produtiva de fertilizantes organominerais no Brasil, desde a obtenção de insumos até a comercialização do produto final, com foco nos processos de registro regulamentados pelo Ministério da Agricultura, Pecuária e Abastecimento (MAPA). A pesquisa buscou mapear a logística, matérias-primas, quantidades produzidas e empresas produtoras, além de desenvolver um sistema de gerenciamento de banco de dados para unificar e organizar as informações coletadas. Também foi objetivo do estudo analisar a produção de patentes e publicações científicas sobre fertilizantes organominerais, identificando os países mais ativos nesse sentido. Com isso, a pesquisa buscou fornecer subsídios para a melhoria da organização e controle de informações no setor, evidenciando o desenvolvimento e crescimento da indústria de fertilizantes organominerais e a necessidade de aprimoramentos contínuos por parte dos órgãos responsáveis. \n",
      "\n"
     ]
    },
    {
     "name": "stderr",
     "output_type": "stream",
     "text": [
      "Query has been truncated from the right to 256 tokens from 263 tokens.\n"
     ]
    },
    {
     "name": "stdout",
     "output_type": "stream",
     "text": [
      "885459 : O objetivo da pesquisa foi realizar uma investigação detalhada sobre a produção açucareira na Baixada de Jacarepaguá, no Rio de Janeiro colonial, com foco nos engenhos que ali se instalaram a partir do século XVI. Através de estudos arqueológicos, especialmente no Engenho do Camorim, buscou-se compreender a implantação dos engenhos na paisagem, analisar as estruturas arquitetônicas, os espaços de trabalho e a cultura material relacionada a esses complexos açucareiros. Além disso, a pesquisa teve como objetivo acessar a materialidade dos diferentes grupos étnicos que foram utilizados como mão-de-obra nos engenhos. Dessa forma, o estudo visou preencher lacunas na arqueologia do Rio de Janeiro, especialmente no que diz respeito aos engenhos açucareiros, contribuindo para uma melhor compreensão do passado histórico e cultural da região. \n",
      "\n",
      "885644 : O objetivo da pesquisa é apresentar novas informações e discussões sobre a escravidão, focando na paisagem do Valongo, no Rio de Janeiro. Através da análise de documentos primários e dados arqueológicos, busca-se revelar aspectos físicos e simbólicos do bairro do Valongo, destacando o papel do cemitério dos pretos novos, da Alfândega no comércio de cativos africanos e do Cais do Valongo/Cais da Imperatriz. Além disso, a pesquisa visa discutir a teoria sobre a construção do cais e a memória do local, buscando valorizá-lo como um lugar de celebração da herança africana. Em suma, a pesquisa tem como objetivo fornecer uma visão mais abrangente e aprofundada do complexo negreiro do Valongo, contribuindo para uma melhor compreensão desse período histórico e sua relevância na formação da sociedade brasileira. \n",
      "\n",
      "885707 : O objetivo da pesquisa é investigar o lirismo e o realismo presentes nas descrições dos poemas do livro \"Cromos\" de B. Lopes, escritor do final do século XIX e início do século XX. Além disso, busca-se compreender em que medida essa obra se encaixa na tendência agreste da literatura brasileira, que também inclui outros poetas como Bruno Seabra, Ezequiel Freire, Fagundes Varela e Gonçalves Crespo. A análise pretende destacar os pontos fortes da obra de B. Lopes, especialmente em relação à sua contribuição para a lírica oitocentista, bem como para a representação realista de cenas do interior. Ao final, a pesquisa visa fornecer uma visão mais aprofundada sobre a importância e o impacto do livro \"Cromos\" no cenário literário da época e sua relevância para a literatura brasileira. \n",
      "\n"
     ]
    }
   ],
   "source": [
    "test_3_execution = []\n",
    "\n",
    "for abstract_obj in test_abstract[:50]:\n",
    "    abstract = abstract_obj['abstract']\n",
    "    doc_id = abstract_obj['id']\n",
    "    \n",
    "    query = f\"\"\"\n",
    "    A seguir, está um resumo de um artigo científico:\n",
    "    \n",
    "    {abstract}\n",
    "    \n",
    "    Retorne, com escrita simples, quais os objetivos da pesquisa, em português e com no máximo 200 palavras:\n",
    "    \"\"\"\n",
    "    \n",
    "    messages = [SystemMessage(content=query)]\n",
    "    abstract = llm(messages).content\n",
    "    print(doc_id, \":\", abstract, \"\\n\")\n",
    "    \n",
    "    retrieved_documents = await retriever.search(\n",
    "        abstract, k=500, fetch_k=100000, max_k_by_document=5, filter={\"type\":\"sentences\"}\n",
    "    )\n",
    "\n",
    "    documents = reranker.prepare_documents(metadata_dict, retrieved_documents)\n",
    "    \n",
    "    # IMPORTANTE: aqui eu uso apenas as sentences no documento de rerank, para evitar contaminacao\n",
    "    reranked_documents = reranker.rerank(abstract, documents, 10, using=[\"sentences\"])\n",
    "\n",
    "    ordered_docs = [{\"id\": doc[\"id\"], \"relevance_score\": doc[\"relevance_score\"]} for doc in reranked_documents]\n",
    "    test_3_execution.append({\"id\": doc_id, \"result\": ordered_docs})\n",
    "    \n",
    "    time.sleep(7)"
   ]
  },
  {
   "cell_type": "code",
   "execution_count": 29,
   "metadata": {
    "tags": []
   },
   "outputs": [],
   "source": [
    "test_3_scores = []\n",
    "for exec in test_3_execution:\n",
    "    score = None\n",
    "    for res in exec['result']:\n",
    "        if res['id'] == exec['id']:\n",
    "            score = res['relevance_score']\n",
    "    \n",
    "    test_3_scores.append(score)"
   ]
  },
  {
   "cell_type": "code",
   "execution_count": 30,
   "metadata": {},
   "outputs": [
    {
     "data": {
      "text/plain": [
       "[0.9999977,\n",
       " 0.9999907,\n",
       " 0.85717136,\n",
       " 0.99916714,\n",
       " None,\n",
       " 0.9999996,\n",
       " 0.99998766,\n",
       " None,\n",
       " 0.99965936,\n",
       " 0.9999685,\n",
       " None,\n",
       " 0.99999934,\n",
       " None,\n",
       " 0.99999887,\n",
       " 0.99998987,\n",
       " None,\n",
       " 0.99999976,\n",
       " 0.9999996,\n",
       " 0.9995661,\n",
       " 0.99998236,\n",
       " 0.9999981,\n",
       " 0.97741395,\n",
       " 0.9999761,\n",
       " 0.9999234,\n",
       " 0.99999243,\n",
       " 0.9986489,\n",
       " 0.9421884,\n",
       " 0.9999876,\n",
       " 0.9999709,\n",
       " 0.9999673,\n",
       " 0.9987744,\n",
       " 0.9999974,\n",
       " 0.9999794,\n",
       " 0.9999635,\n",
       " 0.9999928,\n",
       " None,\n",
       " None,\n",
       " 0.999989,\n",
       " 0.9997766,\n",
       " 0.984516,\n",
       " 0.9999968,\n",
       " 0.999924,\n",
       " 0.9999907,\n",
       " 0.99767685,\n",
       " 0.9999593,\n",
       " 0.99999774,\n",
       " 0.99968,\n",
       " 0.9998313,\n",
       " 0.99998766,\n",
       " 0.99994856]"
      ]
     },
     "execution_count": 30,
     "metadata": {},
     "output_type": "execute_result"
    }
   ],
   "source": [
    "test_3_scores"
   ]
  },
  {
   "cell_type": "markdown",
   "metadata": {
    "jp-MarkdownHeadingCollapsed": true,
    "tags": []
   },
   "source": [
    "# Teste 4. Recuperação Vector Search por Keywords"
   ]
  },
  {
   "cell_type": "code",
   "execution_count": 31,
   "metadata": {},
   "outputs": [],
   "source": [
    "import time"
   ]
  },
  {
   "cell_type": "code",
   "execution_count": 32,
   "metadata": {},
   "outputs": [],
   "source": [
    "test_4_execution = []\n",
    "\n",
    "for keywords_obj in test_keywords[:50]:\n",
    "    keywords = keywords_obj['keywords']\n",
    "    doc_id = keywords_obj['id']\n",
    "    \n",
    "    retrieved_documents = await retriever.search(\n",
    "        keywords, k=500, fetch_k=100000, max_k_by_document=5, filter={\"type\":\"sentences\"}\n",
    "    )\n",
    "\n",
    "    documents = reranker.prepare_documents(metadata_dict, retrieved_documents)\n",
    "    reranked_documents = reranker.rerank(keywords, documents, 10, using=[\"sentences\"])\n",
    "    # print(documents)\n",
    "\n",
    "    ordered_docs = [{\"id\": doc[\"id\"], \"relevance_score\": doc[\"relevance_score\"]} for doc in reranked_documents]\n",
    "    test_4_execution.append({\"id\": doc_id, \"result\": ordered_docs})\n",
    "    \n",
    "    time.sleep(10)"
   ]
  },
  {
   "cell_type": "code",
   "execution_count": null,
   "metadata": {},
   "outputs": [],
   "source": [
    "# Salvamento do resultado\n",
    "\n",
    "# with open(f'{validation_results_path}/test_1_execution.json', 'w') as fp:\n",
    "#     json.dump(test_1_execution, fp)"
   ]
  },
  {
   "cell_type": "code",
   "execution_count": 33,
   "metadata": {},
   "outputs": [],
   "source": [
    "test_4_scores = []\n",
    "for exec in test_4_execution:\n",
    "    score = None\n",
    "    for res in exec['result']:\n",
    "        if res['id'] == exec['id']:\n",
    "            score = res['relevance_score']\n",
    "    \n",
    "    test_4_scores.append(score)"
   ]
  },
  {
   "cell_type": "code",
   "execution_count": 34,
   "metadata": {},
   "outputs": [
    {
     "data": {
      "text/plain": [
       "[0.9612438,\n",
       " 0.9974191,\n",
       " None,\n",
       " 0.9249593,\n",
       " None,\n",
       " 0.7036513,\n",
       " None,\n",
       " None,\n",
       " 0.12689333,\n",
       " 0.6931615,\n",
       " None,\n",
       " 0.92630374,\n",
       " None,\n",
       " 0.004736749,\n",
       " 0.7657686,\n",
       " 0.9900251,\n",
       " 0.999547,\n",
       " None,\n",
       " 0.6490227,\n",
       " 0.74927074,\n",
       " None,\n",
       " 0.92007446,\n",
       " 0.81537956,\n",
       " 0.9996724,\n",
       " 0.99887085,\n",
       " None,\n",
       " 0.80639565,\n",
       " 0.9986594,\n",
       " 0.9897117,\n",
       " 0.99215376,\n",
       " 0.99999547,\n",
       " 0.9999996,\n",
       " 0.86281466,\n",
       " None,\n",
       " None,\n",
       " 0.025371311,\n",
       " None,\n",
       " 0.9583042,\n",
       " 0.8577681,\n",
       " 0.6286354,\n",
       " 0.28427786,\n",
       " 0.51198345,\n",
       " 0.9786719,\n",
       " 0.9248236,\n",
       " 0.93257624,\n",
       " 0.011419615,\n",
       " 0.9999587,\n",
       " 0.9980506,\n",
       " 0.9983959,\n",
       " None]"
      ]
     },
     "execution_count": 34,
     "metadata": {},
     "output_type": "execute_result"
    }
   ],
   "source": [
    "test_4_scores"
   ]
  },
  {
   "cell_type": "code",
   "execution_count": null,
   "metadata": {},
   "outputs": [],
   "source": []
  },
  {
   "cell_type": "markdown",
   "metadata": {
    "jp-MarkdownHeadingCollapsed": true,
    "tags": []
   },
   "source": [
    "# Teste 5. Recuperação Vector Search por Sentences"
   ]
  },
  {
   "cell_type": "code",
   "execution_count": 35,
   "metadata": {},
   "outputs": [],
   "source": [
    "import time"
   ]
  },
  {
   "cell_type": "code",
   "execution_count": 36,
   "metadata": {
    "tags": []
   },
   "outputs": [],
   "source": [
    "test_5_execution = []\n",
    "\n",
    "for sentences_obj in test_sentences[:50]:\n",
    "    sentences = sentences_obj['sentence']\n",
    "    doc_id = sentences_obj['id']\n",
    "    \n",
    "    retrieved_documents = await retriever1.search(\n",
    "        sentences, k=500, fetch_k=100000, max_k_by_document=5, filter={\"type\":\"abstract\"}\n",
    "    )\n",
    "\n",
    "    documents = reranker.prepare_documents(metadata_dict, retrieved_documents)\n",
    "    reranked_documents = reranker.rerank(sentences, documents, 10, using=[\"abstract\"])\n",
    "    # print(documents)\n",
    "\n",
    "    ordered_docs = [{\"id\": doc[\"id\"], \"relevance_score\": doc[\"relevance_score\"]} for doc in reranked_documents]\n",
    "    test_5_execution.append({\"id\": doc_id, \"result\": ordered_docs})\n",
    "    \n",
    "    time.sleep(10)"
   ]
  },
  {
   "cell_type": "code",
   "execution_count": 37,
   "metadata": {},
   "outputs": [],
   "source": [
    "# Salvamento do resultado\n",
    "\n",
    "# with open(f'{validation_results_path}/test_1_execution.json', 'w') as fp:\n",
    "#     json.dump(test_1_execution, fp)"
   ]
  },
  {
   "cell_type": "code",
   "execution_count": 38,
   "metadata": {},
   "outputs": [],
   "source": [
    "# test_5_execution"
   ]
  },
  {
   "cell_type": "code",
   "execution_count": 39,
   "metadata": {},
   "outputs": [],
   "source": [
    "test_5_scores = []\n",
    "for exec in test_5_execution:\n",
    "    score = None\n",
    "    for res in exec['result']:\n",
    "        if res['id'] == exec['id']:\n",
    "            score = res['relevance_score']\n",
    "    \n",
    "    test_5_scores.append(score)"
   ]
  },
  {
   "cell_type": "code",
   "execution_count": 40,
   "metadata": {},
   "outputs": [
    {
     "data": {
      "text/plain": [
       "[None,\n",
       " None,\n",
       " None,\n",
       " 0.09790669,\n",
       " None,\n",
       " 0.014559519,\n",
       " 0.004663655,\n",
       " None,\n",
       " 0.04401865,\n",
       " None,\n",
       " 0.03004337,\n",
       " None,\n",
       " None,\n",
       " None,\n",
       " None,\n",
       " None,\n",
       " None,\n",
       " None,\n",
       " None,\n",
       " None,\n",
       " None,\n",
       " None,\n",
       " 0.9998546,\n",
       " 0.31965208,\n",
       " None,\n",
       " None,\n",
       " None,\n",
       " None,\n",
       " None,\n",
       " None,\n",
       " None,\n",
       " None,\n",
       " None,\n",
       " None,\n",
       " None,\n",
       " 0.8586001,\n",
       " 0.0107351625,\n",
       " 0.16000335,\n",
       " None,\n",
       " 0.017045317,\n",
       " 0.10989668,\n",
       " 0.9437637,\n",
       " None,\n",
       " 0.36579645,\n",
       " None,\n",
       " None,\n",
       " 0.018159512,\n",
       " None,\n",
       " 0.0004373344,\n",
       " None]"
      ]
     },
     "execution_count": 40,
     "metadata": {},
     "output_type": "execute_result"
    }
   ],
   "source": [
    "test_5_scores"
   ]
  },
  {
   "cell_type": "markdown",
   "metadata": {
    "jp-MarkdownHeadingCollapsed": true,
    "tags": []
   },
   "source": [
    "# Teste 6. Recuperação Vector Search por Title"
   ]
  },
  {
   "cell_type": "code",
   "execution_count": 41,
   "metadata": {},
   "outputs": [],
   "source": [
    "import time"
   ]
  },
  {
   "cell_type": "code",
   "execution_count": 42,
   "metadata": {
    "tags": []
   },
   "outputs": [],
   "source": [
    "test_6_execution = []\n",
    "\n",
    "for title_obj in test_title[:50]:\n",
    "    title = title_obj['title']\n",
    "    doc_id = title_obj['id']\n",
    "    \n",
    "    retrieved_documents = await retriever.search(\n",
    "        title, k=500, fetch_k=100000, max_k_by_document=5, filter={\"type\":\"sentences\"}\n",
    "    )\n",
    "\n",
    "    documents = reranker.prepare_documents(metadata_dict, retrieved_documents)\n",
    "    reranked_documents = reranker.rerank(title, documents, 10, using=[\"sentences\"])\n",
    "    # print(documents)\n",
    "\n",
    "    ordered_docs = [{\"id\": doc[\"id\"], \"relevance_score\": doc[\"relevance_score\"]} for doc in reranked_documents]\n",
    "    test_6_execution.append({\"id\": doc_id, \"result\": ordered_docs})\n",
    "    \n",
    "    time.sleep(10)"
   ]
  },
  {
   "cell_type": "code",
   "execution_count": 43,
   "metadata": {},
   "outputs": [],
   "source": [
    "# Salvamento do resultado\n",
    "\n",
    "# with open(f'{validation_results_path}/test_1_execution.json', 'w') as fp:\n",
    "#     json.dump(test_1_execution, fp)"
   ]
  },
  {
   "cell_type": "code",
   "execution_count": 44,
   "metadata": {},
   "outputs": [],
   "source": [
    "# test_5_execution"
   ]
  },
  {
   "cell_type": "code",
   "execution_count": 45,
   "metadata": {},
   "outputs": [],
   "source": [
    "test_6_scores = []\n",
    "for exec in test_6_execution:\n",
    "    score = None\n",
    "    for res in exec['result']:\n",
    "        if res['id'] == exec['id']:\n",
    "            score = res['relevance_score']\n",
    "    \n",
    "    test_6_scores.append(score)"
   ]
  },
  {
   "cell_type": "code",
   "execution_count": 46,
   "metadata": {},
   "outputs": [
    {
     "data": {
      "text/plain": [
       "[0.9999729,\n",
       " 0.999764,\n",
       " 0.9999542,\n",
       " 0.2670257,\n",
       " None,\n",
       " 0.99883956,\n",
       " 0.999844,\n",
       " None,\n",
       " 0.9999999,\n",
       " 0.9999998,\n",
       " None,\n",
       " 0.9999777,\n",
       " 0.9999431,\n",
       " 0.9999999,\n",
       " 0.99990463,\n",
       " 0.9999999,\n",
       " 0.9999999,\n",
       " 0.9999998,\n",
       " 0.9999999,\n",
       " 0.9999999,\n",
       " 0.9999994,\n",
       " 0.8724561,\n",
       " 0.9999999,\n",
       " 0.9999997,\n",
       " 0.9910493,\n",
       " 0.4642032,\n",
       " 0.9999999,\n",
       " 0.9999964,\n",
       " 0.9999999,\n",
       " 0.99999976,\n",
       " 0.9999999,\n",
       " 0.9999999,\n",
       " 0.99953264,\n",
       " 0.9999999,\n",
       " None,\n",
       " 0.9999999,\n",
       " 0.95791227,\n",
       " 0.9999991,\n",
       " 0.9999999,\n",
       " 0.9999998,\n",
       " 0.99999934,\n",
       " 0.9999794,\n",
       " 0.9999883,\n",
       " None,\n",
       " 0.99998605,\n",
       " 0.999994,\n",
       " 0.9999999,\n",
       " 0.9999999,\n",
       " 0.9999875,\n",
       " 0.8969756]"
      ]
     },
     "execution_count": 46,
     "metadata": {},
     "output_type": "execute_result"
    }
   ],
   "source": [
    "test_6_scores"
   ]
  },
  {
   "cell_type": "code",
   "execution_count": null,
   "metadata": {},
   "outputs": [],
   "source": []
  }
 ],
 "metadata": {
  "kernelspec": {
   "display_name": "llama",
   "language": "python",
   "name": "llama"
  },
  "language_info": {
   "codemirror_mode": {
    "name": "ipython",
    "version": 3
   },
   "file_extension": ".py",
   "mimetype": "text/x-python",
   "name": "python",
   "nbconvert_exporter": "python",
   "pygments_lexer": "ipython3",
   "version": "3.8.18"
  }
 },
 "nbformat": 4,
 "nbformat_minor": 4
}
