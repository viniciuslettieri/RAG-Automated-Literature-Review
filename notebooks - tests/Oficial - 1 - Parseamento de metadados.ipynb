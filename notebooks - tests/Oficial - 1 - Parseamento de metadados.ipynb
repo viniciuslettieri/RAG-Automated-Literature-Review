{
 "cells": [
  {
   "cell_type": "markdown",
   "metadata": {},
   "source": [
    "# Introdução"
   ]
  },
  {
   "cell_type": "markdown",
   "metadata": {},
   "source": [
    "Neste documentos iniciamos a extração das informações e do pdf dos documentos recuperados via busca na Base Minerva.\n",
    "\n",
    "1. Acesso de Busca: https://minerva.ufrj.br/F/185DLENDIGLA9D814HHDJCPJ94ABCG929NQB2EPASCRXGQYC5P-09214?func=find-a-0\n",
    "2. Especifiquei Tese ou Dissertação em um período recente\n",
    "3. Na lateral tem a opção de selecionar cada artigo, ou em cima selecionar todos\n",
    "4. Depois da seleção, na barra superior tem \"Salvar/Email\"\n",
    "5. Salvamento no formato RIS"
   ]
  },
  {
   "cell_type": "markdown",
   "metadata": {},
   "source": [
    "# Parte 0: Instalações"
   ]
  },
  {
   "cell_type": "code",
   "execution_count": 1,
   "metadata": {},
   "outputs": [],
   "source": [
    "# %pip install PyPDF2\n",
    "# %pip install rispy"
   ]
  },
  {
   "cell_type": "markdown",
   "metadata": {},
   "source": [
    "# Parte 1: Parseador de Arquivo RIS"
   ]
  },
  {
   "cell_type": "code",
   "execution_count": 2,
   "metadata": {},
   "outputs": [],
   "source": [
    "import os\n",
    "import rispy\n",
    "import re\n",
    "import json"
   ]
  },
  {
   "cell_type": "code",
   "execution_count": 3,
   "metadata": {},
   "outputs": [],
   "source": [
    "class RISParser:\n",
    "    def parse_authors(self, tag_group):\n",
    "        return tag_group['AU']\n",
    "\n",
    "    def parse_keywords(self, tag_group):\n",
    "        return tag_group['KW']\n",
    "\n",
    "    def parse_urls(self, tag_group):\n",
    "        return tag_group['UR']\n",
    "\n",
    "    def parse_pdf_url(self, tag_group):\n",
    "        urls = tag_group['UR']\n",
    "        for url in urls:\n",
    "            if url.endswith('.pdf'):\n",
    "                return url\n",
    "\n",
    "        return None\n",
    "\n",
    "    def parse_id(self, tag_group):\n",
    "        url = self.parse_pdf_url(tag_group)\n",
    "        \n",
    "        if url is None:\n",
    "            return None\n",
    "        else:\n",
    "            return url.split('.')[-2].split('/')[-1]\n",
    "    \n",
    "    def parse_title(self, tag_group):\n",
    "        title = tag_group['TI'][0]\n",
    "        if title.endswith(' /'):\n",
    "            title = title[:-2]\n",
    "        return title\n",
    "\n",
    "    def parse_bibliography_pages(self, tag_group):\n",
    "        notes = tag_group['N1']\n",
    "        \n",
    "        for note in notes:\n",
    "            if note.startswith(\"Bibliografia:\"):\n",
    "                search = re.search(r\"([0-9]+)-([0-9]+)\", note)\n",
    "                pages = (int(search.group(1)), int(search.group(2)))\n",
    "                return pages\n",
    "\n",
    "    def parse_abstract(self, tag_group, language='PT'):\n",
    "        abstracts = tag_group['AB']\n",
    "\n",
    "        parsed_abstracts = {}\n",
    "        current_language = None\n",
    "        for line in abstracts:\n",
    "            search = re.search(r\"^\\[([^\\]]+)\\]\", line)\n",
    "            \n",
    "            if search is None:\n",
    "                parsed_abstracts[current_language] += line\n",
    "            else:\n",
    "                current_language = search.group(1)\n",
    "                size = len(current_language) + 3\n",
    "                parsed_abstracts[current_language] = line[size:]\n",
    "\n",
    "        return parsed_abstracts[language]\n",
    "    \n",
    "    def group_by_tag(self, text):\n",
    "        text = re.sub(r\"\\n[\\t ]+\", \" \", text)\n",
    "        lines = text.split(\"\\n\")\n",
    "\n",
    "        tags = {}\n",
    "        for line in lines:\n",
    "            tag = line[:2]\n",
    "            text = line[6:]\n",
    "            \n",
    "            if tag in tags:\n",
    "                tags[tag].extend([text])\n",
    "            else:\n",
    "                tags[tag] = [text]\n",
    "\n",
    "        return tags\n",
    "    \n",
    "    def parse(self, text):\n",
    "        tag_group = self.group_by_tag(text)\n",
    "\n",
    "        response = {\n",
    "            \"title\": self.parse_title(tag_group),\n",
    "            \"authors\": self.parse_authors(tag_group),\n",
    "            \"abstract\": self.parse_abstract(tag_group),\n",
    "            \"bibliography_pages\": self.parse_bibliography_pages(tag_group),\n",
    "            \"keywords\": self.parse_keywords(tag_group),\n",
    "            \"urls\": self.parse_urls(tag_group),\n",
    "            \"pdf_url\": self.parse_pdf_url(tag_group),\n",
    "            \"id\": self.parse_id(tag_group)\n",
    "        }\n",
    "\n",
    "        return response"
   ]
  },
  {
   "cell_type": "code",
   "execution_count": 4,
   "metadata": {},
   "outputs": [],
   "source": [
    "ris_parser = RISParser()"
   ]
  },
  {
   "cell_type": "markdown",
   "metadata": {},
   "source": [
    "# Parte 2: Filenames em RIS da Base Minerva"
   ]
  },
  {
   "cell_type": "code",
   "execution_count": 5,
   "metadata": {},
   "outputs": [],
   "source": [
    "folder_path = \"./metadata_minerva\""
   ]
  },
  {
   "cell_type": "code",
   "execution_count": 6,
   "metadata": {},
   "outputs": [],
   "source": [
    "filename_list = []\n",
    "for filename in os.listdir(folder_path):\n",
    "    if filename.endswith(\".end\"):\n",
    "        filename_list.append(os.path.join(folder_path, filename))\n",
    "\n",
    "filename_list = sorted(filename_list)"
   ]
  },
  {
   "cell_type": "code",
   "execution_count": 7,
   "metadata": {},
   "outputs": [
    {
     "data": {
      "text/plain": [
       "['./metadata_minerva/minerva_dissertacao_mestrado.end',\n",
       " './metadata_minerva/minerva_dissertacao_mestrado_2020_2023.end',\n",
       " './metadata_minerva/minerva_tese_doutorado.end',\n",
       " './metadata_minerva/minerva_tese_doutorado_2020_2023.end']"
      ]
     },
     "execution_count": 7,
     "metadata": {},
     "output_type": "execute_result"
    }
   ],
   "source": [
    "filename_list"
   ]
  },
  {
   "cell_type": "markdown",
   "metadata": {},
   "source": [
    "# Parte 3: Parse and Save dos Metadados Individuais"
   ]
  },
  {
   "cell_type": "code",
   "execution_count": 8,
   "metadata": {},
   "outputs": [],
   "source": [
    "def parse_and_save(filepath):\n",
    "    with open(filepath, \"r\") as file:\n",
    "        file_text = file.read()\n",
    "        files = file_text.split(\"\\n\\n\")[1:]\n",
    "\n",
    "        print(\"Size:\", len(files))\n",
    "        \n",
    "        for f in files:\n",
    "            try:\n",
    "                parsed_metadata = ris_parser.parse(f)\n",
    "                _id = parsed_metadata[\"id\"]\n",
    "                \n",
    "                with open(f\"metadata_documents/documento_{_id}.json\", \"w\") as file:\n",
    "                    json.dump(parsed_metadata, file, ensure_ascii=False).encode('utf8')\n",
    "\n",
    "            except:\n",
    "                print(\"Error\")"
   ]
  },
  {
   "cell_type": "code",
   "execution_count": null,
   "metadata": {
    "scrolled": true
   },
   "outputs": [],
   "source": [
    "for filename in filename_list:\n",
    "    print(\">\", filename)\n",
    "    parse_and_save(filename)"
   ]
  },
  {
   "cell_type": "code",
   "execution_count": null,
   "metadata": {},
   "outputs": [],
   "source": []
  }
 ],
 "metadata": {
  "kernelspec": {
   "display_name": "llama",
   "language": "python",
   "name": "llama"
  },
  "language_info": {
   "codemirror_mode": {
    "name": "ipython",
    "version": 3
   },
   "file_extension": ".py",
   "mimetype": "text/x-python",
   "name": "python",
   "nbconvert_exporter": "python",
   "pygments_lexer": "ipython3",
   "version": "3.8.18"
  }
 },
 "nbformat": 4,
 "nbformat_minor": 4
}
